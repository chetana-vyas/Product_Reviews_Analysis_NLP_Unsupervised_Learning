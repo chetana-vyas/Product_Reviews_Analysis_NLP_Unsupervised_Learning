{
 "cells": [
  {
   "cell_type": "markdown",
   "metadata": {},
   "source": [
    "# Product Reviews - Topic Modeling and Interpretation\n",
    "\n",
    "## NMF (Non-Negative Matrix Factorization (NMF)) with TF-IDF\n",
    "\n",
    "\n",
    "## LDA with TF-IDF\n",
    "\n",
    "\n",
    "## Topic Interpretation\n",
    "\n"
   ]
  },
  {
   "cell_type": "markdown",
   "metadata": {},
   "source": [
    "## Step 1: Read in Data"
   ]
  },
  {
   "cell_type": "code",
   "execution_count": 1,
   "metadata": {},
   "outputs": [],
   "source": [
    "from collections import OrderedDict\n",
    "import pandas as pd\n",
    "import numpy as np\n",
    "from sklearn.model_selection import train_test_split\n",
    "from sklearn.ensemble import RandomForestClassifier\n",
    "\n",
    "from sklearn.metrics import accuracy_score, confusion_matrix\n",
    "from sklearn.feature_extraction.text import TfidfVectorizer, CountVectorizer\n",
    "\n",
    "import matplotlib.pyplot as plt\n",
    "%matplotlib inline\n",
    "plt.style.use('seaborn')\n",
    "\n",
    "import re\n",
    "import string\n",
    "\n",
    "# from nltk.corpus import stopwords\n",
    "# from nltk.tokenize import word_tokenize, sent_tokenize, RegexpTokenizer\n",
    "\n",
    "# sklearn\n",
    "from sklearn import datasets\n",
    "from sklearn.datasets import fetch_20newsgroups\n",
    "from sklearn.feature_extraction.text import CountVectorizer, TfidfVectorizer\n",
    "from sklearn.decomposition import LatentDirichletAllocation"
   ]
  },
  {
   "cell_type": "code",
   "execution_count": 2,
   "metadata": {},
   "outputs": [
    {
     "name": "stdout",
     "output_type": "stream",
     "text": [
      "<class 'pandas.core.frame.DataFrame'>\n",
      "RangeIndex: 66224 entries, 0 to 66223\n",
      "Data columns (total 8 columns):\n",
      " #   Column            Non-Null Count  Dtype \n",
      "---  ------            --------------  ----- \n",
      " 0   Unnamed: 0        66224 non-null  int64 \n",
      " 1   reviews.rating    66224 non-null  int64 \n",
      " 2   sentiment         66224 non-null  object\n",
      " 3   reviews_keywords  66224 non-null  object\n",
      " 4   reviewsConcat     66224 non-null  object\n",
      " 5   name              66224 non-null  object\n",
      " 6   reviews.title     66224 non-null  object\n",
      " 7   categories        66224 non-null  object\n",
      "dtypes: int64(2), object(6)\n",
      "memory usage: 4.0+ MB\n"
     ]
    }
   ],
   "source": [
    "product_df = pd.read_csv('product_reviews_cleaned.csv')\n",
    "product_df.shape\n",
    "product_df.info()"
   ]
  },
  {
   "cell_type": "code",
   "execution_count": 3,
   "metadata": {},
   "outputs": [],
   "source": [
    "docs = product_df['reviewsConcat']"
   ]
  },
  {
   "cell_type": "code",
   "execution_count": 4,
   "metadata": {},
   "outputs": [
    {
     "data": {
      "text/plain": [
       "(66224, 8)"
      ]
     },
     "execution_count": 4,
     "metadata": {},
     "output_type": "execute_result"
    }
   ],
   "source": [
    "product_df.shape"
   ]
  },
  {
   "cell_type": "code",
   "execution_count": 5,
   "metadata": {},
   "outputs": [],
   "source": [
    "vec = CountVectorizer(binary=True)"
   ]
  },
  {
   "cell_type": "code",
   "execution_count": 6,
   "metadata": {},
   "outputs": [],
   "source": [
    "doc_term = vec.fit_transform(docs)\n"
   ]
  },
  {
   "cell_type": "code",
   "execution_count": 7,
   "metadata": {},
   "outputs": [],
   "source": [
    "# pd.unique(doc_term.toarray().reshape(-1))"
   ]
  },
  {
   "cell_type": "code",
   "execution_count": null,
   "metadata": {},
   "outputs": [],
   "source": []
  },
  {
   "cell_type": "code",
   "execution_count": 8,
   "metadata": {},
   "outputs": [
    {
     "data": {
      "text/plain": [
       "(66224, 27769)"
      ]
     },
     "execution_count": 8,
     "metadata": {},
     "output_type": "execute_result"
    }
   ],
   "source": [
    "vec = TfidfVectorizer()\n",
    "doc_term_tfidf = vec.fit_transform(docs.values)\n",
    "doc_term_tfidf.shape\n",
    "# doc_term.toarray()"
   ]
  },
  {
   "cell_type": "code",
   "execution_count": null,
   "metadata": {},
   "outputs": [],
   "source": []
  },
  {
   "cell_type": "code",
   "execution_count": 9,
   "metadata": {},
   "outputs": [
    {
     "data": {
      "text/plain": [
       "(66224, 27468)"
      ]
     },
     "execution_count": 9,
     "metadata": {},
     "output_type": "execute_result"
    }
   ],
   "source": [
    "vec = CountVectorizer(stop_words='english', max_df=0.8)\n",
    "doc_term_cv = vec.fit_transform(docs)\n",
    "doc_term_cv.shape"
   ]
  },
  {
   "cell_type": "code",
   "execution_count": null,
   "metadata": {},
   "outputs": [],
   "source": []
  },
  {
   "cell_type": "code",
   "execution_count": null,
   "metadata": {},
   "outputs": [],
   "source": []
  },
  {
   "cell_type": "markdown",
   "metadata": {},
   "source": [
    "## Stemming and Lemmatization\n",
    "\n",
    "Stemming and Lemmatization are Text Normalization techniques. In Natural Language Processing, these are used to prepare text, words, and documents for further processing"
   ]
  },
  {
   "cell_type": "code",
   "execution_count": 10,
   "metadata": {},
   "outputs": [],
   "source": [
    "from nltk.stem import PorterStemmer, SnowballStemmer, LancasterStemmer"
   ]
  },
  {
   "cell_type": "code",
   "execution_count": 11,
   "metadata": {},
   "outputs": [],
   "source": [
    "stemmer = SnowballStemmer(\"english\")"
   ]
  },
  {
   "cell_type": "code",
   "execution_count": 12,
   "metadata": {},
   "outputs": [],
   "source": [
    "def prep(word, stemmer=None):\n",
    "    \n",
    "    with open('./stop_words_english.txt', 'r', encoding='utf-8') as f:\n",
    "        stopwords = [s.strip() for s in f.readlines()]\n",
    "        \n",
    "    if word.lower() in stopwords:\n",
    "        return None\n",
    "    \n",
    "    elif stemmer is None:\n",
    "        return word.lower()\n",
    "    \n",
    "    else:\n",
    "        return stemmer.stem(word)"
   ]
  },
  {
   "cell_type": "code",
   "execution_count": 13,
   "metadata": {},
   "outputs": [],
   "source": [
    "vec = CountVectorizer(stop_words='english',\n",
    "                      min_df=1,\n",
    "                      max_df=0.8,\n",
    "                      preprocessor=prep)"
   ]
  },
  {
   "cell_type": "code",
   "execution_count": 14,
   "metadata": {},
   "outputs": [
    {
     "data": {
      "text/plain": [
       "(66224, 27468)"
      ]
     },
     "execution_count": 14,
     "metadata": {},
     "output_type": "execute_result"
    }
   ],
   "source": [
    "doc_term = vec.fit_transform(docs)\n",
    "doc_term.shape"
   ]
  },
  {
   "cell_type": "code",
   "execution_count": 15,
   "metadata": {},
   "outputs": [
    {
     "data": {
      "text/plain": [
       "(66224,)"
      ]
     },
     "execution_count": 15,
     "metadata": {},
     "output_type": "execute_result"
    }
   ],
   "source": [
    "docs.shape"
   ]
  },
  {
   "cell_type": "code",
   "execution_count": 16,
   "metadata": {},
   "outputs": [],
   "source": [
    "# vec.get_feature_names()"
   ]
  },
  {
   "cell_type": "code",
   "execution_count": null,
   "metadata": {},
   "outputs": [],
   "source": []
  },
  {
   "cell_type": "code",
   "execution_count": 17,
   "metadata": {},
   "outputs": [],
   "source": [
    "import pyLDAvis\n",
    "import pyLDAvis.sklearn\n",
    "pyLDAvis.enable_notebook()"
   ]
  },
  {
   "cell_type": "code",
   "execution_count": 18,
   "metadata": {},
   "outputs": [
    {
     "name": "stderr",
     "output_type": "stream",
     "text": [
      "C:\\Users\\vyasc\\anaconda3\\lib\\site-packages\\sklearn\\feature_extraction\\text.py:388: UserWarning: Your stop_words may be inconsistent with your preprocessing. Tokenizing the stop words generated tokens ['abov', 'afterward', 'alon', 'alreadi', 'alway', 'ani', 'anoth', 'anyon', 'anyth', 'anywher', 'becam', 'becaus', 'becom', 'befor', 'besid', 'cri', 'describ', 'dure', 'els', 'elsewher', 'empti', 'everi', 'everyon', 'everyth', 'everywher', 'fifti', 'forti', 'henc', 'hereaft', 'herebi', 'howev', 'hundr', 'inde', 'mani', 'meanwhil', 'moreov', 'nobodi', 'noon', 'noth', 'nowher', 'onc', 'onli', 'otherwis', 'ourselv', 'perhap', 'pleas', 'sever', 'sinc', 'sincer', 'sixti', 'someon', 'someth', 'sometim', 'somewher', 'themselv', 'thenc', 'thereaft', 'therebi', 'therefor', 'togeth', 'twelv', 'twenti', 'veri', 'whatev', 'whenc', 'whenev', 'wherea', 'whereaft', 'wherebi', 'wherev', 'whi', 'yourselv'] not in stop_words.\n",
      "  warnings.warn('Your stop_words may be inconsistent with '\n"
     ]
    },
    {
     "name": "stdout",
     "output_type": "stream",
     "text": [
      "(66224, 6023)\n"
     ]
    }
   ],
   "source": [
    "tf_vectorizer = CountVectorizer(strip_accents = 'unicode',\n",
    "                                stop_words = 'english',\n",
    "                                lowercase = True,\n",
    "                                token_pattern = r'\\b[a-zA-Z]{3,}\\b',\n",
    "                                max_df = 0.5, \n",
    "                                min_df = 10, preprocessor=stemmer.stem)\n",
    "dtm_tf = tf_vectorizer.fit_transform(docs)\n",
    "print(dtm_tf.shape)"
   ]
  },
  {
   "cell_type": "code",
   "execution_count": 19,
   "metadata": {},
   "outputs": [
    {
     "data": {
      "text/plain": [
       "pandas.core.series.Series"
      ]
     },
     "execution_count": 19,
     "metadata": {},
     "output_type": "execute_result"
    }
   ],
   "source": [
    "type(docs)"
   ]
  },
  {
   "cell_type": "code",
   "execution_count": 20,
   "metadata": {},
   "outputs": [
    {
     "name": "stderr",
     "output_type": "stream",
     "text": [
      "C:\\Users\\vyasc\\anaconda3\\lib\\site-packages\\sklearn\\feature_extraction\\text.py:1805: UserWarning: Only (<class 'numpy.float64'>, <class 'numpy.float32'>, <class 'numpy.float16'>) 'dtype' should be used. <class 'numpy.int64'> 'dtype' will be converted to np.float64.\n",
      "  warnings.warn(\"Only {} 'dtype' should be used. {} 'dtype' will \"\n"
     ]
    },
    {
     "name": "stdout",
     "output_type": "stream",
     "text": [
      "(66224, 6023)\n"
     ]
    }
   ],
   "source": [
    "tfidf_vectorizer = TfidfVectorizer(**tf_vectorizer.get_params())\n",
    "dtm_tfidf = tfidf_vectorizer.fit_transform(docs)\n",
    "print(dtm_tfidf.shape)"
   ]
  },
  {
   "cell_type": "code",
   "execution_count": null,
   "metadata": {},
   "outputs": [],
   "source": []
  },
  {
   "cell_type": "markdown",
   "metadata": {},
   "source": [
    "## Non-Negative Matrix Factorization (NMF) \n",
    "\n",
    "Find two non-negative matrices (W, H) whose product approximates the non- negative matrix X. This factorization can be used for example for dimensionality reduction, source separation or topic extraction."
   ]
  },
  {
   "cell_type": "code",
   "execution_count": 21,
   "metadata": {},
   "outputs": [
    {
     "name": "stderr",
     "output_type": "stream",
     "text": [
      "C:\\Users\\vyasc\\anaconda3\\lib\\site-packages\\sklearn\\decomposition\\_nmf.py:312: FutureWarning: The 'init' value, when 'init=None' and n_components is less than n_samples and n_features, will be changed from 'nndsvd' to 'nndsvda' in 1.1 (renaming of 0.26).\n",
      "  warnings.warn((\"The 'init' value, when 'init=None' and \"\n"
     ]
    },
    {
     "data": {
      "text/plain": [
       "NMF(n_components=10)"
      ]
     },
     "execution_count": 21,
     "metadata": {},
     "output_type": "execute_result"
    }
   ],
   "source": [
    "from sklearn.feature_extraction.text import TfidfVectorizer, ENGLISH_STOP_WORDS\n",
    "from sklearn.decomposition import NMF, TruncatedSVD, LatentDirichletAllocation\n",
    "\n",
    "nmf = NMF(n_components=10)\n",
    "\n",
    "nmf.fit(dtm_tfidf)"
   ]
  },
  {
   "cell_type": "code",
   "execution_count": 22,
   "metadata": {},
   "outputs": [
    {
     "data": {
      "text/plain": [
       "array([[0.00158521, 0.00051302, 0.0023962 , ..., 0.02151844, 0.        ,\n",
       "        0.        ],\n",
       "       [0.        , 0.02549304, 0.0063662 , ..., 0.        , 0.        ,\n",
       "        0.        ],\n",
       "       [0.        , 0.        , 0.        , ..., 0.        , 0.        ,\n",
       "        0.        ],\n",
       "       ...,\n",
       "       [0.0001609 , 0.        , 0.00267613, ..., 0.00017104, 0.        ,\n",
       "        0.        ],\n",
       "       [0.00031072, 0.00107464, 0.00946955, ..., 0.01152583, 0.        ,\n",
       "        0.00051451],\n",
       "       [0.00276446, 0.        , 0.00741775, ..., 0.00138762, 0.        ,\n",
       "        0.00042677]])"
      ]
     },
     "execution_count": 22,
     "metadata": {},
     "output_type": "execute_result"
    }
   ],
   "source": [
    "doc_topic_matrix = nmf.transform(dtm_tfidf)\n",
    "doc_topic_matrix"
   ]
  },
  {
   "cell_type": "markdown",
   "metadata": {},
   "source": [
    "## Document / Topic Matrix"
   ]
  },
  {
   "cell_type": "code",
   "execution_count": 23,
   "metadata": {},
   "outputs": [
    {
     "data": {
      "text/html": [
       "<div>\n",
       "<style scoped>\n",
       "    .dataframe tbody tr th:only-of-type {\n",
       "        vertical-align: middle;\n",
       "    }\n",
       "\n",
       "    .dataframe tbody tr th {\n",
       "        vertical-align: top;\n",
       "    }\n",
       "\n",
       "    .dataframe thead th {\n",
       "        text-align: right;\n",
       "    }\n",
       "</style>\n",
       "<table border=\"1\" class=\"dataframe\">\n",
       "  <thead>\n",
       "    <tr style=\"text-align: right;\">\n",
       "      <th></th>\n",
       "      <th>topic_0</th>\n",
       "      <th>topic_1</th>\n",
       "      <th>topic_2</th>\n",
       "      <th>topic_3</th>\n",
       "      <th>topic_4</th>\n",
       "      <th>topic_5</th>\n",
       "      <th>topic_6</th>\n",
       "      <th>topic_7</th>\n",
       "      <th>topic_8</th>\n",
       "      <th>topic_9</th>\n",
       "      <th>reviewsConcat</th>\n",
       "      <th>reviews_keywords</th>\n",
       "    </tr>\n",
       "  </thead>\n",
       "  <tbody>\n",
       "    <tr>\n",
       "      <th>0</th>\n",
       "      <td>0.001585</td>\n",
       "      <td>0.000513</td>\n",
       "      <td>0.002396</td>\n",
       "      <td>0.021649</td>\n",
       "      <td>0.000316</td>\n",
       "      <td>0.007011</td>\n",
       "      <td>0.000000</td>\n",
       "      <td>0.021518</td>\n",
       "      <td>0.000000</td>\n",
       "      <td>0.000000</td>\n",
       "      <td>Just Awesome i love this album. it's very good...</td>\n",
       "      <td>['just awesome i love this album  it s very go...</td>\n",
       "    </tr>\n",
       "    <tr>\n",
       "      <th>1</th>\n",
       "      <td>0.000000</td>\n",
       "      <td>0.025493</td>\n",
       "      <td>0.006366</td>\n",
       "      <td>0.114941</td>\n",
       "      <td>0.000000</td>\n",
       "      <td>0.000000</td>\n",
       "      <td>0.008536</td>\n",
       "      <td>0.000000</td>\n",
       "      <td>0.000000</td>\n",
       "      <td>0.000000</td>\n",
       "      <td>Good Good flavor. This  was collected as part ...</td>\n",
       "      <td>['good good flavor  this  was collected as par...</td>\n",
       "    </tr>\n",
       "    <tr>\n",
       "      <th>2</th>\n",
       "      <td>0.000000</td>\n",
       "      <td>0.000000</td>\n",
       "      <td>0.000000</td>\n",
       "      <td>0.124761</td>\n",
       "      <td>0.000000</td>\n",
       "      <td>0.000000</td>\n",
       "      <td>0.000000</td>\n",
       "      <td>0.000000</td>\n",
       "      <td>0.000000</td>\n",
       "      <td>0.000000</td>\n",
       "      <td>Good Good flavor.</td>\n",
       "      <td>['good good flavor ']</td>\n",
       "    </tr>\n",
       "    <tr>\n",
       "      <th>3</th>\n",
       "      <td>0.000710</td>\n",
       "      <td>0.005854</td>\n",
       "      <td>0.006272</td>\n",
       "      <td>0.000549</td>\n",
       "      <td>0.000000</td>\n",
       "      <td>0.015413</td>\n",
       "      <td>0.000228</td>\n",
       "      <td>0.000000</td>\n",
       "      <td>0.000000</td>\n",
       "      <td>0.000000</td>\n",
       "      <td>Disappointed I read through the s on here befo...</td>\n",
       "      <td>['disappointed i read through the s on here be...</td>\n",
       "    </tr>\n",
       "    <tr>\n",
       "      <th>4</th>\n",
       "      <td>0.000995</td>\n",
       "      <td>0.000000</td>\n",
       "      <td>0.021589</td>\n",
       "      <td>0.000604</td>\n",
       "      <td>0.000000</td>\n",
       "      <td>0.002492</td>\n",
       "      <td>0.001356</td>\n",
       "      <td>0.000000</td>\n",
       "      <td>0.000150</td>\n",
       "      <td>0.000000</td>\n",
       "      <td>Irritation My husband bought this gel for us. ...</td>\n",
       "      <td>['irritation my husband bought this gel for us...</td>\n",
       "    </tr>\n",
       "    <tr>\n",
       "      <th>5</th>\n",
       "      <td>0.002910</td>\n",
       "      <td>0.000000</td>\n",
       "      <td>0.009574</td>\n",
       "      <td>0.001855</td>\n",
       "      <td>0.003528</td>\n",
       "      <td>0.007879</td>\n",
       "      <td>0.003689</td>\n",
       "      <td>0.023526</td>\n",
       "      <td>0.000071</td>\n",
       "      <td>0.000000</td>\n",
       "      <td>Not worth it My boyfriend and I bought this to...</td>\n",
       "      <td>['not worth it my boyfriend and i bought this ...</td>\n",
       "    </tr>\n",
       "    <tr>\n",
       "      <th>6</th>\n",
       "      <td>0.001913</td>\n",
       "      <td>0.000000</td>\n",
       "      <td>0.013087</td>\n",
       "      <td>0.002739</td>\n",
       "      <td>0.001626</td>\n",
       "      <td>0.013998</td>\n",
       "      <td>0.005397</td>\n",
       "      <td>0.001655</td>\n",
       "      <td>0.000638</td>\n",
       "      <td>0.000000</td>\n",
       "      <td>Disappointing Bought this earlier today and wa...</td>\n",
       "      <td>['disappointing bought this earlier today and ...</td>\n",
       "    </tr>\n",
       "    <tr>\n",
       "      <th>7</th>\n",
       "      <td>0.001704</td>\n",
       "      <td>0.000000</td>\n",
       "      <td>0.015364</td>\n",
       "      <td>0.000000</td>\n",
       "      <td>0.001867</td>\n",
       "      <td>0.011956</td>\n",
       "      <td>0.011053</td>\n",
       "      <td>0.001256</td>\n",
       "      <td>0.003975</td>\n",
       "      <td>0.000000</td>\n",
       "      <td>Not happy at all I bought this product for my ...</td>\n",
       "      <td>['not happy at all i bought this product for m...</td>\n",
       "    </tr>\n",
       "    <tr>\n",
       "      <th>8</th>\n",
       "      <td>0.000342</td>\n",
       "      <td>0.000000</td>\n",
       "      <td>0.011788</td>\n",
       "      <td>0.002326</td>\n",
       "      <td>0.006829</td>\n",
       "      <td>0.010446</td>\n",
       "      <td>0.004096</td>\n",
       "      <td>0.001239</td>\n",
       "      <td>0.001502</td>\n",
       "      <td>0.014562</td>\n",
       "      <td>Very disappointing My husband and I bought thi...</td>\n",
       "      <td>['very disappointing my husband and i bought t...</td>\n",
       "    </tr>\n",
       "    <tr>\n",
       "      <th>9</th>\n",
       "      <td>0.001819</td>\n",
       "      <td>0.000000</td>\n",
       "      <td>0.005902</td>\n",
       "      <td>0.003862</td>\n",
       "      <td>0.001376</td>\n",
       "      <td>0.015821</td>\n",
       "      <td>0.001282</td>\n",
       "      <td>0.002233</td>\n",
       "      <td>0.000531</td>\n",
       "      <td>0.000000</td>\n",
       "      <td>Don't buy Got as a surprise for my husband the...</td>\n",
       "      <td>['don t buy got as a surprise for my husband t...</td>\n",
       "    </tr>\n",
       "  </tbody>\n",
       "</table>\n",
       "</div>"
      ],
      "text/plain": [
       "    topic_0   topic_1   topic_2   topic_3   topic_4   topic_5   topic_6  \\\n",
       "0  0.001585  0.000513  0.002396  0.021649  0.000316  0.007011  0.000000   \n",
       "1  0.000000  0.025493  0.006366  0.114941  0.000000  0.000000  0.008536   \n",
       "2  0.000000  0.000000  0.000000  0.124761  0.000000  0.000000  0.000000   \n",
       "3  0.000710  0.005854  0.006272  0.000549  0.000000  0.015413  0.000228   \n",
       "4  0.000995  0.000000  0.021589  0.000604  0.000000  0.002492  0.001356   \n",
       "5  0.002910  0.000000  0.009574  0.001855  0.003528  0.007879  0.003689   \n",
       "6  0.001913  0.000000  0.013087  0.002739  0.001626  0.013998  0.005397   \n",
       "7  0.001704  0.000000  0.015364  0.000000  0.001867  0.011956  0.011053   \n",
       "8  0.000342  0.000000  0.011788  0.002326  0.006829  0.010446  0.004096   \n",
       "9  0.001819  0.000000  0.005902  0.003862  0.001376  0.015821  0.001282   \n",
       "\n",
       "    topic_7   topic_8   topic_9  \\\n",
       "0  0.021518  0.000000  0.000000   \n",
       "1  0.000000  0.000000  0.000000   \n",
       "2  0.000000  0.000000  0.000000   \n",
       "3  0.000000  0.000000  0.000000   \n",
       "4  0.000000  0.000150  0.000000   \n",
       "5  0.023526  0.000071  0.000000   \n",
       "6  0.001655  0.000638  0.000000   \n",
       "7  0.001256  0.003975  0.000000   \n",
       "8  0.001239  0.001502  0.014562   \n",
       "9  0.002233  0.000531  0.000000   \n",
       "\n",
       "                                       reviewsConcat  \\\n",
       "0  Just Awesome i love this album. it's very good...   \n",
       "1  Good Good flavor. This  was collected as part ...   \n",
       "2                                  Good Good flavor.   \n",
       "3  Disappointed I read through the s on here befo...   \n",
       "4  Irritation My husband bought this gel for us. ...   \n",
       "5  Not worth it My boyfriend and I bought this to...   \n",
       "6  Disappointing Bought this earlier today and wa...   \n",
       "7  Not happy at all I bought this product for my ...   \n",
       "8  Very disappointing My husband and I bought thi...   \n",
       "9  Don't buy Got as a surprise for my husband the...   \n",
       "\n",
       "                                    reviews_keywords  \n",
       "0  ['just awesome i love this album  it s very go...  \n",
       "1  ['good good flavor  this  was collected as par...  \n",
       "2                              ['good good flavor ']  \n",
       "3  ['disappointed i read through the s on here be...  \n",
       "4  ['irritation my husband bought this gel for us...  \n",
       "5  ['not worth it my boyfriend and i bought this ...  \n",
       "6  ['disappointing bought this earlier today and ...  \n",
       "7  ['not happy at all i bought this product for m...  \n",
       "8  ['very disappointing my husband and i bought t...  \n",
       "9  ['don t buy got as a surprise for my husband t...  "
      ]
     },
     "execution_count": 23,
     "metadata": {},
     "output_type": "execute_result"
    }
   ],
   "source": [
    "doc_topic_matrix_df  = pd.DataFrame(doc_topic_matrix).add_prefix('topic_')\n",
    "doc_topic_matrix_df[['reviewsConcat','reviews_keywords']] = product_df[['reviewsConcat','reviews_keywords']]\n",
    "doc_topic_matrix_df.head(10)"
   ]
  },
  {
   "cell_type": "code",
   "execution_count": 24,
   "metadata": {},
   "outputs": [
    {
     "data": {
      "text/plain": [
       "(66224, 12)"
      ]
     },
     "execution_count": 24,
     "metadata": {},
     "output_type": "execute_result"
    }
   ],
   "source": [
    "doc_topic_matrix_df.shape"
   ]
  },
  {
   "cell_type": "markdown",
   "metadata": {},
   "source": [
    "## Word/Topic Matrix"
   ]
  },
  {
   "cell_type": "code",
   "execution_count": 25,
   "metadata": {},
   "outputs": [
    {
     "data": {
      "text/html": [
       "<div>\n",
       "<style scoped>\n",
       "    .dataframe tbody tr th:only-of-type {\n",
       "        vertical-align: middle;\n",
       "    }\n",
       "\n",
       "    .dataframe tbody tr th {\n",
       "        vertical-align: top;\n",
       "    }\n",
       "\n",
       "    .dataframe thead th {\n",
       "        text-align: right;\n",
       "    }\n",
       "</style>\n",
       "<table border=\"1\" class=\"dataframe\">\n",
       "  <thead>\n",
       "    <tr style=\"text-align: right;\">\n",
       "      <th></th>\n",
       "      <th>topic_0</th>\n",
       "      <th>topic_1</th>\n",
       "      <th>topic_2</th>\n",
       "      <th>topic_3</th>\n",
       "      <th>topic_4</th>\n",
       "      <th>topic_5</th>\n",
       "      <th>topic_6</th>\n",
       "      <th>topic_7</th>\n",
       "      <th>topic_8</th>\n",
       "      <th>topic_9</th>\n",
       "    </tr>\n",
       "  </thead>\n",
       "  <tbody>\n",
       "    <tr>\n",
       "      <th>aaron</th>\n",
       "      <td>0.001192</td>\n",
       "      <td>0.000000</td>\n",
       "      <td>0.000019</td>\n",
       "      <td>0.000000</td>\n",
       "      <td>0.000000</td>\n",
       "      <td>0.000000</td>\n",
       "      <td>0.000000</td>\n",
       "      <td>0.001342</td>\n",
       "      <td>0.000000</td>\n",
       "      <td>0.000000</td>\n",
       "    </tr>\n",
       "    <tr>\n",
       "      <th>abilities</th>\n",
       "      <td>0.000502</td>\n",
       "      <td>0.001721</td>\n",
       "      <td>0.001057</td>\n",
       "      <td>0.001461</td>\n",
       "      <td>0.000157</td>\n",
       "      <td>0.001216</td>\n",
       "      <td>0.000000</td>\n",
       "      <td>0.000000</td>\n",
       "      <td>0.000000</td>\n",
       "      <td>0.000000</td>\n",
       "    </tr>\n",
       "    <tr>\n",
       "      <th>ability</th>\n",
       "      <td>0.000000</td>\n",
       "      <td>0.007604</td>\n",
       "      <td>0.005578</td>\n",
       "      <td>0.001633</td>\n",
       "      <td>0.004755</td>\n",
       "      <td>0.009726</td>\n",
       "      <td>0.000130</td>\n",
       "      <td>0.003832</td>\n",
       "      <td>0.000000</td>\n",
       "      <td>0.000000</td>\n",
       "    </tr>\n",
       "    <tr>\n",
       "      <th>able</th>\n",
       "      <td>0.015126</td>\n",
       "      <td>0.012444</td>\n",
       "      <td>0.055856</td>\n",
       "      <td>0.004050</td>\n",
       "      <td>0.007109</td>\n",
       "      <td>0.057337</td>\n",
       "      <td>0.058330</td>\n",
       "      <td>0.015249</td>\n",
       "      <td>0.001215</td>\n",
       "      <td>0.000000</td>\n",
       "    </tr>\n",
       "    <tr>\n",
       "      <th>abrasive</th>\n",
       "      <td>0.000000</td>\n",
       "      <td>0.000492</td>\n",
       "      <td>0.001280</td>\n",
       "      <td>0.000000</td>\n",
       "      <td>0.001030</td>\n",
       "      <td>0.000000</td>\n",
       "      <td>0.000438</td>\n",
       "      <td>0.002961</td>\n",
       "      <td>0.000000</td>\n",
       "      <td>0.000000</td>\n",
       "    </tr>\n",
       "    <tr>\n",
       "      <th>absolute</th>\n",
       "      <td>0.002162</td>\n",
       "      <td>0.004015</td>\n",
       "      <td>0.009883</td>\n",
       "      <td>0.000000</td>\n",
       "      <td>0.000000</td>\n",
       "      <td>0.005615</td>\n",
       "      <td>0.000746</td>\n",
       "      <td>0.009566</td>\n",
       "      <td>0.000000</td>\n",
       "      <td>0.000000</td>\n",
       "    </tr>\n",
       "    <tr>\n",
       "      <th>absolutely</th>\n",
       "      <td>0.065942</td>\n",
       "      <td>0.000000</td>\n",
       "      <td>0.055482</td>\n",
       "      <td>0.000000</td>\n",
       "      <td>0.000000</td>\n",
       "      <td>0.034958</td>\n",
       "      <td>0.094205</td>\n",
       "      <td>0.215682</td>\n",
       "      <td>0.021512</td>\n",
       "      <td>0.000000</td>\n",
       "    </tr>\n",
       "    <tr>\n",
       "      <th>absolutley</th>\n",
       "      <td>0.000000</td>\n",
       "      <td>0.001647</td>\n",
       "      <td>0.000000</td>\n",
       "      <td>0.001093</td>\n",
       "      <td>0.000000</td>\n",
       "      <td>0.000386</td>\n",
       "      <td>0.000553</td>\n",
       "      <td>0.003056</td>\n",
       "      <td>0.000000</td>\n",
       "      <td>0.000354</td>\n",
       "    </tr>\n",
       "    <tr>\n",
       "      <th>absolutly</th>\n",
       "      <td>0.000000</td>\n",
       "      <td>0.000394</td>\n",
       "      <td>0.000000</td>\n",
       "      <td>0.000000</td>\n",
       "      <td>0.000118</td>\n",
       "      <td>0.002636</td>\n",
       "      <td>0.001291</td>\n",
       "      <td>0.005477</td>\n",
       "      <td>0.000000</td>\n",
       "      <td>0.000000</td>\n",
       "    </tr>\n",
       "    <tr>\n",
       "      <th>absorb</th>\n",
       "      <td>0.000000</td>\n",
       "      <td>0.000000</td>\n",
       "      <td>0.020426</td>\n",
       "      <td>0.000000</td>\n",
       "      <td>0.000000</td>\n",
       "      <td>0.000000</td>\n",
       "      <td>0.001780</td>\n",
       "      <td>0.000000</td>\n",
       "      <td>0.000000</td>\n",
       "      <td>0.000000</td>\n",
       "    </tr>\n",
       "    <tr>\n",
       "      <th>absorbant</th>\n",
       "      <td>0.000000</td>\n",
       "      <td>0.001310</td>\n",
       "      <td>0.002665</td>\n",
       "      <td>0.000000</td>\n",
       "      <td>0.000665</td>\n",
       "      <td>0.000000</td>\n",
       "      <td>0.002496</td>\n",
       "      <td>0.000000</td>\n",
       "      <td>0.000000</td>\n",
       "      <td>0.001667</td>\n",
       "    </tr>\n",
       "    <tr>\n",
       "      <th>absorbed</th>\n",
       "      <td>0.000000</td>\n",
       "      <td>0.000000</td>\n",
       "      <td>0.064420</td>\n",
       "      <td>0.000000</td>\n",
       "      <td>0.000000</td>\n",
       "      <td>0.000000</td>\n",
       "      <td>0.000000</td>\n",
       "      <td>0.000000</td>\n",
       "      <td>0.000000</td>\n",
       "      <td>0.000000</td>\n",
       "    </tr>\n",
       "    <tr>\n",
       "      <th>absorbency</th>\n",
       "      <td>0.000000</td>\n",
       "      <td>0.000437</td>\n",
       "      <td>0.002921</td>\n",
       "      <td>0.000506</td>\n",
       "      <td>0.000605</td>\n",
       "      <td>0.000184</td>\n",
       "      <td>0.000288</td>\n",
       "      <td>0.000000</td>\n",
       "      <td>0.000000</td>\n",
       "      <td>0.000000</td>\n",
       "    </tr>\n",
       "    <tr>\n",
       "      <th>absorbent</th>\n",
       "      <td>0.000000</td>\n",
       "      <td>0.002110</td>\n",
       "      <td>0.005283</td>\n",
       "      <td>0.000000</td>\n",
       "      <td>0.000000</td>\n",
       "      <td>0.000855</td>\n",
       "      <td>0.004845</td>\n",
       "      <td>0.000000</td>\n",
       "      <td>0.000000</td>\n",
       "      <td>0.000379</td>\n",
       "    </tr>\n",
       "    <tr>\n",
       "      <th>absorbing</th>\n",
       "      <td>0.000020</td>\n",
       "      <td>0.000000</td>\n",
       "      <td>0.014790</td>\n",
       "      <td>0.000000</td>\n",
       "      <td>0.000000</td>\n",
       "      <td>0.000000</td>\n",
       "      <td>0.000603</td>\n",
       "      <td>0.000000</td>\n",
       "      <td>0.000000</td>\n",
       "      <td>0.000000</td>\n",
       "    </tr>\n",
       "  </tbody>\n",
       "</table>\n",
       "</div>"
      ],
      "text/plain": [
       "             topic_0   topic_1   topic_2   topic_3   topic_4   topic_5  \\\n",
       "aaron       0.001192  0.000000  0.000019  0.000000  0.000000  0.000000   \n",
       "abilities   0.000502  0.001721  0.001057  0.001461  0.000157  0.001216   \n",
       "ability     0.000000  0.007604  0.005578  0.001633  0.004755  0.009726   \n",
       "able        0.015126  0.012444  0.055856  0.004050  0.007109  0.057337   \n",
       "abrasive    0.000000  0.000492  0.001280  0.000000  0.001030  0.000000   \n",
       "absolute    0.002162  0.004015  0.009883  0.000000  0.000000  0.005615   \n",
       "absolutely  0.065942  0.000000  0.055482  0.000000  0.000000  0.034958   \n",
       "absolutley  0.000000  0.001647  0.000000  0.001093  0.000000  0.000386   \n",
       "absolutly   0.000000  0.000394  0.000000  0.000000  0.000118  0.002636   \n",
       "absorb      0.000000  0.000000  0.020426  0.000000  0.000000  0.000000   \n",
       "absorbant   0.000000  0.001310  0.002665  0.000000  0.000665  0.000000   \n",
       "absorbed    0.000000  0.000000  0.064420  0.000000  0.000000  0.000000   \n",
       "absorbency  0.000000  0.000437  0.002921  0.000506  0.000605  0.000184   \n",
       "absorbent   0.000000  0.002110  0.005283  0.000000  0.000000  0.000855   \n",
       "absorbing   0.000020  0.000000  0.014790  0.000000  0.000000  0.000000   \n",
       "\n",
       "             topic_6   topic_7   topic_8   topic_9  \n",
       "aaron       0.000000  0.001342  0.000000  0.000000  \n",
       "abilities   0.000000  0.000000  0.000000  0.000000  \n",
       "ability     0.000130  0.003832  0.000000  0.000000  \n",
       "able        0.058330  0.015249  0.001215  0.000000  \n",
       "abrasive    0.000438  0.002961  0.000000  0.000000  \n",
       "absolute    0.000746  0.009566  0.000000  0.000000  \n",
       "absolutely  0.094205  0.215682  0.021512  0.000000  \n",
       "absolutley  0.000553  0.003056  0.000000  0.000354  \n",
       "absolutly   0.001291  0.005477  0.000000  0.000000  \n",
       "absorb      0.001780  0.000000  0.000000  0.000000  \n",
       "absorbant   0.002496  0.000000  0.000000  0.001667  \n",
       "absorbed    0.000000  0.000000  0.000000  0.000000  \n",
       "absorbency  0.000288  0.000000  0.000000  0.000000  \n",
       "absorbent   0.004845  0.000000  0.000000  0.000379  \n",
       "absorbing   0.000603  0.000000  0.000000  0.000000  "
      ]
     },
     "execution_count": 25,
     "metadata": {},
     "output_type": "execute_result"
    }
   ],
   "source": [
    "vocab = tfidf_vectorizer.get_feature_names()\n",
    "word_topic_matrix_df = pd.DataFrame(nmf.components_, columns=vocab).T.add_prefix('topic_')\n",
    "word_topic_matrix_df.head(15)"
   ]
  },
  {
   "cell_type": "code",
   "execution_count": 26,
   "metadata": {},
   "outputs": [],
   "source": [
    "def make_topics(docs, preprocessor, vectorizer, topic_modeler, print_n_words=15):\n",
    "    \"\"\"A very simple pipeline.\"\"\"\n",
    "    \n",
    "    # Apply preprocessor, vectorizer, and topic modeler.\n",
    "    if preprocessor is not None:\n",
    "        docs = docs.apply(preprocessor)\n",
    "    \n",
    "    # Vectorize documents into a document-word matrix.\n",
    "    doc_word_vectors = vectorizer.fit_transform(docs)\n",
    "    \n",
    "    # Fit the topic model.\n",
    "    doc_topic_vectors = topic_modeler.fit_transform(doc_word_vectors)\n",
    "    \n",
    "    # Print the topics.\n",
    "    vocab = vectorizer.get_feature_names()\n",
    "    for idx, topic in enumerate(topic_modeler.components_):\n",
    "        # Select the top 15 words in vocab for this topic.\n",
    "        top_words = [vocab[i].upper() for i in topic.argsort()[:-print_n_words-1:-1]]\n",
    "        print(f\"Topic {idx}:\\n\", \", \".join(top_words), \"\\n\")\n",
    "    \n",
    "    return doc_topic_vectors"
   ]
  },
  {
   "cell_type": "code",
   "execution_count": 27,
   "metadata": {},
   "outputs": [
    {
     "name": "stderr",
     "output_type": "stream",
     "text": [
      "C:\\Users\\vyasc\\anaconda3\\lib\\site-packages\\sklearn\\decomposition\\_nmf.py:312: FutureWarning: The 'init' value, when 'init=None' and n_components is less than n_samples and n_features, will be changed from 'nndsvd' to 'nndsvda' in 1.1 (renaming of 0.26).\n",
      "  warnings.warn((\"The 'init' value, when 'init=None' and \"\n"
     ]
    },
    {
     "name": "stdout",
     "output_type": "stream",
     "text": [
      "Topic 0:\n",
      " MOVIE, ENJOYED, WATCH, LOVED, AWESOME, GODZILLA, CUTE, REALLY, WATCHING, ACTION, EXCELLENT, BEST, GREAT, WATCHED, RECOMMEND \n",
      "\n",
      "Topic 1:\n",
      " WIPES, CLOROX, COLLECTED, PROMOTION, USE, CLEAN, EASY, CLEANING, DISINFECTING, CONVENIENT, KITCHEN, HOUSE, BATHROOM, QUICK, PRODUCT \n",
      "\n",
      "Topic 2:\n",
      " SKIN, PRODUCT, MOISTURIZER, OLAY, FACE, COLLECTED, PROMOTION, USING, FEEL, TOTAL, EFFECTS, LIKE, FEELS, SMOOTH, AGING \n",
      "\n",
      "Topic 3:\n",
      " GOOD, ORIGINAL, PRICE, PRETTY, SEQUEL, ACTION, LIKE, STORY, QUALITY, REALLY, BETTER, LIKED, NICE, BUY, JUST \n",
      "\n",
      "Topic 4:\n",
      " GREAT, PRODUCT, PRICE, WORKS, BUY, SMELLS, RECOMMEND, MOVIES, QUALITY, USE, VALUE, CLEANING, JOB, STORY, DEAL \n",
      "\n",
      "Topic 5:\n",
      " TIDE, PODS, CLOTHES, CLEAN, LAUNDRY, SMELL, DETERGENT, USE, FRESH, EASY, SCENT, POD, JUST, PRODUCT, USED \n",
      "\n",
      "Topic 6:\n",
      " HAIR, CONDITIONER, SHAMPOO, SOFT, RECEIVED, PRODUCT, FREE, COLLECTED, PROMOTION, INFLUENSTER, TESTING, OILY, PURPOSES, OPINIONS, MASK \n",
      "\n",
      "Topic 7:\n",
      " LOVE, SMELL, PRODUCT, AWESOME, ABSOLUTELY, HOUSE, AMAZING, KIDS, JUST, MAKES, PRODUCTS, SMELLS, LIP, COLOR, MOP \n",
      "\n",
      "Topic 8:\n",
      " KIDS, FUNNY, ADULTS, LOVED, CUTE, MOVIE, WATCH, ENTERTAINING, HILARIOUS, ADULT, FUN, PETS, HUMOR, REALLY, ENJOY \n",
      "\n",
      "Topic 9:\n",
      " FAMILY, FUN, WATCH, ENJOYED, NIGHT, ENTIRE, MOVIE, ENJOY, FILM, FRIENDS, CUTE, AGES, ENTERTAINING, PETS, FRIENDLY \n",
      "\n"
     ]
    }
   ],
   "source": [
    "# Fifteen topics.\n",
    "docs = product_df['reviewsConcat']\n",
    "preprocessor = None\n",
    "vectorizer = TfidfVectorizer(stop_words=\"english\")\n",
    "topic_modeler = NMF(10, random_state=20, max_iter=1000)  # NOTE: I use a random state here to make the results deterministic.\n",
    "\n",
    "make_topics(docs, preprocessor, vectorizer, topic_modeler);"
   ]
  },
  {
   "cell_type": "markdown",
   "metadata": {},
   "source": [
    "## Topic Interpretations\n",
    "\n",
    "### TOPIC_0: Thriller Movie Review\n",
    "MOVIE, ENJOYED, WATCH, LOVED, AWESOME, GODZILLA, CUTE, REALLY, WATCHING, ACTION, EXCELLENT, BEST, RECOMMEND, GREAT, WATCHED \n",
    "\n",
    "### TOPIC_1:Cleaning Product Review\n",
    "WIPES, CLOROX, COLLECTED, PROMOTION, REVIEW, USE, CLEAN, EASY, CLEANING, CONVENIENT, DISINFECTING, HOUSE, KITCHEN, BATHROOM, QUICK \n",
    "    \n",
    "### TOPIC_2: Skin Product Review (Moisturizer)\n",
    "SKIN, PRODUCT, MOISTURIZER, OLAY, FACE, REVIEW, COLLECTED, PROMOTION, USING, FEEL, TOTAL, EFFECTS, FEELS, SMOOTH, LIKE \n",
    "\n",
    "### TOPIC_3: Movie Review\n",
    "GOOD, ORIGINAL, PRICE, PRETTY, SEQUEL, ACTION, LIKE, STORY, QUALITY, REALLY, BETTER, LIKED, NICE, BUY, JUST \n",
    "\n",
    "### TOPIC_4: Household Cleaning Supplies Review\n",
    "GREAT, PRODUCT, PRICE, WORKS, BUY, SMELLS, RECOMMEND, MOVIES, QUALITY, USE, VALUE, CLEANING, STORY, JOB, DEAL \n",
    "    \n",
    "### TOPIC_5: Laundry Detergent Review\n",
    "TIDE, PODS, CLOTHES, CLEAN, LAUNDRY, SMELL, USE, DETERGENT, FRESH, EASY, SCENT, PRODUCT, POD, JUST, USED \n",
    "\n",
    "### TOPIC_6: Hair Product Review\n",
    " HAIR, CONDITIONER, SHAMPOO, SOFT, REVIEW, RECEIVED, PRODUCT, FREE, COLLECTED, PROMOTION, INFLUENSTER, TESTING, OILY, PURPOSES, OPINIONS \n",
    "\n",
    "### TOPIC_7: Food / Personal Care Product Review\n",
    "LOVE, SMELL, PRODUCT, ABSOLUTELY, AWESOME, HOUSE, JUST, KIDS, AMAZING, MAKES, SMELLS, PRODUCTS, LIP, MOP, COLOR \n",
    "\n",
    "### TOPIC_8: Comedy Movie Review\n",
    "KIDS, FUNNY, ADULTS, LOVED, CUTE, MOVIE, WATCH, ENTERTAINING, HILARIOUS, ADULT, FUN, PETS, HUMOR, REALLY, ENJOY \n",
    "\n",
    "### TOPIC_9: Kids Movie Review\n",
    " FAMILY, FUN, WATCH, ENJOYED, NIGHT, ENTIRE, MOVIE, ENJOY, FILM, FRIENDS, CUTE, AGES, ENTERTAINING, PETS, GREAT "
   ]
  },
  {
   "cell_type": "markdown",
   "metadata": {},
   "source": [
    "## Let's look at some reviews from each of these topics"
   ]
  },
  {
   "cell_type": "code",
   "execution_count": 28,
   "metadata": {},
   "outputs": [
    {
     "name": "stdout",
     "output_type": "stream",
     "text": [
      "Must have This was a must have movie since I have the first one.\n",
      "\n",
      "Great movie This was a great movie. It's a must own movie for sure\n",
      "\n"
     ]
    }
   ],
   "source": [
    "# for review in product_df['reviewsConcat'].sample(10).values:\n",
    "for review in doc_topic_matrix_df.sort_values(by='topic_0', ascending=False).head(2)['reviewsConcat'].values:\n",
    "    print(review)\n",
    "    print()"
   ]
  },
  {
   "cell_type": "code",
   "execution_count": 29,
   "metadata": {},
   "outputs": [
    {
     "name": "stdout",
     "output_type": "stream",
     "text": [
      "Clorox Wipes Clorox wipes makes it so easy to clean. I use them everywhere. This  was collected as part of a promotion.\n",
      "\n",
      "Clorox wipes Clorox disinfecting wipes are easy to use and convenient This  was collected as part of a promotion.\n",
      "\n"
     ]
    }
   ],
   "source": [
    "for review in doc_topic_matrix_df.sort_values(by='topic_1', ascending=False).head(2)['reviewsConcat'].values:\n",
    "    print(review)\n",
    "    print()"
   ]
  },
  {
   "cell_type": "code",
   "execution_count": 30,
   "metadata": {},
   "outputs": [
    {
     "name": "stdout",
     "output_type": "stream",
     "text": [
      "A Great Skin Product! I think Olay Total Effects 7 in 1 Anti-Aging Moisturizer GotItForFree is a wonderful product. I tend to have problems with very dry skin that never seems to have a glow to it. After trying this skin product I have noticed an overall difference. My skin looks hydrated with a nice glow, the fine lines and wrinkles are less noticeable, as well as there is a more even skin tone. I'm not sure the last time my skin felt so soft. If you are looking for a skin care product that provides you with soft, radiant, smooth and even toned skin.....give this one a try. This  was collected as part of a promotion.\n",
      "\n"
     ]
    }
   ],
   "source": [
    "for review in doc_topic_matrix_df.sort_values(by='topic_2', ascending=False).head(1)['reviewsConcat'].values:\n",
    "    print(review)\n",
    "    print()"
   ]
  },
  {
   "cell_type": "code",
   "execution_count": 31,
   "metadata": {},
   "outputs": [
    {
     "name": "stdout",
     "output_type": "stream",
     "text": [
      "Tide pods are great to use. Tide pods are great for the clothes and easy to use.\n",
      "\n",
      "Tide Pods With Febreeze I absolutely LOVE these tide pods! They make my clothes smell great for long time!! They clean my clothes so well! My whole laundry room smelled great while the clothes were running. I do feel like they are a bit pricey but I think it Is worth it! I used this Tide pods a couple of times now and I really liked it. The smell was pleasant and fresh. I didn't use it for clothes with hard stains yet, but I washed our regular laundry with this. It was so easy to use, just pop the pods with laundry and start the washer. It gave our clothes a clean and nice fresh scent. Overall, loved this product and I would definitely recommend anyone to try it. GOTITFORFREE TIDEPODS BZZAGENT This  was collected as part of a promotion.\n",
      "\n"
     ]
    }
   ],
   "source": [
    "for review in doc_topic_matrix_df.sort_values(by='topic_5', ascending=False).head(2)['reviewsConcat'].values:\n",
    "    print(review)\n",
    "    print()"
   ]
  },
  {
   "cell_type": "code",
   "execution_count": 32,
   "metadata": {},
   "outputs": [
    {
     "name": "stdout",
     "output_type": "stream",
     "text": [
      "Smooth, Happy Hair For Days! This conditioner is wonderful. Using it as part of the three-part system, my hair is left soft, smelling amazing, and feeling clean and light for days. As thick is my hair is, I am used to having conditioner way my hair down, or leave my hair too dry if not enough is used. This struck the perfect balance, leaving my hair so, so soft and beautiful. I received these products free/complimentary for testing purposes, but all opinions are my own. This  was collected as part of a promotion.\n",
      "\n"
     ]
    }
   ],
   "source": [
    "for review in doc_topic_matrix_df.sort_values(by='topic_6', ascending=False).head(1)['reviewsConcat'].values:\n",
    "    print(review)\n",
    "    print()"
   ]
  },
  {
   "cell_type": "code",
   "execution_count": 33,
   "metadata": {},
   "outputs": [
    {
     "name": "stdout",
     "output_type": "stream",
     "text": [
      "Funny for kids My kids and I loved this movie, funny and entertaining.\n",
      "\n",
      "Great kids movie My kids keep watching it over and over. It seems funny enough\n",
      "\n"
     ]
    }
   ],
   "source": [
    "for review in doc_topic_matrix_df.sort_values(by='topic_8', ascending=False).head(2)['reviewsConcat'].values:\n",
    "    print(review)\n",
    "    print()"
   ]
  },
  {
   "cell_type": "code",
   "execution_count": 34,
   "metadata": {},
   "outputs": [
    {
     "name": "stdout",
     "output_type": "stream",
     "text": [
      "Tide pods are great to use. Tide pods are great for the clothes and easy to use.\n",
      "\n",
      "Tide Pods With Febreeze I absolutely LOVE these tide pods! They make my clothes smell great for long time!! They clean my clothes so well! My whole laundry room smelled great while the clothes were running. I do feel like they are a bit pricey but I think it Is worth it! I used this Tide pods a couple of times now and I really liked it. The smell was pleasant and fresh. I didn't use it for clothes with hard stains yet, but I washed our regular laundry with this. It was so easy to use, just pop the pods with laundry and start the washer. It gave our clothes a clean and nice fresh scent. Overall, loved this product and I would definitely recommend anyone to try it. GOTITFORFREE TIDEPODS BZZAGENT This  was collected as part of a promotion.\n",
      "\n"
     ]
    }
   ],
   "source": [
    "for review in doc_topic_matrix_df.sort_values(by='topic_5', ascending=False).head(2)['reviewsConcat'].values:\n",
    "    print(review)\n",
    "    print()"
   ]
  },
  {
   "cell_type": "code",
   "execution_count": null,
   "metadata": {},
   "outputs": [],
   "source": []
  },
  {
   "cell_type": "markdown",
   "metadata": {},
   "source": [
    "## Find Similar Product Reviews for a product\n",
    "\n",
    "### Caclulate Pairwise distances using Cosine Similarity Metric\n",
    "\n",
    "Customer can input 'cleaning pods' and check the reviews for products in similar categories"
   ]
  },
  {
   "cell_type": "code",
   "execution_count": 35,
   "metadata": {},
   "outputs": [],
   "source": [
    "input_prod = [\"soft skin cream\"]"
   ]
  },
  {
   "cell_type": "code",
   "execution_count": 36,
   "metadata": {},
   "outputs": [
    {
     "data": {
      "text/plain": [
       "pandas.core.series.Series"
      ]
     },
     "execution_count": 36,
     "metadata": {},
     "output_type": "execute_result"
    }
   ],
   "source": [
    "type(docs) "
   ]
  },
  {
   "cell_type": "code",
   "execution_count": 37,
   "metadata": {},
   "outputs": [],
   "source": [
    "vt = tfidf_vectorizer.transform(input_prod)"
   ]
  },
  {
   "cell_type": "code",
   "execution_count": 38,
   "metadata": {},
   "outputs": [],
   "source": [
    "nmf_input_prod = nmf.transform(vt)"
   ]
  },
  {
   "cell_type": "code",
   "execution_count": 39,
   "metadata": {},
   "outputs": [
    {
     "data": {
      "text/plain": [
       "array([[0.        , 0.        , 0.07557635, 0.        , 0.        ,\n",
       "        0.        , 0.        , 0.        , 0.        , 0.        ]])"
      ]
     },
     "execution_count": 39,
     "metadata": {},
     "output_type": "execute_result"
    }
   ],
   "source": [
    "nmf_input_prod"
   ]
  },
  {
   "cell_type": "code",
   "execution_count": 40,
   "metadata": {},
   "outputs": [
    {
     "data": {
      "text/plain": [
       "array([[51024, 51921, 50922, ..., 23811, 23792, 33111]], dtype=int64)"
      ]
     },
     "execution_count": 40,
     "metadata": {},
     "output_type": "execute_result"
    }
   ],
   "source": [
    "from sklearn.metrics import pairwise_distances\n",
    "dist = pairwise_distances(nmf_input_prod,doc_topic_matrix,metric='cosine').argsort()\n",
    "dist"
   ]
  },
  {
   "cell_type": "code",
   "execution_count": 41,
   "metadata": {},
   "outputs": [],
   "source": [
    "dist.shape\n",
    "new_distance_list = list(dist)"
   ]
  },
  {
   "cell_type": "code",
   "execution_count": 43,
   "metadata": {},
   "outputs": [],
   "source": [
    "similar_reviews = []\n",
    "for i in new_distance_list:\n",
    "    similar_reviews.append(product_df['reviewsConcat'][i])"
   ]
  },
  {
   "cell_type": "code",
   "execution_count": 44,
   "metadata": {},
   "outputs": [
    {
     "data": {
      "text/plain": [
       "[51024    lines....lines go away The unique vitamin copl...\n",
       " 51921    2 weeks and already am seeing results! Olay To...\n",
       " 50922    Fountain of youth or close to it!! I have been...\n",
       " 51414    Saved my Skin Total Effects Daily Moisturizer ...\n",
       " 49890    7 day Olay Anti-aging 7 in 1 Moisturizer Trial...\n",
       "                                ...                        \n",
       " 23808    Visually awesome in 3D Great option for 3D. Lo...\n",
       " 23810    Epic movie Great quality of movie lives up to ...\n",
       " 23811    Great deal Anytime getting a 3-D movie for und...\n",
       " 23792    Great Great movie couldn't wait to watch it an...\n",
       " 33111    Great movie! Grands love this movie - bought i...\n",
       " Name: reviewsConcat, Length: 66224, dtype: object]"
      ]
     },
     "execution_count": 44,
     "metadata": {},
     "output_type": "execute_result"
    }
   ],
   "source": [
    "similar_reviews"
   ]
  },
  {
   "cell_type": "code",
   "execution_count": 45,
   "metadata": {},
   "outputs": [
    {
     "data": {
      "text/html": [
       "<div>\n",
       "<style scoped>\n",
       "    .dataframe tbody tr th:only-of-type {\n",
       "        vertical-align: middle;\n",
       "    }\n",
       "\n",
       "    .dataframe tbody tr th {\n",
       "        vertical-align: top;\n",
       "    }\n",
       "\n",
       "    .dataframe thead th {\n",
       "        text-align: right;\n",
       "    }\n",
       "</style>\n",
       "<table border=\"1\" class=\"dataframe\">\n",
       "  <thead>\n",
       "    <tr style=\"text-align: right;\">\n",
       "      <th></th>\n",
       "      <th>Unnamed: 0</th>\n",
       "      <th>reviews.rating</th>\n",
       "      <th>sentiment</th>\n",
       "      <th>reviews_keywords</th>\n",
       "      <th>reviewsConcat</th>\n",
       "      <th>name</th>\n",
       "      <th>reviews.title</th>\n",
       "      <th>categories</th>\n",
       "    </tr>\n",
       "  </thead>\n",
       "  <tbody>\n",
       "    <tr>\n",
       "      <th>0</th>\n",
       "      <td>0</td>\n",
       "      <td>5</td>\n",
       "      <td>positive</td>\n",
       "      <td>['just awesome i love this album  it s very go...</td>\n",
       "      <td>Just Awesome i love this album. it's very good...</td>\n",
       "      <td>Pink Friday: Roman Reloaded Re-Up (w/dvd)</td>\n",
       "      <td>Just Awesome</td>\n",
       "      <td>Movies, Music &amp; Books,Music,R&amp;b,Movies &amp; TV,Mo...</td>\n",
       "    </tr>\n",
       "    <tr>\n",
       "      <th>1</th>\n",
       "      <td>1</td>\n",
       "      <td>5</td>\n",
       "      <td>positive</td>\n",
       "      <td>['good good flavor  this  was collected as par...</td>\n",
       "      <td>Good Good flavor. This  was collected as part ...</td>\n",
       "      <td>Lundberg Organic Cinnamon Toast Rice Cakes</td>\n",
       "      <td>Good</td>\n",
       "      <td>Food,Packaged Foods,Snacks,Crackers,Snacks, Co...</td>\n",
       "    </tr>\n",
       "  </tbody>\n",
       "</table>\n",
       "</div>"
      ],
      "text/plain": [
       "   Unnamed: 0  reviews.rating sentiment  \\\n",
       "0           0               5  positive   \n",
       "1           1               5  positive   \n",
       "\n",
       "                                    reviews_keywords  \\\n",
       "0  ['just awesome i love this album  it s very go...   \n",
       "1  ['good good flavor  this  was collected as par...   \n",
       "\n",
       "                                       reviewsConcat  \\\n",
       "0  Just Awesome i love this album. it's very good...   \n",
       "1  Good Good flavor. This  was collected as part ...   \n",
       "\n",
       "                                         name reviews.title  \\\n",
       "0   Pink Friday: Roman Reloaded Re-Up (w/dvd)  Just Awesome   \n",
       "1  Lundberg Organic Cinnamon Toast Rice Cakes          Good   \n",
       "\n",
       "                                          categories  \n",
       "0  Movies, Music & Books,Music,R&b,Movies & TV,Mo...  \n",
       "1  Food,Packaged Foods,Snacks,Crackers,Snacks, Co...  "
      ]
     },
     "execution_count": 45,
     "metadata": {},
     "output_type": "execute_result"
    }
   ],
   "source": [
    "product_df.head(2)"
   ]
  },
  {
   "cell_type": "code",
   "execution_count": 46,
   "metadata": {},
   "outputs": [
    {
     "data": {
      "text/plain": [
       "\"Smooth, younger skin I used to think Olay was my grandmothers brand until I tried Olay total effects 7 in 1 anti-aging moisturizer. After just a few weeks my skin looks and feels better than ever! People are actually noticing my glowing skin! I'm looking younger and feeling younger! Thanks Olay! This  was collected as part of a promotion.\""
      ]
     },
     "execution_count": 46,
     "metadata": {},
     "output_type": "execute_result"
    }
   ],
   "source": [
    "product_df['reviewsConcat'][51893]\n",
    "# dfObj = pd.DataFrame(product_df, index=new_distance_list)\n",
    "# dist_new = pairwise_distances(tt,doc_topic_matrix,metric='cosine')\n",
    "# np.sort(dist_new)"
   ]
  },
  {
   "cell_type": "code",
   "execution_count": 47,
   "metadata": {},
   "outputs": [
    {
     "data": {
      "text/plain": [
       "'Olay Total Effects Daily Moisturizer, 7-In-1 Anti-Aging, 0.5oz'"
      ]
     },
     "execution_count": 47,
     "metadata": {},
     "output_type": "execute_result"
    }
   ],
   "source": [
    "product_df['name'][51893]"
   ]
  },
  {
   "cell_type": "code",
   "execution_count": 48,
   "metadata": {},
   "outputs": [],
   "source": [
    "recommend_similar_products = []\n",
    "for i in new_distance_list:\n",
    "    recommend_similar_products.append(product_df['name'][i])"
   ]
  },
  {
   "cell_type": "code",
   "execution_count": 49,
   "metadata": {},
   "outputs": [
    {
     "data": {
      "text/plain": [
       "[51024    Olay Total Effects Daily Moisturizer, 7-In-1 A...\n",
       " 51921    Olay Total Effects Daily Moisturizer, 7-In-1 A...\n",
       " 50922    Olay Total Effects Daily Moisturizer, 7-In-1 A...\n",
       " 51414    Olay Total Effects Daily Moisturizer, 7-In-1 A...\n",
       " 49890    Olay Total Effects Daily Moisturizer, 7-In-1 A...\n",
       "                                ...                        \n",
       " 23808    Godzilla 3d Includes Digital Copy Ultraviolet ...\n",
       " 23810    Godzilla 3d Includes Digital Copy Ultraviolet ...\n",
       " 23811    Godzilla 3d Includes Digital Copy Ultraviolet ...\n",
       " 23792    Godzilla 3d Includes Digital Copy Ultraviolet ...\n",
       " 33111              The Jungle Book (blu-Ray/dvd + Digital)\n",
       " Name: name, Length: 66224, dtype: object]"
      ]
     },
     "execution_count": 49,
     "metadata": {},
     "output_type": "execute_result"
    }
   ],
   "source": [
    "recommend_similar_products"
   ]
  },
  {
   "cell_type": "code",
   "execution_count": 148,
   "metadata": {},
   "outputs": [
    {
     "data": {
      "text/plain": [
       "['Pink Friday: Roman Reloaded Re-Up (w/dvd)']"
      ]
     },
     "execution_count": 148,
     "metadata": {},
     "output_type": "execute_result"
    }
   ],
   "source": [
    "recommend_similar_products"
   ]
  },
  {
   "cell_type": "code",
   "execution_count": null,
   "metadata": {},
   "outputs": [],
   "source": []
  },
  {
   "cell_type": "code",
   "execution_count": 149,
   "metadata": {},
   "outputs": [
    {
     "data": {
      "text/plain": [
       "LatentDirichletAllocation(n_components=20, random_state=0)"
      ]
     },
     "execution_count": 149,
     "metadata": {},
     "output_type": "execute_result"
    }
   ],
   "source": [
    "# for TF DTM\n",
    "# lda_tf = LatentDirichletAllocation(n_components=20, random_state=0)\n",
    "# lda_tf.fit(dtm_tf)\n",
    "\n",
    "# for TFIDF DTM\n",
    "lda_tfidf = LatentDirichletAllocation(n_components=20, random_state=0)\n",
    "lda_tfidf.fit(dtm_tfidf)"
   ]
  },
  {
   "cell_type": "code",
   "execution_count": 150,
   "metadata": {},
   "outputs": [
    {
     "data": {
      "text/plain": [
       "array([[0.01039043, 0.01039043, 0.01039043, ..., 0.01039043, 0.01039043,\n",
       "        0.01039043],\n",
       "       [0.01761003, 0.01761003, 0.01761003, ..., 0.46065858, 0.01761003,\n",
       "        0.01761003],\n",
       "       [0.0207501 , 0.0207501 , 0.0207501 , ..., 0.60574812, 0.0207501 ,\n",
       "        0.0207501 ],\n",
       "       ...,\n",
       "       [0.02099729, 0.02099729, 0.02099729, ..., 0.02099729, 0.02099729,\n",
       "        0.02099729],\n",
       "       [0.00816714, 0.39197723, 0.00816713, ..., 0.00816713, 0.00816713,\n",
       "        0.00816713],\n",
       "       [0.01419147, 0.01419147, 0.10183504, ..., 0.01419147, 0.30611201,\n",
       "        0.01419147]])"
      ]
     },
     "execution_count": 150,
     "metadata": {},
     "output_type": "execute_result"
    }
   ],
   "source": [
    "lda_tfidf.transform(dtm_tfidf)"
   ]
  },
  {
   "cell_type": "code",
   "execution_count": 151,
   "metadata": {
    "scrolled": true
   },
   "outputs": [],
   "source": [
    "# pyLDAvis.sklearn.prepare(lda_tf, dtm_tf, tf_vectorizer)"
   ]
  },
  {
   "cell_type": "code",
   "execution_count": 152,
   "metadata": {},
   "outputs": [
    {
     "data": {
      "text/html": [
       "\n",
       "<link rel=\"stylesheet\" type=\"text/css\" href=\"https://cdn.jsdelivr.net/gh/bmabey/pyLDAvis@3.3.1/pyLDAvis/js/ldavis.v1.0.0.css\">\n",
       "\n",
       "\n",
       "<div id=\"ldavis_el186842762189908112662283088\"></div>\n",
       "<script type=\"text/javascript\">\n",
       "\n",
       "var ldavis_el186842762189908112662283088_data = {\"mdsDat\": {\"x\": [0.09264910469360796, -0.2593204060337389, 0.11428220492458066, 0.1764091313847681, 0.11057315974679847, -0.22488549635922933, -0.2666599608291911, 0.06289705328862251, 0.15004698603999633, 0.04670686673420027, 0.09828410443078957, 0.023274929693568442, 0.07646101932289046, 0.03250204567079322, -0.12116543455552098, 0.014165429616165645, 0.10051106972932303, 0.017759198356377376, -0.1298621051300304, -0.11462890072477203], \"y\": [-0.08545454288559065, 0.11268499710268678, 0.01460311234261948, 0.21550012144671452, -0.06236245588061533, -0.01417367483854486, 0.044904687588900746, -0.06780640689766229, 0.26559629262336726, -0.14864866194572376, -0.07759861302361953, -0.15022206695620352, 0.008123847466625424, -0.09401484869375644, 0.037799378701219265, 0.07629786029507507, -0.020454051881062387, -0.0222734490911643, -0.01802779473682963, -0.014473730736435984], \"topics\": [1, 2, 3, 4, 5, 6, 7, 8, 9, 10, 11, 12, 13, 14, 15, 16, 17, 18, 19, 20], \"cluster\": [1, 1, 1, 1, 1, 1, 1, 1, 1, 1, 1, 1, 1, 1, 1, 1, 1, 1, 1, 1], \"Freq\": [12.81936388630741, 9.073098250369146, 7.92038803715264, 7.476194521278841, 7.041869181945672, 6.977663482036617, 6.833047856230887, 6.316346886180213, 5.79429155501852, 3.9835606774375254, 3.456204857776976, 3.181893779670966, 2.985214783383146, 2.580843401330424, 2.5356770904769683, 2.4840708885979477, 2.343218330527031, 2.2416624847011053, 2.0466802161210174, 1.908709833456947]}, \"tinfo\": {\"Term\": [\"movie\", \"wipes\", \"clorox\", \"hair\", \"tide\", \"collected\", \"promotion\", \"skin\", \"funny\", \"good\", \"clean\", \"kids\", \"pods\", \"soft\", \"product\", \"conditioner\", \"godzilla\", \"great\", \"clothes\", \"easy\", \"use\", \"formula\", \"family\", \"nails\", \"stars\", \"watch\", \"mop\", \"moisturizer\", \"cute\", \"action\", \"olay\", \"wrinkles\", \"revitalift\", \"triple\", \"aging\", \"pores\", \"facial\", \"moisturizer\", \"mascara\", \"foundation\", \"anti\", \"acne\", \"regenerist\", \"serum\", \"face\", \"creams\", \"moisturizers\", \"lashes\", \"signs\", \"circles\", \"breakouts\", \"applicator\", \"youthful\", \"firmer\", \"forehead\", \"regenerating\", \"paris\", \"glow\", \"redness\", \"patches\", \"skin\", \"absorbs\", \"smoother\", \"concealer\", \"lines\", \"cream\", \"total\", \"tone\", \"deep\", \"sunscreen\", \"eyes\", \"sensitive\", \"makeup\", \"oreal\", \"feels\", \"difference\", \"greasy\", \"smooth\", \"noticed\", \"effects\", \"fine\", \"feel\", \"using\", \"product\", \"dry\", \"results\", \"collected\", \"promotion\", \"look\", \"day\", \"like\", \"love\", \"products\", \"use\", \"really\", \"soft\", \"used\", \"great\", \"laughing\", \"adults\", \"seth\", \"laughed\", \"granddaughter\", \"nephew\", \"funni\", \"adorable\", \"cute\", \"rogen\", \"grandkids\", \"watches\", \"xmas\", \"rogan\", \"grand\", \"raunchy\", \"crude\", \"ages\", \"laugh\", \"vulgar\", \"stiller\", \"adult\", \"laughter\", \"grandson\", \"els\", \"christmas\", \"favorit\", \"violent\", \"amusing\", \"diaz\", \"entertained\", \"gift\", \"hilarious\", \"funny\", \"watched\", \"laughs\", \"funniest\", \"kids\", \"family\", \"planes\", \"humor\", \"watch\", \"movie\", \"pets\", \"fun\", \"enjoyed\", \"watching\", \"loves\", \"entertaining\", \"loved\", \"son\", \"children\", \"great\", \"enjoy\", \"good\", \"daughter\", \"movi\", \"kid\", \"really\", \"love\", \"recommend\", \"bought\", \"old\", \"awesome\", \"pods\", \"pod\", \"tide\", \"febreze\", \"febreeze\", \"measuring\", \"botanical\", \"dissolve\", \"clothes\", \"detergents\", \"clothing\", \"loader\", \"detergent\", \"mountain\", \"acti\", \"shirt\", \"socks\", \"softener\", \"dissolving\", \"turbo\", \"measure\", \"washer\", \"downy\", \"pacs\", \"shirts\", \"load\", \"laundry\", \"uniforms\", \"stinky\", \"blankets\", \"loading\", \"liquid\", \"loads\", \"dryer\", \"machine\", \"ruined\", \"sheets\", \"stains\", \"smelling\", \"smelled\", \"wash\", \"stain\", \"smell\", \"fresh\", \"scent\", \"washed\", \"clean\", \"washing\", \"sample\", \"product\", \"use\", \"promotion\", \"collected\", \"easy\", \"love\", \"just\", \"great\", \"used\", \"came\", \"like\", \"using\", \"really\", \"new\", \"knobs\", \"clorax\", \"switches\", \"countertops\", \"disenfecting\", \"creamer\", \"lemony\", \"bacteria\", \"toys\", \"vehicles\", \"keyboards\", \"counters\", \"clorex\", \"chlorox\", \"rip\", \"killer\", \"tops\", \"sponges\", \"mirrors\", \"deodorizing\", \"steering\", \"grat\", \"lemon\", \"remotes\", \"sanitizes\", \"fre\", \"toilets\", \"toddlers\", \"pen\", \"restroom\", \"counter\", \"doorknobs\", \"sanitized\", \"surface\", \"handles\", \"clorox\", \"tables\", \"disinfecting\", \"kills\", \"wiping\", \"disinfectant\", \"wipes\", \"wipe\", \"trust\", \"door\", \"germs\", \"surfaces\", \"germ\", \"kitchen\", \"bleach\", \"killing\", \"bathroom\", \"cleaning\", \"clean\", \"disinfect\", \"house\", \"cleaner\", \"collected\", \"promotion\", \"use\", \"love\", \"smell\", \"cleans\", \"product\", \"products\", \"fresh\", \"know\", \"easy\", \"great\", \"home\", \"convenient\", \"scent\", \"using\", \"best\", \"like\", \"clay\", \"conditioner\", \"pantene\", \"dandruff\", \"scalp\", \"manageable\", \"conditioners\", \"mask\", \"roots\", \"hairspray\", \"extraordinary\", \"opinions\", \"shoulders\", \"ends\", \"shampoo\", \"weighing\", \"weigh\", \"suave\", \"aussie\", \"trio\", \"tangles\", \"airspray\", \"defy\", \"wavy\", \"conditioned\", \"hair\", \"shampoos\", \"knots\", \"agedefy\", \"expert\", \"bouncy\", \"conditioning\", \"purposes\", \"testing\", \"complimentary\", \"influenster\", \"received\", \"exchange\", \"oily\", \"honest\", \"free\", \"silky\", \"curls\", \"test\", \"soft\", \"shiny\", \"dry\", \"feeling\", \"leaves\", \"smells\", \"product\", \"collected\", \"promotion\", \"left\", \"amazing\", \"products\", \"really\", \"love\", \"great\", \"feel\", \"like\", \"album\", \"monsters\", \"jason\", \"aldean\", \"reboot\", \"jennifer\", \"lawrence\", \"miranda\", \"aliens\", \"bradley\", \"bett\", \"song\", \"suspense\", \"cranston\", \"king\", \"stones\", \"cooper\", \"broderick\", \"monster\", \"script\", \"stargate\", \"remakes\", \"songs\", \"slow\", \"bryan\", \"japanese\", \"mike\", \"lambert\", \"dave\", \"sopranos\", \"godzilla\", \"country\", \"stunning\", \"greek\", \"wedding\", \"modern\", \"plot\", \"story\", \"sequels\", \"character\", \"cgi\", \"fans\", \"film\", \"original\", \"movie\", \"interesting\", \"classic\", \"sequel\", \"action\", \"good\", \"better\", \"series\", \"version\", \"great\", \"fan\", \"characters\", \"movies\", \"acting\", \"big\", \"like\", \"watch\", \"best\", \"fun\", \"awesome\", \"effects\", \"really\", \"just\", \"new\", \"love\", \"enjoyed\", \"evil\", \"resident\", \"kevin\", \"hart\", \"uhd\", \"bunny\", \"nephews\", \"everyon\", \"continuation\", \"bruce\", \"zombie\", \"efron\", \"blu\", \"nieces\", \"zac\", \"inappropriate\", \"hilariously\", \"jungle\", \"ray\", \"comedi\", \"viewed\", \"tale\", \"dvds\", \"library\", \"trailers\", \"engaged\", \"anna\", \"thrill\", \"malkovich\", \"helen\", \"willis\", \"book\", \"collection\", \"purchas\", \"independence\", \"collect\", \"games\", \"bluray\", \"resurgence\", \"action\", \"disney\", \"movies\", \"remake\", \"smith\", \"sequel\", \"special\", \"picture\", \"dvd\", \"packed\", \"movie\", \"deal\", \"classic\", \"series\", \"original\", \"price\", \"good\", \"great\", \"cast\", \"effects\", \"saw\", \"awesome\", \"buy\", \"worth\", \"excellent\", \"best\", \"better\", \"film\", \"fun\", \"watch\", \"loved\", \"love\", \"enjoyed\", \"vacuum\", \"glider\", \"hoover\", \"juicer\", \"upright\", \"hardwood\", \"suction\", \"vac\", \"tile\", \"foodsaver\", \"microfiber\", \"containers\", \"veggies\", \"lettuce\", \"solutions\", \"vacuums\", \"seal\", \"swiffer\", \"batteries\", \"stairs\", \"laminate\", \"fruits\", \"assembly\", \"refills\", \"sealed\", \"jet\", \"reusable\", \"ottoman\", \"pads\", \"bagless\", \"pad\", \"wood\", \"storage\", \"washable\", \"floors\", \"carpet\", \"mop\", \"floor\", \"chair\", \"reveal\", \"solution\", \"rubbermaid\", \"food\", \"bottle\", \"container\", \"spray\", \"handle\", \"bags\", \"money\", \"bought\", \"purchased\", \"use\", \"cleaner\", \"just\", \"easy\", \"cleaning\", \"love\", \"great\", \"like\", \"product\", \"used\", \"works\", \"time\", \"good\", \"new\", \"cleanups\", \"flu\", \"convienent\", \"downs\", \"viruses\", \"virus\", \"classroom\", \"carts\", \"potty\", \"puppy\", \"camping\", \"teachers\", \"sickness\", \"peace\", \"everthing\", \"mishaps\", \"template\", \"kitchens\", \"germy\", \"ups\", \"sanitary\", \"toughest\", \"employee\", \"cleanup\", \"rewards\", \"freshening\", \"teacher\", \"helper\", \"las\", \"desks\", \"messes\", \"quick\", \"season\", \"deodorizes\", \"handy\", \"students\", \"convenient\", \"vicks\", \"everyday\", \"hurry\", \"wipes\", \"easy\", \"house\", \"bathroom\", \"disinfects\", \"school\", \"clean\", \"disinfect\", \"use\", \"kitchen\", \"cleaning\", \"collected\", \"promotion\", \"clorox\", \"love\", \"bathrooms\", \"product\", \"home\", \"especially\", \"disinfecting\", \"great\", \"germs\", \"wipe\", \"kids\", \"awesome\", \"time\", \"smell\", \"smells\", \"folders\", \"folder\", \"files\", \"lamp\", \"nutmeg\", \"divide\", \"newer\", \"receipts\", \"papaya\", \"leaked\", \"monkey\", \"paperwork\", \"labels\", \"quit\", \"smead\", \"documents\", \"file\", \"hanging\", \"organizing\", \"cocoa\", \"pages\", \"organizational\", \"toffee\", \"sturdier\", \"defective\", \"jugs\", \"bills\", \"quest\", \"tame\", \"camp\", \"pleas\", \"metal\", \"records\", \"breaks\", \"sunblock\", \"sprayer\", \"receipt\", \"organized\", \"discontinued\", \"papers\", \"broke\", \"trigger\", \"stopped\", \"organize\", \"customers\", \"spraying\", \"mop\", \"bring\", \"working\", \"months\", \"handle\", \"poor\", \"color\", \"spray\", \"colors\", \"broken\", \"bought\", \"shimmer\", \"lip\", \"idea\", \"disappointed\", \"product\", \"second\", \"work\", \"just\", \"use\", \"bottle\", \"love\", \"used\", \"time\", \"great\", \"don\", \"like\", \"balm\", \"nivea\", \"lips\", \"gloss\", \"rhubarb\", \"champagne\", \"cheetos\", \"merlot\", \"hous\", \"biotene\", \"chapstick\", \"fig\", \"shimmery\", \"therapy\", \"lathers\", \"balms\", \"raisin\", \"blush\", \"milk\", \"lipstick\", \"smel\", \"tinted\", \"vaseline\", \"chap\", \"softsoap\", \"peppermint\", \"useing\", \"detangles\", \"faint\", \"timer\", \"chapped\", \"lip\", \"shimmers\", \"burt\", \"mouth\", \"shimmer\", \"bees\", \"body\", \"silk\", \"color\", \"coconut\", \"lysol\", \"lotion\", \"butter\", \"hands\", \"dry\", \"colors\", \"moisturizing\", \"natural\", \"love\", \"product\", \"like\", \"soap\", \"best\", \"hand\", \"favorite\", \"great\", \"skin\", \"feel\", \"long\", \"nice\", \"just\", \"use\", \"really\", \"exxtra\", \"nexxus\", \"cutest\", \"easter\", \"anim\", \"gluten\", \"nexus\", \"ale\", \"formula\", \"aways\", \"xbox\", \"upgraded\", \"uplifting\", \"whit\", \"quits\", \"repeatedly\", \"oled\", \"syfy\", \"crayon\", \"strictly\", \"corny\", \"hates\", \"gel\", \"royal\", \"wehani\", \"ginger\", \"stone\", \"hom\", \"marker\", \"creators\", \"minions\", \"awful\", \"birds\", \"changed\", \"bisquick\", \"terrible\", \"service\", \"horrible\", \"bars\", \"bring\", \"change\", \"hold\", \"customer\", \"new\", \"old\", \"sad\", \"shadow\", \"years\", \"hate\", \"favorites\", \"walmart\", \"online\", \"disappointed\", \"tube\", \"packaging\", \"worst\", \"fragrance\", \"used\", \"original\", \"scent\", \"product\", \"hair\", \"bad\", \"like\", \"smell\", \"using\", \"buy\", \"good\", \"great\", \"northern\", \"quilted\", \"tissue\", \"plush\", \"rolls\", \"sour\", \"ultra\", \"ply\", \"tuna\", \"tanning\", \"creepshow\", \"pencil\", \"mega\", \"hav\", \"nyx\", \"bum\", \"tush\", \"tanner\", \"accidents\", \"spiral\", \"watchable\", \"tissues\", \"stephen\", \"septic\", \"cushion\", \"pencils\", \"greens\", \"turtles\", \"palette\", \"arrid\", \"roll\", \"paper\", \"toilet\", \"softest\", \"softness\", \"grabbing\", \"layers\", \"fluffy\", \"awesom\", \"thi\", \"soft\", \"durable\", \"strong\", \"curlers\", \"brands\", \"workout\", \"soo\", \"gentle\", \"brand\", \"best\", \"promotion\", \"collected\", \"buy\", \"bought\", \"love\", \"tried\", \"product\", \"use\", \"great\", \"quality\", \"time\", \"like\", \"ago\", \"family\", \"used\", \"good\", \"nails\", \"nail\", \"french\", \"manicure\", \"polish\", \"nic\", \"everlasting\", \"bacon\", \"opti\", \"oth\", \"happi\", \"chipping\", \"excellant\", \"glue\", \"moisturiser\", \"wond\", \"comical\", \"acrylic\", \"kiss\", \"mediocre\", \"trilogy\", \"acrylics\", \"remarkable\", \"fake\", \"lightening\", \"mila\", \"tidy\", \"decrease\", \"definatly\", \"capabilities\", \"length\", \"salon\", \"coat\", \"underneath\", \"snacks\", \"press\", \"occasion\", \"apply\", \"improvements\", \"short\", \"look\", \"natural\", \"influenster\", \"easy\", \"received\", \"real\", \"long\", \"product\", \"powder\", \"purposes\", \"time\", \"perfect\", \"great\", \"love\", \"like\", \"use\", \"just\", \"got\", \"rice\", \"cereal\", \"cinnamon\", \"tyler\", \"perry\", \"nutty\", \"lundberg\", \"crunch\", \"amaz\", \"toast\", \"dips\", \"grain\", \"blueray\", \"burton\", \"salsa\", \"itunes\", \"stor\", \"cooked\", \"sugar\", \"ipad\", \"eaten\", \"chewy\", \"followup\", \"hillarious\", \"airplane\", \"breakfast\", \"johnny\", \"calories\", \"cooks\", \"tasting\", \"granddaughters\", \"depp\", \"delicious\", \"friday\", \"download\", \"flavor\", \"chicken\", \"yummy\", \"digital\", \"tasty\", \"copy\", \"eat\", \"protein\", \"cook\", \"black\", \"meal\", \"sweet\", \"taste\", \"blend\", \"snack\", \"brown\", \"loves\", \"good\", \"great\", \"love\", \"dvd\", \"movie\", \"price\", \"favorite\", \"daughter\", \"like\", \"best\", \"cookies\", \"tostitos\", \"tast\", \"tower\", \"chips\", \"puffcorn\", \"dip\", \"tortilla\", \"peanuts\", \"lin\", \"countertop\", \"yum\", \"wil\", \"cookie\", \"chesters\", \"fir\", \"ahoy\", \"crackers\", \"planters\", \"pric\", \"stale\", \"bathtub\", \"granite\", \"wip\", \"homes\", \"absorbant\", \"ver\", \"tides\", \"dipping\", \"cools\", \"corn\", \"quiet\", \"bounce\", \"settings\", \"reasonably\", \"performs\", \"tho\", \"snack\", \"taste\", \"grey\", \"chip\", \"popcorn\", \"value\", \"bite\", \"fan\", \"good\", \"cheese\", \"stuff\", \"works\", \"air\", \"great\", \"size\", \"product\", \"cool\", \"price\", \"smells\", \"love\", \"features\", \"nice\", \"job\", \"room\", \"like\", \"best\", \"recommend\", \"does\", \"buy\", \"use\", \"lemi\", \"glasses\", \"lemishine\", \"excel\", \"pants\", \"dishes\", \"whitens\", \"sparkling\", \"caress\", \"phoenix\", \"axe\", \"bread\", \"dishwasher\", \"dentist\", \"glassware\", \"cloudy\", \"oxiclean\", \"keyboard\", \"washers\", \"relieve\", \"orajel\", \"crumbs\", \"mitchum\", \"toothache\", \"tablets\", \"gum\", \"savers\", \"income\", \"fantast\", \"whiten\", \"luv\", \"booster\", \"disappoints\", \"remembered\", \"bye\", \"pain\", \"deodorant\", \"sparkle\", \"shine\", \"spotless\", \"brightens\", \"water\", \"hard\", \"remover\", \"stain\", \"contacts\", \"product\", \"white\", \"works\", \"gray\", \"soap\", \"recommended\", \"years\", \"worked\", \"used\", \"stains\", \"great\", \"clean\", \"spots\", \"using\", \"love\", \"use\", \"excellent\", \"best\", \"chili\", \"hormel\", \"index\", \"avery\", \"excelent\", \"ragu\", \"tasted\", \"soup\", \"binders\", \"anyon\", \"enjoyment\", \"addictive\", \"dividers\", \"puffs\", \"murray\", \"dress\", \"column\", \"staff\", \"presentations\", \"christopher\", \"pillows\", \"chester\", \"canned\", \"walken\", \"filter\", \"reference\", \"infant\", \"tea\", \"shots\", \"oxi\", \"tree\", \"tester\", \"beans\", \"contents\", \"binder\", \"absorbent\", \"windex\", \"tabs\", \"heater\", \"professional\", \"hot\", \"class\", \"tastes\", \"sauce\", \"personal\", \"cheese\", \"ready\", \"satisfied\", \"friend\", \"presentation\", \"table\", \"double\", \"setting\", \"product\", \"great\", \"best\", \"good\", \"use\", \"easy\", \"love\", \"buy\", \"recommend\", \"headphones\", \"bass\", \"fiction\", \"samsung\", \"quentin\", \"bluetooth\", \"wireless\", \"sony\", \"headset\", \"ear\", \"travolta\", \"earbuds\", \"vers\", \"buds\", \"battery\", \"cancelling\", \"romance\", \"opener\", \"lif\", \"flicks\", \"lik\", \"pulp\", \"mental\", \"multipurpose\", \"samuel\", \"spicy\", \"divider\", \"noise\", \"imagination\", \"plane\", \"tarantino\", \"phone\", \"science\", \"sound\", \"heartwarming\", \"cult\", \"hits\", \"hear\", \"listening\", \"music\", \"sounds\", \"comfortable\", \"quality\", \"coffee\", \"great\", \"good\", \"life\", \"classic\", \"movie\", \"best\", \"lovers\", \"grate\", \"wheat\", \"blast\", \"owner\", \"headphone\", \"hawaiian\", \"lover\", \"anticipated\", \"witty\", \"choo\", \"stork\", \"lenses\", \"warming\", \"futur\", \"impress\", \"timely\", \"asap\", \"nonstop\", \"explosions\", \"chipped\", \"binge\", \"aid\", \"owners\", \"thes\", \"clears\", \"fare\", \"rec\", \"minds\", \"ins\", \"wel\", \"animal\", \"pet\", \"stars\", \"twisted\", \"knows\", \"coupon\", \"ship\", \"punch\", \"babies\", \"exactly\", \"reminds\", \"delivery\", \"shipped\", \"recomend\", \"delivered\", \"shipping\", \"win\", \"tim\", \"arrived\", \"fast\", \"rock\", \"good\", \"great\", \"dog\", \"needed\", \"product\", \"love\", \"movie\", \"price\", \"item\"], \"Freq\": [3656.0, 1232.0, 1094.0, 986.0, 703.0, 1811.0, 1811.0, 963.0, 836.0, 2296.0, 1228.0, 1054.0, 500.0, 644.0, 2474.0, 459.0, 494.0, 3570.0, 478.0, 1124.0, 1764.0, 310.0, 1027.0, 262.0, 284.0, 630.0, 376.0, 449.0, 417.0, 432.0, 314.1089251069831, 107.53786782280505, 106.43594819032491, 102.166939855929, 154.11431657136302, 60.06271835306245, 111.20160161041034, 439.2404764234009, 47.54388071549614, 38.54288178476879, 134.11877793773814, 42.736968037465694, 35.8008322778996, 58.029369166832666, 356.67545342204596, 30.19060968419961, 48.75321490255695, 27.916624251014987, 24.640493143388596, 24.50550406093164, 24.2299779101915, 24.19967952135419, 22.989505190631505, 27.57204864153865, 21.215971563674753, 20.807431864825407, 56.58303736252403, 42.67157881312048, 20.053482230317034, 24.093663062729387, 890.2598736795246, 48.91924526746386, 70.88382211307791, 36.730801192973296, 141.55670186933068, 203.39071029465885, 192.07395532298324, 91.90650127556525, 120.97240108717203, 48.988680284548444, 106.13714113948441, 106.65180265802718, 76.43280382958882, 82.57093258989636, 193.43728051270645, 136.10913628998946, 153.93012248340528, 198.40690439631032, 117.59375668867251, 178.1102461412862, 104.71624780074194, 219.06321521525584, 244.45028757860837, 440.584244644825, 162.59867684967378, 117.21583560748873, 287.12333724562774, 287.09211185715895, 138.4121619923151, 146.85612867064768, 174.7044188454464, 198.46990549243097, 145.35142028903596, 179.9108858418679, 160.71326074058425, 142.83648097016666, 141.8693902074521, 160.5433224678616, 75.5933390870369, 243.39573345224096, 24.33889299969566, 66.13624740687129, 46.811347416914, 35.31592882064302, 28.961838890939156, 42.059514450459304, 387.598230910383, 12.967260719875823, 79.66714739151104, 33.09527106899901, 13.449023229994907, 10.499034168384611, 50.661551543538785, 27.445839710980877, 19.24901678692897, 150.013690472335, 109.64185172467774, 8.267404874668596, 8.086208093761833, 114.79711920925375, 16.92447183325748, 77.67313531920294, 7.764530069045079, 89.28665969461808, 9.389324977220626, 6.93162920212931, 8.644567732396322, 6.844793335466911, 41.30205693619352, 133.36850810341852, 191.4781222640557, 687.8733337840782, 208.9421367605761, 68.67531510505003, 34.481122378230275, 765.1810947622474, 703.781030489324, 67.53928087410065, 95.22450963717444, 424.7299867381112, 2023.9464991764655, 151.864204533667, 341.8272135215869, 328.83646643841024, 182.7924868238132, 198.8716001229016, 171.14956536397108, 380.50146611774284, 153.35711650109405, 144.9096715920141, 759.7150993901897, 153.79368531287636, 471.62960282634884, 126.97904963681815, 106.37942496115842, 102.36498854330435, 201.42393941247062, 243.29946961278685, 157.62235536528155, 145.06987793999616, 130.11482498261972, 121.42665946524642, 499.7720541978078, 181.6696546729593, 697.8332141557778, 93.21576672129166, 61.0700451065434, 73.12946600238709, 33.16648600034869, 46.42559812378134, 461.85150132350043, 40.444556319991236, 61.801579613293434, 19.419312144319324, 239.80309548011815, 16.957352773907857, 30.414551552428037, 29.524491134336017, 16.739608767682647, 24.67883504572485, 14.560307316871658, 13.673361069881114, 34.3931649948879, 110.067884787227, 12.608405950706917, 10.94062756236197, 31.441588167587337, 105.08942827928583, 300.2005505783305, 10.041705150610529, 10.56038053750632, 9.15847668373656, 16.01014308301406, 128.54931597196065, 38.12402691076777, 48.06579050059843, 60.40072168852456, 41.78637045575061, 46.432878389934665, 122.52606307853362, 120.56727614941397, 68.4733081261856, 116.03075599605745, 68.72020724344173, 228.0470977676266, 164.03769275721356, 164.00417901792594, 50.88567688643358, 206.4710497844622, 60.520207239071105, 77.71083180605139, 220.52293755545938, 184.424225504114, 177.25147088258822, 177.14705329149714, 146.8072956898829, 174.54108786625338, 120.24886372362192, 166.6994206540981, 109.57418897847661, 77.08316694365307, 92.36332133115546, 82.1956806389066, 82.93494010206729, 79.5224526896088, 35.08146678383703, 14.681331023757712, 18.90767922920465, 40.62132384878811, 12.777378810660402, 11.791414510154995, 15.258512465563758, 24.4590588681053, 47.84446716112717, 7.523683959769825, 7.3609035366259405, 100.29637292347533, 7.025576688220451, 6.90410738951282, 11.976555524730331, 10.698533181412655, 53.34852525995076, 6.3926315770770605, 17.480755678026945, 6.191250568470745, 6.158390072705496, 5.9901325229608755, 105.51876259894222, 5.91730110648247, 5.275180514788682, 5.2351907444783485, 21.179163826698357, 18.62012205842558, 5.187084775623302, 7.556819280557857, 77.86315045653359, 15.877158957196562, 17.667579259382144, 52.093313225412004, 29.768044998722836, 778.5105356028453, 27.47754481525243, 236.42583070765605, 29.207298082792292, 49.21367749724138, 46.72966969211962, 735.1858152935025, 180.60723750902082, 65.78760648505919, 52.09189653775694, 146.97995926168235, 90.77044477225596, 58.643655801356324, 220.3496900986681, 57.43423760125044, 29.240269716506596, 205.84868101405465, 266.3551855815407, 459.6123373020057, 97.04059321944816, 175.50644811011517, 96.85151597974246, 436.96778747757656, 436.9651643162984, 410.2405008032048, 499.1611205596046, 233.58814023418154, 118.82940458558777, 326.6685210796034, 144.68006482185328, 132.1585561814405, 109.05951442335329, 181.19926676005863, 273.61245775332696, 107.65703140568479, 109.14682619252463, 109.64946492631394, 113.81051457228898, 111.91110568341394, 99.77805227791936, 112.2293451170056, 454.31047439364744, 55.65825672383757, 47.25521365109684, 114.0739411661831, 34.8705923410056, 47.03462172985027, 124.77907489646991, 95.69475816571266, 69.7493974894072, 41.03762799729923, 138.32076992678677, 38.20214476394368, 132.05710725205233, 290.005817955704, 19.67262312465293, 23.22281123575972, 25.0523413511891, 13.494022632485368, 13.363754221020233, 11.978095430902473, 11.967548380780032, 11.492981326932323, 11.320175199101028, 14.425267699882195, 881.9738163539005, 14.854836742402286, 7.660183047591428, 7.620756945018363, 9.822402817225916, 15.594514249257049, 16.74116690515197, 145.09839835545282, 154.23451839496005, 110.56712004158967, 194.92522855694344, 253.0778178787432, 30.597068743764897, 145.7736499004195, 48.524081860475874, 229.1050558324253, 71.51846854104699, 37.07954397730272, 52.40325040127839, 215.04293543935816, 49.37251268239232, 139.5992116554954, 101.43708896339807, 96.03057252686405, 135.89963058368605, 281.4642198137534, 215.29668220792618, 215.2728411826301, 80.28226678039073, 107.88805322977352, 106.59257688510995, 127.84007684118723, 158.57315474078536, 158.21852875376194, 92.29462152173943, 96.18823605231077, 75.53254017704558, 62.2412778410075, 42.50352760417211, 35.217114783435235, 33.062288606241395, 32.4930497949474, 32.223673544580336, 31.405352603198295, 27.083896276685003, 26.596187930447257, 26.57779185449037, 23.61252462368051, 22.737647371954527, 21.213592280913893, 55.215334384425894, 20.04664708734955, 29.560838339136396, 17.75329428267282, 92.30892411383635, 16.728039249556435, 14.798327610870937, 14.704626228775819, 48.42538837960741, 41.69089564003398, 14.35667857454105, 17.477694033851975, 12.727967431483117, 12.193437119396469, 11.721022127147158, 11.280705590463914, 445.5789980650315, 29.32671376866492, 25.38036044300735, 30.288494211105665, 36.723706252481094, 29.684753591252473, 77.14988194289609, 179.50639316237292, 29.77357835951494, 36.628990779140544, 40.57283124325448, 46.650613008170474, 130.53204178155377, 145.32795525051503, 552.2034514926113, 45.18969637600475, 108.4157238642646, 98.4131533179107, 123.11114902805585, 297.7877516922758, 139.3117455279002, 59.062686377041025, 75.24844310216305, 261.2405386147605, 84.59540777862134, 63.11519038681782, 92.38902151972475, 59.94048864640304, 63.65543024523288, 97.0324814538993, 79.10472368000526, 88.85704057577117, 75.38465965903534, 78.8898145528462, 65.5751073521045, 75.2056989491591, 68.58152818964022, 64.65511886485487, 69.6637809183532, 62.37574754796195, 66.38938529203462, 64.98220349038924, 25.52185332472554, 25.050892775109165, 22.642819823762686, 18.819243498325893, 15.918731466821978, 21.994779273229458, 15.78340630819034, 30.57703843807081, 15.210067391930659, 11.677898055871815, 193.8308423501582, 13.714071180335187, 10.622765424976953, 10.276034173985899, 10.123727093570364, 98.24528602671347, 224.84087608119665, 9.608629275702022, 9.185973700724501, 9.746772983753287, 14.218670521184132, 23.213789606976444, 8.294429859663165, 8.110664085576953, 8.037169449486914, 7.923477405265768, 7.9134266105402356, 7.842594742388005, 29.603088950896193, 114.24364817788064, 189.06776930649892, 17.416323824726426, 80.85960906088388, 32.91450668918188, 19.537497403384855, 59.970128730576505, 26.694090153025584, 281.33578714555756, 141.13498637483136, 279.71840209686343, 93.48216912841882, 58.6159065269181, 154.6561413598416, 119.03375953216874, 79.78747788703652, 128.00469733227035, 50.76011777575146, 927.5414163346489, 80.42182453417438, 135.08079236645113, 74.55125630235263, 157.45013915384436, 183.0594456277252, 432.5554062258038, 570.6327678681071, 73.31425733371061, 122.8047443093169, 85.29213633636488, 171.43838976434918, 144.08233103741603, 98.74709719363192, 117.88722569966687, 139.327973017735, 113.40919281463889, 94.36098365573761, 103.89479223404759, 105.91689673355413, 104.15219403534928, 113.40784307344664, 96.65859817363025, 112.95835812046158, 33.83634534110816, 33.79135053995427, 28.057409600922597, 26.053254093983956, 23.60625776698054, 20.991937312599962, 20.51291279938772, 24.94856310285415, 19.912481265885628, 19.222305361982567, 81.18328564975373, 15.82861193344958, 15.457575328036755, 15.043307202687382, 14.95749287971887, 50.35556692752983, 33.78938939749122, 13.474179298876573, 16.64090681012024, 11.90943035684621, 11.667459037709468, 12.3769468103062, 11.212651168842033, 16.69123952821237, 12.374284942316388, 10.677456166542695, 10.582807978934872, 55.277127909138436, 9.694278596698219, 49.2243027226905, 32.79532724116945, 23.718731544610055, 21.439893516938497, 72.00216872033383, 27.544220487077485, 261.3488374596879, 75.84777626421396, 42.615114538801386, 65.65239191965259, 61.95275783171686, 47.73156026554638, 57.42547332119277, 94.84103674199996, 57.239272646876124, 102.04029433409157, 49.42449641864528, 27.64055833500208, 63.30956972911277, 82.81342048946925, 55.17739632203446, 106.46543493670993, 48.095862912998186, 77.44978958227357, 81.84319154080107, 61.943566451316634, 89.71884984474514, 94.68395006582953, 68.87458893386307, 77.61688081778328, 58.11145017499144, 56.18305415486405, 50.605935297656686, 51.46062160090358, 49.83289310678855, 29.15588458144441, 73.45576140436124, 14.004742281585802, 9.39034131948584, 9.36163440385344, 9.040032077782612, 60.275846361744094, 7.684645487943076, 20.481473877884653, 13.726790146749584, 11.36205826284454, 17.592877439459542, 6.343455751292039, 17.186172417016323, 5.43997182390008, 5.413394620025885, 5.387891964529987, 5.385604729422986, 5.045973724808374, 76.531247530696, 13.708409352963708, 6.568550821480679, 4.303925436561789, 49.59693347521641, 4.741185931904929, 4.731834086209571, 21.74312202860574, 6.036737268793875, 4.482339068690295, 20.543660859745298, 131.09735973688137, 268.9039658197136, 71.59560561469316, 14.325204134475388, 103.32034223375207, 18.393051133496822, 240.89402760824316, 16.434826896980315, 106.26840647533751, 18.496716568200988, 491.18140838287206, 451.3988328066707, 202.44760896741275, 183.04622625210695, 71.5505354621554, 52.41168891341807, 380.8698754814441, 85.56792905901305, 488.5924558876469, 151.65820907811118, 202.60424397840714, 461.3464315562157, 461.29168284171845, 313.41163328215174, 414.8368112242196, 53.37527302488861, 376.34866047566084, 113.93875027945991, 90.09781645150149, 94.93565834664705, 341.43562117294823, 74.59587889462637, 77.80843567150634, 113.23331858329945, 88.96968847179905, 82.36316288114872, 75.97926541391259, 75.15433078213806, 63.19678443648558, 44.38392780820918, 29.592703731164402, 25.95830458257139, 23.385783429397247, 16.59985638563188, 16.43524437652229, 14.228273699624816, 12.692495748757693, 10.981639730430318, 10.350339062941298, 9.267718217890952, 10.638162658253577, 20.734574382163053, 7.9133688710593155, 18.235553175768686, 44.96343148992175, 22.77948066184318, 20.65051308717951, 124.65971776953252, 6.926539704170884, 5.902566178437986, 24.233210845963526, 8.165942297645904, 9.415841468326128, 5.48140444233728, 7.912382010621237, 5.129388415516362, 5.106210112124986, 5.036040634498559, 7.881959804436725, 13.675831905636276, 7.295926186203782, 20.63132206426083, 13.988370412728045, 58.52862162270226, 15.572128304814875, 29.117795025504392, 32.29957430930571, 18.38382367923241, 68.88848097475743, 55.91015665317513, 47.83596834556349, 26.907657176080413, 17.929539195931504, 25.161691774304625, 113.93986829829771, 83.24408093543015, 55.53313243200293, 57.30643620793569, 45.24428740949889, 34.06246417383463, 85.40134740440314, 73.18614846568751, 52.32371590771611, 28.890739893889236, 71.87517959052022, 39.19839881930325, 44.56423867468241, 34.07074059080813, 39.082754601481604, 68.57896325087184, 35.06966466815601, 43.74665061732611, 47.588956192659566, 53.12066632091112, 37.29955459371085, 48.11540595644846, 41.154597962448285, 40.92810051552113, 44.731430657865474, 38.42714260178317, 38.87704637498335, 43.87999197096677, 24.162585660619204, 160.41175868307005, 23.152018711079293, 14.271937215577948, 13.75471350757079, 13.751850919612776, 13.487831509311874, 13.34496122462949, 34.281445090118034, 12.621350457246006, 12.755459706814966, 12.025848489631638, 17.47163139363061, 11.292034511254403, 10.57502753380491, 13.290302687878375, 10.479088271283452, 26.379705287766267, 47.915972837976234, 17.182235208270022, 9.311628873454366, 19.842174263247227, 8.437714497196971, 9.507129536367922, 16.166687961701644, 7.994382720115349, 7.986255614691012, 9.004800587416247, 7.4887139306727075, 17.967314818572802, 174.34660167066144, 26.297271657827253, 33.09683659649862, 65.80184525115408, 87.27141358533548, 33.96618805857487, 58.41671670254138, 14.389694892479096, 141.44877847957738, 20.740312096854787, 44.18914029609377, 66.81939373593895, 31.041412598949364, 49.72767321240432, 71.19313635683426, 44.35513580667269, 33.12068221501881, 35.57451690779803, 115.0386200175846, 82.01824942952769, 61.22951163726629, 29.952447483102464, 55.951805237223276, 29.83423222285434, 37.27594867743215, 57.771847266226494, 41.82210327174856, 38.0582957102043, 36.23445892303559, 36.369842017683894, 37.42649522044463, 38.461459596319784, 35.42708933528062, 51.307795707384564, 62.37425941057887, 13.919865140902779, 12.660421161535568, 10.761199193151352, 10.740112951379585, 10.396522577423937, 10.297467703107275, 280.94167435584166, 8.186958502858078, 7.400340314188232, 7.399484762622361, 7.03515478716493, 6.640351417905381, 6.601762261930529, 7.752202011318092, 7.06446789053991, 5.661119465669182, 5.619279218285007, 5.490018366640657, 8.914368920467904, 5.2738971968277575, 182.62177820099686, 11.015064519567709, 4.593361109740296, 11.830274574105847, 4.556921511557214, 13.273854196955119, 5.083658993893679, 4.408443919840753, 5.59353307154593, 51.232278128807785, 9.806498890728678, 77.26486904173736, 17.43385475790456, 70.74272729037558, 42.83606137861501, 69.29399313815493, 18.648550222965397, 116.78087559850148, 81.84538997503566, 82.72374883074238, 43.251042418116704, 199.14902692767723, 185.7698426208406, 28.321841623729956, 13.58036854317919, 109.4300572914449, 29.797832264952532, 26.02822099012976, 32.2221916122528, 28.79583130160676, 53.37499205362342, 27.995467700614384, 32.66381718998188, 24.134228337018094, 38.464409479649, 77.1090612787337, 60.41136512036363, 60.69007910079532, 100.05555096631167, 70.55217164207768, 42.26487054213927, 53.389681538415985, 43.476681996225395, 40.718311167185355, 39.81878755913612, 37.714509743974304, 35.11668215882524, 182.42672337803197, 149.7846422951723, 92.13573917252285, 129.85630013099026, 24.83464909332466, 19.975900905984503, 124.89411750194026, 15.801987804143916, 14.326881557541205, 10.205948582070004, 9.728639489691332, 11.884127123352398, 9.109655448481597, 8.893812111893688, 8.610151434529973, 10.443250560741419, 8.455130213239654, 8.40677670538174, 14.136711282130213, 8.158097572321145, 8.150839619887757, 7.906126790427634, 7.646368414899704, 7.639534812939104, 7.592022731591484, 7.493930105310668, 7.212139723168813, 7.210627773099079, 8.458450869273387, 6.988055533696618, 39.20445004940965, 167.06640216319056, 150.20343789538873, 28.045591553492656, 51.858138685558814, 11.366275371124841, 11.185826031638628, 17.531710207653724, 21.43748739245883, 22.42196584590312, 224.69099715956324, 41.38412509907635, 84.24430254308744, 12.297095564917484, 50.54566754808012, 16.76156888369737, 14.322699784613594, 25.496998689110097, 60.67244049039398, 119.1471087971758, 159.80318961427236, 159.7383253079534, 74.20523899747131, 54.092678121165264, 93.79291497332875, 45.03109434055022, 70.1964594924712, 59.52131737795052, 59.335003575584885, 33.973099051003615, 36.606762037085026, 38.4389130086277, 28.7901671183289, 32.799706625929375, 31.459687457974912, 32.309717431275004, 261.0481149784649, 78.69535674921099, 42.28593835681417, 35.16067077881356, 42.99757245757763, 21.649362192360744, 23.450872095834345, 20.853552153864445, 29.302770343700793, 13.009290155219176, 12.753995860825615, 12.237133642236078, 12.00964164958356, 44.92725111277967, 11.324610214354138, 18.34250885487701, 13.141644406447151, 10.997974957536085, 33.85599984393066, 8.293206369226661, 7.655777710419704, 7.557886238909795, 8.386812789655492, 29.180855967218342, 8.118057481022674, 6.790187748177973, 9.473230223547617, 6.671497790700005, 7.72290306239622, 6.499063938802265, 37.81834049327734, 46.851147220772766, 22.117112568542854, 13.493540166653773, 13.133033552199242, 16.746207768733928, 12.884010733308045, 65.48624024543882, 12.590591330487861, 39.70569600450313, 79.5646010054574, 37.558565743205406, 50.357150588831715, 82.1499086244252, 43.33128895061519, 28.21039328470331, 38.679377433709924, 57.215635687945756, 23.457450995265578, 25.980295191880522, 39.09530710205318, 31.68620357037294, 49.88452383584794, 46.16781927424768, 37.68401713405219, 30.096704557353075, 28.559917303347262, 26.704830376048484, 189.7318193819688, 54.0883066260096, 27.819163097044417, 26.733371855723515, 24.732246013469034, 24.714788335224178, 24.01631118122866, 22.805249067802126, 20.576629329644238, 18.10064668828902, 14.02039415863536, 14.342773647282947, 12.834310846441541, 12.63432669497759, 11.39039288199201, 11.254610754832925, 11.207864771682345, 13.711565356804288, 18.86173005718661, 10.3430686633718, 11.469692459358404, 9.769644976684514, 9.54245692672136, 9.332953120438038, 9.275852487510935, 28.68366259690333, 37.08165834318812, 12.312898427090998, 9.107272589463921, 25.42101132463485, 16.859603888066122, 42.547210887480084, 94.07626899659003, 35.60645078111477, 18.916054431502502, 98.49090873385708, 39.19201838652595, 50.30123647908469, 82.18203327618454, 44.73931816589216, 68.75055668580967, 50.51563249893269, 17.638819764798967, 26.643332137491985, 48.94884327345531, 23.69394027878075, 38.14789659245683, 68.6243848703741, 24.512383014649576, 36.165917352349254, 30.048600272645693, 50.29890985132269, 78.82741046845305, 88.98812587637758, 68.89581197675255, 38.647981928513886, 63.28135281159786, 40.227858097091215, 37.29934561424551, 34.63727678359519, 34.8622073798244, 30.95471813879151, 53.192443829264306, 33.599169881754, 21.049116953431245, 18.528517805797943, 98.58833126454309, 15.295323120517407, 39.05656509230496, 14.970085284285757, 14.643038123926406, 14.547356979520828, 12.39382764256017, 42.88125524910968, 10.012416448646572, 14.356359957291815, 9.131409935401306, 8.974968829382076, 8.13140988817973, 8.10031015397988, 8.256866945396917, 53.43025643370327, 7.342814021384187, 7.292723360044236, 7.201603459368505, 7.176847925658535, 12.059776691697152, 6.868052045994325, 6.866075373615267, 6.791468323198974, 14.080737533648005, 6.2836341968450995, 17.555556810338633, 47.21969582446594, 21.18252466910802, 15.544336329930532, 14.283937877374827, 11.753831021449999, 14.097760341447275, 46.93459478954114, 88.26251516625597, 26.24330049981706, 29.054580839092, 34.00379138614414, 75.47243975243973, 16.990938032283342, 98.78984545781105, 248.71568071019053, 26.307323933919566, 64.56841656441019, 100.02513056933678, 30.338778828694863, 198.6389255166971, 44.99443615240014, 150.71722150316245, 36.89850716550186, 66.93900999523744, 58.711438903512864, 96.1477020132019, 27.823255406666387, 45.28053162518539, 40.1841449369753, 33.60250146748853, 47.574005339847496, 44.28137266135587, 40.44260593539381, 37.96881268593977, 37.90098169553429, 35.125183278775125, 46.45408429349289, 40.489745890150054, 28.723814783831163, 26.24089107730574, 22.596786363053166, 122.8716723408916, 21.665957788607795, 34.311004225399756, 14.567726840731774, 14.111488843115342, 13.872294051036839, 15.165601320748705, 88.51198126470487, 12.737685476953258, 12.390538698734298, 12.02084522485267, 11.864138138972839, 10.354917690240491, 9.685606740059551, 9.38326187603506, 9.048239639104874, 8.679723191615125, 8.38859545966225, 8.290336366720586, 8.144457289696469, 8.086441551441878, 7.931329771016381, 7.115886783719812, 7.39188965301579, 6.6084068798364575, 23.284979624833912, 35.62331601872759, 12.517268772689587, 13.016908811012431, 13.630004269157004, 28.8687328952154, 40.103077760627365, 17.41431127514753, 62.27059275756882, 16.716228995491598, 13.60861943145836, 76.93407078420071, 69.27048990815673, 25.49621871183034, 34.29962678301301, 18.39970048750219, 100.44712267493374, 30.052847495074637, 58.25135848461633, 19.769787881738775, 28.896909376474994, 29.155688315255105, 40.27757711741654, 29.89412292283123, 38.7146641677455, 27.336558376494935, 50.59407977718771, 38.30612295572987, 23.881021845284774, 33.26016376644296, 36.377259637969985, 31.75222196198543, 28.401964843401398, 25.648208403600936, 90.76886537660087, 34.14904272886916, 40.46239122592855, 25.378871314173644, 22.523710538774225, 17.408143075837, 17.32531196475553, 15.936964088537799, 25.0682217464769, 14.688836212437462, 13.762993987349054, 13.345279761355913, 45.35690476301611, 11.770305442282647, 11.207141767593228, 10.93539495831079, 10.836594860528008, 11.607734038424306, 9.831733753169809, 9.815526209839645, 9.777470776112429, 9.43601786834597, 9.31359758831297, 8.92634535019646, 8.940165872357767, 8.568589060225298, 8.460568799528835, 13.451858564963901, 7.916799619588648, 7.793283343253412, 12.740176603893413, 11.861259617553861, 22.984260588369295, 24.190949786200235, 16.021411389778816, 13.348431779047957, 60.63723694370267, 30.47537694645169, 14.03874710954489, 29.327062951935083, 39.923242806052635, 22.505824784276967, 27.316827444050265, 23.416729476273243, 20.30495046712421, 23.85386986307665, 29.30077220501339, 28.36129165119138, 33.39935790213721, 15.693860835931886, 23.763743500320693, 19.242953722246273, 17.470946041900884, 55.80985248937161, 55.34098495505914, 36.33244944440083, 36.98362435042716, 35.079335537200805, 30.53201748259553, 30.347613556517462, 24.112480604009594, 22.376618589584336, 103.7112339397875, 47.89433085454008, 46.799398031248096, 36.11432689934789, 34.10144661474832, 33.381132381000434, 30.96817808682563, 30.548453978771896, 28.29767619578942, 35.80187986589426, 22.588916797437797, 21.520505200490657, 19.647603639608224, 19.150039112044354, 33.02106879214921, 14.471450759763732, 14.460607934686672, 28.604572563752892, 12.834320452934646, 11.597078215787803, 10.306050709089751, 37.24171698029045, 15.817293507358984, 9.687512931970078, 9.557295075545413, 9.115277893588415, 8.85985839764228, 45.80337848685122, 12.362998677228699, 11.865138078984273, 71.79933763605537, 41.57148979084822, 19.214685630186995, 160.04777255268948, 18.60204565103954, 17.77743663671275, 16.094965957560778, 33.10928344917187, 22.218088685387876, 56.32301141465556, 23.406671664880893, 39.37304138170212, 76.69893385879779, 26.474872223973744, 89.43785477118307, 56.81805909669016, 30.309504134604587, 31.22334344095165, 30.411808606431407, 27.448202399055287, 73.74130152523382, 27.974302025847308, 23.168464233803476, 25.55515406971386, 33.96559354362444, 14.273043458957824, 13.360581281223341, 62.26846020267613, 12.539257811487106, 18.88540404086908, 11.484962236934322, 11.324584855694791, 23.35356581086494, 20.27931151485228, 9.549061397945307, 11.381427400002712, 12.447280360296139, 13.605025920189222, 8.469834646682738, 8.229136115331107, 7.718355390421622, 7.636859646629301, 12.355205659643925, 37.2715015187551, 12.442096720854474, 7.319719724306049, 7.459612119046158, 6.732925813054973, 8.121781402620963, 6.542869999630995, 50.778373393296945, 55.94270253772309, 114.10169995502508, 204.82520866261024, 8.986680593954322, 22.46446871475473, 19.262445599538022, 13.407265337136408, 22.479339123580985, 36.38733062889624, 58.31582330166589, 21.6083188493763, 24.88638268376688, 19.361598452939287, 23.566774648603698, 21.487823916909445, 31.39761249078341, 22.166398235199445, 30.449793067573587, 24.888336997897667, 38.73082710546617, 20.186671481528528, 60.361638604524906, 53.40492612801385, 23.73732904981938, 25.446178982033665, 36.20475096238967, 33.69873314114052, 33.56643918037949, 25.691333473209475, 22.481222952129272], \"Total\": [3656.0, 1232.0, 1094.0, 986.0, 703.0, 1811.0, 1811.0, 963.0, 836.0, 2296.0, 1228.0, 1054.0, 500.0, 644.0, 2474.0, 459.0, 494.0, 3570.0, 478.0, 1124.0, 1764.0, 310.0, 1027.0, 262.0, 284.0, 630.0, 376.0, 449.0, 417.0, 432.0, 315.1659188882266, 108.59486160329536, 107.49294197045957, 103.22393365066519, 155.8087577170458, 61.11971213330853, 113.19658838243254, 449.059689707819, 48.66304252613092, 39.59987556751257, 137.84161675102106, 43.98355312678897, 36.857826058206776, 59.78821936833103, 368.2201806914143, 31.247603467481852, 50.59394993302549, 28.973618032303637, 25.69748693303014, 25.56249784858995, 25.28697169048021, 25.256673318133583, 24.046593826706165, 28.867195623543452, 22.272965343994212, 21.864425644880683, 59.50531062845689, 44.91417697424042, 21.110476010662914, 25.408014275409936, 963.0566299827813, 51.651446125187995, 75.64901621326185, 38.90569581623926, 155.44473844791727, 226.84911979000526, 214.37099919834068, 100.10482335956058, 138.2644293814977, 53.026664482622955, 122.17556292518218, 124.73577910659924, 88.54747738926643, 96.85773507905324, 298.8151020942934, 193.9084207957047, 227.58739013885005, 315.81909483191873, 167.63641563928536, 370.52453009892133, 166.62705395797974, 536.5909521429918, 792.2605673902257, 2474.9995237213834, 417.5235789931621, 220.20230579483183, 1811.688439636125, 1811.915396188615, 379.9652047298324, 524.1580691351191, 1188.7936739336167, 2580.0051792716586, 582.8485191340534, 1764.5932444124487, 1062.5646389514911, 644.5793013577752, 733.211516748725, 3570.0260912597523, 77.32742033018432, 250.7376597808579, 25.399479632811556, 69.16395649839534, 49.33337188990974, 37.318239475357586, 30.961533101780187, 45.08186102104018, 417.9462855739511, 14.027847138490944, 86.1933594216295, 36.38514677669082, 14.91206039428394, 11.656073292808138, 56.301608178287225, 30.506312047044588, 21.478113329224747, 167.5060095514911, 123.18827054170585, 9.327991293906035, 9.146794512980549, 130.00002196531344, 19.16931563546175, 88.03511592218749, 8.839094729085978, 102.38383792732279, 10.808160234300571, 7.992215625614311, 9.974761508468694, 7.905379754602021, 47.85808469965858, 157.56810394079017, 227.38969880749758, 836.148326602339, 258.44494117428644, 82.8073202484057, 40.93984336946123, 1054.214670473654, 1027.3890085425726, 84.06009805717062, 122.3886811317625, 630.2351870352419, 3656.500459761347, 212.8993054133992, 552.2550991847581, 529.6956693406513, 287.6216614459059, 321.00104384121005, 279.6796234618398, 806.5276732057916, 256.9141998163333, 255.62329595645872, 3570.0260912597523, 312.09431389555044, 2296.6004667233515, 231.27803081425967, 179.54431224227795, 166.1325188143207, 1062.5646389514911, 2580.0051792716586, 700.1705022784208, 558.1281450196559, 538.2513350398252, 800.8226638907279, 500.8277763851768, 182.72537678025765, 703.9019631561075, 94.27148882793362, 62.125767213507885, 74.82564753208258, 34.22220810945233, 48.00249590202251, 478.68334371972776, 42.40040810065269, 64.84697875154659, 20.475034251474032, 253.48494804632182, 18.013074921914516, 32.353122660591325, 31.416263275829106, 17.855214116801815, 26.35563662432303, 15.616029423767294, 14.729083176597241, 37.11271435890336, 119.25769801495206, 13.664128057867613, 11.996349669082619, 34.479633530490176, 115.41116484869355, 330.57443685691044, 11.097427258274728, 11.772353249090054, 10.21419879071857, 18.063981596115994, 159.38984731574195, 44.85740215010466, 57.796003638210436, 76.77328123748542, 53.39135169209944, 60.41580393340449, 186.95750894399197, 223.70566982069712, 108.3671657713568, 238.73474698939486, 120.09303918545216, 797.1016861446859, 485.76168216522495, 521.5190860086615, 77.51547357662619, 1228.5866621110504, 111.52955001332168, 184.78142938005513, 2474.9995237213834, 1764.5932444124487, 1811.915396188615, 1811.688439636125, 1124.242467008084, 2580.0051792716586, 913.7845963869274, 3570.0260912597523, 733.211516748725, 249.71992905223962, 1188.7936739336167, 792.2605673902257, 1062.5646389514911, 588.573150285235, 36.53184445301797, 15.739648150108803, 20.29150672946462, 43.946166390416515, 13.835695936978414, 12.849731684104297, 16.73907336769142, 27.41516773539783, 54.49447301580204, 8.58200109246408, 8.41922066750383, 115.321814083291, 8.083893813786501, 7.9624245411618775, 13.865261950595748, 12.403554364877296, 62.01272945837947, 7.45094870328913, 20.394442568906097, 7.24956769457081, 7.216707198521838, 7.04844965112775, 125.6836172517986, 7.10099075579685, 6.333497643785339, 6.293507879998048, 25.48931298658745, 22.417747944747244, 6.245402200295096, 9.189121046285278, 96.08454181061448, 19.35461640255915, 21.66230416416807, 65.47860193323923, 37.01612401676089, 1094.872497276959, 34.464479665345834, 333.20708581314864, 37.325520504395676, 65.0388831800928, 61.802090098707296, 1232.4946816804636, 271.9702739392461, 91.49891664792497, 70.92426615312294, 223.76154536182676, 132.28594676816385, 82.58845917339087, 390.5935583867515, 85.87394718351031, 37.93473168688228, 411.7505565013854, 592.3597220568297, 1228.5866621110504, 183.61990832487768, 452.61421764916605, 202.83601576481118, 1811.688439636125, 1811.915396188615, 1764.5932444124487, 2580.0051792716586, 797.1016861446859, 283.63663349586716, 2474.9995237213834, 582.8485191340534, 485.76168216522495, 334.90855276247925, 1124.242467008084, 3570.0260912597523, 388.56988175939955, 434.0623828147529, 521.5190860086615, 792.2605673902257, 1044.9754901251695, 1188.7936739336167, 113.57179811048269, 459.99064385213643, 56.712918688430854, 48.30987561645393, 116.80001642707413, 35.925254309203105, 48.5848069601709, 129.44685599409362, 99.80121586797539, 72.83512511676756, 42.87149915663295, 144.52242073505036, 39.975547524944815, 138.77591359700247, 304.80420194983066, 20.72728509044755, 24.75810467386221, 26.983825967785677, 14.548684596776805, 14.41841620007153, 13.032757395290691, 13.022210345051866, 12.547643291169598, 12.37483716395638, 15.953606219949963, 986.582059681577, 16.755626765559658, 8.714845013831848, 8.6754189092508, 11.212089920528626, 17.801539554410898, 19.133776598639518, 173.99769729549507, 185.595251480181, 133.40750679154812, 250.69532623320598, 387.8081129657825, 37.94855472553816, 235.58036886545548, 66.95160742548507, 428.9356417860444, 116.06722002917597, 51.74511233456492, 82.95885222322768, 644.5793013577752, 80.44579167858407, 417.5235789931621, 269.58627772429384, 274.80450218387597, 528.7816511246209, 2474.9995237213834, 1811.688439636125, 1811.915396188615, 227.75686549907132, 586.0235009105555, 582.8485191340534, 1062.5646389514911, 2580.0051792716586, 3570.0260912597523, 536.5909521429918, 1188.7936739336167, 76.58961891995567, 63.29984841805165, 43.56060634263825, 36.27419352195408, 34.11936734539657, 33.55012853636863, 33.28075228278311, 32.46243134195445, 28.140975015284937, 27.6532666685654, 27.639479122317592, 24.66960339781166, 23.794726111021795, 22.270671019070722, 58.0007709291655, 21.103725826273276, 31.122124644016754, 18.81037302070962, 98.10872965063642, 17.785117990764387, 15.855406352876619, 15.761704969125011, 51.93704106437086, 44.731305317356146, 15.413757312660255, 18.819373201622604, 13.78504617019915, 13.25051585852616, 12.778100865595702, 12.337784330528963, 494.59243902472735, 32.44694145130682, 28.43872005757877, 34.66206876100659, 43.89526639002309, 35.90435042700526, 117.06075034016523, 368.83081789526443, 37.44185149184704, 49.22153778973347, 56.85284163021286, 69.26132302427828, 347.4040668474302, 430.7496467407671, 3656.500459761347, 70.22210151551471, 306.68788168141555, 273.2219275426946, 432.8739257903099, 2296.6004667233515, 641.078978104713, 136.11403431991207, 228.33565687608345, 3570.0260912597523, 319.67855438161456, 164.0809606962099, 511.68477144444046, 164.53441944211204, 224.75170843792995, 1188.7936739336167, 630.2351870352419, 1044.9754901251695, 552.2550991847581, 800.8226638907279, 370.52453009892133, 1062.5646389514911, 913.7845963869274, 588.573150285235, 2580.0051792716586, 529.6956693406513, 67.68106537607335, 66.3531071763801, 26.580401161195642, 26.109440609459753, 23.704380440079362, 19.879112834232476, 16.977279358467907, 23.463900701403826, 16.84195417564339, 32.76251046131881, 16.483624391641435, 12.736445891073043, 211.43188728981215, 15.022237723952273, 11.681313259181962, 11.334582026072482, 11.182274934147312, 108.55690853181225, 248.88802041448324, 10.667177112148092, 10.244521544183044, 10.881668267182421, 15.958937967877084, 26.06621600835839, 9.352977698662318, 9.169211924235459, 9.095717283924902, 8.98202527323899, 8.971974445418923, 8.901142579713454, 34.033639626538445, 133.17904183319328, 225.617313613765, 20.081533552352127, 99.82670980602192, 39.31933298715586, 22.85869637717002, 75.75448302442607, 32.101963126772894, 432.8739257903099, 202.91982543876506, 511.68477144444046, 144.42991871179746, 85.98761229296136, 273.2219275426946, 199.9252171443834, 132.1628256705911, 247.09100459661488, 76.6126647783006, 3656.500459761347, 143.0559677004418, 306.68788168141555, 136.11403431991207, 430.7496467407671, 583.1307350482449, 2296.6004667233515, 3570.0260912597523, 144.99371707916453, 370.52453009892133, 203.62369757582292, 800.8226638907279, 738.9356717008637, 322.9128153679495, 596.7522414029427, 1044.9754901251695, 641.078978104713, 347.4040668474302, 552.2550991847581, 630.2351870352419, 806.5276732057916, 2580.0051792716586, 529.6956693406513, 114.0116840179081, 34.889671239369996, 34.844676437251174, 29.110735498479677, 27.10657999134323, 24.659583665084195, 22.045263209881544, 21.566238697065366, 26.248128552635098, 20.965807163391776, 20.27564536740407, 85.84398242398444, 16.881937836086706, 16.510901225384718, 16.096633103736504, 16.010818776960352, 53.93361117796502, 36.370017020835036, 14.52750520207988, 17.943601984300084, 12.962756254244209, 12.72078493534048, 13.518972929487006, 12.265977086393685, 18.261107207423237, 13.56980028927547, 11.730782064685656, 11.636133876417947, 61.25391467371986, 10.747604494016182, 54.764624508828575, 37.102770359380834, 26.62744082624084, 24.042277319119087, 87.04936354413678, 31.632736513742085, 376.2897857902843, 103.17092879888517, 54.20477968592646, 97.26345813060944, 99.1519633047297, 73.47126745569467, 106.99640358436231, 243.79668583557174, 116.08689288713444, 285.71366701082405, 107.23363231058103, 40.08385431623907, 223.79577817995647, 558.1281450196559, 240.20501861226623, 1764.5932444124487, 202.83601576481118, 913.7845963869274, 1124.242467008084, 592.3597220568297, 2580.0051792716586, 3570.0260912597523, 1188.7936739336167, 2474.9995237213834, 733.211516748725, 680.5087582987045, 794.6971041865976, 2296.6004667233515, 588.573150285235, 30.304935515778265, 79.08927341786918, 15.350964724981097, 10.44531617540999, 10.416609255908632, 10.095006952938684, 68.44152167285705, 8.739620334204908, 23.302686019373922, 15.654719482000026, 13.053210373905086, 20.308884037691847, 7.398430598804956, 20.137740515321138, 6.494946671300703, 6.468369472363412, 6.442866929049639, 6.44057957293417, 6.100948566810389, 93.03616269258532, 16.66942918807723, 8.029445353098454, 5.358900311252344, 61.85376460746707, 5.981544038748536, 6.005539165559478, 27.70655776403899, 7.702476446440854, 5.7221547433013065, 26.294978010311166, 172.6617514696796, 397.7670117207148, 102.39348294741748, 19.243498553408156, 160.26977878624655, 25.18782906235255, 434.0623828147529, 23.09141286828507, 199.3971379056444, 26.564596545666518, 1232.4946816804636, 1124.242467008084, 452.61421764916605, 411.7505565013854, 134.0027747670664, 93.84398721637238, 1228.5866621110504, 183.61990832487768, 1764.5932444124487, 390.5935583867515, 592.3597220568297, 1811.688439636125, 1811.915396188615, 1094.872497276959, 2580.0051792716586, 115.58191922304653, 2474.9995237213834, 388.56988175939955, 286.14469125357607, 333.20708581314864, 3570.0260912597523, 223.76154536182676, 271.9702739392461, 1054.214670473654, 800.8226638907279, 794.6971041865976, 797.1016861446859, 528.7816511246209, 64.24644448912149, 45.433587859949576, 30.642363783666735, 27.00796463563044, 24.438279526691357, 17.649516443254146, 17.484904452526916, 15.277933753356251, 13.742396591015003, 12.03129982269007, 11.458723870797371, 10.317378300627569, 11.91115725393164, 23.33819217344396, 8.963028922192303, 20.97091187810603, 51.89619609571455, 26.366909530747392, 24.220627213707527, 146.41179070966888, 8.145106745778017, 6.95222623161358, 28.628260529083647, 9.692817469054596, 11.194430601551321, 6.531064527175977, 9.498932089090541, 6.179048475842669, 6.15587037655516, 6.086558812269322, 9.54507697349461, 16.828196962746926, 8.91328261168676, 26.546024201638833, 17.72903427396578, 84.05490528686944, 20.19096358846219, 40.523875791759764, 45.60808795017242, 24.378632970028196, 118.77518676362386, 94.08692921949475, 81.81325540567404, 40.75072273299026, 24.876086539114993, 41.32583708035386, 376.2897857902843, 237.52180763667306, 139.72619174963407, 150.86758532349802, 107.23363231058103, 68.54010088571358, 349.4263535131649, 285.71366701082405, 180.2314790367786, 56.8120192617611, 558.1281450196559, 128.25912607407423, 227.54798200734626, 109.13914923761304, 215.09444525098627, 2474.9995237213834, 144.13627760445695, 503.05365953104405, 913.7845963869274, 1764.5932444124487, 243.79668583557174, 2580.0051792716586, 733.211516748725, 794.6971041865976, 3570.0260912597523, 485.5577082758635, 1188.7936739336167, 44.977046722795514, 25.208429614609486, 167.66865085164702, 24.4616288653504, 15.317781160748225, 14.800611816743787, 14.797694873260644, 14.533675453243182, 14.39080517183859, 37.06920652713051, 13.667194457734674, 13.83937297374284, 13.071692436775049, 19.001847905663897, 12.337878480687408, 11.620871477460712, 14.611977083030952, 11.524932220385999, 29.079103295270222, 52.97833526507541, 19.058849247422277, 10.35747286208298, 22.140902381859842, 9.483558440797955, 10.738972947730268, 18.267252738467775, 9.040226668274103, 9.032099570026249, 10.235024474516019, 8.534557909161885, 20.72526827130079, 227.54798200734626, 32.17255354120366, 42.108351073775175, 91.35834562066923, 128.25912607407423, 44.97075044555994, 92.46753122378992, 17.084235272648588, 349.4263535131649, 27.840340758068447, 79.56497329447437, 162.33353811574383, 60.60053777909373, 141.7743144797854, 417.5235789931621, 180.2314790367786, 108.97242343855007, 129.70303072965356, 2580.0051792716586, 2474.9995237213834, 1188.7936739336167, 120.34084664400386, 1044.9754901251695, 136.54091767880726, 387.9533864331477, 3570.0260912597523, 963.0566299827813, 536.5909521429918, 400.0899192661886, 601.1197347341061, 913.7845963869274, 1764.5932444124487, 1062.5646389514911, 52.35281850571224, 65.63889794046733, 14.96489819702717, 13.851840517663065, 11.806221995869741, 11.785135757336086, 11.441545375839812, 11.342490502517439, 310.78205636177324, 9.231981320456422, 8.445363120686684, 8.44450769794921, 8.080177599530048, 7.685374730166983, 7.646785069138569, 9.064756192658937, 8.308928491531246, 6.706142267275063, 6.664302071506212, 6.535041187924561, 10.647631755600582, 6.3338058124564345, 219.64230734896225, 13.386623910579571, 5.63838392656243, 14.541935367281713, 5.601944426013792, 16.346003970133303, 6.278587462851791, 5.453466728573485, 6.924178993109299, 69.4049498245375, 12.539782810396988, 113.27896125292965, 23.364140448839866, 106.13581824726003, 62.16454946526333, 105.97572513941778, 26.60680848568775, 237.52180763667306, 157.88052289921987, 174.06047048017336, 79.25510466116141, 588.573150285235, 538.2513350398252, 55.11883369362152, 20.378758835449, 506.4038763062565, 69.12783445603304, 56.00487169415759, 80.3467417976718, 67.54034524142156, 215.09444525098627, 67.85017608079897, 90.52642131772558, 53.477498416892665, 131.59299229878653, 733.211516748725, 430.7496467407671, 521.5190860086615, 2474.9995237213834, 986.582059681577, 247.6528381357402, 1188.7936739336167, 797.1016861446859, 792.2605673902257, 738.9356717008637, 2296.6004667233515, 3570.0260912597523, 183.4721110218295, 150.83002993696024, 93.18112762584332, 131.9956676868344, 25.880036748321324, 21.07182382045528, 131.94203124284812, 16.847375446151748, 15.37226920205382, 11.251336254518268, 10.774027132758311, 13.17801219708737, 10.155240228924814, 9.939199796683289, 9.655539077733064, 11.732055308305064, 9.500517855011774, 9.452164379930116, 15.933821710409937, 9.203485272012106, 9.19622726642323, 8.951514436597316, 8.69175605874533, 8.684922454737684, 8.649135343858791, 8.539317749264168, 8.257527377745078, 8.256015415967454, 9.713068181114247, 8.03344317681097, 45.77476685017656, 205.83369672246133, 198.1592111522425, 34.822089634323575, 68.47364012065295, 13.429874500057362, 13.221162797383627, 23.092379388894102, 30.268749358474548, 33.544084058575265, 644.5793013577752, 76.80664744772862, 233.42018282932915, 16.28869906792506, 138.97438461609153, 26.924977718075205, 20.938070513468443, 57.48665129041192, 277.38801471600766, 1044.9754901251695, 1811.915396188615, 1811.688439636125, 738.9356717008637, 558.1281450196559, 2580.0051792716586, 389.94838922951294, 2474.9995237213834, 1764.5932444124487, 3570.0260912597523, 406.4953192171384, 794.6971041865976, 1188.7936739336167, 179.65509322611274, 1027.3890085425726, 733.211516748725, 2296.6004667233515, 262.3304549760691, 79.81286311824773, 43.322341316251865, 36.20190435377355, 44.30636543490043, 22.685765152879355, 24.727803057249524, 21.99270959172712, 31.215288905829542, 14.045693117647055, 13.790398824186148, 13.27353660506112, 13.046045573959706, 48.92651669508189, 12.361013187665208, 20.071531755350893, 14.443235818434706, 12.147048377416034, 37.982866956223994, 9.32960935182674, 8.692180677406311, 8.594289198321393, 9.552511349129478, 33.41467442203059, 9.329317442425303, 7.8265907135809565, 10.937676846379915, 7.707900821259383, 8.945106570275769, 7.535466942483982, 46.70282792255329, 60.0397140090356, 27.728027110370952, 16.380544211581235, 16.430475935735394, 22.504009975028296, 16.73368247389225, 146.48192848704107, 16.628403179497507, 91.33721166530118, 379.9652047298324, 129.70303072965356, 250.69532623320598, 1124.242467008084, 387.8081129657825, 136.07570240128476, 400.0899192661886, 2474.9995237213834, 117.77525528919108, 173.99769729549507, 794.6971041865976, 395.327600886945, 3570.0260912597523, 2580.0051792716586, 1188.7936739336167, 1764.5932444124487, 913.7845963869274, 406.0384304232479, 190.77282443727503, 55.129311682563305, 28.86016815189624, 27.774376910790554, 25.77325106903334, 25.755793389810485, 25.057316235909838, 23.84625414972855, 21.617634388426875, 19.141651743581864, 15.06139922377936, 15.434372736186655, 13.875315903905523, 13.675331753728498, 12.431397949095382, 12.295615809790672, 12.248871937999576, 15.038851500754514, 20.7169227638412, 11.384073724913417, 12.67497809169713, 10.810650033092275, 10.583462140081455, 10.373958177532044, 10.317536417611544, 31.926487558316136, 41.345804711731446, 13.8833803092005, 10.269323041688638, 28.664915278087847, 19.082434923622156, 48.920044298928346, 112.1408323140083, 41.66888667549608, 21.58052669354568, 121.0622880723757, 46.283930717148145, 62.561843051184375, 118.44274650087958, 59.74165681119057, 106.6370369777732, 83.89640475921401, 21.199627847966553, 36.801764173957594, 89.48581298611815, 33.13402675223974, 68.39986764118878, 189.85835188537115, 37.02231077371319, 84.93471142986182, 58.6678453729227, 321.00104384121005, 2296.6004667233515, 3570.0260912597523, 2580.0051792716586, 247.09100459661488, 3656.500459761347, 583.1307350482449, 387.9533864331477, 231.27803081425967, 1188.7936739336167, 1044.9754901251695, 54.23325797566807, 34.63998402575939, 22.089931098662348, 19.56979628680742, 105.20375216846922, 16.336137265204382, 41.737641148917376, 16.010899429314943, 15.6838522688398, 15.588171127284564, 13.434641807840064, 46.800075488393645, 11.102186976697306, 15.95053693533497, 10.172224079391802, 10.01578297906469, 9.172224031992963, 9.141124314689007, 9.34034734920387, 60.61553740428891, 8.3836282745449, 8.333537511846432, 8.242417610355151, 8.2176620716654, 13.828698041876454, 7.908866196260803, 7.906889530333592, 7.832282484575334, 16.37158009525469, 7.32444834064107, 20.643647972412122, 57.02732587056305, 26.192967740263867, 19.27141140548826, 18.554401118539406, 14.760100217480083, 18.48580414790153, 84.93471142986182, 189.85835188537115, 41.70004564765254, 47.970061033591364, 59.51444737117161, 195.11046435713305, 24.51343363011682, 319.67855438161456, 2296.6004667233515, 53.59611556910145, 298.8344834396453, 680.5087582987045, 74.38323404497021, 3570.0260912597523, 180.5311207431169, 2474.9995237213834, 126.6113369998916, 583.1307350482449, 528.7816511246209, 2580.0051792716586, 89.27216599596134, 601.1197347341061, 396.1406395158299, 194.69730830606795, 1188.7936739336167, 1044.9754901251695, 700.1705022784208, 484.5820085941229, 738.9356717008637, 1764.5932444124487, 47.489740536054036, 41.52540232360383, 29.759471026386628, 27.276547320984363, 23.63244262120895, 128.5792150048629, 22.701614033521256, 36.11055351243451, 15.603383089880348, 15.147145086098991, 14.907950294402628, 16.302543376127478, 95.5416200929488, 13.77334172733185, 13.426194941515845, 13.056501469723454, 12.899794397022422, 11.390573949816192, 10.72126301918723, 10.418918156050504, 10.083895887296402, 9.715379466556364, 9.424251705334186, 9.325992609568251, 9.180113543386595, 9.122097804201953, 8.96698604704727, 8.151543034487704, 8.502639317046908, 7.644063126235475, 27.54060670616736, 43.21267038536459, 14.761908190867866, 15.439110267221688, 16.618000066741896, 39.5030156794845, 57.97755588265466, 22.19976661677576, 114.33544542629916, 22.666632671128582, 17.25355264750715, 204.66481038602421, 237.63381454219265, 50.42229933074606, 120.09303918545216, 34.30671275278032, 2474.9995237213834, 123.46285985252705, 680.5087582987045, 43.66295449625679, 120.34084664400386, 131.3506081646121, 506.4038763062565, 212.32695307057386, 733.211516748725, 186.95750894399197, 3570.0260912597523, 1228.5866621110504, 120.79030265112286, 792.2605673902257, 2580.0051792716586, 1764.5932444124487, 596.7522414029427, 1044.9754901251695, 92.92493977082566, 35.18313328107281, 42.04698027060848, 26.412961864222044, 23.57395838067829, 18.44223362681695, 18.3594025715048, 16.971054642980068, 26.805358803538603, 15.722926763423, 14.797084541201945, 14.379370313490409, 48.95903271597803, 12.804395994230253, 12.241232324249838, 11.969485516016443, 11.870685410066152, 12.814608197104057, 10.86582430578801, 10.84961676273498, 10.811561333260963, 10.470108424515264, 10.34768813934302, 9.960435906589254, 9.979162913847919, 9.602679612016038, 9.494659354560612, 15.200595095147348, 8.950891125079186, 8.827373929091324, 14.71391640118979, 13.849804487075009, 28.536846101239576, 30.71425024228567, 19.41222356436572, 16.22659561601068, 109.5577843531039, 52.27248060287404, 18.068623565418193, 53.60593209329887, 91.56474299773754, 39.30697966739846, 60.294700262945696, 46.50701013279288, 37.279314278290066, 53.59611556910145, 85.60374698035173, 85.75660607440403, 125.2104859628239, 23.452015566297092, 65.5465176516411, 40.92030549386993, 32.62169450058969, 2474.9995237213834, 3570.0260912597523, 1044.9754901251695, 2296.6004667233515, 1764.5932444124487, 1124.242467008084, 2580.0051792716586, 738.9356717008637, 700.1705022784208, 104.73998054114313, 48.923077455908185, 47.82814463253427, 37.14307350193449, 35.13019321612991, 34.40987898187924, 31.996924687608054, 31.577200582401506, 29.326422796575553, 37.1398581968798, 23.617663398397763, 22.54925180136074, 20.67635024333121, 20.17878572093634, 35.336267237873145, 15.500197362247272, 15.489354538568033, 30.66125673127802, 13.863129878033941, 12.62582482212666, 11.334797311827336, 40.983499741690665, 17.471041489449348, 10.716259539060497, 10.586041676380093, 10.144024503122576, 9.888605048793202, 51.1771494694198, 13.813630307672343, 13.343389874249581, 80.95970046110196, 49.65115707530356, 22.205761541915415, 234.75328356080612, 22.36007430734246, 21.478388556081395, 19.290430932323304, 52.72960940355426, 30.879558905680078, 123.56300187433311, 36.10258086290459, 104.33371132637286, 406.4953192171384, 55.62665569037459, 3570.0260912597523, 2296.6004667233515, 247.18670489915903, 306.68788168141555, 3656.500459761347, 1044.9754901251695, 74.77555209281263, 28.99767584918879, 24.191851105714264, 26.9099075469969, 35.898134557323075, 15.296417452087592, 14.38395510427829, 67.24776535990254, 13.562631639608982, 20.486982077083457, 12.508336058453628, 12.347958680432765, 25.52547016269934, 22.343853193386373, 10.572435226788564, 12.609902491862126, 13.8124214287683, 15.165296232575631, 9.493211510749376, 9.252509941203868, 8.744126176759789, 8.660233472120392, 14.022292850392684, 42.32634808046639, 14.160528508788842, 8.343093550922521, 8.539507081737131, 7.756299669709715, 9.37154431050428, 7.566243832918137, 60.07423365935578, 68.10736200504446, 148.84612546779368, 284.5982180362116, 10.43880382592137, 30.430966191398625, 25.678066641873635, 16.848265661104247, 31.749000707945584, 58.65560607900575, 114.5584989644324, 31.60463681237033, 39.83943264731048, 27.571329285286293, 37.373749217770026, 32.43952215165861, 58.15204945285983, 38.396455544462796, 73.10876851463459, 49.706193697641744, 201.74908124983222, 41.04431652861979, 2296.6004667233515, 3570.0260912597523, 91.5318480107256, 151.0453672917803, 2474.9995237213834, 2580.0051792716586, 3656.500459761347, 583.1307350482449, 155.71956740548114], \"Category\": [\"Default\", \"Default\", \"Default\", \"Default\", \"Default\", \"Default\", \"Default\", \"Default\", \"Default\", \"Default\", \"Default\", \"Default\", \"Default\", \"Default\", \"Default\", \"Default\", \"Default\", \"Default\", \"Default\", \"Default\", \"Default\", \"Default\", \"Default\", \"Default\", \"Default\", \"Default\", \"Default\", \"Default\", \"Default\", \"Default\", \"Topic1\", \"Topic1\", \"Topic1\", \"Topic1\", \"Topic1\", \"Topic1\", \"Topic1\", \"Topic1\", \"Topic1\", \"Topic1\", \"Topic1\", \"Topic1\", \"Topic1\", \"Topic1\", \"Topic1\", \"Topic1\", \"Topic1\", \"Topic1\", \"Topic1\", \"Topic1\", \"Topic1\", \"Topic1\", \"Topic1\", \"Topic1\", \"Topic1\", \"Topic1\", \"Topic1\", \"Topic1\", \"Topic1\", \"Topic1\", \"Topic1\", \"Topic1\", \"Topic1\", \"Topic1\", \"Topic1\", \"Topic1\", \"Topic1\", \"Topic1\", \"Topic1\", \"Topic1\", \"Topic1\", \"Topic1\", \"Topic1\", \"Topic1\", \"Topic1\", \"Topic1\", \"Topic1\", \"Topic1\", \"Topic1\", \"Topic1\", \"Topic1\", \"Topic1\", \"Topic1\", \"Topic1\", \"Topic1\", \"Topic1\", \"Topic1\", \"Topic1\", \"Topic1\", \"Topic1\", \"Topic1\", \"Topic1\", \"Topic1\", \"Topic1\", \"Topic1\", \"Topic1\", \"Topic1\", \"Topic1\", \"Topic2\", \"Topic2\", \"Topic2\", \"Topic2\", \"Topic2\", \"Topic2\", \"Topic2\", \"Topic2\", \"Topic2\", \"Topic2\", \"Topic2\", \"Topic2\", \"Topic2\", \"Topic2\", \"Topic2\", \"Topic2\", \"Topic2\", \"Topic2\", \"Topic2\", \"Topic2\", \"Topic2\", \"Topic2\", \"Topic2\", \"Topic2\", \"Topic2\", \"Topic2\", \"Topic2\", \"Topic2\", \"Topic2\", \"Topic2\", \"Topic2\", \"Topic2\", \"Topic2\", \"Topic2\", \"Topic2\", \"Topic2\", \"Topic2\", \"Topic2\", \"Topic2\", \"Topic2\", \"Topic2\", \"Topic2\", \"Topic2\", \"Topic2\", \"Topic2\", \"Topic2\", \"Topic2\", \"Topic2\", \"Topic2\", \"Topic2\", \"Topic2\", \"Topic2\", \"Topic2\", \"Topic2\", \"Topic2\", \"Topic2\", \"Topic2\", \"Topic2\", \"Topic2\", \"Topic2\", \"Topic2\", \"Topic2\", \"Topic2\", \"Topic2\", \"Topic3\", \"Topic3\", \"Topic3\", \"Topic3\", \"Topic3\", \"Topic3\", \"Topic3\", \"Topic3\", \"Topic3\", \"Topic3\", \"Topic3\", \"Topic3\", \"Topic3\", \"Topic3\", \"Topic3\", \"Topic3\", \"Topic3\", \"Topic3\", \"Topic3\", \"Topic3\", \"Topic3\", \"Topic3\", \"Topic3\", \"Topic3\", \"Topic3\", \"Topic3\", \"Topic3\", \"Topic3\", \"Topic3\", \"Topic3\", \"Topic3\", \"Topic3\", \"Topic3\", \"Topic3\", \"Topic3\", \"Topic3\", \"Topic3\", \"Topic3\", \"Topic3\", \"Topic3\", \"Topic3\", \"Topic3\", \"Topic3\", \"Topic3\", \"Topic3\", \"Topic3\", \"Topic3\", \"Topic3\", \"Topic3\", \"Topic3\", \"Topic3\", \"Topic3\", \"Topic3\", \"Topic3\", \"Topic3\", \"Topic3\", \"Topic3\", \"Topic3\", \"Topic3\", \"Topic3\", \"Topic3\", \"Topic3\", \"Topic3\", \"Topic4\", \"Topic4\", \"Topic4\", \"Topic4\", \"Topic4\", \"Topic4\", \"Topic4\", \"Topic4\", \"Topic4\", \"Topic4\", \"Topic4\", \"Topic4\", \"Topic4\", \"Topic4\", \"Topic4\", \"Topic4\", \"Topic4\", \"Topic4\", \"Topic4\", \"Topic4\", \"Topic4\", \"Topic4\", \"Topic4\", \"Topic4\", \"Topic4\", \"Topic4\", \"Topic4\", \"Topic4\", \"Topic4\", \"Topic4\", \"Topic4\", \"Topic4\", \"Topic4\", \"Topic4\", \"Topic4\", \"Topic4\", \"Topic4\", \"Topic4\", \"Topic4\", \"Topic4\", \"Topic4\", \"Topic4\", \"Topic4\", \"Topic4\", \"Topic4\", \"Topic4\", \"Topic4\", \"Topic4\", \"Topic4\", \"Topic4\", \"Topic4\", \"Topic4\", \"Topic4\", \"Topic4\", \"Topic4\", \"Topic4\", \"Topic4\", \"Topic4\", \"Topic4\", \"Topic4\", \"Topic4\", \"Topic4\", \"Topic4\", \"Topic4\", \"Topic4\", \"Topic4\", \"Topic4\", \"Topic4\", \"Topic4\", \"Topic4\", \"Topic4\", \"Topic4\", \"Topic4\", \"Topic4\", \"Topic4\", \"Topic5\", \"Topic5\", \"Topic5\", \"Topic5\", \"Topic5\", \"Topic5\", \"Topic5\", \"Topic5\", \"Topic5\", \"Topic5\", \"Topic5\", \"Topic5\", \"Topic5\", \"Topic5\", \"Topic5\", \"Topic5\", \"Topic5\", \"Topic5\", \"Topic5\", \"Topic5\", \"Topic5\", \"Topic5\", \"Topic5\", \"Topic5\", \"Topic5\", \"Topic5\", \"Topic5\", \"Topic5\", \"Topic5\", \"Topic5\", \"Topic5\", \"Topic5\", \"Topic5\", \"Topic5\", \"Topic5\", \"Topic5\", \"Topic5\", \"Topic5\", \"Topic5\", \"Topic5\", \"Topic5\", \"Topic5\", \"Topic5\", \"Topic5\", \"Topic5\", \"Topic5\", \"Topic5\", \"Topic5\", \"Topic5\", \"Topic5\", \"Topic5\", \"Topic5\", \"Topic5\", \"Topic5\", \"Topic5\", \"Topic5\", \"Topic5\", \"Topic5\", \"Topic5\", \"Topic5\", \"Topic5\", \"Topic6\", \"Topic6\", \"Topic6\", \"Topic6\", \"Topic6\", \"Topic6\", \"Topic6\", \"Topic6\", \"Topic6\", \"Topic6\", \"Topic6\", \"Topic6\", \"Topic6\", \"Topic6\", \"Topic6\", \"Topic6\", \"Topic6\", \"Topic6\", \"Topic6\", \"Topic6\", \"Topic6\", \"Topic6\", \"Topic6\", \"Topic6\", \"Topic6\", \"Topic6\", \"Topic6\", \"Topic6\", \"Topic6\", \"Topic6\", \"Topic6\", \"Topic6\", \"Topic6\", \"Topic6\", \"Topic6\", \"Topic6\", \"Topic6\", \"Topic6\", \"Topic6\", \"Topic6\", \"Topic6\", \"Topic6\", \"Topic6\", \"Topic6\", \"Topic6\", \"Topic6\", \"Topic6\", \"Topic6\", \"Topic6\", \"Topic6\", \"Topic6\", \"Topic6\", \"Topic6\", \"Topic6\", \"Topic6\", \"Topic6\", \"Topic6\", \"Topic6\", \"Topic6\", \"Topic6\", \"Topic6\", \"Topic6\", \"Topic6\", \"Topic6\", \"Topic6\", \"Topic6\", \"Topic6\", \"Topic6\", \"Topic6\", \"Topic6\", \"Topic7\", \"Topic7\", \"Topic7\", \"Topic7\", \"Topic7\", \"Topic7\", \"Topic7\", \"Topic7\", \"Topic7\", \"Topic7\", \"Topic7\", \"Topic7\", \"Topic7\", \"Topic7\", \"Topic7\", \"Topic7\", \"Topic7\", \"Topic7\", \"Topic7\", \"Topic7\", \"Topic7\", \"Topic7\", \"Topic7\", \"Topic7\", \"Topic7\", \"Topic7\", \"Topic7\", \"Topic7\", \"Topic7\", \"Topic7\", \"Topic7\", \"Topic7\", \"Topic7\", \"Topic7\", \"Topic7\", \"Topic7\", \"Topic7\", \"Topic7\", \"Topic7\", \"Topic7\", \"Topic7\", \"Topic7\", \"Topic7\", \"Topic7\", \"Topic7\", \"Topic7\", \"Topic7\", \"Topic7\", \"Topic7\", \"Topic7\", \"Topic7\", \"Topic7\", \"Topic7\", \"Topic7\", \"Topic7\", \"Topic7\", \"Topic7\", \"Topic7\", \"Topic7\", \"Topic7\", \"Topic7\", \"Topic7\", \"Topic7\", \"Topic7\", \"Topic7\", \"Topic7\", \"Topic7\", \"Topic7\", \"Topic7\", \"Topic7\", \"Topic7\", \"Topic7\", \"Topic8\", \"Topic8\", \"Topic8\", \"Topic8\", \"Topic8\", \"Topic8\", \"Topic8\", \"Topic8\", \"Topic8\", \"Topic8\", \"Topic8\", \"Topic8\", \"Topic8\", \"Topic8\", \"Topic8\", \"Topic8\", \"Topic8\", \"Topic8\", \"Topic8\", \"Topic8\", \"Topic8\", \"Topic8\", \"Topic8\", \"Topic8\", \"Topic8\", \"Topic8\", \"Topic8\", \"Topic8\", \"Topic8\", \"Topic8\", \"Topic8\", \"Topic8\", \"Topic8\", \"Topic8\", \"Topic8\", \"Topic8\", \"Topic8\", \"Topic8\", \"Topic8\", \"Topic8\", \"Topic8\", \"Topic8\", \"Topic8\", \"Topic8\", \"Topic8\", \"Topic8\", \"Topic8\", \"Topic8\", \"Topic8\", \"Topic8\", \"Topic8\", \"Topic8\", \"Topic8\", \"Topic8\", \"Topic8\", \"Topic8\", \"Topic8\", \"Topic8\", \"Topic8\", \"Topic8\", \"Topic8\", \"Topic8\", \"Topic8\", \"Topic8\", \"Topic8\", \"Topic9\", \"Topic9\", \"Topic9\", \"Topic9\", \"Topic9\", \"Topic9\", \"Topic9\", \"Topic9\", \"Topic9\", \"Topic9\", \"Topic9\", \"Topic9\", \"Topic9\", \"Topic9\", \"Topic9\", \"Topic9\", \"Topic9\", \"Topic9\", \"Topic9\", \"Topic9\", \"Topic9\", \"Topic9\", \"Topic9\", \"Topic9\", \"Topic9\", \"Topic9\", \"Topic9\", \"Topic9\", \"Topic9\", \"Topic9\", \"Topic9\", \"Topic9\", \"Topic9\", \"Topic9\", \"Topic9\", \"Topic9\", \"Topic9\", \"Topic9\", \"Topic9\", \"Topic9\", \"Topic9\", \"Topic9\", \"Topic9\", \"Topic9\", \"Topic9\", \"Topic9\", \"Topic9\", \"Topic9\", \"Topic9\", \"Topic9\", \"Topic9\", \"Topic9\", \"Topic9\", \"Topic9\", \"Topic9\", \"Topic9\", \"Topic9\", \"Topic9\", \"Topic9\", \"Topic9\", \"Topic9\", \"Topic9\", \"Topic9\", \"Topic9\", \"Topic9\", \"Topic9\", \"Topic9\", \"Topic9\", \"Topic10\", \"Topic10\", \"Topic10\", \"Topic10\", \"Topic10\", \"Topic10\", \"Topic10\", \"Topic10\", \"Topic10\", \"Topic10\", \"Topic10\", \"Topic10\", \"Topic10\", \"Topic10\", \"Topic10\", \"Topic10\", \"Topic10\", \"Topic10\", \"Topic10\", \"Topic10\", \"Topic10\", \"Topic10\", \"Topic10\", \"Topic10\", \"Topic10\", \"Topic10\", \"Topic10\", \"Topic10\", \"Topic10\", \"Topic10\", \"Topic10\", \"Topic10\", \"Topic10\", \"Topic10\", \"Topic10\", \"Topic10\", \"Topic10\", \"Topic10\", \"Topic10\", \"Topic10\", \"Topic10\", \"Topic10\", \"Topic10\", \"Topic10\", \"Topic10\", \"Topic10\", \"Topic10\", \"Topic10\", \"Topic10\", \"Topic10\", \"Topic10\", \"Topic10\", \"Topic10\", \"Topic10\", \"Topic10\", \"Topic10\", \"Topic10\", \"Topic10\", \"Topic10\", \"Topic10\", \"Topic10\", \"Topic10\", \"Topic10\", \"Topic10\", \"Topic10\", \"Topic10\", \"Topic10\", \"Topic10\", \"Topic10\", \"Topic10\", \"Topic10\", \"Topic10\", \"Topic10\", \"Topic11\", \"Topic11\", \"Topic11\", \"Topic11\", \"Topic11\", \"Topic11\", \"Topic11\", \"Topic11\", \"Topic11\", \"Topic11\", \"Topic11\", \"Topic11\", \"Topic11\", \"Topic11\", \"Topic11\", \"Topic11\", \"Topic11\", \"Topic11\", \"Topic11\", \"Topic11\", \"Topic11\", \"Topic11\", \"Topic11\", \"Topic11\", \"Topic11\", \"Topic11\", \"Topic11\", \"Topic11\", \"Topic11\", \"Topic11\", \"Topic11\", \"Topic11\", \"Topic11\", \"Topic11\", \"Topic11\", \"Topic11\", \"Topic11\", \"Topic11\", \"Topic11\", \"Topic11\", \"Topic11\", \"Topic11\", \"Topic11\", \"Topic11\", \"Topic11\", \"Topic11\", \"Topic11\", \"Topic11\", \"Topic11\", \"Topic11\", \"Topic11\", \"Topic11\", \"Topic11\", \"Topic11\", \"Topic11\", \"Topic11\", \"Topic11\", \"Topic11\", \"Topic11\", \"Topic11\", \"Topic11\", \"Topic11\", \"Topic11\", \"Topic11\", \"Topic12\", \"Topic12\", \"Topic12\", \"Topic12\", \"Topic12\", \"Topic12\", \"Topic12\", \"Topic12\", \"Topic12\", \"Topic12\", \"Topic12\", \"Topic12\", \"Topic12\", \"Topic12\", \"Topic12\", \"Topic12\", \"Topic12\", \"Topic12\", \"Topic12\", \"Topic12\", \"Topic12\", \"Topic12\", \"Topic12\", \"Topic12\", \"Topic12\", \"Topic12\", \"Topic12\", \"Topic12\", \"Topic12\", \"Topic12\", \"Topic12\", \"Topic12\", \"Topic12\", \"Topic12\", \"Topic12\", \"Topic12\", \"Topic12\", \"Topic12\", \"Topic12\", \"Topic12\", \"Topic12\", \"Topic12\", \"Topic12\", \"Topic12\", \"Topic12\", \"Topic12\", \"Topic12\", \"Topic12\", \"Topic12\", \"Topic12\", \"Topic12\", \"Topic12\", \"Topic12\", \"Topic12\", \"Topic12\", \"Topic12\", \"Topic12\", \"Topic12\", \"Topic12\", \"Topic12\", \"Topic12\", \"Topic12\", \"Topic12\", \"Topic12\", \"Topic12\", \"Topic12\", \"Topic12\", \"Topic12\", \"Topic12\", \"Topic13\", \"Topic13\", \"Topic13\", \"Topic13\", \"Topic13\", \"Topic13\", \"Topic13\", \"Topic13\", \"Topic13\", \"Topic13\", \"Topic13\", \"Topic13\", \"Topic13\", \"Topic13\", \"Topic13\", \"Topic13\", \"Topic13\", \"Topic13\", \"Topic13\", \"Topic13\", \"Topic13\", \"Topic13\", \"Topic13\", \"Topic13\", \"Topic13\", \"Topic13\", \"Topic13\", \"Topic13\", \"Topic13\", \"Topic13\", \"Topic13\", \"Topic13\", \"Topic13\", \"Topic13\", \"Topic13\", \"Topic13\", \"Topic13\", \"Topic13\", \"Topic13\", \"Topic13\", \"Topic13\", \"Topic13\", \"Topic13\", \"Topic13\", \"Topic13\", \"Topic13\", \"Topic13\", \"Topic13\", \"Topic13\", \"Topic13\", \"Topic13\", \"Topic13\", \"Topic13\", \"Topic13\", \"Topic13\", \"Topic13\", \"Topic13\", \"Topic13\", \"Topic13\", \"Topic13\", \"Topic13\", \"Topic13\", \"Topic13\", \"Topic13\", \"Topic13\", \"Topic13\", \"Topic14\", \"Topic14\", \"Topic14\", \"Topic14\", \"Topic14\", \"Topic14\", \"Topic14\", \"Topic14\", \"Topic14\", \"Topic14\", \"Topic14\", \"Topic14\", \"Topic14\", \"Topic14\", \"Topic14\", \"Topic14\", \"Topic14\", \"Topic14\", \"Topic14\", \"Topic14\", \"Topic14\", \"Topic14\", \"Topic14\", \"Topic14\", \"Topic14\", \"Topic14\", \"Topic14\", \"Topic14\", \"Topic14\", \"Topic14\", \"Topic14\", \"Topic14\", \"Topic14\", \"Topic14\", \"Topic14\", \"Topic14\", \"Topic14\", \"Topic14\", \"Topic14\", \"Topic14\", \"Topic14\", \"Topic14\", \"Topic14\", \"Topic14\", \"Topic14\", \"Topic14\", \"Topic14\", \"Topic14\", \"Topic14\", \"Topic14\", \"Topic14\", \"Topic14\", \"Topic14\", \"Topic14\", \"Topic14\", \"Topic14\", \"Topic14\", \"Topic14\", \"Topic15\", \"Topic15\", \"Topic15\", \"Topic15\", \"Topic15\", \"Topic15\", \"Topic15\", \"Topic15\", \"Topic15\", \"Topic15\", \"Topic15\", \"Topic15\", \"Topic15\", \"Topic15\", \"Topic15\", \"Topic15\", \"Topic15\", \"Topic15\", \"Topic15\", \"Topic15\", \"Topic15\", \"Topic15\", \"Topic15\", \"Topic15\", \"Topic15\", \"Topic15\", \"Topic15\", \"Topic15\", \"Topic15\", \"Topic15\", \"Topic15\", \"Topic15\", \"Topic15\", \"Topic15\", \"Topic15\", \"Topic15\", \"Topic15\", \"Topic15\", \"Topic15\", \"Topic15\", \"Topic15\", \"Topic15\", \"Topic15\", \"Topic15\", \"Topic15\", \"Topic15\", \"Topic15\", \"Topic15\", \"Topic15\", \"Topic15\", \"Topic15\", \"Topic15\", \"Topic15\", \"Topic15\", \"Topic15\", \"Topic15\", \"Topic15\", \"Topic15\", \"Topic15\", \"Topic15\", \"Topic15\", \"Topic15\", \"Topic16\", \"Topic16\", \"Topic16\", \"Topic16\", \"Topic16\", \"Topic16\", \"Topic16\", \"Topic16\", \"Topic16\", \"Topic16\", \"Topic16\", \"Topic16\", \"Topic16\", \"Topic16\", \"Topic16\", \"Topic16\", \"Topic16\", \"Topic16\", \"Topic16\", \"Topic16\", \"Topic16\", \"Topic16\", \"Topic16\", \"Topic16\", \"Topic16\", \"Topic16\", \"Topic16\", \"Topic16\", \"Topic16\", \"Topic16\", \"Topic16\", \"Topic16\", \"Topic16\", \"Topic16\", \"Topic16\", \"Topic16\", \"Topic16\", \"Topic16\", \"Topic16\", \"Topic16\", \"Topic16\", \"Topic16\", \"Topic16\", \"Topic16\", \"Topic16\", \"Topic16\", \"Topic16\", \"Topic16\", \"Topic16\", \"Topic16\", \"Topic16\", \"Topic16\", \"Topic16\", \"Topic16\", \"Topic16\", \"Topic16\", \"Topic16\", \"Topic16\", \"Topic16\", \"Topic16\", \"Topic16\", \"Topic16\", \"Topic16\", \"Topic16\", \"Topic16\", \"Topic16\", \"Topic16\", \"Topic17\", \"Topic17\", \"Topic17\", \"Topic17\", \"Topic17\", \"Topic17\", \"Topic17\", \"Topic17\", \"Topic17\", \"Topic17\", \"Topic17\", \"Topic17\", \"Topic17\", \"Topic17\", \"Topic17\", \"Topic17\", \"Topic17\", \"Topic17\", \"Topic17\", \"Topic17\", \"Topic17\", \"Topic17\", \"Topic17\", \"Topic17\", \"Topic17\", \"Topic17\", \"Topic17\", \"Topic17\", \"Topic17\", \"Topic17\", \"Topic17\", \"Topic17\", \"Topic17\", \"Topic17\", \"Topic17\", \"Topic17\", \"Topic17\", \"Topic17\", \"Topic17\", \"Topic17\", \"Topic17\", \"Topic17\", \"Topic17\", \"Topic17\", \"Topic17\", \"Topic17\", \"Topic17\", \"Topic17\", \"Topic17\", \"Topic17\", \"Topic17\", \"Topic17\", \"Topic17\", \"Topic17\", \"Topic17\", \"Topic17\", \"Topic17\", \"Topic17\", \"Topic17\", \"Topic17\", \"Topic17\", \"Topic17\", \"Topic17\", \"Topic17\", \"Topic18\", \"Topic18\", \"Topic18\", \"Topic18\", \"Topic18\", \"Topic18\", \"Topic18\", \"Topic18\", \"Topic18\", \"Topic18\", \"Topic18\", \"Topic18\", \"Topic18\", \"Topic18\", \"Topic18\", \"Topic18\", \"Topic18\", \"Topic18\", \"Topic18\", \"Topic18\", \"Topic18\", \"Topic18\", \"Topic18\", \"Topic18\", \"Topic18\", \"Topic18\", \"Topic18\", \"Topic18\", \"Topic18\", \"Topic18\", \"Topic18\", \"Topic18\", \"Topic18\", \"Topic18\", \"Topic18\", \"Topic18\", \"Topic18\", \"Topic18\", \"Topic18\", \"Topic18\", \"Topic18\", \"Topic18\", \"Topic18\", \"Topic18\", \"Topic18\", \"Topic18\", \"Topic18\", \"Topic18\", \"Topic18\", \"Topic18\", \"Topic18\", \"Topic18\", \"Topic18\", \"Topic18\", \"Topic18\", \"Topic18\", \"Topic18\", \"Topic18\", \"Topic18\", \"Topic18\", \"Topic18\", \"Topic18\", \"Topic19\", \"Topic19\", \"Topic19\", \"Topic19\", \"Topic19\", \"Topic19\", \"Topic19\", \"Topic19\", \"Topic19\", \"Topic19\", \"Topic19\", \"Topic19\", \"Topic19\", \"Topic19\", \"Topic19\", \"Topic19\", \"Topic19\", \"Topic19\", \"Topic19\", \"Topic19\", \"Topic19\", \"Topic19\", \"Topic19\", \"Topic19\", \"Topic19\", \"Topic19\", \"Topic19\", \"Topic19\", \"Topic19\", \"Topic19\", \"Topic19\", \"Topic19\", \"Topic19\", \"Topic19\", \"Topic19\", \"Topic19\", \"Topic19\", \"Topic19\", \"Topic19\", \"Topic19\", \"Topic19\", \"Topic19\", \"Topic19\", \"Topic19\", \"Topic19\", \"Topic19\", \"Topic19\", \"Topic19\", \"Topic19\", \"Topic19\", \"Topic20\", \"Topic20\", \"Topic20\", \"Topic20\", \"Topic20\", \"Topic20\", \"Topic20\", \"Topic20\", \"Topic20\", \"Topic20\", \"Topic20\", \"Topic20\", \"Topic20\", \"Topic20\", \"Topic20\", \"Topic20\", \"Topic20\", \"Topic20\", \"Topic20\", \"Topic20\", \"Topic20\", \"Topic20\", \"Topic20\", \"Topic20\", \"Topic20\", \"Topic20\", \"Topic20\", \"Topic20\", \"Topic20\", \"Topic20\", \"Topic20\", \"Topic20\", \"Topic20\", \"Topic20\", \"Topic20\", \"Topic20\", \"Topic20\", \"Topic20\", \"Topic20\", \"Topic20\", \"Topic20\", \"Topic20\", \"Topic20\", \"Topic20\", \"Topic20\", \"Topic20\", \"Topic20\", \"Topic20\", \"Topic20\", \"Topic20\", \"Topic20\", \"Topic20\", \"Topic20\", \"Topic20\", \"Topic20\", \"Topic20\", \"Topic20\", \"Topic20\", \"Topic20\", \"Topic20\", \"Topic20\"], \"logprob\": [30.0, 29.0, 28.0, 27.0, 26.0, 25.0, 24.0, 23.0, 22.0, 21.0, 20.0, 19.0, 18.0, 17.0, 16.0, 15.0, 14.0, 13.0, 12.0, 11.0, 10.0, 9.0, 8.0, 7.0, 6.0, 5.0, 4.0, 3.0, 2.0, 1.0, -4.5324, -5.6043, -5.6146, -5.6555, -5.2444, -6.1867, -5.5708, -4.1971, -6.4205, -6.6303, -5.3834, -6.5271, -6.7041, -6.2212, -4.4053, -6.8746, -6.3953, -6.9529, -7.0777, -7.0832, -7.0945, -7.0958, -7.1471, -6.9653, -7.2274, -7.2468, -6.2464, -6.5286, -7.2837, -7.1002, -3.4906, -6.3919, -6.0211, -6.6785, -5.3294, -4.967, -5.0242, -5.7613, -5.4866, -6.3905, -5.6174, -5.6125, -5.9457, -5.8685, -5.0172, -5.3687, -5.2456, -4.9918, -5.5149, -5.0997, -5.6309, -4.8928, -4.7831, -4.194, -5.1908, -5.5181, -4.6222, -4.6223, -5.3519, -5.2927, -5.119, -4.9915, -5.303, -5.0897, -5.2025, -5.3204, -5.3272, -5.2036, -5.6111, -4.4418, -6.7444, -5.7448, -6.0903, -6.3721, -6.5705, -6.1974, -3.9765, -7.374, -5.5586, -6.4371, -7.3376, -7.5852, -6.0113, -6.6243, -6.979, -4.9257, -5.2393, -7.8242, -7.8463, -5.1933, -7.1077, -5.584, -7.8869, -5.4446, -7.6969, -8.0004, -7.7795, -8.013, -6.2156, -5.0434, -4.6817, -3.4029, -4.5944, -5.7071, -6.3961, -3.2964, -3.38, -5.7238, -5.3802, -3.885, -2.3237, -4.9135, -4.1022, -4.1409, -4.7281, -4.6438, -4.7939, -3.995, -4.9037, -4.9604, -3.3035, -4.9009, -3.7803, -5.0925, -5.2695, -5.3079, -4.6311, -4.4422, -4.8763, -4.9593, -5.0681, -5.1372, -3.5864, -4.5984, -3.2526, -5.2657, -5.6886, -5.5084, -6.2991, -5.9628, -3.6654, -6.1007, -5.6767, -6.8343, -4.3208, -6.9699, -6.3857, -6.4154, -6.9828, -6.5947, -7.1223, -7.1852, -6.2627, -5.0995, -7.2662, -7.4081, -6.3525, -5.1458, -4.0962, -7.4939, -7.4435, -7.5859, -7.0274, -4.9443, -6.1598, -5.928, -5.6996, -6.068, -5.9626, -4.9923, -5.0084, -5.5742, -5.0467, -5.5706, -4.371, -4.7005, -4.7007, -5.871, -4.4704, -5.6976, -5.4476, -4.4046, -4.5834, -4.623, -4.6236, -4.8115, -4.6384, -5.011, -4.6844, -5.104, -5.4557, -5.2749, -5.3915, -5.3825, -5.4246, -6.1852, -7.0563, -6.8033, -6.0386, -7.1952, -7.2755, -7.0177, -6.5459, -5.8749, -7.7248, -7.7467, -5.1348, -7.7933, -7.8108, -7.2599, -7.3728, -5.766, -7.8877, -6.8818, -7.9197, -7.9251, -7.9528, -5.084, -7.965, -8.0799, -8.0875, -6.6899, -6.8186, -8.0967, -7.7204, -5.3879, -6.978, -6.8712, -5.7898, -6.3494, -3.0855, -6.4295, -4.2773, -6.3685, -5.8467, -5.8985, -3.1428, -4.5466, -5.5565, -5.7899, -4.7526, -5.2346, -5.6714, -4.3477, -5.6922, -6.3673, -4.4157, -4.1581, -3.6125, -5.1678, -4.5752, -5.1697, -3.663, -3.663, -3.7261, -3.53, -4.2893, -4.9652, -3.9539, -4.7684, -4.8589, -5.051, -4.5433, -4.1312, -5.0639, -5.0502, -5.0456, -5.0084, -5.0252, -5.1399, -4.9625, -3.5643, -5.6638, -5.8275, -4.9462, -6.1314, -5.8322, -4.8565, -5.1219, -5.4381, -5.9685, -4.7535, -6.0401, -4.7998, -4.0131, -6.7038, -6.5379, -6.4621, -7.0808, -7.0905, -7.2, -7.2008, -7.2413, -7.2564, -7.0141, -2.9009, -6.9847, -7.647, -7.6522, -7.3984, -6.9361, -6.8652, -4.7056, -4.6446, -4.9774, -4.4104, -4.1493, -6.2621, -4.701, -5.801, -4.2489, -5.4131, -6.07, -5.7241, -4.3122, -5.7836, -4.7443, -5.0636, -5.1184, -4.7711, -4.043, -4.311, -4.3111, -5.2975, -5.0019, -5.014, -4.8323, -4.6168, -4.6191, -5.158, -5.1167, -5.3493, -5.5429, -5.9243, -6.1123, -6.1755, -6.1928, -6.2012, -6.2269, -6.3749, -6.3931, -6.3938, -6.5121, -6.5499, -6.6192, -5.6626, -6.6758, -6.2874, -6.7973, -5.1487, -6.8568, -6.9794, -6.9857, -5.7939, -5.9436, -7.0097, -6.8129, -7.1301, -7.173, -7.2125, -7.2508, -3.5745, -6.2954, -6.4399, -6.2631, -6.0705, -6.2832, -5.3281, -4.4837, -6.2803, -6.073, -5.9708, -5.8312, -4.8023, -4.6949, -3.36, -5.863, -4.9879, -5.0847, -4.8608, -3.9775, -4.7372, -5.5953, -5.3531, -4.1084, -5.236, -5.5289, -5.1479, -5.5805, -5.5204, -5.0988, -5.3031, -5.1868, -5.3513, -5.3058, -5.4907, -5.3536, -5.4459, -5.5048, -5.4302, -5.5407, -5.4574, -5.4788, -6.4134, -6.432, -6.5331, -6.7181, -6.8854, -6.5621, -6.894, -6.2327, -6.931, -7.1952, -4.3859, -7.0345, -7.2899, -7.3231, -7.3381, -5.0655, -4.2375, -7.3903, -7.4353, -7.376, -6.9984, -6.5082, -7.5373, -7.5598, -7.5689, -7.5831, -7.5844, -7.5934, -6.2651, -4.9146, -4.4108, -6.7955, -5.2602, -6.159, -6.6806, -5.5591, -6.3685, -4.0134, -4.7032, -4.0191, -5.1152, -5.5819, -4.6117, -4.8735, -5.2736, -4.8009, -5.7258, -2.8204, -5.2656, -4.7471, -5.3414, -4.5938, -4.4431, -3.5832, -3.3062, -5.3582, -4.8423, -5.2068, -4.5087, -4.6825, -5.0604, -4.8832, -4.7161, -4.9219, -5.1058, -5.0096, -4.9903, -5.0071, -4.9219, -5.0817, -4.8473, -6.0528, -6.0541, -6.24, -6.3142, -6.4128, -6.5302, -6.5532, -6.3575, -6.583, -6.6182, -5.1776, -6.8125, -6.8362, -6.8634, -6.8691, -5.6552, -6.0542, -6.9735, -6.7624, -7.097, -7.1175, -7.0585, -7.1573, -6.7594, -7.0587, -7.2062, -7.2151, -5.5619, -7.3028, -5.6779, -6.084, -6.408, -6.509, -5.2976, -6.2585, -4.0084, -5.2456, -5.8221, -5.3899, -5.4479, -5.7087, -5.5238, -5.0221, -5.5271, -4.9489, -5.6739, -6.255, -5.4263, -5.1577, -5.5637, -4.9065, -5.7011, -5.2247, -5.1695, -5.4481, -5.0776, -5.0238, -5.342, -5.2225, -5.5119, -5.5457, -5.6502, -5.6335, -5.6656, -6.1154, -5.1914, -6.8486, -7.2484, -7.2514, -7.2864, -5.3891, -7.4488, -6.4685, -6.8687, -7.0578, -6.6205, -7.6406, -6.6439, -7.7943, -7.7992, -7.8039, -7.8043, -7.8694, -5.1503, -6.87, -7.6057, -8.0285, -5.5841, -7.9317, -7.9337, -6.4087, -7.6902, -7.9879, -6.4655, -4.6121, -3.8937, -5.217, -6.826, -4.8502, -6.5761, -4.0037, -6.6886, -4.8221, -6.5704, -3.2912, -3.3757, -4.1776, -4.2783, -5.2176, -5.5289, -3.5456, -5.0387, -3.2965, -4.4664, -4.1768, -3.3539, -3.354, -3.7405, -3.4601, -5.5107, -3.5575, -4.7524, -4.9871, -4.9348, -3.6549, -5.1759, -5.1338, -4.7586, -4.9997, -5.0769, -5.1576, -5.1685, -4.9671, -5.3205, -5.7258, -5.8568, -5.9612, -6.3039, -6.3139, -6.4581, -6.5723, -6.7171, -6.7763, -6.8868, -6.7489, -6.0815, -7.0448, -6.21, -5.3075, -5.9875, -6.0856, -4.2877, -7.178, -7.338, -5.9256, -7.0134, -6.8709, -7.412, -7.0449, -7.4784, -7.4829, -7.4967, -7.0488, -6.4977, -7.126, -6.0865, -6.4751, -5.0438, -6.3679, -5.742, -5.6383, -6.2019, -4.8808, -5.0896, -5.2456, -5.8209, -6.2269, -5.888, -4.3777, -4.6916, -5.0964, -5.0649, -5.3013, -5.5851, -4.666, -4.8203, -5.1559, -5.7498, -4.8384, -5.4447, -5.3164, -5.5849, -5.4477, -4.8854, -5.556, -5.3349, -5.2507, -5.1408, -5.4944, -5.2397, -5.396, -5.4015, -5.3127, -5.4646, -5.4529, -5.1899, -5.7865, -3.8936, -5.8293, -6.313, -6.35, -6.3502, -6.3695, -6.3802, -5.4367, -6.4359, -6.4254, -6.4843, -6.1108, -6.5472, -6.6128, -6.3843, -6.622, -5.6987, -5.1019, -6.1275, -6.7401, -5.9835, -6.8386, -6.7193, -6.1884, -6.8926, -6.8936, -6.7736, -6.9579, -6.0828, -3.8103, -5.7019, -5.4719, -4.7847, -4.5023, -5.446, -4.9037, -6.3048, -4.0194, -5.9393, -5.1829, -4.7693, -5.536, -5.0648, -4.7059, -5.1791, -5.4712, -5.3997, -4.2261, -4.5644, -4.8567, -5.5717, -4.9468, -5.5757, -5.353, -4.9148, -5.2379, -5.3322, -5.3813, -5.3776, -5.349, -5.3217, -5.4039, -4.9508, -4.7555, -6.2553, -6.3502, -6.5127, -6.5147, -6.5472, -6.5567, -3.2505, -6.7861, -6.8871, -6.8872, -6.9377, -6.9955, -7.0013, -6.8407, -6.9336, -7.155, -7.1624, -7.1857, -6.701, -7.2259, -3.6812, -6.4894, -7.364, -6.418, -7.372, -6.3028, -7.2626, -7.4051, -7.167, -4.9523, -6.6056, -4.5414, -6.0302, -4.6296, -5.1313, -4.6503, -5.9629, -4.1283, -4.4838, -4.4731, -5.1216, -3.5946, -3.6641, -5.545, -6.28, -4.1934, -5.4942, -5.6295, -5.416, -5.5284, -4.9113, -5.5566, -5.4024, -5.705, -5.2389, -4.5434, -4.7875, -4.7829, -4.2829, -4.6323, -5.1447, -4.911, -5.1164, -5.182, -5.2043, -5.2586, -5.33, -3.6185, -3.8156, -4.3016, -3.9584, -5.6126, -5.8303, -3.9974, -6.0647, -6.1627, -6.5019, -6.5498, -6.3496, -6.6155, -6.6395, -6.6719, -6.4789, -6.6901, -6.6958, -6.1761, -6.7258, -6.7267, -6.7572, -6.7906, -6.7915, -6.7977, -6.8107, -6.8491, -6.8493, -6.6897, -6.8806, -5.156, -3.7064, -3.8128, -5.491, -4.8763, -6.3942, -6.4102, -5.9608, -5.7597, -5.7148, -3.4101, -5.1019, -4.3911, -6.3155, -4.902, -6.0057, -6.163, -5.5863, -4.7193, -4.0445, -3.7509, -3.7513, -4.518, -4.8341, -4.2837, -5.0175, -4.5735, -4.7385, -4.7416, -5.2993, -5.2246, -5.1758, -5.4648, -5.3344, -5.3761, -5.3495, -3.1146, -4.3137, -4.9348, -5.1193, -4.9181, -5.6043, -5.5244, -5.6418, -5.3016, -6.1136, -6.1334, -6.1748, -6.1936, -4.8742, -6.2523, -5.7701, -6.1035, -6.2816, -5.1572, -6.5638, -6.6438, -6.6567, -6.5526, -5.3058, -6.5852, -6.7638, -6.4308, -6.7814, -6.6351, -6.8076, -5.0465, -4.8323, -5.5829, -6.0771, -6.1041, -5.8611, -6.1233, -4.4974, -6.1463, -4.9978, -4.3027, -5.0534, -4.7601, -4.2707, -4.9104, -5.3396, -5.024, -4.6325, -5.5241, -5.4219, -5.0133, -5.2234, -4.7696, -4.847, -5.05, -5.2749, -5.3273, -5.3944, -3.416, -4.671, -5.3359, -5.3757, -5.4535, -5.4542, -5.4829, -5.5346, -5.6375, -5.7657, -6.0211, -5.9984, -6.1095, -6.1252, -6.2289, -6.2408, -6.245, -6.0434, -5.7245, -6.3253, -6.2219, -6.3823, -6.4059, -6.4281, -6.4342, -5.3053, -5.0485, -6.151, -6.4525, -5.426, -5.8367, -4.911, -4.1175, -5.0891, -5.7216, -4.0717, -4.9931, -4.7436, -4.2527, -4.8608, -4.4311, -4.7393, -5.7915, -5.3791, -4.7708, -5.4964, -5.0202, -4.433, -5.4624, -5.0735, -5.2588, -4.7436, -4.2944, -4.1731, -4.429, -5.0071, -4.514, -4.9671, -5.0426, -5.1167, -5.1102, -5.2291, -4.6671, -5.1266, -5.5942, -5.7217, -4.0501, -5.9135, -4.976, -5.935, -5.9571, -5.9637, -6.1239, -4.8826, -6.3372, -5.9769, -6.4293, -6.4466, -6.5453, -6.5492, -6.53, -4.6627, -6.6473, -6.6542, -6.6668, -6.6702, -6.1512, -6.7142, -6.7145, -6.7254, -5.9963, -6.8031, -5.7757, -4.7862, -5.5879, -5.8974, -5.9819, -6.1769, -5.995, -4.7923, -4.1607, -5.3736, -5.2719, -5.1146, -4.3173, -5.8084, -4.0481, -3.1247, -5.3712, -4.4733, -4.0356, -5.2286, -3.3496, -4.8345, -3.6257, -5.0329, -4.4373, -4.5684, -4.0752, -5.3152, -4.8282, -4.9476, -5.1265, -4.7788, -4.8505, -4.9412, -5.0043, -5.0061, -5.0821, -4.7442, -4.8816, -5.225, -5.3154, -5.4649, -3.7715, -5.5069, -5.0472, -5.9039, -5.9357, -5.9528, -5.8637, -4.0995, -6.0381, -6.0658, -6.096, -6.1092, -6.2452, -6.312, -6.3438, -6.3801, -6.4217, -6.4558, -6.4676, -6.4853, -6.4925, -6.5119, -6.6204, -6.5823, -6.6943, -5.4349, -5.0097, -6.0556, -6.0164, -5.9704, -5.2199, -4.8912, -5.7254, -4.4512, -5.7663, -5.972, -4.2397, -4.3447, -5.3442, -5.0476, -5.6704, -3.9731, -5.1797, -4.5179, -5.5985, -5.219, -5.21, -4.8869, -5.185, -4.9265, -5.2745, -4.6589, -4.9371, -5.4096, -5.0783, -4.9887, -5.1247, -5.2362, -5.3382, -4.0301, -5.0076, -4.838, -5.3045, -5.4238, -5.6814, -5.6862, -5.7697, -5.3168, -5.8513, -5.9164, -5.9472, -4.7238, -6.0728, -6.1218, -6.1464, -6.1555, -6.0867, -6.2528, -6.2544, -6.2583, -6.2938, -6.3069, -6.3494, -6.3478, -6.3903, -6.403, -5.9393, -6.4694, -6.4851, -5.9936, -6.0651, -5.4036, -5.3524, -5.7645, -5.947, -4.4335, -5.1215, -5.8966, -5.1599, -4.8514, -5.4246, -5.2309, -5.3849, -5.5275, -5.3664, -5.1608, -5.1934, -5.0298, -5.7851, -5.3702, -5.5812, -5.6778, -4.5164, -4.5249, -4.9457, -4.9279, -4.9808, -5.1196, -5.1257, -5.3556, -5.4304, -3.8058, -4.5784, -4.6015, -4.8607, -4.918, -4.9394, -5.0144, -5.0281, -5.1046, -4.8694, -5.3299, -5.3784, -5.4694, -5.4951, -4.9502, -5.7752, -5.776, -5.0938, -5.8953, -5.9966, -6.1146, -4.83, -5.6863, -6.1765, -6.1901, -6.2374, -6.2658, -4.623, -5.9327, -5.9738, -4.1735, -4.72, -5.4917, -3.3719, -5.5241, -5.5695, -5.6689, -4.9476, -5.3465, -4.4163, -5.2944, -4.7743, -4.1075, -5.1712, -3.9538, -4.4075, -5.0359, -5.0062, -5.0325, -5.1351, -4.077, -5.0463, -5.2348, -5.1367, -4.8522, -5.7192, -5.7853, -4.2461, -5.8487, -5.4392, -5.9366, -5.9506, -5.2268, -5.368, -6.1211, -5.9456, -5.8561, -5.7671, -6.2411, -6.2699, -6.334, -6.3446, -5.8635, -4.7594, -5.8565, -6.387, -6.3681, -6.4706, -6.283, -6.4992, -4.4501, -4.3533, -3.6405, -3.0554, -6.1818, -5.2657, -5.4194, -5.7818, -5.265, -4.7834, -4.3117, -5.3045, -5.1633, -5.4143, -5.2178, -5.3101, -4.9309, -5.279, -4.9615, -5.1632, -4.721, -5.3726, -4.2772, -4.3997, -5.2105, -5.141, -4.7884, -4.8601, -4.8641, -5.1314, -5.2649], \"loglift\": [30.0, 29.0, 28.0, 27.0, 26.0, 25.0, 24.0, 23.0, 22.0, 21.0, 20.0, 19.0, 18.0, 17.0, 16.0, 15.0, 14.0, 13.0, 12.0, 11.0, 10.0, 9.0, 8.0, 7.0, 6.0, 5.0, 4.0, 3.0, 2.0, 1.0, 2.0509, 2.0444, 2.0443, 2.0439, 2.0433, 2.0368, 2.0364, 2.0321, 2.0309, 2.0272, 2.0268, 2.0255, 2.0251, 2.0244, 2.0224, 2.0198, 2.0172, 2.0171, 2.0122, 2.012, 2.0115, 2.0115, 2.0093, 2.0083, 2.0056, 2.0047, 2.0039, 2.003, 2.0028, 2.0011, 1.9756, 1.9999, 1.9892, 1.9967, 1.9606, 1.9451, 1.9444, 1.9688, 1.9206, 1.975, 1.9135, 1.8976, 1.9071, 1.8946, 1.6193, 1.7003, 1.6632, 1.5894, 1.6997, 1.3217, 1.5897, 1.1583, 0.8783, 0.3283, 1.1112, 1.4237, 0.2121, 0.2119, 1.0444, 0.7819, 0.1366, -0.5107, 0.6654, -0.229, 0.1654, 0.5473, 0.4117, -1.0476, 2.3772, 2.3701, 2.3572, 2.3551, 2.3474, 2.3447, 2.3331, 2.3305, 2.3245, 2.3212, 2.3211, 2.3051, 2.2966, 2.2953, 2.2943, 2.2941, 2.2903, 2.2896, 2.2834, 2.2792, 2.2766, 2.2755, 2.2753, 2.2746, 2.2702, 2.263, 2.2591, 2.2575, 2.2567, 2.2558, 2.2525, 2.2331, 2.228, 2.2047, 2.1872, 2.2127, 2.2282, 2.0794, 2.0215, 2.181, 2.1489, 2.0052, 1.8084, 2.062, 1.9202, 1.9231, 1.9466, 1.9211, 1.9087, 1.6486, 1.8839, 1.8323, 0.8525, 1.6922, 0.8169, 1.8003, 1.8764, 1.9156, 0.7368, 0.0386, 0.9087, 1.0525, 0.9799, 0.5135, 2.5336, 2.5299, 2.5271, 2.5245, 2.5186, 2.5128, 2.5044, 2.5023, 2.4999, 2.4885, 2.4876, 2.4828, 2.4802, 2.4753, 2.4739, 2.4736, 2.4712, 2.47, 2.4657, 2.4614, 2.4596, 2.4555, 2.4553, 2.4436, 2.4435, 2.442, 2.4393, 2.4358, 2.4271, 2.4266, 2.415, 2.3207, 2.3731, 2.3514, 2.2959, 2.2907, 2.2725, 2.1132, 1.9176, 2.0766, 1.8142, 1.9775, 1.2843, 1.4501, 1.3789, 2.1148, 0.7523, 1.9244, 1.6696, 0.1177, 0.2773, 0.2112, 0.2107, 0.5, -0.1577, 0.5077, -0.5284, 0.6349, 1.3603, -0.0192, 0.2699, -0.0147, 0.5341, 2.5529, 2.5238, 2.5228, 2.5148, 2.5139, 2.5075, 2.5008, 2.4794, 2.4633, 2.4618, 2.4591, 2.4538, 2.4531, 2.4508, 2.447, 2.4456, 2.443, 2.4403, 2.4393, 2.4356, 2.4349, 2.4308, 2.4186, 2.4111, 2.4106, 2.4093, 2.4082, 2.4078, 2.4078, 2.3979, 2.3832, 2.3954, 2.3896, 2.3648, 2.3755, 2.2524, 2.3669, 2.2503, 2.3482, 2.3146, 2.3139, 2.0768, 2.1841, 2.2636, 2.2848, 2.1732, 2.2168, 2.2511, 2.021, 2.1912, 2.3331, 1.9002, 1.7942, 1.6102, 1.9557, 1.6461, 1.8542, 1.1713, 1.1712, 1.1345, 0.9508, 1.366, 1.7234, 0.5684, 1.2, 1.2917, 1.4715, 0.7682, 0.0248, 1.3099, 1.213, 1.034, 0.6531, 0.3594, 0.1157, 2.6414, 2.6409, 2.6345, 2.6312, 2.6297, 2.6235, 2.6209, 2.6166, 2.6113, 2.61, 2.6096, 2.6094, 2.6079, 2.6037, 2.6035, 2.6011, 2.5893, 2.579, 2.578, 2.5773, 2.5689, 2.5688, 2.5655, 2.5642, 2.5526, 2.5412, 2.5329, 2.5243, 2.5237, 2.521, 2.5209, 2.5197, 2.4717, 2.4682, 2.4655, 2.4017, 2.2265, 2.438, 2.1733, 2.3314, 2.0262, 2.1691, 2.32, 2.1939, 1.5555, 2.1651, 1.5577, 1.6758, 1.6019, 1.2946, 0.4793, 0.5233, 0.5231, 1.6106, 0.961, 0.9544, 0.5356, -0.136, -0.4631, 0.893, 0.1389, 2.6486, 2.6456, 2.6379, 2.6329, 2.631, 2.6304, 2.6302, 2.6294, 2.6242, 2.6235, 2.6233, 2.6187, 2.617, 2.6138, 2.6132, 2.6111, 2.611, 2.6046, 2.6015, 2.6012, 2.5935, 2.593, 2.5924, 2.5921, 2.5914, 2.5885, 2.5827, 2.5793, 2.5761, 2.5729, 2.5581, 2.5613, 2.5487, 2.5276, 2.4841, 2.4722, 2.2455, 1.9423, 2.4333, 2.367, 2.3251, 2.2673, 1.6836, 1.5759, 0.7721, 2.2217, 1.6226, 1.6413, 1.4051, 0.6197, 1.136, 1.8276, 1.5524, 0.0476, 1.333, 1.7071, 0.9508, 1.6527, 1.4009, 0.1568, 0.5871, 0.1977, 0.671, 0.3449, 0.9307, 0.0142, 0.0729, 0.4538, -0.9494, 0.5233, 2.6641, 2.6625, 2.6428, 2.642, 2.6376, 2.6286, 2.619, 2.6187, 2.6185, 2.6144, 2.603, 2.5966, 2.5965, 2.5923, 2.5884, 2.5854, 2.584, 2.5836, 2.5818, 2.5789, 2.5743, 2.5733, 2.5679, 2.5675, 2.5633, 2.5607, 2.5597, 2.558, 2.5579, 2.5568, 2.5439, 2.53, 2.5067, 2.541, 2.4727, 2.5056, 2.5264, 2.4497, 2.4989, 2.2525, 2.3203, 2.0795, 2.2484, 2.3002, 2.1143, 2.1649, 2.1787, 2.0257, 2.2717, 1.3117, 2.1074, 1.8634, 2.0814, 1.677, 1.5248, 1.0139, 0.8498, 2.0015, 1.5791, 1.8132, 1.142, 1.0486, 1.4986, 1.0616, 0.6685, 0.9512, 1.38, 1.0128, 0.9, 0.6365, -0.4412, 0.9823, 2.7527, 2.7314, 2.7313, 2.7252, 2.7224, 2.7184, 2.7131, 2.712, 2.7113, 2.7105, 2.7087, 2.7062, 2.6976, 2.6961, 2.6944, 2.694, 2.6934, 2.6884, 2.6868, 2.6867, 2.6773, 2.6756, 2.6738, 2.6722, 2.6721, 2.6698, 2.6679, 2.6671, 2.6594, 2.6589, 2.6554, 2.6386, 2.6464, 2.6475, 2.5723, 2.6236, 2.3975, 2.4544, 2.5215, 2.369, 2.2917, 2.3307, 2.1397, 1.8179, 2.0549, 1.7324, 1.9875, 2.3903, 1.4993, 0.854, 1.2911, -0.0458, 1.3228, 0.2941, 0.142, 0.5041, -0.5968, -0.8678, -0.0864, -0.7002, 0.227, 0.2678, 0.0081, -1.0363, 0.293, 2.8096, 2.7744, 2.7565, 2.7418, 2.7415, 2.7379, 2.7212, 2.7197, 2.7192, 2.7169, 2.7095, 2.7047, 2.6945, 2.6898, 2.671, 2.6702, 2.6695, 2.6694, 2.6584, 2.653, 2.6527, 2.6475, 2.6291, 2.6275, 2.6159, 2.6099, 2.6059, 2.6046, 2.6041, 2.6015, 2.5729, 2.4568, 2.4905, 2.5531, 2.4093, 2.5339, 2.2595, 2.5082, 2.219, 2.4863, 1.9283, 1.9358, 2.0437, 2.0376, 2.2208, 2.2658, 1.6771, 2.0847, 1.5642, 1.9023, 1.7754, 1.4804, 1.4802, 1.5974, 1.0206, 2.0757, 0.9648, 1.6215, 1.6927, 1.5927, 0.5011, 1.7498, 1.5969, 0.6172, 0.651, 0.5815, 0.4978, 0.8973, 3.2065, 3.1996, 3.1881, 3.1834, 3.179, 3.1617, 3.1611, 3.1518, 3.1435, 3.1317, 3.1213, 3.1157, 3.11, 3.1047, 3.0984, 3.0832, 3.0796, 3.0767, 3.0635, 3.0622, 3.0609, 3.0593, 3.0563, 3.0516, 3.05, 3.0478, 3.0402, 3.0368, 3.036, 3.0335, 3.0315, 3.0156, 3.0228, 2.9709, 2.986, 2.861, 2.9632, 2.8925, 2.878, 2.9408, 2.6783, 2.7025, 2.6863, 2.8079, 2.8955, 2.7268, 2.0283, 2.1745, 2.3003, 2.255, 2.3601, 2.5238, 1.8141, 1.861, 1.9862, 2.5468, 1.1733, 2.0376, 1.5926, 2.0588, 1.5176, -0.363, 1.8096, 0.7807, 0.268, -0.2801, 1.3456, -0.759, 0.3429, 0.2568, -1.1567, 0.6865, -0.1973, 3.3403, 3.3226, 3.3208, 3.31, 3.2943, 3.2917, 3.2917, 3.2903, 3.2895, 3.2868, 3.2854, 3.2834, 3.2816, 3.281, 3.2764, 3.2707, 3.2702, 3.2699, 3.2676, 3.2646, 3.2613, 3.2586, 3.2554, 3.2482, 3.2432, 3.2428, 3.2421, 3.2419, 3.2369, 3.2343, 3.2222, 3.0987, 3.1634, 3.1242, 3.0369, 2.98, 3.0844, 2.9057, 3.1934, 2.4606, 3.0706, 2.7769, 2.4773, 2.696, 2.3173, 1.5961, 1.963, 2.1741, 2.0714, 0.2547, -0.0421, 0.3989, 1.9743, 0.4377, 1.844, 1.0225, -0.7588, 0.2283, 0.7189, 0.9633, 0.5599, 0.1698, -0.461, -0.036, 3.4275, 3.3967, 3.3753, 3.3578, 3.355, 3.3548, 3.3519, 3.351, 3.3467, 3.3276, 3.3156, 3.3156, 3.3092, 3.3015, 3.3007, 3.2913, 3.2854, 3.2783, 3.2771, 3.2734, 3.27, 3.2646, 3.2631, 3.2527, 3.2427, 3.2413, 3.2412, 3.2395, 3.2366, 3.235, 3.2343, 3.1441, 3.2018, 3.0651, 3.1549, 3.042, 3.0753, 3.0228, 3.0923, 2.7377, 2.7907, 2.7038, 2.842, 2.364, 2.3839, 2.7818, 3.0418, 1.9156, 2.6062, 2.6814, 2.534, 2.5952, 2.054, 2.5624, 2.4283, 2.6521, 2.2177, 1.1955, 1.4833, 1.2967, 0.2394, 0.8098, 1.6796, 0.3446, 0.5389, 0.4795, 0.5268, -0.6614, -1.174, 3.5058, 3.5045, 3.5002, 3.4952, 3.4703, 3.4581, 3.4566, 3.4474, 3.4411, 3.414, 3.4094, 3.4082, 3.4028, 3.4004, 3.3969, 3.3951, 3.3949, 3.3943, 3.3918, 3.3909, 3.3908, 3.3873, 3.3834, 3.3832, 3.3811, 3.3809, 3.3761, 3.3761, 3.3732, 3.3721, 3.3566, 3.3028, 3.2344, 3.2951, 3.2336, 3.3447, 3.3443, 3.236, 3.1665, 3.1087, 2.4576, 2.8931, 2.4924, 3.2304, 2.5001, 3.0375, 3.1318, 2.6985, 1.9916, 1.3401, 1.0833, 1.083, 1.2131, 1.1776, 0.197, 1.3528, -0.0512, 0.1222, -0.5856, 1.0295, 0.4338, 0.0799, 1.6805, 0.0671, 0.3628, -0.7523, 3.6522, 3.643, 3.6328, 3.6279, 3.6271, 3.6103, 3.604, 3.6039, 3.5938, 3.5804, 3.5789, 3.5758, 3.5743, 3.5718, 3.5695, 3.567, 3.5626, 3.5577, 3.542, 3.5393, 3.5301, 3.5285, 3.5269, 3.5216, 3.518, 3.515, 3.5133, 3.5127, 3.5101, 3.5091, 3.446, 3.409, 3.431, 3.4632, 3.433, 3.3615, 3.3956, 2.852, 3.3789, 2.824, 2.0935, 2.4177, 2.052, 1.0407, 1.4654, 2.0835, 1.3207, -0.1101, 2.0435, 1.7554, 0.6451, 1.1332, -0.6136, -0.3662, 0.2056, -0.4142, 0.1915, 0.9355, 3.6692, 3.6556, 3.638, 3.6365, 3.6335, 3.6335, 3.6323, 3.6301, 3.6254, 3.6188, 3.6031, 3.6014, 3.5967, 3.5955, 3.5873, 3.5862, 3.5859, 3.5823, 3.5809, 3.5788, 3.5748, 3.5735, 3.5712, 3.569, 3.5683, 3.5676, 3.5659, 3.5547, 3.5546, 3.5546, 3.5509, 3.5351, 3.4991, 3.5175, 3.5429, 3.4684, 3.5084, 3.4566, 3.3092, 3.3855, 3.2358, 3.1674, 3.4908, 3.3517, 3.0714, 3.3394, 3.0908, 2.6571, 3.2624, 2.8209, 3.0056, 1.8212, 0.3028, -0.0171, 0.0518, 1.8194, -0.382, 1.0009, 1.3328, 1.776, 0.1454, 0.1555, 3.6759, 3.6648, 3.647, 3.6406, 3.6303, 3.6294, 3.6289, 3.6281, 3.6266, 3.6262, 3.6146, 3.6078, 3.592, 3.59, 3.5873, 3.5855, 3.5748, 3.5744, 3.572, 3.5691, 3.5627, 3.5619, 3.5603, 3.5598, 3.5584, 3.5542, 3.5541, 3.5527, 3.5445, 3.542, 3.5332, 3.5066, 3.483, 3.4803, 3.4337, 3.4675, 3.4243, 3.1021, 2.9293, 3.2322, 3.1939, 3.1355, 2.7455, 3.3287, 2.521, 1.4724, 2.9836, 2.1631, 1.7779, 2.7985, 0.8064, 2.3059, 0.8967, 2.4623, 1.5306, 1.4973, 0.4056, 2.5295, 1.1094, 1.407, 1.9384, 0.4769, 0.5341, 0.8438, 1.1487, 0.725, -0.2215, 3.7316, 3.7284, 3.7182, 3.7149, 3.7088, 3.7082, 3.707, 3.7025, 3.685, 3.6828, 3.6816, 3.6814, 3.6772, 3.6755, 3.6734, 3.671, 3.67, 3.6583, 3.6521, 3.6489, 3.6453, 3.6409, 3.6372, 3.6359, 3.6339, 3.6331, 3.6309, 3.6178, 3.6137, 3.6081, 3.5858, 3.5605, 3.5887, 3.583, 3.5554, 3.44, 3.385, 3.5109, 3.146, 3.4491, 3.5163, 2.7752, 2.5209, 3.0717, 2.5005, 3.1306, 0.5493, 2.3407, 1.2956, 2.9613, 2.3271, 2.2484, 1.2221, 1.7932, 0.8124, 1.831, -0.5028, 0.2856, 2.1327, 0.5831, -0.508, -0.2641, 0.7086, 0.0464, 3.7745, 3.7681, 3.7595, 3.758, 3.7524, 3.7402, 3.74, 3.7351, 3.731, 3.7299, 3.7255, 3.7233, 3.7215, 3.7137, 3.7097, 3.7076, 3.7068, 3.699, 3.6979, 3.6978, 3.6974, 3.694, 3.6927, 3.6883, 3.688, 3.684, 3.6826, 3.6757, 3.6752, 3.6734, 3.6539, 3.643, 3.5816, 3.5592, 3.606, 3.6027, 3.2064, 3.2584, 3.5456, 3.1948, 2.9679, 3.2403, 3.0062, 3.1118, 3.1904, 2.9884, 2.7258, 2.6915, 2.4765, 3.3963, 2.7834, 3.0435, 3.1735, 0.0059, -0.3689, 0.4389, -0.3308, -0.1201, 0.1919, -0.6449, 0.3755, 0.3546, 3.8791, 3.8677, 3.8672, 3.8609, 3.8592, 3.8586, 3.8563, 3.8558, 3.8532, 3.8523, 3.8444, 3.8423, 3.8379, 3.8366, 3.8212, 3.8203, 3.8202, 3.8195, 3.8118, 3.804, 3.7938, 3.7932, 3.7895, 3.788, 3.7867, 3.782, 3.7791, 3.778, 3.778, 3.7715, 3.7689, 3.7113, 3.7443, 3.5059, 3.7049, 3.6998, 3.7078, 3.4236, 3.5598, 3.1033, 3.4556, 2.9144, 2.2213, 3.1465, 0.2022, 0.1896, 1.7903, 1.6043, -0.9005, 0.2495, 3.9448, 3.9228, 3.9155, 3.9071, 3.9034, 3.8895, 3.8849, 3.8818, 3.8803, 3.8773, 3.8734, 3.8722, 3.8698, 3.8618, 3.8569, 3.8562, 3.8547, 3.8502, 3.8447, 3.8415, 3.834, 3.833, 3.8322, 3.8316, 3.8294, 3.8279, 3.8235, 3.8172, 3.8156, 3.8134, 3.7906, 3.762, 3.6929, 3.6298, 3.809, 3.6552, 3.6713, 3.7303, 3.6135, 3.4813, 3.2835, 3.5785, 3.4882, 3.6053, 3.4976, 3.5469, 3.3424, 3.4094, 3.0829, 3.267, 2.3084, 3.2491, 0.3199, -0.2437, 2.6091, 2.1777, -0.2661, -0.3793, -0.732, 0.8365, 2.0234]}, \"token.table\": {\"Topic\": [16, 8, 11, 18, 1, 5, 13, 1, 14, 14, 3, 17, 1, 2, 6, 7, 10, 15, 19, 20, 1, 2, 3, 6, 7, 9, 12, 15, 18, 2, 5, 20, 1, 2, 3, 4, 6, 7, 2, 7, 20, 5, 1, 2, 6, 7, 14, 1, 5, 1, 2, 3, 5, 6, 7, 8, 10, 11, 12, 13, 16, 17, 18, 16, 20, 1, 3, 4, 5, 6, 8, 10, 11, 14, 16, 18, 15, 5, 6, 6, 12, 6, 15, 1, 2, 3, 4, 5, 6, 7, 8, 9, 10, 11, 12, 13, 14, 15, 16, 17, 19, 20, 2, 12, 2, 6, 20, 7, 1, 10, 17, 20, 18, 1, 1, 5, 8, 11, 12, 13, 14, 13, 1, 3, 7, 8, 10, 12, 16, 20, 1, 20, 8, 5, 18, 12, 7, 13, 1, 2, 3, 4, 5, 6, 7, 8, 9, 10, 11, 12, 13, 14, 15, 16, 17, 18, 19, 20, 1, 3, 6, 8, 10, 11, 12, 17, 1, 4, 8, 9, 13, 15, 20, 14, 1, 4, 1, 2, 3, 4, 5, 6, 7, 8, 9, 10, 11, 12, 13, 14, 16, 17, 18, 19, 20, 8, 1, 8, 15, 18, 11, 11, 12, 16, 18, 19, 1, 4, 8, 9, 11, 13, 16, 4, 9, 11, 13, 16, 16, 8, 8, 19, 8, 15, 18, 10, 11, 1, 2, 3, 4, 5, 6, 7, 8, 9, 10, 11, 12, 13, 14, 15, 16, 17, 18, 19, 20, 6, 1, 2, 3, 4, 5, 6, 7, 8, 9, 10, 11, 12, 13, 14, 15, 16, 17, 18, 19, 20, 1, 2, 3, 4, 5, 6, 7, 8, 9, 10, 11, 12, 13, 14, 15, 16, 17, 18, 20, 8, 10, 10, 18, 10, 18, 20, 11, 12, 12, 15, 12, 13, 10, 14, 15, 16, 1, 3, 5, 6, 7, 8, 10, 12, 15, 16, 3, 20, 3, 4, 5, 9, 10, 17, 1, 6, 10, 15, 16, 6, 7, 15, 15, 19, 2, 6, 7, 15, 11, 1, 3, 5, 8, 10, 11, 12, 13, 17, 6, 7, 8, 10, 18, 3, 17, 3, 1, 3, 4, 5, 8, 9, 10, 11, 12, 14, 17, 1, 2, 3, 5, 6, 7, 8, 10, 11, 12, 13, 14, 15, 16, 17, 18, 19, 20, 1, 5, 16, 5, 18, 6, 1, 3, 4, 5, 8, 9, 10, 11, 12, 13, 14, 15, 16, 17, 18, 1, 3, 4, 5, 8, 10, 11, 12, 13, 14, 15, 16, 17, 18, 17, 15, 16, 1, 1, 3, 8, 10, 3, 17, 1, 2, 3, 4, 5, 6, 7, 8, 9, 10, 11, 12, 13, 20, 6, 1, 3, 8, 10, 12, 1, 8, 10, 12, 16, 20, 1, 5, 8, 10, 11, 13, 15, 17, 6, 7, 6, 19, 13, 7, 10, 11, 15, 1, 5, 11, 15, 16, 18, 1, 2, 3, 4, 5, 6, 7, 8, 9, 10, 11, 12, 13, 14, 15, 16, 17, 18, 19, 20, 5, 11, 17, 15, 16, 1, 2, 3, 4, 5, 6, 7, 8, 10, 11, 12, 13, 14, 15, 16, 17, 19, 20, 10, 9, 19, 18, 14, 17, 4, 8, 9, 2, 6, 7, 19, 20, 15, 6, 7, 4, 8, 9, 11, 1, 3, 5, 6, 8, 10, 12, 13, 14, 15, 17, 1, 3, 5, 6, 8, 10, 11, 12, 13, 17, 11, 1, 11, 11, 2, 6, 7, 2, 6, 7, 20, 6, 16, 18, 19, 11, 18, 16, 15, 4, 13, 15, 1, 2, 3, 4, 6, 7, 8, 9, 14, 15, 20, 16, 18, 14, 16, 20, 14, 14, 15, 16, 4, 20, 1, 2, 3, 7, 8, 10, 11, 18, 15, 1, 2, 6, 7, 8, 9, 10, 12, 18, 1, 2, 5, 6, 7, 12, 14, 15, 18, 19, 4, 9, 5, 1, 2, 3, 4, 5, 7, 8, 9, 10, 11, 13, 14, 15, 16, 17, 18, 3, 4, 5, 8, 9, 10, 17, 18, 1, 3, 4, 5, 8, 9, 10, 13, 16, 17, 3, 4, 5, 8, 9, 11, 13, 16, 17, 4, 8, 9, 9, 20, 4, 4, 4, 8, 9, 17, 3, 4, 8, 16, 17, 3, 17, 17, 1, 5, 14, 10, 11, 1, 5, 11, 4, 8, 13, 15, 17, 19, 2, 7, 8, 1, 3, 4, 5, 8, 9, 11, 12, 13, 16, 17, 18, 1, 2, 5, 6, 7, 8, 1, 2, 3, 5, 7, 8, 10, 11, 12, 13, 14, 15, 16, 17, 18, 20, 1, 2, 3, 6, 7, 8, 10, 11, 12, 13, 14, 18, 20, 18, 7, 1, 4, 8, 11, 13, 14, 16, 19, 14, 5, 14, 1, 17, 5, 11, 5, 12, 1, 5, 5, 11, 1, 14, 17, 1, 3, 4, 8, 9, 10, 11, 3, 4, 8, 8, 10, 18, 7, 1, 3, 4, 8, 9, 10, 11, 14, 15, 16, 18, 19, 9, 4, 15, 16, 15, 16, 18, 16, 15, 1, 2, 3, 5, 6, 7, 8, 10, 11, 15, 16, 18, 20, 16, 6, 12, 2, 6, 7, 15, 18, 8, 15, 16, 18, 12, 18, 1, 4, 8, 9, 4, 9, 16, 4, 9, 16, 6, 8, 19, 2, 3, 17, 20, 16, 6, 12, 1, 5, 8, 11, 13, 16, 19, 20, 4, 1, 12, 13, 2, 6, 17, 15, 1, 6, 19, 5, 13, 5, 12, 13, 13, 1, 3, 8, 10, 12, 13, 17, 18, 20, 1, 5, 8, 10, 17, 1, 2, 3, 5, 7, 11, 14, 15, 20, 12, 5, 1, 2, 3, 4, 5, 6, 7, 8, 9, 10, 11, 12, 13, 14, 15, 16, 17, 18, 20, 6, 1, 2, 3, 4, 5, 6, 7, 8, 9, 10, 11, 12, 13, 14, 15, 16, 17, 18, 19, 20, 1, 2, 3, 4, 5, 7, 8, 9, 10, 11, 12, 13, 14, 15, 19, 20, 14, 1, 4, 5, 6, 8, 9, 11, 13, 19, 10, 18, 14, 5, 5, 15, 16, 18, 1, 6, 8, 15, 20, 1, 8, 12, 14, 20, 17, 5, 11, 17, 4, 9, 4, 6, 15, 4, 9, 11, 3, 8, 17, 3, 17, 2, 1, 3, 5, 6, 7, 8, 11, 13, 17, 18, 20, 7, 15, 1, 16, 1, 14, 16, 15, 1, 2, 3, 4, 5, 6, 7, 8, 10, 11, 12, 13, 14, 17, 19, 5, 7, 17, 1, 5, 10, 11, 12, 4, 14, 15, 17, 3, 8, 17, 4, 9, 4, 9, 11, 4, 9, 11, 4, 9, 2, 6, 7, 15, 3, 10, 3, 10, 19, 10, 18, 10, 18, 1, 2, 3, 4, 5, 6, 7, 8, 9, 10, 11, 12, 13, 14, 16, 17, 18, 19, 20, 2, 3, 4, 8, 9, 15, 18, 20, 1, 2, 3, 4, 5, 6, 7, 8, 9, 10, 11, 12, 13, 14, 15, 16, 17, 18, 19, 20, 3, 4, 7, 8, 9, 17, 4, 9, 1, 3, 5, 6, 8, 13, 18, 20, 15, 18, 9, 3, 18, 1, 3, 4, 5, 8, 9, 11, 12, 13, 14, 16, 17, 1, 3, 5, 8, 16, 4, 8, 9, 10, 13, 14, 18, 19, 2, 6, 7, 12, 13, 15, 18, 20, 2, 7, 19, 19, 12, 1, 2, 3, 4, 5, 6, 7, 8, 9, 10, 11, 12, 13, 14, 15, 16, 17, 18, 19, 20, 4, 8, 11, 15, 16, 18, 15, 1, 2, 5, 6, 7, 7, 2, 9, 3, 5, 6, 8, 11, 7, 1, 2, 3, 4, 5, 6, 7, 8, 9, 11, 13, 14, 15, 16, 18, 19, 20, 1, 2, 3, 5, 6, 7, 8, 10, 11, 14, 15, 18, 2, 6, 7, 2, 6, 7, 15, 1, 2, 3, 4, 5, 6, 7, 8, 9, 10, 11, 12, 13, 14, 15, 16, 17, 19, 20, 14, 9, 1, 2, 3, 4, 5, 8, 9, 10, 11, 13, 14, 15, 19, 7, 7, 1, 3, 5, 6, 8, 10, 11, 12, 13, 14, 16, 17, 18, 20, 17, 18, 14, 1, 2, 3, 4, 5, 6, 7, 8, 9, 10, 11, 12, 13, 14, 15, 16, 17, 18, 19, 20, 1, 3, 5, 8, 14, 18, 5, 20, 5, 17, 12, 1, 2, 6, 7, 12, 13, 14, 20, 1, 5, 6, 9, 10, 11, 13, 1, 11, 6, 11, 14, 1, 2, 3, 4, 5, 6, 7, 8, 9, 11, 12, 13, 14, 15, 16, 17, 18, 19, 20, 1, 2, 3, 4, 5, 6, 7, 8, 9, 11, 12, 13, 14, 15, 16, 18, 19, 20, 2, 6, 7, 8, 10, 17, 20, 1, 3, 4, 5, 6, 7, 8, 9, 10, 11, 12, 13, 14, 15, 16, 17, 18, 20, 2, 1, 2, 3, 4, 5, 6, 7, 8, 9, 10, 11, 12, 13, 14, 15, 16, 17, 18, 19, 1, 3, 5, 6, 7, 10, 11, 12, 13, 15, 1, 5, 6, 7, 8, 9, 10, 13, 14, 16, 19, 3, 3, 1, 2, 3, 4, 5, 6, 7, 8, 9, 10, 11, 12, 13, 14, 15, 16, 17, 19, 20, 1, 2, 3, 4, 5, 6, 8, 9, 11, 12, 13, 14, 1, 3, 4, 5, 6, 7, 8, 10, 11, 12, 13, 14, 20, 19, 11, 10, 14, 10, 1, 2, 4, 5, 6, 7, 8, 11, 15, 17, 18, 19, 18, 1, 2, 3, 5, 6, 7, 8, 10, 11, 12, 14, 15, 17, 16, 1, 11, 13, 15, 16, 18, 19, 4, 8, 9, 10, 4, 8, 9, 10, 4, 9, 1, 5, 12, 13, 10, 10, 15, 2, 3, 4, 6, 8, 9, 13, 15, 17, 18, 20, 8, 1, 1, 3, 5, 8, 11, 12, 1, 1, 3, 4, 5, 11, 12, 17, 4, 1, 2, 3, 4, 5, 7, 8, 9, 11, 12, 14, 15, 17, 18, 20, 14, 1, 3, 4, 5, 6, 8, 9, 11, 13, 14, 15, 16, 17, 18, 9, 6, 7, 15, 1, 2, 3, 4, 5, 6, 7, 8, 9, 10, 11, 12, 13, 14, 17, 18, 20, 8, 2, 3, 4, 5, 6, 7, 8, 10, 13, 14, 15, 18, 19, 20, 2, 7, 2, 6, 7, 2, 6, 7, 12, 15, 19, 20, 20, 6, 7, 1, 3, 5, 11, 12, 14, 17, 1, 3, 4, 5, 8, 11, 13, 4, 9, 4, 9, 11, 9, 1, 2, 3, 5, 7, 8, 12, 13, 20, 1, 12, 13, 17, 17, 8, 11, 1, 11, 3, 8, 14, 12, 2, 6, 7, 1, 2, 3, 4, 5, 6, 7, 8, 9, 10, 11, 12, 13, 14, 15, 16, 17, 18, 19, 20, 1, 2, 3, 4, 5, 6, 7, 8, 9, 10, 11, 12, 13, 14, 15, 16, 17, 18, 19, 20, 3, 13, 18, 15, 2, 4, 15, 20, 2, 8, 4, 15, 2, 4, 9, 15, 2, 4, 13, 15, 18, 16, 4, 20, 1, 5, 10, 14, 16, 17, 1, 3, 4, 5, 11, 12, 16, 1, 2, 3, 4, 5, 6, 7, 8, 9, 10, 11, 12, 13, 14, 15, 16, 17, 18, 19, 20, 2, 6, 18, 13, 1, 5, 14, 16, 17, 1, 5, 8, 10, 11, 12, 14, 16, 17, 5, 10, 1, 3, 4, 5, 6, 8, 9, 10, 11, 13, 14, 15, 16, 17, 18, 1, 3, 4, 8, 10, 12, 16, 4, 8, 10, 1, 3, 4, 5, 6, 7, 8, 9, 10, 11, 12, 13, 14, 19, 1, 3, 4, 8, 9, 10, 11, 3, 8, 10, 14, 1, 2, 3, 4, 5, 6, 7, 8, 10, 11, 12, 13, 14, 15, 16, 17, 18, 8, 7, 1, 3, 4, 5, 6, 8, 10, 11, 12, 13, 14, 12, 13, 20, 20, 19, 19, 1, 2, 5, 6, 8, 11, 19, 20, 19, 20, 8, 16, 18, 7, 3, 9, 2, 6, 7, 15, 7, 15, 1, 16, 19, 1, 3, 4, 5, 6, 8, 10, 12, 14, 16, 19, 7, 12, 1, 2, 3, 4, 5, 6, 7, 8, 9, 10, 11, 12, 13, 14, 15, 17, 18, 19, 20, 16, 18, 1, 3, 5, 6, 8, 14, 8, 18, 1, 3, 5, 6, 8, 10, 12, 14, 17, 1, 3, 5, 8, 10, 11, 16, 18, 11, 1, 2, 3, 4, 6, 7, 8, 9, 10, 11, 13, 15, 16, 18, 2, 6, 7, 1, 3, 4, 8, 9, 14, 1, 2, 3, 4, 5, 6, 7, 8, 10, 11, 12, 20, 19, 20, 3, 10, 14, 7, 17, 6, 7, 14, 18, 18, 3, 5, 14, 20, 1, 2, 3, 5, 6, 7, 10, 15, 15, 1, 2, 3, 4, 5, 7, 8, 9, 10, 12, 13, 14, 16, 18, 19, 20, 15, 6, 6, 6, 8, 1, 2, 3, 4, 5, 6, 7, 8, 9, 10, 11, 13, 14, 15, 16, 17, 18, 19, 20, 6, 15, 10, 8, 6, 7, 1, 2, 3, 4, 5, 6, 7, 8, 9, 10, 11, 12, 13, 14, 15, 16, 17, 18, 19, 20, 7, 17, 4, 1, 2, 3, 4, 6, 7, 8, 9, 15, 18, 20, 1, 2, 3, 4, 5, 6, 7, 8, 9, 13, 15, 16, 17, 18, 20, 4, 15, 4, 9, 13, 4, 9, 3, 6, 7, 9, 11, 14, 3, 4, 8, 9, 10, 15, 16, 9, 4, 5, 1, 2, 3, 4, 5, 6, 7, 8, 9, 10, 11, 12, 13, 14, 15, 16, 17, 18, 19, 20, 1, 4, 7, 8, 10, 20, 10, 6, 8, 10, 9, 1, 11, 1, 2, 6, 7, 2, 6, 7, 2, 6, 2, 6, 7, 2, 7, 3, 4, 8, 9, 17, 6, 1, 13, 10, 1, 3, 4, 5, 6, 8, 9, 11, 12, 13, 16, 17, 1, 2, 3, 4, 5, 6, 7, 8, 9, 10, 11, 12, 13, 14, 17, 17, 17, 3, 4, 8, 9, 11, 17, 4, 1, 5, 8, 14, 2, 20, 8, 6, 7, 19, 1, 2, 3, 4, 5, 6, 7, 8, 9, 10, 11, 12, 13, 14, 17, 18, 19, 20, 14, 19, 1, 2, 3, 4, 5, 6, 7, 8, 9, 10, 11, 12, 13, 14, 15, 16, 17, 18, 19, 20, 16, 1, 2, 3, 6, 7, 19, 1, 10, 11, 13, 1, 10, 11, 10, 11, 1, 3, 4, 8, 10, 11, 17, 6, 10, 19, 3, 8, 17, 3, 3, 18, 2, 3, 7, 1, 2, 3, 4, 5, 6, 7, 8, 9, 10, 11, 12, 13, 14, 15, 16, 17, 18, 19, 20, 1, 2, 3, 4, 5, 6, 7, 8, 9, 10, 11, 12, 13, 14, 15, 16, 17, 18, 20, 1, 5, 11, 13, 17, 1, 2, 3, 4, 5, 6, 7, 8, 9, 10, 11, 12, 13, 14, 15, 16, 17, 18, 19, 20, 1, 2, 3, 4, 5, 6, 7, 8, 10, 11, 12, 13, 14, 15, 17, 18, 19, 20, 2, 6, 8, 20, 20, 1, 2, 3, 4, 5, 6, 7, 8, 9, 10, 11, 12, 13, 14, 15, 16, 17, 18, 20, 15, 4, 17, 4, 8, 9, 11, 3, 8, 17, 1, 8, 10, 11, 14, 7, 5, 14, 12, 1, 1, 5, 4, 8, 9, 15, 3, 13, 3, 14, 13, 6, 19, 11, 3, 4, 8, 9, 8, 10, 8, 6, 14, 8, 11, 17, 20, 12, 6, 4, 8, 9, 17, 6, 7, 8, 13, 16, 14, 1, 5, 11, 1, 5, 1, 5, 11, 1, 2, 3, 4, 5, 6, 7, 8, 10, 12, 13, 14, 15, 16, 17, 19, 20, 10, 2, 6, 19, 6, 1, 3, 5, 6, 8, 10, 11, 12, 13, 14, 17, 8, 10, 3, 1, 4, 6, 11, 15, 16, 17, 2, 6, 7, 2, 6, 7, 12, 15, 16, 18, 19, 20, 2, 6, 7, 12, 15, 19, 19, 18, 2, 6, 19, 20, 14, 14, 1, 5, 6, 8, 10, 11, 13, 14, 16, 17, 18, 1, 2, 3, 4, 5, 6, 7, 8, 9, 10, 11, 12, 13, 14, 15, 16, 17, 18, 20, 2, 4, 7, 1, 2, 3, 4, 5, 6, 7, 8, 9, 10, 11, 12, 13, 14, 15, 17, 18, 19, 10, 12, 5, 12, 14, 1, 2, 3, 4, 5, 6, 7, 8, 9, 10, 11, 12, 13, 14, 15, 16, 17, 18, 19, 20, 7, 11, 8, 19, 20, 13, 1, 3, 5, 8, 10, 11, 12, 17, 10, 15, 13, 9, 10, 14, 1, 3, 5, 11, 12, 1, 1, 2, 3, 4, 5, 6, 7, 8, 9, 10, 11, 12, 13, 14, 15, 17, 18, 19, 12, 1, 7, 8, 10, 11, 12, 13, 15, 16, 18, 10, 19, 3, 5, 14, 2, 14, 17, 1, 5, 10, 10, 14, 18, 10, 18, 10, 18, 1, 2, 3, 4, 6, 7, 8, 10, 11, 12, 16, 18, 14, 8, 18, 20, 2, 8, 20, 18, 17, 1, 3, 5, 6, 7, 8, 10, 11, 12, 14, 15, 3, 6, 7, 8, 15, 20, 3, 8, 10, 8, 10, 17, 10, 1, 5, 8, 10, 13, 14, 17, 13, 5, 17, 10, 4, 8, 9, 10, 13, 10, 13, 18, 10, 1, 5, 1, 9, 11, 15, 16, 4, 13, 13, 10, 11, 1, 2, 3, 4, 5, 6, 7, 8, 9, 10, 11, 12, 13, 14, 15, 16, 17, 18, 19, 20, 1, 10, 16, 15, 1, 3, 5, 6, 10, 11, 18, 2, 4, 8, 20, 2, 4, 7, 8, 9, 19, 20, 17, 4, 9, 19, 1, 2, 6, 7, 8, 15, 19, 20, 18, 19, 2, 6, 7, 15, 16, 1, 10, 2, 6, 7, 8, 13, 13, 3, 3, 14, 1, 3, 6, 8, 10, 12, 19, 2, 6, 7, 16, 1, 9, 13, 1, 3, 5, 10, 11, 13, 14, 17, 18, 5, 6, 7, 18, 18, 1, 3, 8, 14, 2, 15, 16, 19, 1, 2, 3, 4, 5, 6, 7, 8, 9, 10, 11, 12, 13, 14, 15, 16, 17, 18, 19, 20, 1, 2, 3, 4, 5, 6, 7, 8, 9, 10, 11, 12, 13, 14, 15, 16, 17, 18, 19, 20, 1, 3, 4, 5, 7, 8, 9, 10, 11, 12, 13, 14, 15, 16, 17, 18, 20, 1, 8, 10, 12, 14, 18, 1, 3, 4, 5, 8, 9, 11, 12, 13, 16, 17, 18, 11, 12, 15, 16, 18, 8, 19, 3, 6, 18, 20, 3, 9, 7, 8, 1, 2, 3, 5, 6, 7, 8, 10, 11, 12, 13, 14, 15, 16, 17, 18, 19, 20, 1, 4, 5, 14, 1, 2, 3, 4, 5, 6, 7, 8, 9, 10, 11, 12, 13, 14, 15, 16, 17, 18, 19, 20, 19, 10, 1, 3, 4, 8, 9, 10, 12, 13, 14, 15, 18, 8, 16, 13, 3, 10, 11, 12, 18, 11, 2, 6, 6, 7, 15, 1, 2, 3, 4, 5, 6, 7, 8, 9, 10, 11, 14, 17, 18, 1, 2, 3, 4, 5, 6, 7, 8, 10, 11, 12, 13, 14, 15, 16, 19, 20, 1, 2, 3, 4, 5, 6, 7, 8, 9, 10, 11, 12, 13, 14, 15, 16, 17, 18, 19, 20, 1, 8, 14, 16, 6, 20, 8, 10, 10, 1, 3, 5, 6, 8, 10, 11, 12, 13, 14, 15, 17, 20, 1, 2, 7, 8, 9, 17, 20, 1, 2, 3, 4, 5, 6, 7, 8, 9, 10, 11, 12, 13, 14, 15, 16, 17, 18, 19, 20, 1, 2, 3, 4, 5, 6, 7, 8, 10, 12, 13, 14, 15, 17, 19, 10, 18, 1, 18, 8, 1, 1, 17, 2, 6, 7, 6, 14, 8, 11, 17, 1, 5, 6, 20, 4, 1, 3, 4, 17, 12, 7, 4, 1, 3, 4, 5, 6, 8, 11, 12, 13, 14, 16, 17, 18, 6, 7, 8, 6, 8, 10, 1, 9, 11, 15, 3, 4, 1, 3, 4, 6, 8, 10, 20, 2, 2, 1, 5, 6, 8, 13, 13, 19, 1, 2, 3, 4, 6, 7, 8, 9, 10, 11, 16, 17, 5, 6, 12, 13, 8, 10, 3, 8, 12, 17, 1, 3, 5, 6, 7, 8, 10, 12, 17, 5, 12, 14, 15, 1, 3, 5, 8, 14, 17, 19, 19, 3, 4, 9, 4, 9, 4, 1, 3, 5, 6, 8, 10, 11, 12, 13, 14, 15, 18, 20, 1, 5, 15, 16, 18, 17, 1, 2, 3, 5, 6, 7, 8, 10, 11, 12, 15, 18, 1, 5, 1, 3, 4, 5, 9, 11, 12, 16, 17, 18, 1, 3, 4, 6, 8, 9, 10, 12, 13, 14, 18, 10, 17, 19, 6, 3, 8, 10, 7, 8, 1, 4, 6, 7, 9, 10, 11, 15, 1, 2, 3, 4, 5, 6, 7, 8, 9, 10, 12, 14, 15, 17, 1, 3, 4, 5, 11, 13, 17, 13, 2, 6, 7, 6, 7, 1, 5, 6, 7, 1, 5, 6, 8, 10, 12, 20, 2, 1, 3, 8, 11, 14, 15, 18, 3, 8, 16, 1, 10, 11, 12, 1, 5, 12, 1, 5, 3, 8, 10, 13, 16, 10, 11, 13, 10, 11, 11, 1, 4, 5, 8, 11, 12, 14, 17, 1, 4, 5, 7, 8, 11, 12, 14, 17, 6, 8, 20, 8, 12, 16, 20, 8, 10, 12, 15, 16, 18, 20, 3, 8, 3, 17, 1, 2, 3, 4, 5, 6, 8, 10, 14, 15, 20, 18, 5, 9, 1, 5, 11, 1, 5, 11, 1, 3, 4, 5, 8, 9, 10, 11, 13, 14, 15, 16, 18, 20, 1, 3, 5, 10, 11, 13, 14, 17, 1, 6, 16, 10, 9, 11, 1, 3, 4, 5, 8, 9, 10, 11, 12, 13, 16, 17, 1, 3, 5, 11, 12, 1, 3, 4, 5, 9, 11, 12, 17, 1, 3, 4, 5, 9, 11, 12, 13, 16, 17, 6, 7, 1, 5, 8, 11, 13, 14, 18, 19, 20, 1, 5, 10, 15, 16, 18, 8, 14, 20, 1, 3, 4, 8, 11, 15, 16, 17, 3, 1, 3, 4, 5, 8, 11, 13, 16, 17, 3, 17, 1, 5, 13, 1, 3, 5, 13, 11, 1, 3, 4, 8, 9, 10, 11, 14, 17, 8, 1, 2, 3, 4, 5, 6, 7, 8, 9, 10, 12, 13, 15, 16, 18, 20, 6, 6, 7, 20, 19, 5, 10, 11, 13, 18, 6, 6, 7, 8, 11, 19, 20, 1, 5, 6, 7, 8, 17, 19, 18, 13, 4, 17, 17, 1, 3, 5, 6, 7, 8, 10, 14, 15, 19, 13, 4, 3, 9, 17, 1, 3, 4, 6, 8, 9, 14, 17, 1, 3, 4, 5, 8, 9, 10, 11, 12, 17, 8, 10, 4, 8, 10, 18, 3, 4, 8, 11, 17, 1, 3, 4, 8, 9, 11, 16, 17, 8, 16, 6, 1, 3, 5, 6, 7, 8, 10, 11, 12, 13, 15, 19, 20, 4, 13, 2, 3, 12, 6, 1, 3, 5, 8, 10, 12, 15, 17, 15, 8, 17, 20, 2, 6, 7, 8, 19, 20, 12, 1, 3, 4, 5, 6, 8, 10, 11, 12, 13, 14, 16, 17, 18, 19, 3, 9, 18, 1, 2, 3, 4, 5, 6, 7, 8, 9, 10, 11, 12, 13, 14, 15, 16, 17, 18, 20, 2, 6, 20, 4, 10, 1, 5, 8, 8, 15, 10, 20, 1, 20, 1, 4, 5, 8, 9, 10, 4, 8, 9, 6, 1, 2, 3, 4, 5, 7, 11, 12, 13, 15, 16, 8, 10, 4, 12, 4, 8, 9, 10, 17, 18, 4, 8, 9, 18, 17, 10, 14, 17, 18, 7, 10, 5, 13, 13, 6, 7, 19, 16, 1, 6, 10, 11, 12, 15, 16, 17, 18, 18, 11, 12, 15, 16, 18, 13, 15, 18, 15, 16, 18, 8, 18, 9, 18, 9, 18, 9, 1, 3, 5, 6, 8, 10, 11, 12, 17, 1, 3, 5, 6, 8, 12, 13, 14, 1, 18, 1, 3, 5, 14, 10, 11, 16, 20, 2, 7, 8, 13, 5, 10, 16, 7, 3, 8, 17, 16, 14, 8, 2, 3, 7, 15, 20, 1, 2, 3, 4, 5, 6, 7, 8, 9, 10, 11, 12, 13, 14, 15, 16, 17, 18, 19, 20, 20, 11, 11, 13, 13, 15, 3, 4, 7, 10, 10, 11, 4, 8, 9, 13, 4, 9, 17, 1, 6, 10, 11, 17, 3, 4, 6, 8, 9, 14, 16, 16, 1, 3, 5, 6, 8, 10, 12, 9, 16, 4, 9, 7, 19, 8, 18, 1, 3, 4, 5, 6, 8, 10, 11, 12, 13, 14, 15, 16, 17, 18, 19, 8, 10, 14, 5, 1, 1, 3, 4, 8, 9, 10, 11, 1, 4, 8, 10, 11, 12, 14, 17, 13, 3, 13, 13, 19, 20, 15, 7, 1, 7, 8, 13, 10, 14, 3, 12, 12, 8, 1, 4, 6, 8, 9, 19, 1, 2, 3, 4, 5, 6, 8, 9, 10, 11, 12, 13, 14, 15, 16, 17, 18, 19, 20, 1, 2, 3, 4, 5, 6, 7, 8, 9, 10, 11, 12, 13, 14, 15, 16, 17, 18, 19, 20, 11, 1, 3, 4, 5, 8, 9, 10, 11, 12, 13, 14, 15, 16, 17, 18, 19, 20, 8, 8, 8, 1, 2, 3, 4, 5, 7, 8, 9, 10, 13, 14, 15, 16, 18, 19, 20, 1, 11, 8, 4, 16, 19, 1, 2, 3, 5, 6, 7, 8, 10, 12, 15, 18, 9, 13, 7, 2, 9, 9, 2, 18, 1, 8, 10, 11, 12, 13, 14, 15, 16, 18, 11, 20, 1, 3, 4, 5, 8, 11, 12, 17, 8, 10, 1, 3, 5, 8, 17, 3, 8, 17, 17, 1, 3, 4, 5, 8, 9, 11, 17, 1, 2, 6, 7, 15, 16, 19, 20, 13, 2, 6, 7, 2, 15, 1, 2, 6, 7, 15, 17, 19, 20, 1, 3, 4, 5, 8, 10, 11, 12, 15, 17, 5, 6, 14, 12, 5, 5, 2, 20, 20, 12, 1, 3, 4, 5, 6, 8, 10, 11, 13, 14, 15, 16, 17, 18, 17, 17, 16, 7, 19, 4, 5, 6, 8, 13, 15, 18, 20, 4, 8, 18, 16, 1, 3, 4, 8, 9, 13, 4, 8, 9, 13, 16, 4, 8, 9, 13, 19, 6, 20, 14, 19, 4, 8, 9, 10, 1, 2, 3, 4, 5, 6, 7, 8, 9, 10, 11, 12, 13, 14, 15, 16, 17, 18, 19, 20, 1, 3, 4, 5, 6, 7, 8, 9, 10, 11, 12, 13, 14, 16, 17, 18, 1, 3, 4, 5, 6, 8, 9, 10, 11, 12, 15, 16, 17, 18, 19, 3, 5, 8, 13, 1, 2, 3, 4, 5, 6, 7, 8, 9, 10, 11, 12, 13, 14, 15, 16, 17, 18, 19, 20, 1, 3, 5, 6, 8, 9, 10, 12, 13, 17, 1, 2, 3, 4, 5, 6, 7, 8, 10, 11, 13, 14, 15, 16, 17, 18, 19, 20, 1, 12, 2, 1, 2, 3, 4, 5, 6, 7, 8, 9, 10, 11, 12, 13, 14, 15, 16, 17, 18, 1, 15, 16, 14, 15, 16, 7, 7], \"Freq\": [0.8850826182025305, 0.06162722136326034, 0.06162722136326034, 0.8011538777223844, 0.948666565525355, 0.019360542153578672, 0.8786341566037151, 0.9776381611564274, 0.9055697860273082, 0.9308506864724232, 0.9272675257570233, 0.03090891752523411, 0.4558316749425622, 0.030388778329504144, 0.36466533995404976, 0.09116633498851244, 0.006077755665900829, 0.006077755665900829, 0.04254428966130581, 0.006077755665900829, 0.006930424359755135, 0.04620282906503423, 0.0023101414532517113, 0.28414739874996053, 0.649149748363731, 0.0023101414532517113, 0.0023101414532517113, 0.0023101414532517113, 0.9040729681885782, 0.931638558142002, 0.022181870431952428, 0.022181870431952428, 0.04615383835551134, 0.8846152351473007, 0.007692306392585223, 0.007692306392585223, 0.030769225570340893, 0.02307691917775567, 0.9691404163713558, 0.0119646964984118, 0.007976464332274533, 0.9221456720054654, 0.011939870129765122, 0.8954902597323842, 0.017909805194647684, 0.059699350648825616, 0.005969935064882561, 0.988391167842243, 0.006418124466508072, 0.1335893103224953, 0.005566221263437305, 0.05566221263437304, 0.038963548844061134, 0.05009599137093574, 0.01113244252687461, 0.22821507180092948, 0.18368530169343106, 0.01113244252687461, 0.05009599137093574, 0.16142041663968185, 0.005566221263437305, 0.05009599137093574, 0.005566221263437305, 0.8721984953808134, 0.8557801586396014, 0.04033166934078554, 0.05377555912104738, 0.02688777956052369, 0.09410722846183292, 0.013443889780261845, 0.24199001604471324, 0.02688777956052369, 0.02688777956052369, 0.02688777956052369, 0.40331669340785536, 0.02688777956052369, 0.8723012583350254, 0.9215025469589131, 0.992301581751283, 0.9648732777151088, 0.8816405883505499, 0.9594550290220858, 0.9714291407963894, 0.1621095397239023, 0.03924757277526056, 0.1348068804019819, 0.07849514555052112, 0.18429295042296262, 0.08190797796576116, 0.10750422108006152, 0.01194491345334017, 0.03924757277526056, 0.0017064162076200244, 0.03412832415240048, 0.005119248622860072, 0.01194491345334017, 0.02047699449144029, 0.006825664830480097, 0.029009075529540414, 0.01706416207620024, 0.029009075529540414, 0.005119248622860072, 0.902277211576326, 0.9317121094155448, 0.13214430474246533, 0.029365401053881184, 0.8222312295086731, 0.8795348129540711, 0.9721302111686628, 0.007254703068422857, 0.007254703068422857, 0.958516042125199, 0.9540208528411657, 0.9502439097063774, 0.37547293763862294, 0.06826780684338599, 0.0204803420530158, 0.06826780684338599, 0.006826780684338599, 0.006826780684338599, 0.44374074448200895, 0.8713573801338301, 0.08047286871997554, 0.06035465153998166, 0.020118217179993885, 0.1408275202599572, 0.04023643435998777, 0.12070930307996332, 0.020118217179993885, 0.5029554294998472, 0.06594002416200496, 0.9231603382680695, 0.8876413957325199, 0.8935515725511082, 0.9465049822323793, 0.8665528798540167, 0.26429899383207206, 0.6937848588091892, 0.04495377269306678, 0.15109462488503, 0.053694784050051986, 0.09739984083497803, 0.04120762496864455, 0.09864855674311877, 0.2135304202920672, 0.01623330680582967, 0.11113571582452621, 0.0024974318162814878, 0.01623330680582967, 0.011238443173266695, 0.01623330680582967, 0.011238443173266695, 0.021228170438392646, 0.036212761336081575, 0.011238443173266695, 0.009989727265125951, 0.02497431816281488, 0.009989727265125951, 0.0432245827939404, 0.07204097132323399, 0.014408194264646798, 0.028816388529293597, 0.057632777058587194, 0.014408194264646798, 0.7348179074969867, 0.9390962354668214, 0.06819467511105808, 0.1022920126665871, 0.05114600633329355, 0.1022920126665871, 0.01704866877776452, 0.01704866877776452, 0.6137520759995226, 0.9548618787700202, 0.07295231673587925, 0.875427800830551, 0.10094776295798932, 0.036341194664876154, 0.04037910518319573, 0.01615164207327829, 0.04037910518319573, 0.24227463109917435, 0.09690985243966975, 0.06460656829311316, 0.008075821036639145, 0.048454926219834875, 0.03230328414655658, 0.16959224176942206, 0.008075821036639145, 0.024227463109917437, 0.012113731554958719, 0.01615164207327829, 0.008075821036639145, 0.024227463109917437, 0.008075821036639145, 0.930439895287139, 0.14968620414253017, 0.6985356193318074, 0.12473850345210846, 0.024947700690421692, 0.978276770175301, 0.9465727266096243, 0.7141029338494476, 0.22550618963666766, 0.03758436493944461, 0.9811320647859876, 0.002428654883910607, 0.500302906085585, 0.012143274419553035, 0.4444438437556411, 0.002428654883910607, 0.0340011683747485, 0.002428654883910607, 0.49315671848295844, 0.4585492294666105, 0.00865187225408699, 0.01730374450817398, 0.00865187225408699, 0.8399794193101359, 0.8948542656958616, 0.028299536939436758, 0.933884719001413, 0.0350424148643589, 0.1401696594574356, 0.8059755418802547, 0.22236675841346384, 0.7560469786057771, 0.07081505805570246, 0.04306321097981906, 0.04784801219979895, 0.10717954732754965, 0.03157968805186731, 0.08516946171564213, 0.13301747391544108, 0.03732144951584319, 0.04880497244379493, 0.015311363903935666, 0.05358977366377483, 0.03157968805186731, 0.1138782690355215, 0.013397443415943707, 0.029665767563875352, 0.04210625073582308, 0.024880966343895455, 0.034450568783855245, 0.025837926587891434, 0.00956960243995979, 0.9768635610140264, 0.10139156362943941, 0.07019415943576575, 0.05927506796797996, 0.049915846709877865, 0.031197404193673665, 0.21682195914603197, 0.1762653336942562, 0.05303558712924523, 0.010919091467785783, 0.0374368850324084, 0.023398053145255247, 0.023398053145255247, 0.026517793564622614, 0.012478961677469466, 0.010919091467785783, 0.024957923354938932, 0.02027831272588788, 0.010919091467785783, 0.024957923354938932, 0.012478961677469466, 0.1023351509087725, 0.04449354387337935, 0.08453773335942076, 0.031145480711365546, 0.04894289826071729, 0.28475868078962785, 0.09343644213409663, 0.06229096142273109, 0.06674031581006902, 0.02669612632402761, 0.00889870877467587, 0.022246771936689676, 0.022246771936689676, 0.022246771936689676, 0.00889870877467587, 0.031145480711365546, 0.004449354387337935, 0.004449354387337935, 0.013348063162013805, 0.10527499203289317, 0.8421999362631454, 0.1030278676406408, 0.8242229411251264, 0.037305973306650496, 0.9326493326662624, 0.9237626243858367, 0.917203338979371, 0.053953137587021825, 0.7974619777073649, 0.159492395541473, 0.7276107604824866, 0.21400316484779017, 0.04079395873662577, 0.04079395873662577, 0.20396979368312887, 0.6934972985226381, 0.13409946895002842, 0.033524867237507104, 0.0223499114916714, 0.0558747787291785, 0.0446998229833428, 0.033524867237507104, 0.033524867237507104, 0.033524867237507104, 0.5475728315459494, 0.0558747787291785, 0.8811263795040012, 0.9661868943470805, 0.2678344335430351, 0.6637635961718696, 0.011644975371436309, 0.023289950742872618, 0.011644975371436309, 0.011644975371436309, 0.21608591772937658, 0.027010739716172072, 0.027010739716172072, 0.6752684929043018, 0.027010739716172072, 0.05675586664726433, 0.9175531774641066, 0.02364827776969347, 0.936915605383864, 0.9590269125148129, 0.026401077799648183, 0.07920323339894454, 0.7920323339894454, 0.09240377229876863, 0.8676840617172041, 0.17303371019257344, 0.01081460688703584, 0.04325842754814336, 0.02162921377407168, 0.01081460688703584, 0.6272471994480787, 0.0540730344351792, 0.02162921377407168, 0.02162921377407168, 0.10512164532265517, 0.8559905404844779, 0.007508688951618226, 0.015017377903236453, 0.007508688951618226, 0.1388481652833031, 0.8330889916998186, 0.9642861119439352, 0.1804782532182399, 0.07793379116242179, 0.028712449375629077, 0.0492213417867927, 0.3896689558121089, 0.016407113928930902, 0.15176580384261085, 0.012305335446698176, 0.07383201268018906, 0.008203556964465451, 0.008203556964465451, 0.0394174710526831, 0.25979696830177496, 0.05195939366035499, 0.01075021937800448, 0.02508384521534379, 0.06987642595702913, 0.14871136806239532, 0.12900263253605376, 0.0268755484450112, 0.03225065813401344, 0.09675197440204032, 0.017917032296674136, 0.02508384521534379, 0.008958516148337068, 0.02508384521534379, 0.01612532906700672, 0.014333625837339308, 0.0017917032296674135, 0.0381781862183871, 0.11453455865516131, 0.8017419105861292, 0.8987986657612145, 0.056174916610075905, 0.9763765100016919, 0.090126460674933, 0.11896692809091156, 0.23072373932782847, 0.02884046741597856, 0.0360505842699732, 0.0180252921349866, 0.03244552584297588, 0.0360505842699732, 0.06128599325895444, 0.2199085640468365, 0.01081517528099196, 0.0180252921349866, 0.02163035056198392, 0.03965564269697052, 0.0360505842699732, 0.10073798879321659, 0.13671584193365108, 0.13671584193365108, 0.050368994396608295, 0.021586711884260697, 0.021586711884260697, 0.028782282512347598, 0.035977853140434495, 0.36697410203243186, 0.021586711884260697, 0.007195570628086899, 0.021586711884260697, 0.007195570628086899, 0.043173423768521395, 0.9201018303662453, 0.9083366889962234, 0.06264390958594644, 0.9491053453836579, 0.03767042448255828, 0.07534084896511656, 0.07534084896511656, 0.7910789141337238, 0.17387723336117966, 0.8114270890188385, 0.012630419201713771, 0.004210139733904591, 0.02105069866952295, 0.004210139733904591, 0.004210139733904591, 0.025260838403427542, 0.012630419201713771, 0.004210139733904591, 0.02105069866952295, 0.34944159791408097, 0.025260838403427542, 0.49258634886683705, 0.004210139733904591, 0.012630419201713771, 0.9569188224062636, 0.09261193604259492, 0.008419266912963174, 0.2946743419537111, 0.580929416994459, 0.016838533825926347, 0.08800954560270996, 0.1936210003259619, 0.5104553644957177, 0.052805727361625976, 0.07040763648216797, 0.052805727361625976, 0.23863156915016856, 0.0340902241643098, 0.05113533624646469, 0.0340902241643098, 0.05113533624646469, 0.05113533624646469, 0.5113533624646469, 0.0170451120821549, 0.03052269151293073, 0.9462034369008527, 0.9082795139444001, 0.9415829209329826, 0.8523655691361299, 0.955777058988336, 0.18998606680142247, 0.7836925255558677, 0.9506167919074889, 0.0495045111800139, 0.0165015037266713, 0.5115466155268102, 0.1320120298133704, 0.1980180447200556, 0.0825075186333565, 0.07037148427319484, 0.08255116424355549, 0.09067095089046259, 0.027065955489690326, 0.02841925326417484, 0.024359359940721293, 0.19487487952577034, 0.06495829317525678, 0.029772551038659358, 0.047365422106958065, 0.016239573293814195, 0.05413191097938065, 0.1001440353118542, 0.012179679970360647, 0.03518574213659742, 0.051425315430411615, 0.012179679970360647, 0.03247914658762839, 0.005413191097938065, 0.020299466617267743, 0.06017571284051985, 0.06017571284051985, 0.8424599797672778, 0.8643428136912459, 0.07202856780760382, 0.04805383393125058, 0.08409420937968852, 0.30834543439219125, 0.004004486160937549, 0.02402691696562529, 0.06006729241406323, 0.14015701563281419, 0.06407177857500078, 0.04805383393125058, 0.012013458482812645, 0.03604037544843794, 0.016017944643750195, 0.03203588928750039, 0.04805383393125058, 0.008008972321875097, 0.04805383393125058, 0.008008972321875097, 0.012013458482812645, 0.8214822454226467, 0.842704567298655, 0.9032143057803125, 0.8697594939860078, 0.7962346654555381, 0.961329982965574, 0.09483845947683729, 0.885158955117148, 0.9153715715418208, 0.11724645965671905, 0.3379456778340726, 0.5034700914670877, 0.02758740227216919, 0.006896850568042298, 0.9795152225178155, 0.7211600831964693, 0.2638390548279766, 0.18448557595736093, 0.793287976616652, 0.01844855759573609, 0.9459068431321155, 0.20268491269456088, 0.06333903521705028, 0.03166951760852514, 0.03166951760852514, 0.05067122817364022, 0.03166951760852514, 0.5193800887798122, 0.03166951760852514, 0.012667807043410055, 0.012667807043410055, 0.012667807043410055, 0.1059331747684935, 0.061794351948287876, 0.04413882282020563, 0.01765552912808225, 0.04413882282020563, 0.008827764564041125, 0.008827764564041125, 0.6797378714311666, 0.008827764564041125, 0.008827764564041125, 0.8435652134102178, 0.0965005602735425, 0.8685050424618825, 0.9511827786018594, 0.06094892875585318, 0.7517034546555226, 0.16253047668227513, 0.39614590092719654, 0.38395679628328283, 0.2072147789465336, 0.0060945523219568705, 0.01865806858168108, 0.4851097831237081, 0.44779364596034593, 0.01865806858168108, 0.946093301687003, 0.8595899521849196, 0.8847622633710317, 0.9250137567481318, 0.10802885412987419, 0.021605770825974837, 0.8426250622130186, 0.011736019554770945, 0.5672409451472623, 0.03129605214605585, 0.09388815643816756, 0.011736019554770945, 0.02738404562779887, 0.007824013036513963, 0.22689637805890492, 0.003912006518256982, 0.003912006518256982, 0.015648026073027926, 0.010761373668535386, 0.9792850038367202, 0.3752340441550695, 0.6045437378053897, 0.9148998811639368, 0.9040544624274793, 0.04752682197107565, 0.009505364394215128, 0.9410310750272978, 0.8791292104324997, 0.8794135325909929, 0.04883583289336401, 0.8692778255018794, 0.009767166578672803, 0.009767166578672803, 0.03906866631469121, 0.009767166578672803, 0.009767166578672803, 0.9216915416171061, 0.9701953173879992, 0.9779951923352054, 0.07632232304249582, 0.05088154869499721, 0.12720387173749303, 0.025440774347498606, 0.10176309738999442, 0.025440774347498606, 0.025440774347498606, 0.5851378099924679, 0.006521287991670897, 0.05869159192503807, 0.009781931987506345, 0.3521495515502284, 0.44018693943778553, 0.0032606439958354485, 0.009781931987506345, 0.006521287991670897, 0.009781931987506345, 0.1010799638708989, 0.10227709479428629, 0.8766608125224539, 0.9861603132412006, 0.011395207543555896, 0.005697603771777948, 0.16767233956946534, 0.374413962145408, 0.037441396214540804, 0.0008139433959682783, 0.03418562263066769, 0.310112433863914, 0.002441830187904835, 0.007325490563714504, 0.008953377355651061, 0.0016278867919365565, 0.0008139433959682783, 0.003255773583873113, 0.030929849046794574, 0.0016278867919365565, 0.12325227305286629, 0.47821881944512123, 0.004930090922114652, 0.2366443642615033, 0.07888145475383443, 0.03451063645480256, 0.019720363688458607, 0.019720363688458607, 0.0033763267918613215, 0.048956738481989164, 0.4490514633175558, 0.0033763267918613215, 0.10466613054770098, 0.34269716937392414, 0.015193470563375947, 0.0033763267918613215, 0.011817143771514625, 0.013505307167445286, 0.16217933287757155, 0.4195508828789351, 0.010576913013754666, 0.04583328972627022, 0.2573715500013635, 0.010576913013754666, 0.021153826027509332, 0.049358927397521776, 0.021153826027509332, 0.14550448234016636, 0.03233432940892586, 0.8083582352231465, 0.9569398352588855, 0.8390173210063057, 0.9530073262721765, 0.8659193405116236, 0.7114983725844236, 0.0009133483601853961, 0.285878036738029, 0.0009133483601853961, 0.9651474321414952, 0.016712509647471778, 0.0020890637059339722, 0.0020890637059339722, 0.012534382235603835, 0.9560969715728093, 0.030841837792671266, 0.9190823458969188, 0.10819377765531424, 0.03606459255177141, 0.7934210361389711, 0.8537563770930994, 0.14343107135164068, 0.0359191005846503, 0.17959550292325152, 0.7543011122776564, 0.03595398600146425, 0.0719079720029285, 0.017976993000732126, 0.35953986001464255, 0.017976993000732126, 0.4674018180190353, 0.10173112553324973, 0.8392817856493103, 0.025432781383312432, 0.1584157594214398, 0.09769891783134091, 0.24121145249884735, 0.11867382674428416, 0.0016559138615481511, 0.2544587633912325, 0.0071756267333753215, 0.000551971287182717, 0.08831540594923472, 0.01490322475393336, 0.01103942574365434, 0.004967741584644453, 0.004432283958986868, 0.06205197542581615, 0.026593703753921207, 0.05318740750784241, 0.837701668248518, 0.008864567917973736, 0.07154583433289358, 0.002861833373315743, 0.025756500359841686, 0.05437483409299912, 0.008585500119947229, 0.034342000479788914, 0.24325583673183815, 0.4035185056375198, 0.017171000239894457, 0.02861833373315743, 0.06296033421294635, 0.002861833373315743, 0.014309166866578715, 0.005723666746631486, 0.0200328336132102, 0.002861833373315743, 0.033290521900314764, 0.02774210158359564, 0.08877472506750604, 0.011096840633438255, 0.02219368126687651, 0.005548420316719128, 0.28851785646939465, 0.24413049393564162, 0.005548420316719128, 0.10541998601766343, 0.06658104380062953, 0.03883894221703389, 0.061032623483910406, 0.9266524737208667, 0.93745513877441, 0.07667703849788968, 0.03833851924894484, 0.2875388943670863, 0.02875388943670863, 0.11501555774683452, 0.05750777887341726, 0.00958462981223621, 0.3738005626772122, 0.9000753129992779, 0.8320371369614133, 0.16490826137973957, 0.9510175624350659, 0.025703177363109887, 0.8775445380175562, 0.06268175271553972, 0.986976596302115, 0.010869786302886729, 0.02058256608531521, 0.9673806060098149, 0.8884811585606557, 0.05226359756239151, 0.20404170024808624, 0.23319051456924142, 0.5246786577807933, 0.07752813238571435, 0.10337084318095247, 0.13782779090793662, 0.4910115051095242, 0.14644202783968266, 0.025842710795238116, 0.008614236931746039, 0.02329808034909164, 0.01164904017454582, 0.9435722541382113, 0.09767453140919478, 0.06511635427279652, 0.7813962512735583, 0.9500085223565675, 0.0023038163167131104, 0.14974806058635215, 0.251115978521729, 0.016126714216991772, 0.5552197323278596, 0.004607632633426221, 0.0023038163167131104, 0.0023038163167131104, 0.0023038163167131104, 0.004607632633426221, 0.004607632633426221, 0.0023038163167131104, 0.911994799728604, 0.21738088321486287, 0.7336604808501622, 0.02717261040185786, 0.9309221518210753, 0.877713399665313, 0.06269381426180808, 0.9772601163621523, 0.8763966196665757, 0.03949093437031062, 0.126370989984994, 0.03949093437031062, 0.007898186874062125, 0.15796373748124248, 0.22114923247373947, 0.01579637374812425, 0.01579637374812425, 0.047389121244372744, 0.007898186874062125, 0.2922329143402986, 0.007898186874062125, 0.01579637374812425, 0.8191743215264252, 0.9639444717591772, 0.032131482391972575, 0.06564323426821245, 0.028132814686376763, 0.24381772728193193, 0.6470547377866656, 0.009377604895458922, 0.04844105079375437, 0.04844105079375437, 0.8719389142875786, 0.04844105079375437, 0.8452583829513132, 0.09391759810570147, 0.020815002728972368, 0.8117851064299223, 0.041630005457944735, 0.1248900163738342, 0.8671386310986675, 0.12139940835381345, 0.8932132446580862, 0.932959649671308, 0.022755113406617268, 0.022755113406617268, 0.8937668298727123, 0.06163909171535947, 0.030819545857679737, 0.03894374190809537, 0.11683122572428611, 0.07788748381619073, 0.739931096253812, 0.8751658685075185, 0.9429441969672747, 0.900319333610868, 0.8948679200867853, 0.004408216355107316, 0.004408216355107316, 0.026449298130643898, 0.004408216355107316, 0.013224649065321949, 0.008816432710214633, 0.03526573084085853, 0.9338716398914808, 0.9600736271253512, 0.7334783907348268, 0.9281580486831251, 0.8846214613341834, 0.0465590242807465, 0.9263662866675519, 0.9645120720254429, 0.04655842766737078, 0.09311685533474157, 0.8380516980126741, 0.18417677111534703, 0.7367070844613881, 0.7150433795712253, 0.23190596094201904, 0.0386509934903365, 0.9249479493554577, 0.025234967621966822, 0.11355735429885071, 0.06308741905491706, 0.11355735429885071, 0.5425518038722866, 0.012617483810983411, 0.012617483810983411, 0.07570490286590047, 0.025234967621966822, 0.08039849824670826, 0.04019924912335413, 0.08039849824670826, 0.7235864842203744, 0.04019924912335413, 0.002392651961547486, 0.9283489610804246, 0.002392651961547486, 0.002392651961547486, 0.021533867653927376, 0.004785303923094972, 0.01914121569237989, 0.002392651961547486, 0.016748563730832403, 0.9355225685919567, 0.9728859658664119, 0.038914201959925614, 0.5491226276567281, 0.0345904017421561, 0.021619001088847564, 0.021619001088847564, 0.012971400653308538, 0.008647600435539025, 0.03026660152438659, 0.025942801306617077, 0.008647600435539025, 0.008647600435539025, 0.008647600435539025, 0.021619001088847564, 0.01729520087107805, 0.15133300762193294, 0.0043238002177695125, 0.021619001088847564, 0.0043238002177695125, 0.012971400653308538, 0.9391066893445259, 0.2804497510503952, 0.04769553589292436, 0.04197207158577343, 0.057234643071509224, 0.11256146470730147, 0.04197207158577343, 0.12400839332160332, 0.040064250150056456, 0.057234643071509224, 0.017170392921452768, 0.057234643071509224, 0.01907821435716974, 0.020986035792886715, 0.034340785842905536, 0.003815642871433948, 0.007631285742867896, 0.015262571485735793, 0.005723464307150922, 0.003815642871433948, 0.01335475005001882, 0.027961084492301447, 0.020970813369226085, 0.04194162673845217, 0.006990271123075362, 0.013980542246150723, 0.5592216898460289, 0.07689298235382898, 0.03495135561537681, 0.013980542246150723, 0.013980542246150723, 0.006990271123075362, 0.027961084492301447, 0.006990271123075362, 0.11184433796920579, 0.006990271123075362, 0.027961084492301447, 0.9081590646175803, 0.8751347005247323, 0.02169755455846444, 0.028930072744619253, 0.007232518186154813, 0.014465036372309626, 0.028930072744619253, 0.007232518186154813, 0.007232518186154813, 0.007232518186154813, 0.8039712175046029, 0.08933013527828922, 0.8943437327603988, 0.8766586477431383, 0.017834716924516405, 0.8382316954522709, 0.062421509235807415, 0.07133886769806562, 0.09247978394917918, 0.09247978394917918, 0.09247978394917918, 0.030826594649726393, 0.6473584876442542, 0.05020151812164469, 0.1255037953041117, 0.15060455436493406, 0.05020151812164469, 0.6275189765205585, 0.9438522805400792, 0.258720806209211, 0.03449610749456147, 0.6899221498912295, 0.20786241072009085, 0.727518437520318, 0.8276355574268781, 0.10220759346510917, 0.8789853037999389, 0.19015037768958498, 0.798631586296257, 0.8857298281507707, 0.9468017799468804, 0.00789001483289067, 0.03945007416445335, 0.9433871462992891, 0.023584678657482226, 0.8854729585792555, 0.7013620112108745, 0.05157073611844665, 0.12376976668427196, 0.005157073611844665, 0.01031414722368933, 0.015471220835533995, 0.005157073611844665, 0.025785368059223324, 0.04125658889475732, 0.005157073611844665, 0.005157073611844665, 0.29550142185988637, 0.6923176169288767, 0.023959188216508463, 0.9344083404438301, 0.06108145910056968, 0.06108145910056968, 0.8551404274079756, 0.9295285113946391, 0.09298241047862808, 0.018596482095725616, 0.10228065152649089, 0.004649120523931404, 0.018596482095725616, 0.1115788925743537, 0.051140325763245446, 0.1115788925743537, 0.18131570043332476, 0.013947361571794213, 0.24640338776836443, 0.013947361571794213, 0.009298241047862808, 0.013947361571794213, 0.004649120523931404, 0.06774191974846641, 0.06774191974846641, 0.8806449567300634, 0.0438518712335635, 0.0438518712335635, 0.701629939737016, 0.06577780685034525, 0.10962967808390875, 0.9395985615190585, 0.01555461355028773, 0.023331920325431597, 0.9566087333426955, 0.02093328538970007, 0.05233321347425018, 0.9315311998416532, 0.5282651586361673, 0.46835880044031325, 0.7604920792312021, 0.1294454602946727, 0.09708409522100453, 0.7082682513310683, 0.2851079825273368, 0.0030011366581824926, 0.45521445437256614, 0.5373023068004059, 0.12812942226705196, 0.16262580518510442, 0.6948557130636279, 0.009856109405157843, 0.958283504547143, 0.020832250098850934, 0.9605514688112902, 0.9631991932842784, 0.9101384831926675, 0.06127572040492815, 0.9191358060739222, 0.858331774251185, 0.09537019713902056, 0.1981088820827598, 0.016509073506896652, 0.08254536753448326, 0.0887362700995695, 0.09699080685301784, 0.04127268376724163, 0.018572707695258733, 0.09079990428793158, 0.04333631795560371, 0.03508178120215538, 0.04333631795560371, 0.05984539146250036, 0.020636341883620814, 0.006190902565086244, 0.0784180991577591, 0.04333631795560371, 0.016509073506896652, 0.010318170941810407, 0.010318170941810407, 0.27312897688977644, 0.04370063630236423, 0.021850318151182116, 0.1529522270582748, 0.08740127260472846, 0.010925159075591058, 0.14202706798268375, 0.2622038178141854, 0.1544615577545104, 0.045308723607989716, 0.09679590952615985, 0.08855795977925263, 0.06796308541198458, 0.06178462310180416, 0.032951798987628886, 0.08443898490579901, 0.020594874367268052, 0.0782605225956186, 0.04942769848144333, 0.06178462310180416, 0.03501128642435569, 0.041189748734536104, 0.016475899493814443, 0.014416412057087637, 0.02677333667744847, 0.006178462310180416, 0.014416412057087637, 0.004118974873453611, 0.08459727996404243, 0.7331764263550343, 0.014099546660673737, 0.1127963732853899, 0.028199093321347474, 0.014099546660673737, 0.8266761617597553, 0.10333452021996942, 0.048875490440793756, 0.024437745220396878, 0.024437745220396878, 0.24437745220396878, 0.048875490440793756, 0.09775098088158751, 0.4643171591875407, 0.024437745220396878, 0.8804233682434884, 0.09267614402563036, 0.8616302128974799, 0.9513962358187051, 0.9190035766600688, 0.390397113363194, 0.011975371575558098, 0.007185222945334859, 0.33531040411562674, 0.023950743151116196, 0.004790148630223239, 0.170050276372925, 0.014370445890669718, 0.0023950743151116196, 0.026345817466227817, 0.009580297260446478, 0.0023950743151116196, 0.017302234359658632, 0.8305072492636144, 0.0519067030789759, 0.034604468719317265, 0.0519067030789759, 0.10415765126897986, 0.13019706408622483, 0.013019706408622482, 0.13019706408622483, 0.5338079627535218, 0.05207882563448993, 0.013019706408622482, 0.039059119225867446, 0.23068423754662615, 0.04047091886782915, 0.5180277615082131, 0.012141275660348744, 0.008094183773565829, 0.15783658358453367, 0.012141275660348744, 0.02428255132069749, 0.06266081126531402, 0.8772513577143962, 0.969309032069068, 0.975642127455085, 0.9385034417212033, 0.027574122940311495, 0.004447439183921209, 0.13075471200728353, 0.16099729845794775, 0.014231805388547868, 0.002668463510352725, 0.004447439183921209, 0.07293800261630783, 0.40115901438969304, 0.01512129322533211, 0.00533692702070545, 0.0017789756735684835, 0.008005390531058176, 0.07293800261630783, 0.00533692702070545, 0.024016171593174526, 0.00533692702070545, 0.027574122940311495, 0.01512129322533211, 0.0008894878367842417, 0.047677847596451335, 0.047677847596451335, 0.011919461899112834, 0.6078925568547545, 0.13111408089024118, 0.143033542789354, 0.8678515986710588, 0.48040004248160895, 0.0053977532863102124, 0.0026988766431551062, 0.17812585844823703, 0.3319618271080781, 0.9421780693474923, 0.9050700603620812, 0.7464217969498341, 0.007205861406929335, 0.9511737057146722, 0.01441172281385867, 0.007205861406929335, 0.007205861406929335, 0.8724850146450346, 0.032041596257170936, 0.4934405823604324, 0.032041596257170936, 0.03524575588288803, 0.019224957754302562, 0.13137054465440084, 0.12175806577724956, 0.012816638502868374, 0.025633277005736747, 0.012816638502868374, 0.012816638502868374, 0.0032041596257170934, 0.02883743663145384, 0.012816638502868374, 0.0032041596257170934, 0.009612478877151281, 0.016020798128585468, 0.022654517857276853, 0.621111364587007, 0.028318147321596064, 0.01321513541674483, 0.11704834226259707, 0.18312401934632122, 0.0037757529762128088, 0.0018878764881064044, 0.0018878764881064044, 0.0018878764881064044, 0.0037757529762128088, 0.9461323249872302, 0.8566995578135306, 0.08358044466473469, 0.041790222332367344, 0.611413866635628, 0.16804942533259953, 0.20738014189980367, 0.007151039375855299, 0.10833679934508511, 0.09785259295685106, 0.04193682555293617, 0.11532627027057447, 0.03844209009019149, 0.05242103194117021, 0.06639997379214893, 0.024463148239212765, 0.3145261916470213, 0.006989470925489362, 0.020968412776468087, 0.003494735462744681, 0.017473677313723405, 0.013978941850978723, 0.020968412776468087, 0.017473677313723405, 0.006989470925489362, 0.003494735462744681, 0.03145261916470213, 0.9301271102309682, 0.7698292615847885, 0.10531745952109549, 0.010030234240104333, 0.0050151171200521665, 0.16048374784166933, 0.05015117120052166, 0.03510581984036516, 0.5316024147255296, 0.015045351360156499, 0.05015117120052166, 0.0050151171200521665, 0.015045351360156499, 0.015045351360156499, 0.0050151171200521665, 0.9376105141240969, 0.9751619545772157, 0.05237498792527696, 0.0960208111963411, 0.0698333172337026, 0.02618749396263848, 0.0698333172337026, 0.0349166586168513, 0.02618749396263848, 0.008729164654212826, 0.01745832930842565, 0.008729164654212826, 0.02618749396263848, 0.04364582327106413, 0.02618749396263848, 0.5062915499443439, 0.953199820125244, 0.9756528635789601, 0.9198189544847487, 0.041893432928254974, 0.1340589853704159, 0.026811797074083182, 0.05865080609955697, 0.011730161219911392, 0.09216555244216094, 0.19773700342136347, 0.03183900902547378, 0.10054423902781194, 0.010054423902781193, 0.01508163585417179, 0.01675737317130199, 0.01675737317130199, 0.005027211951390597, 0.043569170245385175, 0.05027211951390597, 0.04692064487964557, 0.03686622097686438, 0.03686622097686438, 0.023460322439822785, 0.05270292938597907, 0.05270292938597907, 0.8168954054826756, 0.05270292938597907, 0.026351464692989535, 0.026351464692989535, 0.8918943810547428, 0.8646302517735095, 0.9563463094725159, 0.023325519743232097, 0.9741595859721548, 0.8676039419185017, 0.024554828544863253, 0.016369885696575503, 0.008184942848287751, 0.008184942848287751, 0.016369885696575503, 0.024554828544863253, 0.024554828544863253, 0.9695286101094569, 0.008147299244617285, 0.005431532829744856, 0.002715766414872428, 0.002715766414872428, 0.005431532829744856, 0.002715766414872428, 0.9805949241596275, 0.8793335103798646, 0.029926971227368628, 0.059853942454737255, 0.8678821655936902, 0.015573458414449251, 0.685232170235767, 0.026280211074383112, 0.04282701063973544, 0.0029200234527092346, 0.028226893376189267, 0.08857404473218011, 0.005840046905418469, 0.029200234527092344, 0.0009733411509030782, 0.0019466823018061564, 0.03212025797980158, 0.0009733411509030782, 0.015573458414449251, 0.008760070358127703, 0.0077867292072246255, 0.0019466823018061564, 0.0009733411509030782, 0.0038933646036123128, 0.040665849559871695, 0.03128142273836284, 0.02815328046452656, 0.009384426821508852, 0.025025138190690275, 0.26589209327608415, 0.16891968278715935, 0.02189699591685399, 0.009384426821508852, 0.025025138190690275, 0.012512569095345137, 0.0031281422738362844, 0.009384426821508852, 0.01564071136918142, 0.3096860851097921, 0.0031281422738362844, 0.01564071136918142, 0.006256284547672569, 0.028876144905562038, 0.6785894052807079, 0.20213301433893427, 0.04331421735834306, 0.028876144905562038, 0.8232737787625223, 0.8197194443424526, 0.07930643302502428, 0.029739912384384105, 0.04460986857657616, 0.009913304128128035, 0.029739912384384105, 0.049566520640640176, 0.049566520640640176, 0.33209568829228914, 0.009913304128128035, 0.009913304128128035, 0.009913304128128035, 0.009913304128128035, 0.07930643302502428, 0.01982660825625607, 0.024783260320320088, 0.01982660825625607, 0.004956652064064018, 0.19330943049849666, 0.8327041610132474, 0.05928547295710581, 0.08248413628814721, 0.05155258518009201, 0.09021702406516102, 0.07732887777013801, 0.05413021443909661, 0.10052754110117942, 0.012888146295023002, 0.05155258518009201, 0.04381969740307821, 0.09537228258317022, 0.028353921849050605, 0.06959598999312422, 0.015465775554027603, 0.09537228258317022, 0.030931551108055205, 0.0025776292590046004, 0.015465775554027603, 0.018043404813032203, 0.01785558951837255, 0.01785558951837255, 0.01785558951837255, 0.0714223580734902, 0.16070030566535298, 0.01785558951837255, 0.0357111790367451, 0.4642453274776864, 0.01785558951837255, 0.16070030566535298, 0.011201699755388927, 0.03360509926616678, 0.11201699755388929, 0.2352356948631675, 0.10081529779850036, 0.056008498776944644, 0.022403399510777855, 0.07841189828772249, 0.011201699755388927, 0.31364759315088997, 0.03360509926616678, 0.9818792223581085, 0.9865124774866516, 0.40813211464967164, 0.01677255265683582, 0.04286319012302488, 0.10995340075036816, 0.1714527604920995, 0.029817871389930348, 0.007454467847482587, 0.014908935694965174, 0.03727233923741294, 0.00559085088561194, 0.07081744455108457, 0.01118170177122388, 0.029817871389930348, 0.014908935694965174, 0.0018636169618706467, 0.007454467847482587, 0.01118170177122388, 0.00559085088561194, 0.00559085088561194, 0.4302889634413563, 0.007418775231747523, 0.02225632569524257, 0.033384488542863855, 0.3746481492032499, 0.007418775231747523, 0.0037093876158737615, 0.011128162847621284, 0.05935020185398018, 0.011128162847621284, 0.03709387615873761, 0.0037093876158737615, 0.6458843567387613, 0.0066931021423705835, 0.026772408569482334, 0.1673275535592646, 0.0033465510711852917, 0.0033465510711852917, 0.0033465510711852917, 0.0066931021423705835, 0.07697067463726172, 0.013386204284741167, 0.03681206178303821, 0.0033465510711852917, 0.0033465510711852917, 0.9826849935556368, 0.9393489159273787, 0.8671155765830009, 0.11561541021106678, 0.9790367418061549, 0.008635477492315923, 0.21012995231302078, 0.011513969989754564, 0.002878492497438641, 0.37708251716446195, 0.2705782947592323, 0.005756984994877282, 0.002878492497438641, 0.002878492497438641, 0.06044834244621146, 0.002878492497438641, 0.04317738746157961, 0.9018792535705424, 0.6301497716359977, 0.006001426396533311, 0.018004279189599934, 0.13803280712026617, 0.03000713198266656, 0.012002852793066622, 0.07201711675839974, 0.024005705586133245, 0.006001426396533311, 0.03600855837919987, 0.006001426396533311, 0.018004279189599934, 0.006001426396533311, 0.8985817702731865, 0.9699591316436645, 0.09086231703653062, 0.008260210639684603, 0.809500642689091, 0.04130105319842301, 0.04130105319842301, 0.9504329553955234, 0.10661918166349649, 0.7366416187659758, 0.058155917270998086, 0.08723387590649713, 0.11487734766641555, 0.827116903198192, 0.034463204299924666, 0.011487734766641555, 0.0632196982463404, 0.9230075943965698, 0.04330432924036115, 0.12991298772108345, 0.04330432924036115, 0.7794779263265007, 0.9684465188096381, 0.9805990121471618, 0.9448703900142676, 0.10280719380747173, 0.028038325583855928, 0.06542275969566383, 0.018692217055903952, 0.5327281860932627, 0.037384434111807904, 0.009346108527951976, 0.14019162791927964, 0.018692217055903952, 0.009346108527951976, 0.009346108527951976, 0.9539341769260301, 0.9428470648459272, 0.041829956826294507, 0.016088444933190196, 0.02574151189310431, 0.003217688986638039, 0.003217688986638039, 0.9041706052452889, 0.9848515794831258, 0.4179553868272906, 0.13678539932529513, 0.03039675540562114, 0.03039675540562114, 0.06079351081124228, 0.2887691763534008, 0.03039675540562114, 0.7944694906779954, 0.09325408313807654, 0.004662704156903827, 0.10724219560878802, 0.07926597066736506, 0.5338796259654881, 0.004662704156903827, 0.018650816627615308, 0.03030757701987487, 0.004662704156903827, 0.009325408313807654, 0.05828380196129783, 0.01398811247071148, 0.02098216870606722, 0.004662704156903827, 0.01398811247071148, 0.9694766885612481, 0.06381730206018141, 0.3376141141248307, 0.2717381894175467, 0.04940694353046303, 0.010293113235513131, 0.09469664176672081, 0.05970005676597616, 0.01646898117682101, 0.006175867941307879, 0.0020586226471026262, 0.014410358529718384, 0.05970005676597616, 0.010293113235513131, 0.0041172452942052525, 0.8325647143680227, 0.02399872134304137, 0.09599488537216548, 0.8639539683494893, 0.08785206698475716, 0.23160999477799613, 0.055905860808481825, 0.015973103088137663, 0.04791930926441299, 0.015973103088137663, 0.03993275772034416, 0.04791930926441299, 0.023959654632206496, 0.023959654632206496, 0.007986551544068831, 0.007986551544068831, 0.055905860808481825, 0.023959654632206496, 0.031946206176275325, 0.26355620095427146, 0.007986551544068831, 0.9433380142024083, 0.6192790261327821, 0.005432272159059492, 0.003621514772706328, 0.001810757386353164, 0.1358068039764873, 0.18831876818072907, 0.001810757386353164, 0.005432272159059492, 0.001810757386353164, 0.005432272159059492, 0.012675301704472147, 0.001810757386353164, 0.001810757386353164, 0.014486059090825312, 0.936646124875922, 0.032298142237100765, 0.830486811910034, 0.07327824810970889, 0.04885216540647259, 0.8228205189331242, 0.06577780311238639, 0.09567680452710746, 0.0011959600565888432, 0.0023919201131776865, 0.0011959600565888432, 0.008371720396121904, 0.9458558776186096, 0.08749405333532001, 0.8749405333532001, 0.00910571384966581, 0.00910571384966581, 0.00910571384966581, 0.10016285234632391, 0.8331728172444216, 0.01821142769933162, 0.01821142769933162, 0.2261394551289204, 0.10437205621334787, 0.03479068540444929, 0.06958137080889858, 0.017395342702224644, 0.06958137080889858, 0.43488356755561614, 0.7143855278390904, 0.2784892735643911, 0.6569493420431028, 0.335178235736277, 0.004469043143150359, 0.8195446896897918, 0.012692924202169406, 0.8440794594442654, 0.012692924202169406, 0.012692924202169406, 0.02538584840433881, 0.04442523470759292, 0.012692924202169406, 0.012692924202169406, 0.006346462101084703, 0.0687666376409516, 0.8251996516914192, 0.0687666376409516, 0.9632658026593818, 0.893775194853917, 0.9745004407388603, 0.9402480974020181, 0.9573814527351073, 0.022264684947328077, 0.040877629046521535, 0.020438814523260768, 0.9197466535467345, 0.9333791503549419, 0.01010933367655065, 0.9017525639483179, 0.08694026961833559, 0.04441347177183472, 0.20552116349319594, 0.034398669313479825, 0.03178611215043073, 0.03483409550732135, 0.129757005764772, 0.18853954193337677, 0.02220673588591736, 0.02438386685512494, 0.010450228652196403, 0.01349821200908702, 0.01654619536597764, 0.013933638202928538, 0.01088565484603792, 0.034398669313479825, 0.10842112226653769, 0.009143950070671853, 0.016110769172136122, 0.02481929304896646, 0.026125571630491007, 0.09605002156901017, 0.16500901141342775, 0.11082694796424251, 0.007388463197616167, 0.14284362182057925, 0.05171924238331317, 0.1231410532936028, 0.0664961687785455, 0.004925642131744111, 0.03447949492220878, 0.019702568526976445, 0.01723974746110439, 0.009851284263488223, 0.0664961687785455, 0.032016673856336726, 0.0024628210658720557, 0.027091031724592613, 0.007388463197616167, 0.009851284263488223, 0.007388463197616167, 0.07446085963020196, 0.8190694559322216, 0.07446085963020196, 0.9070663407769273, 0.9058355817919284, 0.017761481995920165, 0.017761481995920165, 0.03552296399184033, 0.952701958116368, 0.020270254428007832, 0.05240421382294874, 0.8908716349901287, 0.928145747384858, 0.03480546552693217, 0.02320364368462145, 0.011601821842310725, 0.8860100788524283, 0.022718207150062265, 0.011359103575031133, 0.06815462145018679, 0.011359103575031133, 0.849265389223391, 0.8512510263927333, 0.965594627156414, 0.160318972473567, 0.04580542070673343, 0.04580542070673343, 0.09161084141346686, 0.1832216828269337, 0.45805420706733424, 0.6766631486307096, 0.008787833099100126, 0.008787833099100126, 0.24166541022525345, 0.03075741584685044, 0.021969582747750314, 0.004393916549550063, 0.0450977096201524, 0.2128835982069306, 0.046778369605996586, 0.0767501393535513, 0.0442573796272303, 0.07310870938422222, 0.15994280865283864, 0.026610449775866324, 0.09551750919547806, 0.012604949893831416, 0.016246379863160493, 0.009803849917424435, 0.01652648986080119, 0.014005499882034906, 0.024929789790022135, 0.055741889530498925, 0.014285609879675604, 0.015406049870238397, 0.024929789790022135, 0.014845829874957, 0.028849980273680582, 0.8654994082104175, 0.08654994082104175, 0.8477113886253349, 0.14388473458032686, 0.07194236729016343, 0.14388473458032686, 0.6235005165147498, 0.8769912548311994, 0.007095203010542555, 0.8939955793283619, 0.012163205160930095, 0.0020272008601550156, 0.003040801290232524, 0.07196563053550306, 0.004054401720310031, 0.0050680021503875395, 0.0010136004300775078, 0.9610747546294134, 0.027459278703697524, 0.09520955491584301, 0.021971435749809927, 0.18309529791508272, 0.021971435749809927, 0.007323811916603308, 0.10253336683244632, 0.1611238621652728, 0.03661905958301654, 0.21971435749809926, 0.03661905958301654, 0.029295247666413234, 0.014647623833206617, 0.007323811916603308, 0.043942871499619854, 0.007323811916603308, 0.00932543250147209, 0.00932543250147209, 0.04662716250736045, 0.4569461925721324, 0.41964446256624405, 0.01865086500294418, 0.01865086500294418, 0.8104576261527546, 0.08104576261527546, 0.08104576261527546, 0.14106927671197916, 0.03526731917799479, 0.1340158128763802, 0.042320783013593745, 0.014106927671197915, 0.014106927671197915, 0.06348117452039062, 0.014106927671197915, 0.0070534638355989575, 0.3526731917799479, 0.014106927671197915, 0.02821385534239583, 0.10580195753398437, 0.02821385534239583, 0.006239479504952149, 0.024957918019808595, 0.23710022118818166, 0.04367635653466504, 0.6426663890100713, 0.031197397524760744, 0.006239479504952149, 0.0758526515088061, 0.03792632575440305, 0.8723054923512701, 0.9426848465905195, 0.07153864037721616, 0.08416310632613666, 0.05891417442829566, 0.04208155316306833, 0.06733048506090933, 0.05891417442829566, 0.025248931897840998, 0.13045281480551182, 0.025248931897840998, 0.012624465948920499, 0.025248931897840998, 0.021040776581534165, 0.025248931897840998, 0.025248931897840998, 0.02945708721414783, 0.29036271682517145, 0.008416310632613666, 0.9732524411586839, 0.9575080666776986, 0.05786381175507669, 0.1012616705713842, 0.07232976469384586, 0.014465952938769172, 0.05786381175507669, 0.13019357644892254, 0.04339785881630751, 0.05786381175507669, 0.43397858816307516, 0.028931905877538345, 0.028931905877538345, 0.7894147923143944, 0.9055054918005875, 0.9037848008948073, 0.9152469879860227, 0.9929350708552743, 0.9547703855401539, 0.018964676797560247, 0.07585870719024099, 0.037929353595120494, 0.11378806078536148, 0.05689403039268074, 0.018964676797560247, 0.6258343343194881, 0.037929353595120494, 0.8497288398438326, 0.13416771155428936, 0.11068911767179819, 0.055344558835899095, 0.7748238237025873, 0.8987610217853106, 0.12982837493285398, 0.7789702495971239, 0.8399676898367142, 0.04837510255604113, 0.10114794170808601, 0.00439773659600374, 0.8942724140561954, 0.8675569966622992, 0.10367834741570098, 0.05183917370785049, 0.8294267793256078, 0.011490259646447487, 0.005745129823223743, 0.022980519292894973, 0.25853084204506843, 0.011490259646447487, 0.12639285611092235, 0.04596103858578995, 0.4768457753275707, 0.028725649116118718, 0.005745129823223743, 0.011490259646447487, 0.12235406302692155, 0.7953014096749901, 0.007720618969273549, 0.10294158625698065, 0.038603094846367744, 0.27794228289384776, 0.002573539656424516, 0.01286769828212258, 0.05404433278491484, 0.05404433278491484, 0.29338352083239483, 0.033456015533518714, 0.01286769828212258, 0.002573539656424516, 0.02573539656424516, 0.01286769828212258, 0.01286769828212258, 0.010294158625698064, 0.007720618969273549, 0.010294158625698064, 0.02573539656424516, 0.867760649893523, 0.07231338749112691, 0.1194892894678255, 0.05974464473391275, 0.7318718979904312, 0.05974464473391275, 0.014936161183478187, 0.014936161183478187, 0.9757588095624226, 0.9663721456636355, 0.0660528624908304, 0.0660528624908304, 0.01887224642595154, 0.047180616064878854, 0.03774449285190308, 0.07548898570380616, 0.6510925016953282, 0.01887224642595154, 0.01887224642595154, 0.043684936680255144, 0.12013357587070164, 0.03276370251019136, 0.1419760442108292, 0.010921234170063786, 0.16381851255095678, 0.043684936680255144, 0.43684936680255143, 0.9033545965475052, 0.00441877413923894, 0.0220938706961947, 0.03535019311391152, 0.38885212425302673, 0.00220938706961947, 0.00220938706961947, 0.04639712846200887, 0.4462961880631329, 0.00883754827847788, 0.00883754827847788, 0.01104693534809735, 0.01104693534809735, 0.01104693534809735, 0.00220938706961947, 0.7762155709295037, 0.13073104352496903, 0.07353621198279509, 0.03764408762169324, 0.03764408762169324, 0.07528817524338648, 0.03764408762169324, 0.6775935771904783, 0.07528817524338648, 0.03665045978406312, 0.06413830462211047, 0.25655321848844187, 0.01832522989203156, 0.01832522989203156, 0.05497568967609468, 0.01832522989203156, 0.16492706902828405, 0.31152890816453654, 0.00916261494601578, 0.03665045978406312, 0.00916261494601578, 0.8687071922965088, 0.8723302981207757, 0.060138065525917744, 0.12027613105183549, 0.7817948518369306, 0.8822557353237555, 0.8587331221075896, 0.18031246381831742, 0.8114060871824283, 0.023782920760638218, 0.9513168304255287, 0.8425789384594745, 0.015955622548300137, 0.7778365992296317, 0.1994452818537517, 0.9251618312306293, 0.014240530807513106, 0.17088636969015727, 0.028481061615026212, 0.014240530807513106, 0.6408238863380897, 0.08544318484507864, 0.014240530807513106, 0.014240530807513106, 0.8784201720439979, 0.025687202107261987, 0.019265401580446487, 0.044952603687708474, 0.019265401580446487, 0.057796204741339466, 0.03210900263407748, 0.09632700790223245, 0.09632700790223245, 0.03210900263407748, 0.18623221527764938, 0.038530803160892975, 0.03210900263407748, 0.06421800526815497, 0.08348340684860145, 0.019265401580446487, 0.14127961158994093, 0.8946278226456127, 0.9033244528321625, 0.9871304283914544, 0.9537966438880173, 0.8843166254616054, 0.042914051991175914, 0.010097423997923745, 0.12369344397456587, 0.19942412395899395, 0.04796276399013779, 0.06563325598650434, 0.05553583198858059, 0.05553583198858059, 0.16155878396677992, 0.017670491996366552, 0.007573067998442809, 0.050487119989618724, 0.002524355999480936, 0.005048711998961872, 0.10097423997923745, 0.027767915994290297, 0.012621779997404681, 0.010097423997923745, 0.005048711998961872, 0.07255875223414822, 0.8948912775544947, 0.7655719797584044, 0.96184447148243, 0.08290582443550867, 0.9027523105199833, 0.1236615285996263, 0.07441578712189902, 0.13132197727393943, 0.07660448674313133, 0.05034009128834345, 0.07551013693251517, 0.06456663882635355, 0.08426493541744447, 0.0459626920458788, 0.052528790909575775, 0.04049094299279799, 0.026264395454787887, 0.0229813460229394, 0.0317361445078687, 0.0229813460229394, 0.03283049431848486, 0.013132197727393944, 0.008754798484929296, 0.007660448674313133, 0.014226547538010104, 0.978164318977888, 0.8779188866212811, 0.8314308742397405, 0.006019291148638141, 0.6139676971610905, 0.012038582297276283, 0.024077164594552565, 0.1023279495268484, 0.0722314937836577, 0.006019291148638141, 0.05417362033774327, 0.012038582297276283, 0.006019291148638141, 0.08427007608093398, 0.0018971468108117, 0.7256586551354752, 0.017074321297305302, 0.0436343766486691, 0.00094857340540585, 0.01612574789189945, 0.0493258170811042, 0.0028457202162175503, 0.10718879481086105, 0.0028457202162175503, 0.01802289470271115, 0.0028457202162175503, 0.0018971468108117, 0.00094857340540585, 0.00664001383784095, 0.8868425675746872, 0.08062205159769884, 0.7644709402288488, 0.18452746833110142, 0.02636106690444306, 0.7769483079702743, 0.1875392467514455, 0.017241150143008758, 0.9482632578654817, 0.017241150143008758, 0.017241150143008758, 0.07898297944327266, 0.8951404336904234, 0.005120412144686915, 0.5632453359155606, 0.028162266795778032, 0.38915132299620553, 0.005120412144686915, 0.0025602060723434574, 0.005120412144686915, 0.7763276493022386, 0.958068242215692, 0.9179738695642579, 0.09853436028372782, 0.050760124994647667, 0.08061902205032277, 0.3254619779068586, 0.02687300735010759, 0.0597177941113502, 0.03583067646681012, 0.050760124994647667, 0.06867546322805272, 0.04478834558351265, 0.02687300735010759, 0.03583067646681012, 0.020901227938972568, 0.00597177941113502, 0.00597177941113502, 0.01194355882227004, 0.020901227938972568, 0.00298588970556751, 0.00597177941113502, 0.020901227938972568, 0.06572252709364529, 0.032861263546822644, 0.032861263546822644, 0.032861263546822644, 0.06572252709364529, 0.7229477980300982, 0.9235038850963969, 0.905625118910257, 0.9257290474833246, 0.9626789856537106, 0.6990373695647845, 0.9663963944296456, 0.8915633281052653, 0.03247062388659629, 0.892942156881398, 0.056823591801543505, 0.008117655971649073, 0.9542542581630832, 0.014458397850955805, 0.014458397850955805, 0.9828337693858621, 0.012932023281392922, 0.8332596658485452, 0.048304908165133054, 0.10868604337154937, 0.8868339550187861, 0.05216670323639919, 0.9075111882588047, 0.036300447530352185, 0.006050074588392031, 0.024200298353568125, 0.02117526105937211, 0.9615167267884844, 0.07563631242767034, 0.8319994367043737, 0.9142819281466895, 0.16739172624333748, 0.11280746768572743, 0.20742018251891817, 0.3493392547687043, 0.01091685171152201, 0.01819475285253668, 0.01091685171152201, 0.04730635741659537, 0.014555802282029346, 0.02183370342304402, 0.014555802282029346, 0.02183370342304402, 0.14928199826379607, 0.026343882046552247, 0.24587623243448764, 0.026343882046552247, 0.35125176062069663, 0.03512517606206966, 0.004390647007758708, 0.052687764093104494, 0.008781294015517416, 0.01756258803103483, 0.008781294015517416, 0.030734529054310955, 0.008781294015517416, 0.004390647007758708, 0.026343882046552247, 0.9686302658376701, 0.9744796866277216, 0.01591297293738082, 0.8433875656811833, 0.00795648646869041, 0.07160837821821368, 0.01591297293738082, 0.047738918812142456, 0.8961069511142679, 0.0642359388809359, 0.042823959253957274, 0.0642359388809359, 0.8136552258251881, 0.03917655555905534, 0.9010607778582729, 0.9084906871672287, 0.07672766923126396, 0.8823681961595355, 0.9377391768217099, 0.04854630027490943, 0.2346404513287289, 0.06472840036654591, 0.06877392538945502, 0.032364200183272955, 0.08091050045818238, 0.06068287534363679, 0.020227625114545594, 0.12136575068727358, 0.012136575068727357, 0.024273150137454715, 0.008091050045818239, 0.020227625114545594, 0.020227625114545594, 0.020227625114545594, 0.016182100091636478, 0.12136575068727358, 0.016182100091636478, 0.857511822206821, 0.8822389783331602, 0.14720805118430683, 0.06224797592936403, 0.07738937547974988, 0.08411888639103247, 0.08075413093539117, 0.0815953197993015, 0.0580420316098124, 0.0580420316098124, 0.03953587660378526, 0.03280636569250266, 0.051312520698529804, 0.04458300978724721, 0.03196517682859234, 0.03196517682859234, 0.029441610236861364, 0.04037706546769559, 0.01430021068647552, 0.010935455230834222, 0.011776644094744547, 0.010935455230834222, 0.9622681119881301, 0.9135079219653226, 0.012866308760074966, 0.012866308760074966, 0.03216577190018741, 0.012866308760074966, 0.012866308760074966, 0.004394677514510832, 0.19776048815298744, 0.7646738875248847, 0.030762742601575823, 0.023856576525680965, 0.011928288262840482, 0.9542630610272386, 0.07550256118819378, 0.9060307342583253, 0.03136962663685406, 0.8093363672308347, 0.03136962663685406, 0.06901317860107893, 0.018821775982112435, 0.025095701309483246, 0.012547850654741623, 0.16191941132553825, 0.09715164679532294, 0.7124454098323683, 0.9097906613944777, 0.017329345931323386, 0.06065271075963185, 0.9279593756299654, 0.8857404949659726, 0.05535878093537329, 0.06687859430560003, 0.847128861204267, 0.04458572953706669, 0.19745561234058379, 0.044989886356082386, 0.09747808710484517, 0.03499213383250852, 0.08498089645037783, 0.05498763887965625, 0.042490448225188916, 0.06748482953412357, 0.007498314392680397, 0.03249269570161505, 0.08997977271216477, 0.037491571963401985, 0.05748707701054971, 0.09747808710484517, 0.002499438130893466, 0.007498314392680397, 0.009997752523573863, 0.004998876261786932, 0.014996628785360793, 0.007498314392680397, 0.3631911508795193, 0.02368637940518604, 0.04737275881037208, 0.018422739537366922, 0.06316367841382944, 0.0394772990086434, 0.036845479074733845, 0.036845479074733845, 0.00263181993390956, 0.02368637940518604, 0.04474093887646252, 0.0263181993390956, 0.00526363986781912, 0.2105455947127648, 0.00526363986781912, 0.00526363986781912, 0.0131590996695478, 0.0263181993390956, 0.00789545980172868, 0.5667343980047055, 0.006160156500051147, 0.41273048550342684, 0.006160156500051147, 0.006160156500051147, 0.07674403198519775, 0.09418585743637904, 0.06782932119903841, 0.1934104644475438, 0.06162778326084061, 0.027131728479615362, 0.04379836168852194, 0.03488365090236261, 0.16085239027200537, 0.018604613814593392, 0.04457355393079667, 0.01162788363412087, 0.03643403538691206, 0.017829421572318666, 0.026744132358478, 0.037209227629186784, 0.013953460360945044, 0.01162788363412087, 0.0077519224227472466, 0.01317826811867032, 0.05703462079256238, 0.47239544612970147, 0.07935251588530418, 0.0037196491821236332, 0.05951438691397813, 0.06819356833893328, 0.1289478383136193, 0.021078012032033924, 0.026037544274865435, 0.006199415303539389, 0.0334768426391127, 0.008679181424955145, 0.009919064485663022, 0.012398830607078777, 0.0037196491821236332, 0.0037196491821236332, 0.0012398830607078777, 0.006199415303539389, 0.014870382601534957, 0.04461114780460487, 0.014870382601534957, 0.9219637212951673, 0.989628266577691, 0.021806782670347632, 0.6199356787713113, 0.015576273335962594, 0.012461018668770077, 0.009345764001577557, 0.003115254667192519, 0.021806782670347632, 0.018691528003155114, 0.009345764001577557, 0.006230509334385038, 0.018691528003155114, 0.006230509334385038, 0.03738305600631023, 0.003115254667192519, 0.15576273335962595, 0.02803729200473267, 0.003115254667192519, 0.003115254667192519, 0.003115254667192519, 0.9578040909906149, 0.10893006214449841, 0.8351304764411545, 0.40218702621273095, 0.012568344569147842, 0.012568344569147842, 0.553007161042505, 0.7815218918988228, 0.18235510810972533, 0.01302536486498038, 0.858296613757769, 0.011293376496812751, 0.022586752993625503, 0.06776025898087651, 0.011293376496812751, 0.8916654910987613, 0.9742450171336413, 0.9667999688074899, 0.7963574656852762, 0.9863748238558063, 0.030900711873469613, 0.9656472460459254, 0.12072181959379913, 0.030180454898449782, 0.09054136469534935, 0.7243309175627948, 0.9161280867575071, 0.026944943728161974, 0.9756013132890055, 0.8574849919555955, 0.8862419595319484, 0.05723757227660948, 0.9158011564257517, 0.8944743565949834, 0.011583341318944118, 0.20850014374099415, 0.017375011978416177, 0.7587088563908397, 0.1188481454327792, 0.8319370180294544, 0.9370848451781048, 0.9430508856839173, 0.8943868736937235, 0.03438895587136802, 0.8941128526555685, 0.03438895587136802, 0.8536479938565773, 0.8665287257840951, 0.9549500366577779, 0.8335604144395026, 0.09806593111052972, 0.7729923315857065, 0.8488737620910475, 0.8355533422333039, 0.027851778074443466, 0.027851778074443466, 0.027851778074443466, 0.05570355614888693, 0.8898946901032891, 0.9775983239235649, 0.0044537509062576985, 0.015588128171901946, 0.9684952462668855, 0.01976520910748746, 0.412948511009078, 0.2661223737614058, 0.30282890807332385, 0.08043047168443909, 0.02234179769012197, 0.11170898845060985, 0.026810157228146364, 0.008936719076048788, 0.04468359538024394, 0.0714937526083903, 0.2815066508955368, 0.1429875052167806, 0.05362031445629273, 0.049151954918268334, 0.026810157228146364, 0.004468359538024394, 0.04468359538024394, 0.008936719076048788, 0.008936719076048788, 0.008936719076048788, 0.8726975283421448, 0.030578318674423274, 0.937735106015647, 0.02038554578294885, 0.9794652206831989, 0.16570822649804937, 0.0530266324793758, 0.019884987179765924, 0.006628329059921975, 0.25187650427703506, 0.37781475641555257, 0.019884987179765924, 0.0265133162396879, 0.04639830341945383, 0.006628329059921975, 0.0265133162396879, 0.693614362802454, 0.30295799754589947, 0.9437589125506818, 0.13135088993210794, 0.021891814988684657, 0.021891814988684657, 0.7224298946265937, 0.032837722483026986, 0.043783629977369315, 0.021891814988684657, 0.5903835029703591, 0.14481104789838997, 0.25620416166638227, 0.5535347314388421, 0.15096401766513876, 0.25379458042255215, 0.003828797549478157, 0.017229588972651706, 0.0016409132354906388, 0.001367427696242199, 0.008204566177453194, 0.009298508334446953, 0.2325650608363302, 0.17979819829363342, 0.5472119078501887, 0.003908656484644205, 0.01758895418089892, 0.01758895418089892, 0.9331614229340239, 0.898602339096942, 0.0809303743702364, 0.3884657969771347, 0.45321009647332383, 0.06474429949618912, 0.9898153870630675, 0.9949283243678646, 0.17732816165213622, 0.11564880107748016, 0.00770992007183201, 0.01541984014366402, 0.02312976021549603, 0.2775571225859524, 0.02312976021549603, 0.2929769627296164, 0.03083968028732804, 0.03083968028732804, 0.01541984014366402, 0.09930791171518626, 0.01986158234303725, 0.09930791171518626, 0.01986158234303725, 0.05958474702911175, 0.05958474702911175, 0.05958474702911175, 0.09268738426750717, 0.04634369213375358, 0.09268738426750717, 0.01986158234303725, 0.013241054895358166, 0.026482109790716333, 0.0397231646860745, 0.006620527447679083, 0.03310263723839542, 0.013241054895358166, 0.03310263723839542, 0.16551318619197708, 0.9378791843358958, 0.026796548123882737, 0.9424360442074918, 0.07645608702706205, 0.016990241561569346, 0.13592193249255477, 0.008495120780784673, 0.044174628060080295, 0.11043657015020075, 0.06626194209012044, 0.08495120780784672, 0.005097072468470804, 0.05266974884086497, 0.011893169093098541, 0.33810580707522997, 0.008495120780784673, 0.0016990241561569345, 0.003398048312313869, 0.025485362342354018, 0.005097072468470804, 0.005097072468470804, 0.9150750605152825, 0.8740078085182612, 0.030469737651810436, 0.9445618672061236, 0.9697711252735808, 0.15471127402120108, 0.06155179719123054, 0.0831781043124737, 0.048243300501234744, 0.10480441143371685, 0.05157042467373369, 0.08484166639872318, 0.048243300501234744, 0.026616993379991582, 0.013308496689995791, 0.059888235104981064, 0.013308496689995791, 0.036598365897488425, 0.03493480381123895, 0.02495343129374211, 0.07486029388122632, 0.011644934603746318, 0.009981372517496844, 0.036598365897488425, 0.01996274503499369, 0.9319517010223876, 0.9520624793736003, 0.0781598827107427, 0.8988386511735411, 0.8427074432020629, 0.9919763771527415, 0.7039043369544992, 0.10737523784051682, 0.08351407387595754, 0.023861163964559295, 0.01789587297341947, 0.011930581982279647, 0.03579174594683894, 0.011930581982279647, 0.9411464491548811, 0.9706554025196719, 0.9321074595156658, 0.05975970929053969, 0.11951941858107938, 0.776876220777016, 0.3608110489399274, 0.004244835869881498, 0.6197460370026988, 0.004244835869881498, 0.008489671739762996, 0.9963006187587177, 0.06316751633785421, 0.24152285658591316, 0.037157362551678945, 0.024152285658591316, 0.0018578681275839475, 0.105898483272285, 0.04087309880684684, 0.039015230679262894, 0.035299494424095, 0.01486294502067158, 0.003715736255167895, 0.3455634717306142, 0.00743147251033579, 0.0018578681275839475, 0.02043654940342342, 0.01300507689308763, 0.0018578681275839475, 0.0018578681275839475, 0.8424672335469787, 0.029611930363267192, 0.014805965181633596, 0.13325368663470236, 0.14805965181633596, 0.014805965181633596, 0.4293729902673743, 0.029611930363267192, 0.04441789554490079, 0.04441789554490079, 0.11844772145306877, 0.03261444919770313, 0.9458190267333907, 0.02767736645743783, 0.9548691427816051, 0.006919341614359457, 0.03203558368518727, 0.9290319268704308, 0.8925121897914591, 0.8569269138108293, 0.13421746842820217, 0.8630329048724623, 0.662564936011351, 0.02453944207449448, 0.2944733048939338, 0.7156275018959796, 0.2467681041020619, 0.8670295700730314, 0.12386136715329019, 0.006964602345467399, 0.039466079957648594, 0.05571681876373919, 0.0023215341151557995, 0.33662244669759095, 0.3644808560794605, 0.013929204690934798, 0.013929204690934798, 0.011607670575778998, 0.13929204690934796, 0.0023215341151557995, 0.006964602345467399, 0.9255506218960998, 0.9453311655594518, 0.027856600693363997, 0.9471244235743759, 0.07087783699875823, 0.023625945666252743, 0.8741599896513516, 0.9062717932040188, 0.9302473846226482, 0.15465098251109946, 0.15465098251109946, 0.06627899250475691, 0.011046498750792819, 0.07732549125554973, 0.06627899250475691, 0.044185995003171274, 0.022092997501585637, 0.36453445877616303, 0.022092997501585637, 0.022092997501585637, 0.05221068881463761, 0.20884275525855045, 0.6656862823866295, 0.026105344407318806, 0.013052672203659403, 0.013052672203659403, 0.9169455962382921, 0.8947381715746218, 0.07303985074078545, 0.8979017960397718, 0.0653019488028925, 0.016325487200723125, 0.8594116956942794, 0.050629046051253256, 0.050629046051253256, 0.10125809210250651, 0.025314523025626628, 0.025314523025626628, 0.025314523025626628, 0.7341211677431722, 0.8236326411828265, 0.9874293422924064, 0.9732383727172847, 0.9459776476324083, 0.10202411137917634, 0.0291497461083361, 0.004858291018056017, 0.048582910180560164, 0.8113346000153547, 0.7383514909195166, 0.1640781090932259, 0.041019527273306475, 0.8723146266191056, 0.957897696827436, 0.03361044550271705, 0.9445838521598824, 0.8441860687928772, 0.049658004046639836, 0.049658004046639836, 0.9563976848852079, 0.8005889516232836, 0.9106077472482734, 0.8197376190390842, 0.05474276916824868, 0.8758843066919789, 0.09359326269399841, 0.08853416741324173, 0.0430023098864317, 0.030354571684540022, 0.07082733393059339, 0.020236381123026684, 0.045531857526810035, 0.05312050044794504, 0.1138296438170251, 0.0430023098864317, 0.06829778629021506, 0.017706833482648347, 0.025295476403783355, 0.08094552449210674, 0.030354571684540022, 0.08347507213248506, 0.010118190561513342, 0.025295476403783355, 0.02782502404416169, 0.030354571684540022, 0.06775021749620104, 0.06775021749620104, 0.8130026099544125, 0.9699979227703096, 0.05364905548074197, 0.026824527740370984, 0.13412263870185492, 0.08047358322111295, 0.10729811096148394, 0.026824527740370984, 0.5364905548074197, 0.181395383421264, 0.013436695068241775, 0.03359173767060444, 0.7658916188897812, 0.7139525406381791, 0.03287939331886351, 0.004697056188409074, 0.004697056188409074, 0.05166761807249981, 0.08454701139136332, 0.09863817995659054, 0.9242665809577699, 0.04028103508175438, 0.08056207016350876, 0.8459017367168421, 0.03783212090563376, 0.08323066599239427, 0.12106278689802803, 0.6053139344901401, 0.03783212090563376, 0.007566424181126752, 0.05296496926788727, 0.045398545086760514, 0.9249357878806778, 0.8993216950932319, 0.8089450473130796, 0.03568875208734175, 0.11896250695780583, 0.03568875208734175, 0.8564991965402533, 0.10476604879948742, 0.8381283903958994, 0.1110534484207856, 0.6577781175692686, 0.2221068968415712, 0.007576006224481129, 0.9848808091825467, 0.9497028217326691, 0.9960302351373451, 0.9983471835544917, 0.9705151749172503, 0.014589998950649908, 0.043769996851949725, 0.14589998950649907, 0.14589998950649907, 0.49605996432209687, 0.07294999475324954, 0.07294999475324954, 0.1848290706859243, 0.13442114231703586, 0.10081585673777689, 0.5712898548474024, 0.9816800162463737, 0.8582701574990943, 0.08582701574990943, 0.3396299154842166, 0.25472243661316246, 0.01698149577421083, 0.03396299154842166, 0.05094448732263249, 0.008490747887105415, 0.19528720140342454, 0.06792598309684332, 0.01698149577421083, 0.04264025824019581, 0.12792077472058744, 0.12792077472058744, 0.6822441318431329, 0.9203167397684866, 0.04443652491754384, 0.08887304983508768, 0.13330957475263153, 0.7554209235982453, 0.01649742034505569, 0.06598968138022276, 0.8743632782879516, 0.01649742034505569, 0.044586914112577015, 0.07031013379290992, 0.022293457056288508, 0.010289287872133158, 0.03258274492842167, 0.012004169184155351, 0.31382328010006133, 0.06345060854482114, 0.003429762624044386, 0.012004169184155351, 0.012004169184155351, 0.024008338368310702, 0.03601250755246605, 0.03258274492842167, 0.06859525248088771, 0.11489704790548692, 0.015433931808199736, 0.02915298230437728, 0.037727388864488245, 0.044586914112577015, 0.17818185247038634, 0.0008080809635845186, 0.0892929464760893, 0.13212123754606878, 0.11353537538362486, 0.0004040404817922593, 0.0024242428907535556, 0.03151515757979623, 0.15191922115388948, 0.02787879324366589, 0.03313131950696526, 0.04040404817922593, 0.02828283372545815, 0.02303030746215878, 0.0040404048179225925, 0.06101011275063115, 0.04040404817922593, 0.02262626698036652, 0.004848485781507111, 0.014545457344521335, 0.24877819062734968, 0.06691275472045957, 0.24877819062734968, 0.18358114756638907, 0.0017157116594989632, 0.032598521530480304, 0.06176561974196268, 0.018872828254488595, 0.03774565650897719, 0.01544140493549067, 0.01544140493549067, 0.006862846637995853, 0.00514713497849689, 0.01029426995699378, 0.03088280987098134, 0.01029426995699378, 0.00514713497849689, 0.018654651844492547, 0.03730930368898509, 0.05596395553347765, 0.05596395553347765, 0.2611651258228957, 0.5409849034902839, 0.15839591661051494, 0.09768668027895869, 0.2411812388808189, 0.11865896192076904, 0.0016557064454060795, 0.2544268904440676, 0.007174727930093011, 0.0005519021484686931, 0.08830434375499091, 0.014901358008654716, 0.011038042969373864, 0.004967119336218239, 0.047170639370252856, 0.047170639370252856, 0.8490715086645515, 0.9182097185207714, 0.9371781383055695, 0.07320019078185837, 0.9028023529762532, 0.1574852716151374, 0.03149705432302748, 0.06299410864605497, 0.6929351951066046, 0.06387850010022929, 0.8942990014032101, 0.8465488930753902, 0.09959398742063413, 0.06244665530578558, 0.1915030762710758, 0.07077287601322366, 0.008326220707438077, 0.016652441414876155, 0.08742531742809982, 0.22897106945454715, 0.11656708990413309, 0.024978662122314234, 0.04995732424462847, 0.03746799318347135, 0.008326220707438077, 0.024978662122314234, 0.020815551768595196, 0.012489331061157117, 0.016652441414876155, 0.008326220707438077, 0.012489331061157117, 0.0057472024948797456, 0.0057472024948797456, 0.8333443617575631, 0.14942726486687338, 0.029520635128371397, 0.041820899765192814, 0.02460052927364283, 0.02460052927364283, 0.02460052927364283, 0.029520635128371397, 0.19434418126177835, 0.07626164074829278, 0.004920105854728566, 0.06642142903883565, 0.002460052927364283, 0.019680423418914263, 0.08364179953038563, 0.019680423418914263, 0.03444074098309996, 0.06396137611147136, 0.004920105854728566, 0.019680423418914263, 0.1894240754070498, 0.04920105854728566, 0.9678284372312821, 0.8091860776861964, 0.01508420714438933, 0.04022455238503821, 0.1483280369198284, 0.022626310716583994, 0.676275286973455, 0.005028069048129777, 0.005028069048129777, 0.0025140345240648883, 0.05530875952942754, 0.01508420714438933, 0.01508420714438933, 0.1578190781806536, 0.8241662971656355, 0.9944969185691526, 0.0428482203149342, 0.8998126266136183, 0.0428482203149342, 0.9154173860922403, 0.9217972369290567, 0.8896811106484037, 0.885062735815545, 0.06556020265300333, 0.04821445395409517, 0.9040210116392844, 0.0441965827912539, 0.046726926578553894, 0.046726926578553894, 0.07009038986783084, 0.03504519493391542, 0.011681731644638474, 0.05840865822319237, 0.03504519493391542, 0.11681731644638474, 0.12849904809102322, 0.03504519493391542, 0.011681731644638474, 0.03504519493391542, 0.023363463289276947, 0.33877021769451576, 0.08083735601497173, 0.13962816038949663, 0.04409310328089367, 0.014697701093631225, 0.014697701093631225, 0.15432586148312785, 0.15432586148312785, 0.0587908043745249, 0.022046551640446835, 0.014697701093631225, 0.007348850546815612, 0.007348850546815612, 0.20576781531083713, 0.03674425273407806, 0.014697701093631225, 0.014697701093631225, 0.014697701093631225, 0.15152019378215922, 0.1891649624236895, 0.07811289493117526, 0.05082043766606583, 0.12046325965289678, 0.0705839412028692, 0.07811289493117526, 0.040468126289645016, 0.03670364942549199, 0.01694014588868861, 0.032939172561338964, 0.010352311376420818, 0.02164574196887989, 0.022586861184918147, 0.015057907456612098, 0.020704622752841635, 0.022586861184918147, 0.007528953728306049, 0.009411192160382562, 0.004705596080191281, 0.10779113738150332, 0.05389556869075166, 0.05389556869075166, 0.7545379616705232, 0.9671926113381585, 0.9024922060885227, 0.1981084252108571, 0.7924337008434283, 0.9163542810181701, 0.08509362980477846, 0.08509362980477846, 0.6523844951699681, 0.002578594842569044, 0.020628758740552353, 0.007735784527707132, 0.005157189685138088, 0.007735784527707132, 0.002578594842569044, 0.11087957823046889, 0.005157189685138088, 0.007735784527707132, 0.005157189685138088, 0.08027024483199549, 0.02675674827733183, 0.02675674827733183, 0.02675674827733183, 0.16054048966399098, 0.02675674827733183, 0.6421619586559639, 0.13425301365041106, 0.22565932081664838, 0.06427005972626061, 0.048559600682063574, 0.07998051877045766, 0.03856203583575637, 0.0885498600672924, 0.03856203583575637, 0.07141117747362291, 0.011425788395779665, 0.018566906143141954, 0.005712894197889833, 0.028564470989449163, 0.025708023890504247, 0.007141117747362291, 0.057128941978898326, 0.007141117747362291, 0.031420918088394076, 0.012854011945252123, 0.005712894197889833, 0.12942460059792904, 0.16749065959731993, 0.030452847199512717, 0.030452847199512717, 0.060905694399025434, 0.053292482599147255, 0.09897175339841632, 0.0685189061989036, 0.022839635399634538, 0.022839635399634538, 0.022839635399634538, 0.022839635399634538, 0.015226423599756359, 0.2207831421964672, 0.022839635399634538, 0.7853447831690946, 0.11219211188129923, 0.9473969222625765, 0.9372383921606744, 0.8967895441613046, 0.9604642875637084, 0.976726080999675, 0.8638132928199934, 0.01384754639370045, 0.3323411134488108, 0.6439109073070709, 0.9516736945262531, 0.8374761052473433, 0.06477057179409296, 0.06477057179409296, 0.8420174333232084, 0.09492278040751836, 0.031640926802506124, 0.1265637072100245, 0.6961003896551347, 0.8449525152672445, 0.03966499002516646, 0.41648239526424785, 0.01983249501258323, 0.4958123753145808, 0.8825389045188853, 0.9796074783237615, 0.8705946912337189, 0.5313295861171041, 0.1498621909561063, 0.03178894959674982, 0.12715579838699928, 0.004541278513821403, 0.01362383554146421, 0.01362383554146421, 0.01362383554146421, 0.009082557027642806, 0.04087150662439263, 0.004541278513821403, 0.04087150662439263, 0.022706392569107014, 0.1246029716065563, 0.841070058344255, 0.9377038921483674, 0.0205627070889698, 0.6785693339360034, 0.2981592527900621, 0.9861112558360358, 0.8359045703935174, 0.9139704930551537, 0.995948980471644, 0.07212269076222054, 0.8654722891466465, 0.024363909173702774, 0.07309172752110832, 0.07309172752110832, 0.24363909173702772, 0.04872781834740555, 0.024363909173702774, 0.48727818347405544, 0.8579218531655988, 0.926728091036105, 0.021846097070752045, 0.021846097070752045, 0.021846097070752045, 0.06553829121225614, 0.8519977857593297, 0.9659955371439569, 0.9038465718594287, 0.005136177837795171, 0.015408533513385515, 0.06677031189133723, 0.26194506972755377, 0.010272355675590343, 0.005136177837795171, 0.09758737891810826, 0.31844302594330065, 0.020544711351180685, 0.015408533513385515, 0.17463004648503583, 0.010272355675590343, 0.9619121286758278, 0.030059754021119618, 0.8217157719136786, 0.07470143381033442, 0.6533166183494168, 0.3402690720569879, 0.7866442535901358, 0.03745925017095885, 0.13110737559835597, 0.018729625085479425, 0.054427857031147, 0.036285238020764665, 0.018142619010382333, 0.07257047604152933, 0.07257047604152933, 0.036285238020764665, 0.18142619010382333, 0.5079933322907053, 0.018142619010382333, 0.18321206523976064, 0.016655642294523692, 0.7828151878426136, 0.884856236204751, 0.2814135607374664, 0.42212034110619956, 0.21106017055309978, 0.005411799244951276, 0.010823598489902553, 0.06494159093941532, 0.9692251234439456, 0.9446401502756514, 0.05999005657105809, 0.05999005657105809, 0.8398607919948132, 0.8309365367408172, 0.1384894227901362, 0.7894532028295903, 0.09328727390469546, 0.11660909238086933, 0.05830454619043467, 0.011660909238086933, 0.09328727390469546, 0.0349827277142608, 0.0349827277142608, 0.04664363695234773, 0.05830454619043467, 0.023321818476173865, 0.011660909238086933, 0.32650545866643416, 0.08162636466660854, 0.021502134778061836, 0.021502134778061836, 0.3655362912270512, 0.06450640433418552, 0.49454909989542223, 0.8921615309788858, 0.10313141471257428, 0.2602840466555446, 0.044199177733960406, 0.01964407899287129, 0.06875427647504952, 0.41743667859851497, 0.029466118489306938, 0.01964407899287129, 0.004911019748217823, 0.014733059244653469, 0.004911019748217823, 0.004911019748217823, 0.017123285262966813, 0.9760272599891083, 0.1610679306923868, 0.3144659599232314, 0.2109222901924113, 0.08436891607696452, 0.03643203194232559, 0.05560678559618116, 0.11696599728851899, 0.007669901461542229, 0.009587376826927787, 0.0038349507307711144, 0.010655983720026083, 0.04262393488010433, 0.07459188604018259, 0.15983975580039125, 0.010655983720026083, 0.5541111534413563, 0.04262393488010433, 0.010655983720026083, 0.021311967440052166, 0.03196795116007825, 0.04262393488010433, 0.04503335758660689, 0.04503335758660689, 0.8556337941455309, 0.9558553397749686, 0.01854131362908919, 0.9270656814544596, 0.03708262725817838, 0.05476119211399705, 0.9309402659379498, 0.029298739662372862, 0.04883123277062144, 0.12696120520361573, 0.058597479324745724, 0.7031697518969487, 0.009766246554124287, 0.019532493108248575, 0.009766246554124287, 0.06244090765752996, 0.11794393668644548, 0.0346893931430722, 0.01387575725722888, 0.02081363588584332, 0.11100605805783104, 0.20119848022981876, 0.1526333298295177, 0.00693787862861444, 0.24282575200150538, 0.01387575725722888, 0.00693787862861444, 0.01387575725722888, 0.00693787862861444, 0.8578132173973737, 0.04810167574190881, 0.008016945956984801, 0.008016945956984801, 0.024050837870954404, 0.032067783827939206, 0.008016945956984801, 0.9211366067679678, 0.06954053860494414, 0.35868277806760657, 0.5673043938824389, 0.8012424280495984, 0.1869565665449063, 0.00734678099136843, 0.00734678099136843, 0.43346007849073737, 0.5510085743526322, 0.9700907739480493, 0.016725702999104298, 0.016086338734889183, 0.12869070987911346, 0.09651803240933508, 0.6917125656002348, 0.04825901620466754, 0.9449012478584924, 0.06130889368618932, 0.06130889368618932, 0.18392668105856794, 0.06130889368618932, 0.06130889368618932, 0.03065444684309466, 0.5211255963326091, 0.05189033532412745, 0.05189033532412745, 0.8302453651860392, 0.19628280761838995, 0.09814140380919498, 0.04907070190459749, 0.6869898266643648, 0.0032807946662250912, 0.9514304532052765, 0.04265033066092619, 0.05968144397053826, 0.895221659558074, 0.7613901827857024, 0.04965588148602407, 0.04965588148602407, 0.08275980247670678, 0.03310392099068271, 0.30407192995745275, 0.6783143052897023, 0.007796716152755199, 0.15541197230727918, 0.8081422559978517, 0.9180142554639659, 0.04373097057834973, 0.061223358809689626, 0.18367007642906888, 0.008746194115669946, 0.11370052350370931, 0.017492388231339893, 0.017492388231339893, 0.5422640351715367, 0.11187657939844653, 0.03729219313281551, 0.60910582116932, 0.012430731044271837, 0.024861462088543673, 0.06215365522135918, 0.03729219313281551, 0.012430731044271837, 0.08701511730990286, 0.05935329013173094, 0.05935329013173094, 0.7715927717125023, 0.2176173639622794, 0.0362695606603799, 0.0362695606603799, 0.6891216525472181, 0.15476668637956997, 0.03439259697323777, 0.1203740894063322, 0.051588895459856655, 0.017196298486618886, 0.06878519394647555, 0.5330852530851854, 0.9549194229945627, 0.03183064743315209, 0.8990814816110748, 0.058005256878133855, 0.1423297226067902, 0.04379376080208929, 0.021896880401044646, 0.010948440200522323, 0.06569064120313395, 0.10948440200522323, 0.08758752160417858, 0.04379376080208929, 0.43793760802089293, 0.010948440200522323, 0.010948440200522323, 0.8937657589851676, 0.9505811015168193, 0.810982805051812, 0.9728577765270257, 0.11706699001048923, 0.8194689300734246, 0.3446278802054977, 0.6203301843698958, 0.025847091015412327, 0.2437252913452463, 0.1052450121718109, 0.016617633500812246, 0.04985290050243674, 0.1495587015073102, 0.005539211166937416, 0.027696055834687077, 0.027696055834687077, 0.016617633500812246, 0.06093132283631157, 0.027696055834687077, 0.24926450251218368, 0.011078422333874832, 0.011078422333874832, 0.9241408784194888, 0.006230163225299924, 0.014537047525699823, 0.003115081612649962, 0.04361114257709947, 0.006230163225299924, 0.0010383605375499873, 0.0010383605375499873, 0.022355707997011906, 0.9389397358745001, 0.022355707997011906, 0.8925554150776129, 0.052469065000619104, 0.8919741050105249, 0.08530906555836464, 0.28603627863686965, 0.2935635491273136, 0.11039996719317775, 0.0025090901634813125, 0.09534542621228988, 0.0012545450817406563, 0.03512726228873838, 0.053945438514848225, 0.005018180326962625, 0.01756363114436919, 0.011290905735665907, 0.055367324200942585, 0.627496340944016, 0.21224140943694658, 0.009227887366823765, 0.07382309893459012, 0.0223507969378137, 0.5408892858950916, 0.24138860692838796, 0.11622414407663124, 0.03576127510050192, 0.00894031877512548, 0.00894031877512548, 0.0223507969378137, 0.09266584779518361, 0.14183548131915857, 0.15885573907745762, 0.2571950061254076, 0.14183548131915857, 0.052951913025819204, 0.03214937576567595, 0.0018911397509221144, 0.11157724530440476, 0.009455698754610572, 0.302369135584525, 0.6861453461341144, 0.6269411927273653, 0.25330957281913746, 0.012665478640956873, 0.07282650218550202, 0.01899821796143531, 0.0031663696602392184, 0.0031663696602392184, 0.0031663696602392184, 0.0031663696602392184, 0.9385449217190635, 0.039656827678270286, 0.013218942559423429, 0.42385497512084225, 0.5533662175188774, 0.011773749308912285, 0.06086250963826643, 0.7912126252974635, 0.06086250963826643, 0.03323892187523766, 0.3573184101588048, 0.02492919140642824, 0.06647784375047532, 0.24929191406428242, 0.01661946093761883, 0.008309730468809414, 0.240982183595473, 0.9521028361123345, 0.22185012720510477, 0.02637379134606141, 0.0031027989818895774, 0.3335508905531296, 0.0031027989818895774, 0.04809338421928845, 0.34906488546257747, 0.010859796436613521, 0.0031027989818895774, 0.9485636927065559, 0.037942547708262234, 0.11486961414450166, 0.05743480707225083, 0.8040872990115117, 0.11683328045513165, 0.014604160056891457, 0.08762496034134874, 0.7594163229583557, 0.9311877447380614, 0.08068423189375604, 0.02017105797343901, 0.02017105797343901, 0.6253027971766092, 0.03025658696015851, 0.14119740581407306, 0.010085528986719505, 0.05042764493359752, 0.010085528986719505, 0.9318718954038939, 0.031138800446682827, 0.5955295585428091, 0.05449290078169495, 0.03892350055835354, 0.0038923500558353534, 0.02335410033501212, 0.05449290078169495, 0.01946175027917677, 0.0583852508375303, 0.007784700111670707, 0.02335410033501212, 0.0038923500558353534, 0.07006230100503637, 0.0038923500558353534, 0.0038923500558353534, 0.0038923500558353534, 0.9728571478424717, 0.9241958921092311, 0.019254081085608984, 0.03850816217121797, 0.9817209704547657, 0.09551978529795749, 0.09551978529795749, 0.047759892648978744, 0.6686384970857023, 0.047759892648978744, 0.8915701316630481, 0.08945561775096769, 0.20872977475225796, 0.008519582642949304, 0.004259791321474652, 0.6815666114359443, 0.004259791321474652, 0.02769885077738307, 0.02769885077738307, 0.13849425388691536, 0.11079540310953229, 0.02769885077738307, 0.02769885077738307, 0.6370735678798106, 0.9427817149017468, 0.9491347389012044, 0.18018207439069692, 0.7657738161604618, 0.9415530002411138, 0.015005610812134014, 0.005001870270711338, 0.015005610812134014, 0.27010099461841225, 0.5952225622146492, 0.020007481082845353, 0.010003740541422676, 0.060022443248536055, 0.010003740541422676, 0.887221831653658, 0.8692359213447196, 0.8052665826770989, 0.1323531396801265, 0.08823542645341767, 0.7500011248540501, 0.6291895817126136, 0.09106691314261514, 0.01655762057138457, 0.01655762057138457, 0.024836430857076854, 0.008278810285692285, 0.008278810285692285, 0.19869144685661483, 0.0035000075791338176, 0.010500022737401454, 0.10850023495314835, 0.16800036379842326, 0.3570007730716494, 0.007000015158267635, 0.2555005532767687, 0.038500083370472, 0.017500037895669087, 0.035000075791338174, 0.297424640652178, 0.7019221519391401, 0.12098968474075945, 0.2419793694815189, 0.6049484237037972, 0.9364312833779694, 0.5745545326190606, 0.07494189555900792, 0.024980631853002637, 0.03330750913733685, 0.2831138276673632, 0.0053488089654616456, 0.6579035027517823, 0.14976665103292608, 0.0053488089654616456, 0.021395235861846582, 0.0053488089654616456, 0.0053488089654616456, 0.1444178420674644, 0.9474129004240232, 0.8349606841770415, 0.9460495471488547, 0.056219607102263015, 0.017568627219457192, 0.010541176331674314, 0.031623528995022944, 0.017568627219457192, 0.010541176331674314, 0.010541176331674314, 0.010541176331674314, 0.017568627219457192, 0.007027450887782877, 0.08081568520950308, 0.007027450887782877, 0.7203137159977449, 0.831404106464088, 0.9204123937591058, 0.8746233435819412, 0.9343926203412428, 0.8925472335608083, 0.9476999542469803, 0.12222958187416735, 0.012222958187416736, 0.012222958187416736, 0.1711214146238343, 0.5867019929960033, 0.03666887456225021, 0.012222958187416736, 0.012222958187416736, 0.8980418813813205, 0.901325822357981, 0.0751104851964984, 0.8908355044491029, 0.2575706676088461, 0.48802863336412944, 0.23045796575528335, 0.0027112701853562746, 0.01626762111213765, 0.0027112701853562746, 0.7651061188778722, 0.15422830863911316, 0.0813982740039764, 0.10710299211049526, 0.059977675581877346, 0.01713647873767924, 0.021420598422099053, 0.00856823936883962, 0.03427295747535848, 0.07711415431955658, 0.35986605349126405, 0.01713647873767924, 0.02570471810651886, 0.01713647873767924, 0.00428411968441981, 0.00856823936883962, 0.039701714567162455, 0.7146308622089241, 0.19850857283581227, 0.11712169090107316, 0.016731670128724736, 0.063580346489154, 0.06692668051489895, 0.09369735272085852, 0.020078004154469684, 0.010039002077234842, 0.013385336102979789, 0.09035101869511358, 0.020078004154469684, 0.0769656825921338, 0.04684867636042926, 0.03346334025744947, 0.0033463340257449473, 0.020078004154469684, 0.21751171167342156, 0.06023401246340905, 0.02342433818021463, 0.0066926680514898945, 0.07032665309657671, 0.8790831637072087, 0.035163326548288354, 0.10316917688717567, 0.8253534150974053, 0.03705923693674271, 0.9264809234185677, 0.9525855872107248, 0.048269717052060214, 0.9171246239891441, 0.789665121272754, 0.1692139545584473, 0.9240634024049823, 0.05657531035132545, 0.03054432961227796, 0.794152569919227, 0.01527216480613898, 0.04581649441841694, 0.0763608240306949, 0.01527216480613898, 0.6879037586621424, 0.022678145889960737, 0.2796971326428491, 0.966600745589012, 0.014619911331492456, 0.10233937932044719, 0.029239822662984912, 0.014619911331492456, 0.014619911331492456, 0.058479645325969824, 0.058479645325969824, 0.014619911331492456, 0.058479645325969824, 0.5555566305967133, 0.07309955665746229, 0.9348359661344854, 0.05499035094908738, 0.9363523494492765, 0.8947021642053542, 0.4271775374675295, 0.09153804374304204, 0.04576902187152102, 0.03051268124768068, 0.03051268124768068, 0.3661521749721682, 0.7834152803748435, 0.029015380754623833, 0.11606152301849533, 0.029015380754623833, 0.8714489164203469, 0.22956630069207423, 0.13391367540370996, 0.01913052505767285, 0.5739157517301856, 0.9189767372488823, 0.8122328272282452, 0.920756800424761, 0.8463669989686687, 0.8887833208241589, 0.0864627704911437, 0.012351824355877672, 0.8893313536231924, 0.9506593708330603, 0.005267084592642834, 0.015801253777928504, 0.005267084592642834, 0.08954043807492819, 0.005267084592642834, 0.36342883689235556, 0.46350344415256944, 0.005267084592642834, 0.04213667674114267, 0.9259560562381972, 0.04975561677754388, 0.016585205592514626, 0.3317041118502925, 0.132681644740117, 0.4478005509978949, 0.03488585227964808, 0.872146306991202, 0.03488585227964808, 0.7532432544048691, 0.21760360682807328, 0.03347747797354974, 0.0657868980615924, 0.8552296748007012, 0.794035844775865, 0.1443701535956118, 0.8863116243410164, 0.09847906937122404, 0.7760520363156918, 0.056531339740765546, 0.03768755982717703, 0.009421889956794258, 0.056531339740765546, 0.04710944978397129, 0.08479700961114832, 0.009421889956794258, 0.6689541869323923, 0.018843779913588515, 0.10848751831549673, 0.08437918091205301, 0.6268167724895367, 0.01205416870172186, 0.03616250610516558, 0.01205416870172186, 0.01205416870172186, 0.08437918091205301, 0.0722031853181195, 0.8664382238174342, 0.016164206659782774, 0.016164206659782774, 0.8297626085355156, 0.13470172216485643, 0.052626460592915765, 0.894649830079568, 0.07061883314449333, 0.8474259977339198, 0.11924606416485035, 0.14905758020606294, 0.02981151604121259, 0.6558533529066769, 0.10819112785131589, 0.10819112785131589, 0.7573378949592112, 0.8906677232177432, 0.9916153619892681, 0.00142065238107345, 0.00426195714322035, 0.893736916893076, 0.822843838449914, 0.952448855539082, 0.4103474946920318, 0.04103474946920318, 0.04103474946920318, 0.08206949893840636, 0.4103474946920318, 0.11576737792968991, 0.09437557983398634, 0.09060055664062688, 0.08556719238281428, 0.03649189086914138, 0.059142030029298104, 0.05285032470703235, 0.0641753942871107, 0.1031839672851584, 0.0515919836425792, 0.032716867675781934, 0.026425162353516177, 0.046558619384766596, 0.0490753015136729, 0.02390848022460987, 0.008808387451172059, 0.013841751708984664, 0.013841751708984664, 0.016358433837890967, 0.013841751708984664, 0.8687832225424706, 0.8201947979619975, 0.868937830669828, 0.9873243900783646, 0.8937035243212981, 0.9403577204895781, 0.04460751376385746, 0.8475427615132918, 0.04460751376385746, 0.04460751376385746, 0.8383324573848361, 0.10479155717310451, 0.1715792054393997, 0.0050464472188058735, 0.06055736662567048, 0.756967082820881, 0.8238746964678986, 0.1176963852096998, 0.039232128403233264, 0.9190366349236805, 0.009989528640474787, 0.03995811456189915, 0.019979057280949574, 0.8578175358826884, 0.03225144284839651, 0.8546632354825074, 0.016125721424198255, 0.048377164272594766, 0.016125721424198255, 0.016125721424198255, 0.9368617963170732, 0.9815247020528798, 0.8956435372228566, 0.009329620179404755, 0.01865924035880951, 0.01865924035880951, 0.004664810089702378, 0.004664810089702378, 0.03731848071761902, 0.871791224944173, 0.9708838927878091, 0.8808232714917932, 0.11010290893647415, 0.8553425719323778, 0.973847395994319, 0.06796287084512309, 0.8835173209866002, 0.27183084461367346, 0.15386651581906047, 0.06923993211857721, 0.0897554675611186, 0.0051288838606353485, 0.05385328053667116, 0.048724396676035814, 0.051288838606353485, 0.015386651581906047, 0.11539988686429535, 0.02820886123349442, 0.015386651581906047, 0.0051288838606353485, 0.05385328053667116, 0.01795109351222372, 0.0025644419303176742, 0.39325334886510066, 0.5951942577417739, 0.9203674310169939, 0.9016246874559986, 0.9881429276391726, 0.05464545574063243, 0.0874327291850119, 0.7213200157763481, 0.032787273444379456, 0.07650363803688541, 0.010929091148126487, 0.010929091148126487, 0.1179068421351368, 0.0147383552668921, 0.0442150658006763, 0.1179068421351368, 0.2505520395371657, 0.4126739474729788, 0.0147383552668921, 0.0147383552668921, 0.9107308632176129, 0.9505004372739461, 0.8478666338802769, 0.8420593616146712, 0.09579641658911393, 0.8621677493020254, 0.9721190177090993, 0.9702847985476812, 0.01515817197265113, 0.022737257958976693, 0.007579085986325565, 0.9473857482906956, 0.12209606556209389, 0.7936244261536103, 0.9011097587995959, 0.828941159198657, 0.8663175918815359, 0.9591767020518033, 0.010748508655760549, 0.1289821038691266, 0.010748508655760549, 0.010748508655760549, 0.8276351664935623, 0.010748508655760549, 0.10200651088853854, 0.0005667028382696585, 0.10427332224161717, 0.23234816369056002, 0.04363611854676371, 0.001133405676539317, 0.06007050085658381, 0.27711768791386304, 0.030035250428291905, 0.021534707854247024, 0.00793383973577522, 0.03400217029617952, 0.01700108514808976, 0.0028335141913482928, 0.01983459933943805, 0.018134490824629073, 0.01983459933943805, 0.005100325544426927, 0.0017001085148089757, 0.19366853459922406, 0.0013638629197128456, 0.150024921168413, 0.0777401864236322, 0.11320062233616618, 0.006819314598564228, 0.004091588759138537, 0.07910404934334504, 0.019094080875979837, 0.05591837970822667, 0.03955202467167252, 0.1050174448178891, 0.04227975051109821, 0.019094080875979837, 0.002727725839425691, 0.009547040437989918, 0.05319065386880097, 0.025913395474544066, 0.0013638629197128456, 0.0013638629197128456, 0.8849335634553623, 0.3079794830679974, 0.10350130168678601, 0.14389205356455614, 0.11359898965622854, 0.04670180685867173, 0.06437276080519617, 0.029030852912147295, 0.025244219923606342, 0.051750650843393003, 0.036604118889229195, 0.011359898965622854, 0.0012622109961803172, 0.006311054980901586, 0.04165296287395046, 0.010097687969442538, 0.0025244219923606344, 0.0012622109961803172, 0.9737442070905755, 0.9911264882487905, 0.936866515632859, 0.030751810364294516, 0.020501206909529678, 0.020501206909529678, 0.0768795259107363, 0.041002413819059357, 0.10763133627503081, 0.06150362072858903, 0.041002413819059357, 0.015375905182147258, 0.08200482763811871, 0.015375905182147258, 0.06150362072858903, 0.38439762955368145, 0.0051253017273824196, 0.010250603454764839, 0.020501206909529678, 0.04516527749200074, 0.9033055498400149, 0.9477584952243171, 0.9321835215128159, 0.885303882537571, 0.967288702533497, 0.04379517477389415, 0.03941565729650474, 0.02627710486433649, 0.004379517477389415, 0.3284638108042061, 0.3372228457589849, 0.021897587386947075, 0.04817469225128356, 0.12700600684429303, 0.01751806990955766, 0.004379517477389415, 0.6928982687748493, 0.25983685079056845, 0.8785183340368201, 0.8758522452229202, 0.891529846582233, 0.8640047619041593, 0.857633733559163, 0.9035749122230801, 0.02489211080937639, 0.16179872026094655, 0.02489211080937639, 0.04978422161875278, 0.39827377295002225, 0.037338166214064585, 0.02489211080937639, 0.14935266485625834, 0.07467633242812917, 0.037338166214064585, 0.04475503805655119, 0.8951007611310239, 0.06701998850930048, 0.48589491669242846, 0.0209437464091564, 0.1675499712732512, 0.07539748707296304, 0.12147372917310711, 0.00418874928183128, 0.050264991381975356, 0.873461349823971, 0.08318679522133057, 0.06450325037435733, 0.6579331538184449, 0.12900650074871467, 0.0774039004492288, 0.05160260029948587, 0.9223723233883706, 0.04192601469947139, 0.025155608819682835, 0.9327259281022743, 0.07172986889164744, 0.5469402502988117, 0.01793246722291186, 0.23312207389785417, 0.07172986889164744, 0.01793246722291186, 0.00896623361145593, 0.026898700834367788, 0.001586709248501673, 0.674351430613211, 0.12535003063163216, 0.16819118034117733, 0.02062722023052175, 0.001586709248501673, 0.004760127745505019, 0.003173418497003346, 0.8699219547573784, 0.8086828825140653, 0.09673240221460111, 0.08899381003743302, 0.9069634981145817, 0.05496748473421707, 0.0034767895956545466, 0.6362524960047821, 0.14602516301749097, 0.1947002173566546, 0.006953579191309093, 0.0034767895956545466, 0.0034767895956545466, 0.0034767895956545466, 0.04886037800606128, 0.24430189003030642, 0.009772075601212257, 0.014658113401818385, 0.18078339862242673, 0.03908830240484903, 0.019544151202424514, 0.02443018900303064, 0.034202264604242895, 0.37622491064667185, 0.8889005854589501, 0.8429154905051378, 0.13668899846029262, 0.8867789184140153, 0.9289887211876001, 0.9649117051618725, 0.1331685734913092, 0.848949656007096, 0.9507333646976381, 0.9108209092945437, 0.05669721249257716, 0.2753864606782319, 0.05669721249257716, 0.02429880535396164, 0.03239840713861552, 0.05669721249257716, 0.00809960178465388, 0.01619920356930776, 0.00809960178465388, 0.05669721249257716, 0.10529482320050045, 0.0404980089232694, 0.24298805353961642, 0.00809960178465388, 0.9157433532927062, 0.9690940902930844, 0.9007234359310722, 0.8814808033815716, 0.08814808033815716, 0.02604407062631101, 0.07813221187893303, 0.13022035313155506, 0.05208814125262202, 0.05208814125262202, 0.05208814125262202, 0.05208814125262202, 0.5729695537788422, 0.26470049728765255, 0.17342446374018614, 0.556783804639545, 0.8518237838151177, 0.0036768724225478564, 0.0036768724225478564, 0.665513908481162, 0.02206123453528714, 0.2867960489587328, 0.01838436211273928, 0.5963514576775724, 0.0008113625274524794, 0.3983790009791674, 0.0016227250549049588, 0.0016227250549049588, 0.7533954705882465, 0.015375417767107071, 0.15375417767107072, 0.07687708883553536, 0.9688431092256141, 0.04881148410426885, 0.9274181979811081, 0.8967925427615339, 0.049821807931196324, 0.05390433061002768, 0.8894214550654567, 0.02695216530501384, 0.02695216530501384, 0.07951438030942612, 0.007951438030942611, 0.12722300849508178, 0.14710160357243832, 0.04969648769339133, 0.01987859507735653, 0.009939297538678265, 0.07951438030942612, 0.14710160357243832, 0.08746581834036873, 0.02783003310829914, 0.031805752123770445, 0.007951438030942611, 0.0337936116315061, 0.005963578523206959, 0.025842173600563487, 0.029817892616034795, 0.01987859507735653, 0.04174504966244871, 0.01987859507735653, 0.14600124737671025, 0.17425955332058965, 0.009419435314626468, 0.13187209440477055, 0.009419435314626468, 0.018838870629252935, 0.09419435314626468, 0.009419435314626468, 0.1271623767474573, 0.0282583059438794, 0.06593604720238527, 0.004709717657313234, 0.004709717657313234, 0.004709717657313234, 0.141291529719397, 0.02354858828656617, 0.12882337788360385, 0.035784271634334404, 0.04294112596120128, 0.02147056298060064, 0.007156854326866881, 0.178921358171672, 0.02147056298060064, 0.4007838423045453, 0.02147056298060064, 0.007156854326866881, 0.014313708653733761, 0.007156854326866881, 0.02147056298060064, 0.02147056298060064, 0.06441168894180192, 0.2599816450470367, 0.03714023500671953, 0.03714023500671953, 0.6313839951142319, 0.14547939140049193, 0.0014694888020251712, 0.07935239530935924, 0.09404728332961096, 0.10727268254783749, 0.004408466406075513, 0.0014694888020251712, 0.08229137291340959, 0.08229137291340959, 0.027920287238478253, 0.04114568645670479, 0.016164376822276883, 0.019103354426327226, 0.008816932812151027, 0.0029389776040503425, 0.14694888020251712, 0.08523035051745993, 0.019103354426327226, 0.020572843228352396, 0.01175591041620137, 0.1495956287565039, 0.05609836078368896, 0.018699453594562987, 0.09349726797281493, 0.09349726797281493, 0.037398907189125974, 0.018699453594562987, 0.4487868862695117, 0.05609836078368896, 0.018699453594562987, 0.08051708932757523, 0.15484055639918315, 0.049548978047738605, 0.009290433383950988, 0.027871300151852966, 0.13625968963128116, 0.30658430167038264, 0.06503303368765692, 0.02167767789588564, 0.009290433383950988, 0.024774489023869303, 0.015484055639918315, 0.02167767789588564, 0.009290433383950988, 0.015484055639918315, 0.009290433383950988, 0.015484055639918315, 0.02167767789588564, 0.9945221938265512, 0.8288571965429992, 0.8717775851406244, 0.15995138226590874, 0.013822958961251373, 0.06714008638322096, 0.07306421165232868, 0.015797667384287284, 0.055291835845005494, 0.021721792653395015, 0.06714008638322096, 0.0059241252691077315, 0.07108950322929278, 0.0375194600376823, 0.21524321811091424, 0.05924125269107731, 0.013822958961251373, 0.003949416846071821, 0.011848250538215463, 0.07898833692143642, 0.029620626345538654, 0.9564764209746905, 0.06410246070530369, 0.9188019367760195, 0.01598418382882134, 0.799209191441067, 0.15984183828821338, 0.9416749432135617, 0.9099940427911136], \"Term\": [\"absorbant\", \"absorbent\", \"absorbent\", \"absorbent\", \"absorbs\", \"absorbs\", \"accidents\", \"acne\", \"acrylic\", \"acrylics\", \"acti\", \"acti\", \"acting\", \"acting\", \"acting\", \"acting\", \"acting\", \"acting\", \"acting\", \"acting\", \"action\", \"action\", \"action\", \"action\", \"action\", \"action\", \"action\", \"action\", \"addictive\", \"adorable\", \"adorable\", \"adorable\", \"adult\", \"adult\", \"adult\", \"adult\", \"adult\", \"adult\", \"adults\", \"adults\", \"adults\", \"agedefy\", \"ages\", \"ages\", \"ages\", \"ages\", \"ages\", \"aging\", \"aging\", \"ago\", \"ago\", \"ago\", \"ago\", \"ago\", \"ago\", \"ago\", \"ago\", \"ago\", \"ago\", \"ago\", \"ago\", \"ago\", \"ago\", \"ahoy\", \"aid\", \"air\", \"air\", \"air\", \"air\", \"air\", \"air\", \"air\", \"air\", \"air\", \"air\", \"air\", \"airplane\", \"airspray\", \"album\", \"aldean\", \"ale\", \"aliens\", \"amaz\", \"amazing\", \"amazing\", \"amazing\", \"amazing\", \"amazing\", \"amazing\", \"amazing\", \"amazing\", \"amazing\", \"amazing\", \"amazing\", \"amazing\", \"amazing\", \"amazing\", \"amazing\", \"amazing\", \"amazing\", \"amazing\", \"amazing\", \"amusing\", \"anim\", \"animal\", \"animal\", \"animal\", \"anna\", \"anti\", \"anti\", \"anti\", \"anticipated\", \"anyon\", \"applicator\", \"apply\", \"apply\", \"apply\", \"apply\", \"apply\", \"apply\", \"apply\", \"arrid\", \"arrived\", \"arrived\", \"arrived\", \"arrived\", \"arrived\", \"arrived\", \"arrived\", \"arrived\", \"asap\", \"asap\", \"assembly\", \"aussie\", \"avery\", \"aways\", \"awesom\", \"awesom\", \"awesome\", \"awesome\", \"awesome\", \"awesome\", \"awesome\", \"awesome\", \"awesome\", \"awesome\", \"awesome\", \"awesome\", \"awesome\", \"awesome\", \"awesome\", \"awesome\", \"awesome\", \"awesome\", \"awesome\", \"awesome\", \"awesome\", \"awesome\", \"awful\", \"awful\", \"awful\", \"awful\", \"awful\", \"awful\", \"awful\", \"axe\", \"babies\", \"babies\", \"babies\", \"babies\", \"babies\", \"babies\", \"babies\", \"bacon\", \"bacteria\", \"bacteria\", \"bad\", \"bad\", \"bad\", \"bad\", \"bad\", \"bad\", \"bad\", \"bad\", \"bad\", \"bad\", \"bad\", \"bad\", \"bad\", \"bad\", \"bad\", \"bad\", \"bad\", \"bad\", \"bad\", \"bagless\", \"bags\", \"bags\", \"bags\", \"bags\", \"balm\", \"balms\", \"bars\", \"bars\", \"bars\", \"bass\", \"bathroom\", \"bathroom\", \"bathroom\", \"bathroom\", \"bathroom\", \"bathroom\", \"bathroom\", \"bathrooms\", \"bathrooms\", \"bathrooms\", \"bathrooms\", \"bathrooms\", \"bathtub\", \"batteries\", \"battery\", \"battery\", \"beans\", \"beans\", \"beans\", \"bees\", \"bees\", \"best\", \"best\", \"best\", \"best\", \"best\", \"best\", \"best\", \"best\", \"best\", \"best\", \"best\", \"best\", \"best\", \"best\", \"best\", \"best\", \"best\", \"best\", \"best\", \"best\", \"bett\", \"better\", \"better\", \"better\", \"better\", \"better\", \"better\", \"better\", \"better\", \"better\", \"better\", \"better\", \"better\", \"better\", \"better\", \"better\", \"better\", \"better\", \"better\", \"better\", \"better\", \"big\", \"big\", \"big\", \"big\", \"big\", \"big\", \"big\", \"big\", \"big\", \"big\", \"big\", \"big\", \"big\", \"big\", \"big\", \"big\", \"big\", \"big\", \"big\", \"bills\", \"bills\", \"binder\", \"binder\", \"binders\", \"binders\", \"binge\", \"biotene\", \"biotene\", \"birds\", \"birds\", \"bisquick\", \"bisquick\", \"bite\", \"bite\", \"bite\", \"bite\", \"black\", \"black\", \"black\", \"black\", \"black\", \"black\", \"black\", \"black\", \"black\", \"black\", \"blankets\", \"blast\", \"bleach\", \"bleach\", \"bleach\", \"bleach\", \"bleach\", \"bleach\", \"blend\", \"blend\", \"blend\", \"blend\", \"blend\", \"blu\", \"blu\", \"blu\", \"blueray\", \"bluetooth\", \"bluray\", \"bluray\", \"bluray\", \"bluray\", \"blush\", \"body\", \"body\", \"body\", \"body\", \"body\", \"body\", \"body\", \"body\", \"body\", \"book\", \"book\", \"book\", \"book\", \"book\", \"booster\", \"booster\", \"botanical\", \"bottle\", \"bottle\", \"bottle\", \"bottle\", \"bottle\", \"bottle\", \"bottle\", \"bottle\", \"bottle\", \"bottle\", \"bottle\", \"bought\", \"bought\", \"bought\", \"bought\", \"bought\", \"bought\", \"bought\", \"bought\", \"bought\", \"bought\", \"bought\", \"bought\", \"bought\", \"bought\", \"bought\", \"bought\", \"bought\", \"bought\", \"bounce\", \"bounce\", \"bounce\", \"bouncy\", \"bouncy\", \"bradley\", \"brand\", \"brand\", \"brand\", \"brand\", \"brand\", \"brand\", \"brand\", \"brand\", \"brand\", \"brand\", \"brand\", \"brand\", \"brand\", \"brand\", \"brand\", \"brands\", \"brands\", \"brands\", \"brands\", \"brands\", \"brands\", \"brands\", \"brands\", \"brands\", \"brands\", \"brands\", \"brands\", \"brands\", \"brands\", \"bread\", \"breakfast\", \"breakfast\", \"breakouts\", \"breaks\", \"breaks\", \"breaks\", \"breaks\", \"brightens\", \"brightens\", \"bring\", \"bring\", \"bring\", \"bring\", \"bring\", \"bring\", \"bring\", \"bring\", \"bring\", \"bring\", \"bring\", \"bring\", \"bring\", \"bring\", \"broderick\", \"broke\", \"broke\", \"broke\", \"broke\", \"broke\", \"broken\", \"broken\", \"broken\", \"broken\", \"broken\", \"broken\", \"brown\", \"brown\", \"brown\", \"brown\", \"brown\", \"brown\", \"brown\", \"brown\", \"bruce\", \"bruce\", \"bryan\", \"buds\", \"bum\", \"bunny\", \"burt\", \"burt\", \"burton\", \"butter\", \"butter\", \"butter\", \"butter\", \"butter\", \"butter\", \"buy\", \"buy\", \"buy\", \"buy\", \"buy\", \"buy\", \"buy\", \"buy\", \"buy\", \"buy\", \"buy\", \"buy\", \"buy\", \"buy\", \"buy\", \"buy\", \"buy\", \"buy\", \"buy\", \"buy\", \"bye\", \"bye\", \"bye\", \"calories\", \"calories\", \"came\", \"came\", \"came\", \"came\", \"came\", \"came\", \"came\", \"came\", \"came\", \"came\", \"came\", \"came\", \"came\", \"came\", \"came\", \"came\", \"came\", \"came\", \"camp\", \"camping\", \"cancelling\", \"canned\", \"capabilities\", \"caress\", \"carpet\", \"carpet\", \"carts\", \"cast\", \"cast\", \"cast\", \"cast\", \"cast\", \"cereal\", \"cgi\", \"cgi\", \"chair\", \"chair\", \"chair\", \"champagne\", \"change\", \"change\", \"change\", \"change\", \"change\", \"change\", \"change\", \"change\", \"change\", \"change\", \"change\", \"changed\", \"changed\", \"changed\", \"changed\", \"changed\", \"changed\", \"changed\", \"changed\", \"changed\", \"changed\", \"chap\", \"chapped\", \"chapped\", \"chapstick\", \"character\", \"character\", \"character\", \"characters\", \"characters\", \"characters\", \"characters\", \"cheese\", \"cheese\", \"cheese\", \"cheese\", \"cheetos\", \"chester\", \"chesters\", \"chewy\", \"chicken\", \"chicken\", \"chicken\", \"children\", \"children\", \"children\", \"children\", \"children\", \"children\", \"children\", \"children\", \"children\", \"children\", \"children\", \"chili\", \"chili\", \"chip\", \"chip\", \"chipped\", \"chipping\", \"chips\", \"chips\", \"chips\", \"chlorox\", \"choo\", \"christmas\", \"christmas\", \"christmas\", \"christmas\", \"christmas\", \"christmas\", \"christmas\", \"christopher\", \"cinnamon\", \"circles\", \"class\", \"class\", \"class\", \"class\", \"class\", \"class\", \"class\", \"class\", \"classic\", \"classic\", \"classic\", \"classic\", \"classic\", \"classic\", \"classic\", \"classic\", \"classic\", \"classic\", \"classroom\", \"classroom\", \"clay\", \"clean\", \"clean\", \"clean\", \"clean\", \"clean\", \"clean\", \"clean\", \"clean\", \"clean\", \"clean\", \"clean\", \"clean\", \"clean\", \"clean\", \"clean\", \"clean\", \"cleaner\", \"cleaner\", \"cleaner\", \"cleaner\", \"cleaner\", \"cleaner\", \"cleaner\", \"cleaner\", \"cleaning\", \"cleaning\", \"cleaning\", \"cleaning\", \"cleaning\", \"cleaning\", \"cleaning\", \"cleaning\", \"cleaning\", \"cleaning\", \"cleans\", \"cleans\", \"cleans\", \"cleans\", \"cleans\", \"cleans\", \"cleans\", \"cleans\", \"cleans\", \"cleanup\", \"cleanup\", \"cleanup\", \"cleanups\", \"clears\", \"clorax\", \"clorex\", \"clorox\", \"clorox\", \"clorox\", \"clorox\", \"clothes\", \"clothes\", \"clothes\", \"clothes\", \"clothes\", \"clothing\", \"clothing\", \"cloudy\", \"coat\", \"coat\", \"coat\", \"cocoa\", \"cocoa\", \"coconut\", \"coconut\", \"coconut\", \"coffee\", \"coffee\", \"coffee\", \"coffee\", \"coffee\", \"coffee\", \"collect\", \"collect\", \"collect\", \"collected\", \"collected\", \"collected\", \"collected\", \"collected\", \"collected\", \"collected\", \"collected\", \"collected\", \"collected\", \"collected\", \"collected\", \"collection\", \"collection\", \"collection\", \"collection\", \"collection\", \"collection\", \"color\", \"color\", \"color\", \"color\", \"color\", \"color\", \"color\", \"color\", \"color\", \"color\", \"color\", \"color\", \"color\", \"color\", \"color\", \"color\", \"colors\", \"colors\", \"colors\", \"colors\", \"colors\", \"colors\", \"colors\", \"colors\", \"colors\", \"colors\", \"colors\", \"colors\", \"colors\", \"column\", \"comedi\", \"comfortable\", \"comfortable\", \"comfortable\", \"comfortable\", \"comfortable\", \"comfortable\", \"comfortable\", \"comfortable\", \"comical\", \"complimentary\", \"complimentary\", \"concealer\", \"concealer\", \"conditioned\", \"conditioned\", \"conditioner\", \"conditioner\", \"conditioners\", \"conditioners\", \"conditioning\", \"conditioning\", \"contacts\", \"contacts\", \"contacts\", \"container\", \"container\", \"container\", \"container\", \"container\", \"container\", \"container\", \"containers\", \"containers\", \"containers\", \"contents\", \"contents\", \"contents\", \"continuation\", \"convenient\", \"convenient\", \"convenient\", \"convenient\", \"convenient\", \"convenient\", \"convenient\", \"convenient\", \"convenient\", \"convenient\", \"convenient\", \"convenient\", \"convienent\", \"cook\", \"cook\", \"cook\", \"cooked\", \"cookie\", \"cookie\", \"cookies\", \"cooks\", \"cool\", \"cool\", \"cool\", \"cool\", \"cool\", \"cool\", \"cool\", \"cool\", \"cool\", \"cool\", \"cool\", \"cool\", \"cool\", \"cools\", \"cooper\", \"cooper\", \"copy\", \"copy\", \"copy\", \"copy\", \"copy\", \"corn\", \"corn\", \"corn\", \"corn\", \"corny\", \"corny\", \"counter\", \"counter\", \"counter\", \"counter\", \"counters\", \"counters\", \"countertop\", \"countertops\", \"countertops\", \"countertops\", \"country\", \"country\", \"country\", \"coupon\", \"coupon\", \"coupon\", \"coupon\", \"crackers\", \"cranston\", \"crayon\", \"cream\", \"cream\", \"cream\", \"cream\", \"cream\", \"cream\", \"cream\", \"cream\", \"creamer\", \"creams\", \"creators\", \"creepshow\", \"crude\", \"crude\", \"crumbs\", \"crunch\", \"cult\", \"cult\", \"cult\", \"curlers\", \"curlers\", \"curls\", \"curls\", \"curls\", \"cushion\", \"customer\", \"customer\", \"customer\", \"customer\", \"customer\", \"customer\", \"customer\", \"customer\", \"customer\", \"customers\", \"customers\", \"customers\", \"customers\", \"customers\", \"cute\", \"cute\", \"cute\", \"cute\", \"cute\", \"cute\", \"cute\", \"cute\", \"cute\", \"cutest\", \"dandruff\", \"daughter\", \"daughter\", \"daughter\", \"daughter\", \"daughter\", \"daughter\", \"daughter\", \"daughter\", \"daughter\", \"daughter\", \"daughter\", \"daughter\", \"daughter\", \"daughter\", \"daughter\", \"daughter\", \"daughter\", \"daughter\", \"daughter\", \"dave\", \"day\", \"day\", \"day\", \"day\", \"day\", \"day\", \"day\", \"day\", \"day\", \"day\", \"day\", \"day\", \"day\", \"day\", \"day\", \"day\", \"day\", \"day\", \"day\", \"day\", \"deal\", \"deal\", \"deal\", \"deal\", \"deal\", \"deal\", \"deal\", \"deal\", \"deal\", \"deal\", \"deal\", \"deal\", \"deal\", \"deal\", \"deal\", \"deal\", \"decrease\", \"deep\", \"deep\", \"deep\", \"deep\", \"deep\", \"deep\", \"deep\", \"deep\", \"deep\", \"defective\", \"defective\", \"definatly\", \"defy\", \"delicious\", \"delicious\", \"delicious\", \"delicious\", \"delivered\", \"delivered\", \"delivered\", \"delivered\", \"delivered\", \"delivery\", \"delivery\", \"delivery\", \"delivery\", \"delivery\", \"dentist\", \"deodorant\", \"deodorant\", \"deodorant\", \"deodorizes\", \"deodorizes\", \"deodorizing\", \"depp\", \"depp\", \"desks\", \"desks\", \"detangles\", \"detergent\", \"detergent\", \"detergent\", \"detergents\", \"detergents\", \"diaz\", \"difference\", \"difference\", \"difference\", \"difference\", \"difference\", \"difference\", \"difference\", \"difference\", \"difference\", \"difference\", \"difference\", \"digital\", \"digital\", \"dip\", \"dip\", \"dipping\", \"dipping\", \"dipping\", \"dips\", \"disappointed\", \"disappointed\", \"disappointed\", \"disappointed\", \"disappointed\", \"disappointed\", \"disappointed\", \"disappointed\", \"disappointed\", \"disappointed\", \"disappointed\", \"disappointed\", \"disappointed\", \"disappointed\", \"disappointed\", \"disappoints\", \"disappoints\", \"disappoints\", \"discontinued\", \"discontinued\", \"discontinued\", \"discontinued\", \"discontinued\", \"disenfecting\", \"dishes\", \"dishes\", \"dishes\", \"dishwasher\", \"dishwasher\", \"dishwasher\", \"disinfect\", \"disinfect\", \"disinfectant\", \"disinfectant\", \"disinfectant\", \"disinfecting\", \"disinfecting\", \"disinfecting\", \"disinfects\", \"disinfects\", \"disney\", \"disney\", \"disney\", \"disney\", \"dissolve\", \"dissolve\", \"dissolving\", \"divide\", \"divider\", \"dividers\", \"dividers\", \"documents\", \"documents\", \"does\", \"does\", \"does\", \"does\", \"does\", \"does\", \"does\", \"does\", \"does\", \"does\", \"does\", \"does\", \"does\", \"does\", \"does\", \"does\", \"does\", \"does\", \"does\", \"dog\", \"dog\", \"dog\", \"dog\", \"dog\", \"dog\", \"dog\", \"dog\", \"don\", \"don\", \"don\", \"don\", \"don\", \"don\", \"don\", \"don\", \"don\", \"don\", \"don\", \"don\", \"don\", \"don\", \"don\", \"don\", \"don\", \"don\", \"don\", \"don\", \"door\", \"door\", \"door\", \"door\", \"door\", \"door\", \"doorknobs\", \"doorknobs\", \"double\", \"double\", \"double\", \"double\", \"double\", \"double\", \"double\", \"double\", \"download\", \"download\", \"downs\", \"downy\", \"dress\", \"dry\", \"dry\", \"dry\", \"dry\", \"dry\", \"dry\", \"dry\", \"dry\", \"dry\", \"dry\", \"dry\", \"dry\", \"dryer\", \"dryer\", \"dryer\", \"dryer\", \"dryer\", \"durable\", \"durable\", \"durable\", \"durable\", \"durable\", \"durable\", \"durable\", \"durable\", \"dvd\", \"dvd\", \"dvd\", \"dvd\", \"dvd\", \"dvd\", \"dvd\", \"dvd\", \"dvds\", \"dvds\", \"ear\", \"earbuds\", \"easter\", \"easy\", \"easy\", \"easy\", \"easy\", \"easy\", \"easy\", \"easy\", \"easy\", \"easy\", \"easy\", \"easy\", \"easy\", \"easy\", \"easy\", \"easy\", \"easy\", \"easy\", \"easy\", \"easy\", \"easy\", \"eat\", \"eat\", \"eat\", \"eat\", \"eat\", \"eat\", \"eaten\", \"effects\", \"effects\", \"effects\", \"effects\", \"effects\", \"efron\", \"els\", \"employee\", \"ends\", \"ends\", \"ends\", \"ends\", \"ends\", \"engaged\", \"enjoy\", \"enjoy\", \"enjoy\", \"enjoy\", \"enjoy\", \"enjoy\", \"enjoy\", \"enjoy\", \"enjoy\", \"enjoy\", \"enjoy\", \"enjoy\", \"enjoy\", \"enjoy\", \"enjoy\", \"enjoy\", \"enjoy\", \"enjoyed\", \"enjoyed\", \"enjoyed\", \"enjoyed\", \"enjoyed\", \"enjoyed\", \"enjoyed\", \"enjoyed\", \"enjoyed\", \"enjoyed\", \"enjoyed\", \"enjoyment\", \"entertained\", \"entertained\", \"entertained\", \"entertaining\", \"entertaining\", \"entertaining\", \"entertaining\", \"especially\", \"especially\", \"especially\", \"especially\", \"especially\", \"especially\", \"especially\", \"especially\", \"especially\", \"especially\", \"especially\", \"especially\", \"especially\", \"especially\", \"especially\", \"especially\", \"especially\", \"especially\", \"especially\", \"everlasting\", \"everthing\", \"everyday\", \"everyday\", \"everyday\", \"everyday\", \"everyday\", \"everyday\", \"everyday\", \"everyday\", \"everyday\", \"everyday\", \"everyday\", \"everyday\", \"everyday\", \"everyon\", \"evil\", \"exactly\", \"exactly\", \"exactly\", \"exactly\", \"exactly\", \"exactly\", \"exactly\", \"exactly\", \"exactly\", \"exactly\", \"exactly\", \"exactly\", \"exactly\", \"exactly\", \"excel\", \"excelent\", \"excellant\", \"excellent\", \"excellent\", \"excellent\", \"excellent\", \"excellent\", \"excellent\", \"excellent\", \"excellent\", \"excellent\", \"excellent\", \"excellent\", \"excellent\", \"excellent\", \"excellent\", \"excellent\", \"excellent\", \"excellent\", \"excellent\", \"excellent\", \"excellent\", \"exchange\", \"exchange\", \"exchange\", \"exchange\", \"exchange\", \"exchange\", \"expert\", \"explosions\", \"extraordinary\", \"extraordinary\", \"exxtra\", \"eyes\", \"eyes\", \"eyes\", \"eyes\", \"eyes\", \"eyes\", \"eyes\", \"eyes\", \"face\", \"face\", \"face\", \"face\", \"face\", \"face\", \"face\", \"facial\", \"faint\", \"fake\", \"fake\", \"fake\", \"family\", \"family\", \"family\", \"family\", \"family\", \"family\", \"family\", \"family\", \"family\", \"family\", \"family\", \"family\", \"family\", \"family\", \"family\", \"family\", \"family\", \"family\", \"family\", \"fan\", \"fan\", \"fan\", \"fan\", \"fan\", \"fan\", \"fan\", \"fan\", \"fan\", \"fan\", \"fan\", \"fan\", \"fan\", \"fan\", \"fan\", \"fan\", \"fan\", \"fan\", \"fans\", \"fans\", \"fans\", \"fans\", \"fans\", \"fantast\", \"fare\", \"fast\", \"fast\", \"fast\", \"fast\", \"fast\", \"fast\", \"fast\", \"fast\", \"fast\", \"fast\", \"fast\", \"fast\", \"fast\", \"fast\", \"fast\", \"fast\", \"fast\", \"fast\", \"favorit\", \"favorite\", \"favorite\", \"favorite\", \"favorite\", \"favorite\", \"favorite\", \"favorite\", \"favorite\", \"favorite\", \"favorite\", \"favorite\", \"favorite\", \"favorite\", \"favorite\", \"favorite\", \"favorite\", \"favorite\", \"favorite\", \"favorite\", \"favorites\", \"favorites\", \"favorites\", \"favorites\", \"favorites\", \"favorites\", \"favorites\", \"favorites\", \"favorites\", \"favorites\", \"features\", \"features\", \"features\", \"features\", \"features\", \"features\", \"features\", \"features\", \"features\", \"features\", \"features\", \"febreeze\", \"febreze\", \"feel\", \"feel\", \"feel\", \"feel\", \"feel\", \"feel\", \"feel\", \"feel\", \"feel\", \"feel\", \"feel\", \"feel\", \"feel\", \"feel\", \"feel\", \"feel\", \"feel\", \"feel\", \"feel\", \"feeling\", \"feeling\", \"feeling\", \"feeling\", \"feeling\", \"feeling\", \"feeling\", \"feeling\", \"feeling\", \"feeling\", \"feeling\", \"feeling\", \"feels\", \"feels\", \"feels\", \"feels\", \"feels\", \"feels\", \"feels\", \"feels\", \"feels\", \"feels\", \"feels\", \"feels\", \"feels\", \"fiction\", \"fig\", \"file\", \"file\", \"files\", \"film\", \"film\", \"film\", \"film\", \"film\", \"film\", \"film\", \"film\", \"film\", \"film\", \"film\", \"film\", \"filter\", \"fine\", \"fine\", \"fine\", \"fine\", \"fine\", \"fine\", \"fine\", \"fine\", \"fine\", \"fine\", \"fine\", \"fine\", \"fine\", \"fir\", \"firmer\", \"flavor\", \"flavor\", \"flavor\", \"flavor\", \"flavor\", \"flicks\", \"floor\", \"floor\", \"floor\", \"floor\", \"floors\", \"floors\", \"floors\", \"floors\", \"flu\", \"flu\", \"fluffy\", \"fluffy\", \"fluffy\", \"fluffy\", \"folder\", \"folders\", \"followup\", \"food\", \"food\", \"food\", \"food\", \"food\", \"food\", \"food\", \"food\", \"food\", \"food\", \"food\", \"foodsaver\", \"forehead\", \"formula\", \"formula\", \"formula\", \"formula\", \"formula\", \"formula\", \"foundation\", \"fragrance\", \"fragrance\", \"fragrance\", \"fragrance\", \"fragrance\", \"fragrance\", \"fragrance\", \"fre\", \"free\", \"free\", \"free\", \"free\", \"free\", \"free\", \"free\", \"free\", \"free\", \"free\", \"free\", \"free\", \"free\", \"free\", \"free\", \"french\", \"fresh\", \"fresh\", \"fresh\", \"fresh\", \"fresh\", \"fresh\", \"fresh\", \"fresh\", \"fresh\", \"fresh\", \"fresh\", \"fresh\", \"fresh\", \"fresh\", \"freshening\", \"friday\", \"friday\", \"friday\", \"friend\", \"friend\", \"friend\", \"friend\", \"friend\", \"friend\", \"friend\", \"friend\", \"friend\", \"friend\", \"friend\", \"friend\", \"friend\", \"friend\", \"friend\", \"friend\", \"friend\", \"fruits\", \"fun\", \"fun\", \"fun\", \"fun\", \"fun\", \"fun\", \"fun\", \"fun\", \"fun\", \"fun\", \"fun\", \"fun\", \"fun\", \"fun\", \"funni\", \"funni\", \"funniest\", \"funniest\", \"funniest\", \"funny\", \"funny\", \"funny\", \"funny\", \"funny\", \"funny\", \"funny\", \"futur\", \"games\", \"games\", \"gel\", \"gel\", \"gel\", \"gel\", \"gel\", \"gel\", \"gel\", \"gentle\", \"gentle\", \"gentle\", \"gentle\", \"gentle\", \"gentle\", \"gentle\", \"germ\", \"germ\", \"germs\", \"germs\", \"germs\", \"germy\", \"gift\", \"gift\", \"gift\", \"gift\", \"gift\", \"gift\", \"gift\", \"gift\", \"gift\", \"ginger\", \"ginger\", \"ginger\", \"glasses\", \"glassware\", \"glider\", \"gloss\", \"glow\", \"glow\", \"glue\", \"glue\", \"glue\", \"gluten\", \"godzilla\", \"godzilla\", \"godzilla\", \"good\", \"good\", \"good\", \"good\", \"good\", \"good\", \"good\", \"good\", \"good\", \"good\", \"good\", \"good\", \"good\", \"good\", \"good\", \"good\", \"good\", \"good\", \"good\", \"good\", \"got\", \"got\", \"got\", \"got\", \"got\", \"got\", \"got\", \"got\", \"got\", \"got\", \"got\", \"got\", \"got\", \"got\", \"got\", \"got\", \"got\", \"got\", \"got\", \"got\", \"grabbing\", \"grabbing\", \"grabbing\", \"grain\", \"grand\", \"grand\", \"grand\", \"grand\", \"granddaughter\", \"granddaughter\", \"granddaughters\", \"granddaughters\", \"grandkids\", \"grandkids\", \"grandkids\", \"grandkids\", \"grandson\", \"grandson\", \"grandson\", \"grandson\", \"grandson\", \"granite\", \"grat\", \"grate\", \"gray\", \"gray\", \"gray\", \"gray\", \"gray\", \"gray\", \"greasy\", \"greasy\", \"greasy\", \"greasy\", \"greasy\", \"greasy\", \"greasy\", \"great\", \"great\", \"great\", \"great\", \"great\", \"great\", \"great\", \"great\", \"great\", \"great\", \"great\", \"great\", \"great\", \"great\", \"great\", \"great\", \"great\", \"great\", \"great\", \"great\", \"greek\", \"greek\", \"greek\", \"greens\", \"grey\", \"grey\", \"grey\", \"grey\", \"gum\", \"hair\", \"hair\", \"hair\", \"hair\", \"hair\", \"hair\", \"hair\", \"hair\", \"hair\", \"hairspray\", \"hairspray\", \"hand\", \"hand\", \"hand\", \"hand\", \"hand\", \"hand\", \"hand\", \"hand\", \"hand\", \"hand\", \"hand\", \"hand\", \"hand\", \"hand\", \"hand\", \"handle\", \"handle\", \"handle\", \"handle\", \"handle\", \"handle\", \"handle\", \"handles\", \"handles\", \"handles\", \"hands\", \"hands\", \"hands\", \"hands\", \"hands\", \"hands\", \"hands\", \"hands\", \"hands\", \"hands\", \"hands\", \"hands\", \"hands\", \"hands\", \"handy\", \"handy\", \"handy\", \"handy\", \"handy\", \"handy\", \"handy\", \"hanging\", \"hanging\", \"hanging\", \"happi\", \"hard\", \"hard\", \"hard\", \"hard\", \"hard\", \"hard\", \"hard\", \"hard\", \"hard\", \"hard\", \"hard\", \"hard\", \"hard\", \"hard\", \"hard\", \"hard\", \"hard\", \"hardwood\", \"hart\", \"hate\", \"hate\", \"hate\", \"hate\", \"hate\", \"hate\", \"hate\", \"hate\", \"hate\", \"hate\", \"hate\", \"hates\", \"hav\", \"hawaiian\", \"headphone\", \"headphones\", \"headset\", \"hear\", \"hear\", \"hear\", \"hear\", \"hear\", \"hear\", \"hear\", \"hear\", \"heartwarming\", \"heartwarming\", \"heater\", \"heater\", \"heater\", \"helen\", \"helper\", \"helper\", \"hilarious\", \"hilarious\", \"hilarious\", \"hilarious\", \"hilariously\", \"hillarious\", \"hits\", \"hits\", \"hits\", \"hold\", \"hold\", \"hold\", \"hold\", \"hold\", \"hold\", \"hold\", \"hold\", \"hold\", \"hold\", \"hold\", \"hom\", \"hom\", \"home\", \"home\", \"home\", \"home\", \"home\", \"home\", \"home\", \"home\", \"home\", \"home\", \"home\", \"home\", \"home\", \"home\", \"home\", \"home\", \"home\", \"home\", \"home\", \"homes\", \"homes\", \"honest\", \"honest\", \"honest\", \"honest\", \"honest\", \"honest\", \"hoover\", \"hormel\", \"horrible\", \"horrible\", \"horrible\", \"horrible\", \"horrible\", \"horrible\", \"horrible\", \"horrible\", \"horrible\", \"hot\", \"hot\", \"hot\", \"hot\", \"hot\", \"hot\", \"hot\", \"hot\", \"hous\", \"house\", \"house\", \"house\", \"house\", \"house\", \"house\", \"house\", \"house\", \"house\", \"house\", \"house\", \"house\", \"house\", \"house\", \"humor\", \"humor\", \"humor\", \"hurry\", \"hurry\", \"hurry\", \"hurry\", \"hurry\", \"hurry\", \"idea\", \"idea\", \"idea\", \"idea\", \"idea\", \"idea\", \"idea\", \"idea\", \"idea\", \"idea\", \"idea\", \"idea\", \"imagination\", \"impress\", \"improvements\", \"improvements\", \"improvements\", \"inappropriate\", \"income\", \"independence\", \"independence\", \"index\", \"index\", \"infant\", \"influenster\", \"influenster\", \"influenster\", \"ins\", \"interesting\", \"interesting\", \"interesting\", \"interesting\", \"interesting\", \"interesting\", \"interesting\", \"interesting\", \"ipad\", \"item\", \"item\", \"item\", \"item\", \"item\", \"item\", \"item\", \"item\", \"item\", \"item\", \"item\", \"item\", \"item\", \"item\", \"item\", \"item\", \"itunes\", \"japanese\", \"jason\", \"jennifer\", \"jet\", \"job\", \"job\", \"job\", \"job\", \"job\", \"job\", \"job\", \"job\", \"job\", \"job\", \"job\", \"job\", \"job\", \"job\", \"job\", \"job\", \"job\", \"job\", \"job\", \"johnny\", \"johnny\", \"jugs\", \"juicer\", \"jungle\", \"jungle\", \"just\", \"just\", \"just\", \"just\", \"just\", \"just\", \"just\", \"just\", \"just\", \"just\", \"just\", \"just\", \"just\", \"just\", \"just\", \"just\", \"just\", \"just\", \"just\", \"just\", \"kevin\", \"keyboard\", \"keyboards\", \"kid\", \"kid\", \"kid\", \"kid\", \"kid\", \"kid\", \"kid\", \"kid\", \"kid\", \"kid\", \"kid\", \"kids\", \"kids\", \"kids\", \"kids\", \"kids\", \"kids\", \"kids\", \"kids\", \"kids\", \"kids\", \"kids\", \"kids\", \"kids\", \"kids\", \"kids\", \"killer\", \"killer\", \"killing\", \"killing\", \"killing\", \"kills\", \"kills\", \"king\", \"king\", \"king\", \"king\", \"kiss\", \"kiss\", \"kitchen\", \"kitchen\", \"kitchen\", \"kitchen\", \"kitchen\", \"kitchen\", \"kitchen\", \"kitchens\", \"knobs\", \"knots\", \"know\", \"know\", \"know\", \"know\", \"know\", \"know\", \"know\", \"know\", \"know\", \"know\", \"know\", \"know\", \"know\", \"know\", \"know\", \"know\", \"know\", \"know\", \"know\", \"know\", \"knows\", \"knows\", \"knows\", \"knows\", \"knows\", \"knows\", \"labels\", \"lambert\", \"laminate\", \"lamp\", \"las\", \"lashes\", \"lathers\", \"laugh\", \"laugh\", \"laugh\", \"laugh\", \"laughed\", \"laughed\", \"laughed\", \"laughing\", \"laughing\", \"laughs\", \"laughs\", \"laughs\", \"laughter\", \"laughter\", \"laundry\", \"laundry\", \"laundry\", \"laundry\", \"laundry\", \"lawrence\", \"layers\", \"layers\", \"leaked\", \"leaves\", \"leaves\", \"leaves\", \"leaves\", \"leaves\", \"leaves\", \"leaves\", \"leaves\", \"leaves\", \"leaves\", \"leaves\", \"leaves\", \"left\", \"left\", \"left\", \"left\", \"left\", \"left\", \"left\", \"left\", \"left\", \"left\", \"left\", \"left\", \"left\", \"left\", \"left\", \"lemi\", \"lemishine\", \"lemon\", \"lemon\", \"lemon\", \"lemon\", \"lemon\", \"lemon\", \"lemony\", \"length\", \"length\", \"length\", \"length\", \"lenses\", \"lenses\", \"lettuce\", \"library\", \"library\", \"lif\", \"life\", \"life\", \"life\", \"life\", \"life\", \"life\", \"life\", \"life\", \"life\", \"life\", \"life\", \"life\", \"life\", \"life\", \"life\", \"life\", \"life\", \"life\", \"lightening\", \"lik\", \"like\", \"like\", \"like\", \"like\", \"like\", \"like\", \"like\", \"like\", \"like\", \"like\", \"like\", \"like\", \"like\", \"like\", \"like\", \"like\", \"like\", \"like\", \"like\", \"like\", \"lin\", \"lines\", \"lines\", \"lines\", \"lines\", \"lines\", \"lines\", \"lip\", \"lip\", \"lip\", \"lip\", \"lips\", \"lips\", \"lips\", \"lipstick\", \"lipstick\", \"liquid\", \"liquid\", \"liquid\", \"liquid\", \"liquid\", \"liquid\", \"liquid\", \"listening\", \"listening\", \"listening\", \"load\", \"load\", \"load\", \"loader\", \"loading\", \"loading\", \"loads\", \"loads\", \"loads\", \"long\", \"long\", \"long\", \"long\", \"long\", \"long\", \"long\", \"long\", \"long\", \"long\", \"long\", \"long\", \"long\", \"long\", \"long\", \"long\", \"long\", \"long\", \"long\", \"long\", \"look\", \"look\", \"look\", \"look\", \"look\", \"look\", \"look\", \"look\", \"look\", \"look\", \"look\", \"look\", \"look\", \"look\", \"look\", \"look\", \"look\", \"look\", \"look\", \"lotion\", \"lotion\", \"lotion\", \"lotion\", \"lotion\", \"love\", \"love\", \"love\", \"love\", \"love\", \"love\", \"love\", \"love\", \"love\", \"love\", \"love\", \"love\", \"love\", \"love\", \"love\", \"love\", \"love\", \"love\", \"love\", \"love\", \"loved\", \"loved\", \"loved\", \"loved\", \"loved\", \"loved\", \"loved\", \"loved\", \"loved\", \"loved\", \"loved\", \"loved\", \"loved\", \"loved\", \"loved\", \"loved\", \"loved\", \"loved\", \"lover\", \"lover\", \"lover\", \"lover\", \"lovers\", \"loves\", \"loves\", \"loves\", \"loves\", \"loves\", \"loves\", \"loves\", \"loves\", \"loves\", \"loves\", \"loves\", \"loves\", \"loves\", \"loves\", \"loves\", \"loves\", \"loves\", \"loves\", \"loves\", \"lundberg\", \"luv\", \"luv\", \"lysol\", \"lysol\", \"lysol\", \"lysol\", \"machine\", \"machine\", \"machine\", \"makeup\", \"makeup\", \"makeup\", \"makeup\", \"makeup\", \"malkovich\", \"manageable\", \"manicure\", \"marker\", \"mascara\", \"mask\", \"mask\", \"meal\", \"meal\", \"meal\", \"meal\", \"measure\", \"measure\", \"measuring\", \"mediocre\", \"mega\", \"mental\", \"mental\", \"merlot\", \"messes\", \"messes\", \"messes\", \"messes\", \"metal\", \"metal\", \"microfiber\", \"mike\", \"mila\", \"milk\", \"milk\", \"milk\", \"minds\", \"minions\", \"miranda\", \"mirrors\", \"mirrors\", \"mishaps\", \"mitchum\", \"modern\", \"modern\", \"modern\", \"modern\", \"modern\", \"moisturiser\", \"moisturizer\", \"moisturizer\", \"moisturizer\", \"moisturizers\", \"moisturizers\", \"moisturizing\", \"moisturizing\", \"moisturizing\", \"money\", \"money\", \"money\", \"money\", \"money\", \"money\", \"money\", \"money\", \"money\", \"money\", \"money\", \"money\", \"money\", \"money\", \"money\", \"money\", \"money\", \"monkey\", \"monster\", \"monster\", \"monster\", \"monsters\", \"months\", \"months\", \"months\", \"months\", \"months\", \"months\", \"months\", \"months\", \"months\", \"months\", \"months\", \"mop\", \"mop\", \"mountain\", \"mouth\", \"mouth\", \"mouth\", \"mouth\", \"mouth\", \"mouth\", \"mouth\", \"movi\", \"movi\", \"movi\", \"movie\", \"movie\", \"movie\", \"movie\", \"movie\", \"movie\", \"movie\", \"movie\", \"movie\", \"movies\", \"movies\", \"movies\", \"movies\", \"movies\", \"movies\", \"multipurpose\", \"murray\", \"music\", \"music\", \"music\", \"music\", \"nail\", \"nails\", \"natural\", \"natural\", \"natural\", \"natural\", \"natural\", \"natural\", \"natural\", \"natural\", \"natural\", \"natural\", \"natural\", \"needed\", \"needed\", \"needed\", \"needed\", \"needed\", \"needed\", \"needed\", \"needed\", \"needed\", \"needed\", \"needed\", \"needed\", \"needed\", \"needed\", \"needed\", \"needed\", \"needed\", \"needed\", \"needed\", \"nephew\", \"nephew\", \"nephews\", \"new\", \"new\", \"new\", \"new\", \"new\", \"new\", \"new\", \"new\", \"new\", \"new\", \"new\", \"new\", \"new\", \"new\", \"new\", \"new\", \"new\", \"new\", \"newer\", \"nexus\", \"nexxus\", \"nexxus\", \"nic\", \"nice\", \"nice\", \"nice\", \"nice\", \"nice\", \"nice\", \"nice\", \"nice\", \"nice\", \"nice\", \"nice\", \"nice\", \"nice\", \"nice\", \"nice\", \"nice\", \"nice\", \"nice\", \"nice\", \"nice\", \"nieces\", \"nivea\", \"noise\", \"noise\", \"nonstop\", \"northern\", \"noticed\", \"noticed\", \"noticed\", \"noticed\", \"noticed\", \"noticed\", \"noticed\", \"noticed\", \"nutmeg\", \"nutty\", \"nyx\", \"occasion\", \"occasion\", \"occasion\", \"oily\", \"oily\", \"oily\", \"oily\", \"oily\", \"olay\", \"old\", \"old\", \"old\", \"old\", \"old\", \"old\", \"old\", \"old\", \"old\", \"old\", \"old\", \"old\", \"old\", \"old\", \"old\", \"old\", \"old\", \"old\", \"oled\", \"online\", \"online\", \"online\", \"online\", \"online\", \"online\", \"online\", \"online\", \"online\", \"online\", \"opener\", \"opener\", \"opinions\", \"opinions\", \"opinions\", \"opti\", \"opti\", \"orajel\", \"oreal\", \"oreal\", \"organizational\", \"organize\", \"organize\", \"organize\", \"organized\", \"organized\", \"organizing\", \"organizing\", \"original\", \"original\", \"original\", \"original\", \"original\", \"original\", \"original\", \"original\", \"original\", \"original\", \"original\", \"original\", \"oth\", \"ottoman\", \"owner\", \"owner\", \"owners\", \"owners\", \"owners\", \"oxi\", \"oxiclean\", \"packaging\", \"packaging\", \"packaging\", \"packaging\", \"packaging\", \"packaging\", \"packaging\", \"packaging\", \"packaging\", \"packaging\", \"packaging\", \"packed\", \"packed\", \"packed\", \"packed\", \"packed\", \"packed\", \"pacs\", \"pad\", \"pad\", \"pads\", \"pads\", \"pads\", \"pages\", \"pain\", \"pain\", \"pain\", \"pain\", \"pain\", \"pain\", \"pain\", \"palette\", \"pantene\", \"pants\", \"papaya\", \"paper\", \"paper\", \"paper\", \"paper\", \"paper\", \"papers\", \"papers\", \"papers\", \"paperwork\", \"paris\", \"paris\", \"patches\", \"peace\", \"peace\", \"peace\", \"peanuts\", \"pen\", \"pencil\", \"pencils\", \"peppermint\", \"peppermint\", \"perfect\", \"perfect\", \"perfect\", \"perfect\", \"perfect\", \"perfect\", \"perfect\", \"perfect\", \"perfect\", \"perfect\", \"perfect\", \"perfect\", \"perfect\", \"perfect\", \"perfect\", \"perfect\", \"perfect\", \"perfect\", \"perfect\", \"perfect\", \"performs\", \"performs\", \"performs\", \"perry\", \"personal\", \"personal\", \"personal\", \"personal\", \"personal\", \"personal\", \"personal\", \"pet\", \"pet\", \"pet\", \"pet\", \"pets\", \"pets\", \"pets\", \"pets\", \"pets\", \"pets\", \"pets\", \"phoenix\", \"phone\", \"phone\", \"phone\", \"picture\", \"picture\", \"picture\", \"picture\", \"picture\", \"picture\", \"picture\", \"picture\", \"pillows\", \"plane\", \"planes\", \"planes\", \"planes\", \"planes\", \"planters\", \"pleas\", \"pleas\", \"plot\", \"plot\", \"plot\", \"plush\", \"plush\", \"ply\", \"pod\", \"pods\", \"polish\", \"poor\", \"poor\", \"poor\", \"poor\", \"poor\", \"poor\", \"poor\", \"popcorn\", \"popcorn\", \"popcorn\", \"popcorn\", \"pores\", \"potty\", \"potty\", \"powder\", \"powder\", \"powder\", \"powder\", \"powder\", \"powder\", \"powder\", \"powder\", \"powder\", \"presentation\", \"presentation\", \"presentation\", \"presentation\", \"presentations\", \"press\", \"press\", \"press\", \"press\", \"pric\", \"pric\", \"pric\", \"pric\", \"price\", \"price\", \"price\", \"price\", \"price\", \"price\", \"price\", \"price\", \"price\", \"price\", \"price\", \"price\", \"price\", \"price\", \"price\", \"price\", \"price\", \"price\", \"price\", \"price\", \"product\", \"product\", \"product\", \"product\", \"product\", \"product\", \"product\", \"product\", \"product\", \"product\", \"product\", \"product\", \"product\", \"product\", \"product\", \"product\", \"product\", \"product\", \"product\", \"product\", \"products\", \"products\", \"products\", \"products\", \"products\", \"products\", \"products\", \"products\", \"products\", \"products\", \"products\", \"products\", \"products\", \"products\", \"products\", \"products\", \"products\", \"professional\", \"professional\", \"professional\", \"professional\", \"professional\", \"professional\", \"promotion\", \"promotion\", \"promotion\", \"promotion\", \"promotion\", \"promotion\", \"promotion\", \"promotion\", \"promotion\", \"promotion\", \"promotion\", \"promotion\", \"protein\", \"protein\", \"protein\", \"puffcorn\", \"puffs\", \"pulp\", \"pulp\", \"punch\", \"punch\", \"punch\", \"punch\", \"puppy\", \"puppy\", \"purchas\", \"purchas\", \"purchased\", \"purchased\", \"purchased\", \"purchased\", \"purchased\", \"purchased\", \"purchased\", \"purchased\", \"purchased\", \"purchased\", \"purchased\", \"purchased\", \"purchased\", \"purchased\", \"purchased\", \"purchased\", \"purchased\", \"purchased\", \"purposes\", \"purposes\", \"purposes\", \"purposes\", \"quality\", \"quality\", \"quality\", \"quality\", \"quality\", \"quality\", \"quality\", \"quality\", \"quality\", \"quality\", \"quality\", \"quality\", \"quality\", \"quality\", \"quality\", \"quality\", \"quality\", \"quality\", \"quality\", \"quality\", \"quentin\", \"quest\", \"quick\", \"quick\", \"quick\", \"quick\", \"quick\", \"quick\", \"quick\", \"quick\", \"quick\", \"quick\", \"quick\", \"quiet\", \"quiet\", \"quilted\", \"quit\", \"quit\", \"quit\", \"quits\", \"ragu\", \"raisin\", \"raunchy\", \"raunchy\", \"ray\", \"ray\", \"ray\", \"ready\", \"ready\", \"ready\", \"ready\", \"ready\", \"ready\", \"ready\", \"ready\", \"ready\", \"ready\", \"ready\", \"ready\", \"ready\", \"ready\", \"real\", \"real\", \"real\", \"real\", \"real\", \"real\", \"real\", \"real\", \"real\", \"real\", \"real\", \"real\", \"real\", \"real\", \"real\", \"real\", \"real\", \"really\", \"really\", \"really\", \"really\", \"really\", \"really\", \"really\", \"really\", \"really\", \"really\", \"really\", \"really\", \"really\", \"really\", \"really\", \"really\", \"really\", \"really\", \"really\", \"really\", \"reasonably\", \"reasonably\", \"reasonably\", \"reasonably\", \"reboot\", \"rec\", \"receipt\", \"receipt\", \"receipts\", \"received\", \"received\", \"received\", \"received\", \"received\", \"received\", \"received\", \"received\", \"received\", \"received\", \"received\", \"received\", \"received\", \"recomend\", \"recomend\", \"recomend\", \"recomend\", \"recomend\", \"recomend\", \"recomend\", \"recommend\", \"recommend\", \"recommend\", \"recommend\", \"recommend\", \"recommend\", \"recommend\", \"recommend\", \"recommend\", \"recommend\", \"recommend\", \"recommend\", \"recommend\", \"recommend\", \"recommend\", \"recommend\", \"recommend\", \"recommend\", \"recommend\", \"recommend\", \"recommended\", \"recommended\", \"recommended\", \"recommended\", \"recommended\", \"recommended\", \"recommended\", \"recommended\", \"recommended\", \"recommended\", \"recommended\", \"recommended\", \"recommended\", \"recommended\", \"recommended\", \"records\", \"records\", \"redness\", \"reference\", \"refills\", \"regenerating\", \"regenerist\", \"relieve\", \"remake\", \"remake\", \"remake\", \"remakes\", \"remarkable\", \"remembered\", \"remembered\", \"remembered\", \"reminds\", \"reminds\", \"reminds\", \"reminds\", \"remotes\", \"remover\", \"remover\", \"remover\", \"remover\", \"repeatedly\", \"resident\", \"restroom\", \"results\", \"results\", \"results\", \"results\", \"results\", \"results\", \"results\", \"results\", \"results\", \"results\", \"results\", \"results\", \"results\", \"resurgence\", \"resurgence\", \"reusable\", \"reveal\", \"reveal\", \"reveal\", \"revitalift\", \"rewards\", \"rhubarb\", \"rice\", \"rip\", \"rip\", \"rock\", \"rock\", \"rock\", \"rock\", \"rock\", \"rock\", \"rock\", \"rogan\", \"rogen\", \"roll\", \"roll\", \"roll\", \"roll\", \"roll\", \"rolls\", \"romance\", \"room\", \"room\", \"room\", \"room\", \"room\", \"room\", \"room\", \"room\", \"room\", \"room\", \"room\", \"room\", \"roots\", \"roots\", \"royal\", \"royal\", \"rubbermaid\", \"rubbermaid\", \"ruined\", \"ruined\", \"ruined\", \"ruined\", \"sad\", \"sad\", \"sad\", \"sad\", \"sad\", \"sad\", \"sad\", \"sad\", \"sad\", \"salon\", \"salon\", \"salon\", \"salsa\", \"sample\", \"sample\", \"sample\", \"sample\", \"sample\", \"sample\", \"samsung\", \"samuel\", \"sanitary\", \"sanitary\", \"sanitary\", \"sanitized\", \"sanitized\", \"sanitizes\", \"satisfied\", \"satisfied\", \"satisfied\", \"satisfied\", \"satisfied\", \"satisfied\", \"satisfied\", \"satisfied\", \"satisfied\", \"satisfied\", \"satisfied\", \"satisfied\", \"satisfied\", \"sauce\", \"sauce\", \"sauce\", \"sauce\", \"sauce\", \"savers\", \"saw\", \"saw\", \"saw\", \"saw\", \"saw\", \"saw\", \"saw\", \"saw\", \"saw\", \"saw\", \"saw\", \"saw\", \"scalp\", \"scalp\", \"scent\", \"scent\", \"scent\", \"scent\", \"scent\", \"scent\", \"scent\", \"scent\", \"scent\", \"scent\", \"school\", \"school\", \"school\", \"school\", \"school\", \"school\", \"school\", \"school\", \"school\", \"school\", \"school\", \"science\", \"science\", \"science\", \"script\", \"seal\", \"seal\", \"seal\", \"sealed\", \"sealed\", \"season\", \"season\", \"season\", \"season\", \"season\", \"season\", \"season\", \"season\", \"second\", \"second\", \"second\", \"second\", \"second\", \"second\", \"second\", \"second\", \"second\", \"second\", \"second\", \"second\", \"second\", \"second\", \"sensitive\", \"sensitive\", \"sensitive\", \"sensitive\", \"sensitive\", \"sensitive\", \"sensitive\", \"septic\", \"sequel\", \"sequel\", \"sequel\", \"sequels\", \"sequels\", \"series\", \"series\", \"series\", \"series\", \"serum\", \"serum\", \"service\", \"service\", \"service\", \"service\", \"service\", \"seth\", \"setting\", \"setting\", \"setting\", \"setting\", \"setting\", \"setting\", \"setting\", \"settings\", \"settings\", \"settings\", \"shadow\", \"shadow\", \"shadow\", \"shadow\", \"shampoo\", \"shampoo\", \"shampoo\", \"shampoos\", \"shampoos\", \"sheets\", \"sheets\", \"sheets\", \"sheets\", \"sheets\", \"shimmer\", \"shimmer\", \"shimmer\", \"shimmers\", \"shimmers\", \"shimmery\", \"shine\", \"shine\", \"shine\", \"shine\", \"shine\", \"shine\", \"shine\", \"shine\", \"shiny\", \"shiny\", \"shiny\", \"shiny\", \"shiny\", \"shiny\", \"shiny\", \"shiny\", \"shiny\", \"ship\", \"ship\", \"ship\", \"shipped\", \"shipped\", \"shipped\", \"shipped\", \"shipping\", \"shipping\", \"shipping\", \"shipping\", \"shipping\", \"shipping\", \"shipping\", \"shirt\", \"shirt\", \"shirts\", \"shirts\", \"short\", \"short\", \"short\", \"short\", \"short\", \"short\", \"short\", \"short\", \"short\", \"short\", \"short\", \"shots\", \"shoulders\", \"sickness\", \"signs\", \"silk\", \"silk\", \"silky\", \"silky\", \"silky\", \"size\", \"size\", \"size\", \"size\", \"size\", \"size\", \"size\", \"size\", \"size\", \"size\", \"size\", \"size\", \"size\", \"size\", \"skin\", \"skin\", \"skin\", \"skin\", \"skin\", \"skin\", \"skin\", \"skin\", \"slow\", \"slow\", \"slow\", \"smead\", \"smel\", \"smel\", \"smell\", \"smell\", \"smell\", \"smell\", \"smell\", \"smell\", \"smell\", \"smell\", \"smell\", \"smell\", \"smell\", \"smell\", \"smelled\", \"smelled\", \"smelled\", \"smelled\", \"smelled\", \"smelling\", \"smelling\", \"smelling\", \"smelling\", \"smelling\", \"smelling\", \"smelling\", \"smelling\", \"smells\", \"smells\", \"smells\", \"smells\", \"smells\", \"smells\", \"smells\", \"smells\", \"smells\", \"smells\", \"smith\", \"smith\", \"smooth\", \"smooth\", \"smooth\", \"smooth\", \"smooth\", \"smooth\", \"smooth\", \"smooth\", \"smooth\", \"smoother\", \"smoother\", \"smoother\", \"snack\", \"snack\", \"snack\", \"snacks\", \"snacks\", \"snacks\", \"soap\", \"soap\", \"soap\", \"soap\", \"soap\", \"soap\", \"soap\", \"soap\", \"socks\", \"soft\", \"soft\", \"soft\", \"soft\", \"soft\", \"soft\", \"soft\", \"soft\", \"soft\", \"softener\", \"softener\", \"softest\", \"softest\", \"softest\", \"softness\", \"softness\", \"softness\", \"softness\", \"softsoap\", \"solution\", \"solution\", \"solution\", \"solution\", \"solution\", \"solution\", \"solution\", \"solution\", \"solution\", \"solutions\", \"son\", \"son\", \"son\", \"son\", \"son\", \"son\", \"son\", \"son\", \"son\", \"son\", \"son\", \"son\", \"son\", \"son\", \"son\", \"son\", \"song\", \"songs\", \"songs\", \"songs\", \"sony\", \"soo\", \"soo\", \"soo\", \"soo\", \"soo\", \"sopranos\", \"sound\", \"sound\", \"sound\", \"sound\", \"sound\", \"sound\", \"sounds\", \"sounds\", \"sounds\", \"sounds\", \"sounds\", \"sounds\", \"sounds\", \"soup\", \"sour\", \"sparkle\", \"sparkle\", \"sparkling\", \"special\", \"special\", \"special\", \"special\", \"special\", \"special\", \"special\", \"special\", \"special\", \"spicy\", \"spiral\", \"sponges\", \"spotless\", \"spotless\", \"spotless\", \"spots\", \"spots\", \"spots\", \"spots\", \"spots\", \"spots\", \"spots\", \"spots\", \"spray\", \"spray\", \"spray\", \"spray\", \"spray\", \"spray\", \"spray\", \"spray\", \"spray\", \"spray\", \"sprayer\", \"sprayer\", \"spraying\", \"spraying\", \"spraying\", \"staff\", \"stain\", \"stain\", \"stain\", \"stain\", \"stain\", \"stains\", \"stains\", \"stains\", \"stains\", \"stains\", \"stains\", \"stains\", \"stains\", \"stairs\", \"stale\", \"stargate\", \"stars\", \"stars\", \"stars\", \"stars\", \"stars\", \"stars\", \"stars\", \"stars\", \"stars\", \"stars\", \"stars\", \"stars\", \"stars\", \"steering\", \"stephen\", \"stiller\", \"stinky\", \"stone\", \"stones\", \"stopped\", \"stopped\", \"stopped\", \"stopped\", \"stopped\", \"stopped\", \"stopped\", \"stopped\", \"stor\", \"storage\", \"storage\", \"stork\", \"story\", \"story\", \"story\", \"story\", \"story\", \"story\", \"strictly\", \"strong\", \"strong\", \"strong\", \"strong\", \"strong\", \"strong\", \"strong\", \"strong\", \"strong\", \"strong\", \"strong\", \"strong\", \"strong\", \"strong\", \"strong\", \"students\", \"students\", \"students\", \"stuff\", \"stuff\", \"stuff\", \"stuff\", \"stuff\", \"stuff\", \"stuff\", \"stuff\", \"stuff\", \"stuff\", \"stuff\", \"stuff\", \"stuff\", \"stuff\", \"stuff\", \"stuff\", \"stuff\", \"stuff\", \"stuff\", \"stunning\", \"stunning\", \"stunning\", \"sturdier\", \"sturdier\", \"suave\", \"suave\", \"suction\", \"sugar\", \"sugar\", \"sunblock\", \"sunblock\", \"sunscreen\", \"sunscreen\", \"surface\", \"surface\", \"surface\", \"surface\", \"surface\", \"surface\", \"surfaces\", \"surfaces\", \"surfaces\", \"suspense\", \"sweet\", \"sweet\", \"sweet\", \"sweet\", \"sweet\", \"sweet\", \"sweet\", \"sweet\", \"sweet\", \"sweet\", \"sweet\", \"swiffer\", \"swiffer\", \"switches\", \"syfy\", \"table\", \"table\", \"table\", \"table\", \"table\", \"table\", \"tables\", \"tables\", \"tables\", \"tables\", \"tablets\", \"tabs\", \"tabs\", \"tabs\", \"tabs\", \"tale\", \"tame\", \"tangles\", \"tanner\", \"tanning\", \"tarantino\", \"tarantino\", \"tarantino\", \"tast\", \"taste\", \"taste\", \"taste\", \"taste\", \"taste\", \"taste\", \"taste\", \"taste\", \"taste\", \"tasted\", \"tastes\", \"tastes\", \"tastes\", \"tastes\", \"tastes\", \"tasting\", \"tasting\", \"tasting\", \"tasty\", \"tasty\", \"tasty\", \"tea\", \"tea\", \"teacher\", \"teacher\", \"teachers\", \"teachers\", \"template\", \"terrible\", \"terrible\", \"terrible\", \"terrible\", \"terrible\", \"terrible\", \"terrible\", \"terrible\", \"terrible\", \"test\", \"test\", \"test\", \"test\", \"test\", \"test\", \"test\", \"test\", \"tester\", \"tester\", \"testing\", \"testing\", \"testing\", \"testing\", \"therapy\", \"therapy\", \"thes\", \"thes\", \"thi\", \"thi\", \"thi\", \"thi\", \"tho\", \"tho\", \"tho\", \"thrill\", \"tide\", \"tide\", \"tide\", \"tides\", \"tidy\", \"tile\", \"tim\", \"tim\", \"tim\", \"tim\", \"tim\", \"time\", \"time\", \"time\", \"time\", \"time\", \"time\", \"time\", \"time\", \"time\", \"time\", \"time\", \"time\", \"time\", \"time\", \"time\", \"time\", \"time\", \"time\", \"time\", \"time\", \"timely\", \"timer\", \"tinted\", \"tissue\", \"tissues\", \"toast\", \"toddlers\", \"toddlers\", \"toddlers\", \"toddlers\", \"toffee\", \"toffee\", \"toilet\", \"toilet\", \"toilet\", \"toilet\", \"toilets\", \"toilets\", \"toilets\", \"tone\", \"tone\", \"tone\", \"tone\", \"toothache\", \"tops\", \"tops\", \"tops\", \"tops\", \"tops\", \"tops\", \"tortilla\", \"tostitos\", \"total\", \"total\", \"total\", \"total\", \"total\", \"total\", \"total\", \"toughest\", \"tower\", \"toys\", \"toys\", \"trailers\", \"travolta\", \"tree\", \"tree\", \"tried\", \"tried\", \"tried\", \"tried\", \"tried\", \"tried\", \"tried\", \"tried\", \"tried\", \"tried\", \"tried\", \"tried\", \"tried\", \"tried\", \"tried\", \"tried\", \"trigger\", \"trigger\", \"trilogy\", \"trio\", \"triple\", \"trust\", \"trust\", \"trust\", \"trust\", \"trust\", \"trust\", \"trust\", \"tube\", \"tube\", \"tube\", \"tube\", \"tube\", \"tube\", \"tube\", \"tube\", \"tuna\", \"turbo\", \"turtles\", \"tush\", \"twisted\", \"twisted\", \"tyler\", \"uhd\", \"ultra\", \"ultra\", \"ultra\", \"ultra\", \"underneath\", \"underneath\", \"uniforms\", \"upgraded\", \"uplifting\", \"upright\", \"ups\", \"ups\", \"ups\", \"ups\", \"ups\", \"ups\", \"use\", \"use\", \"use\", \"use\", \"use\", \"use\", \"use\", \"use\", \"use\", \"use\", \"use\", \"use\", \"use\", \"use\", \"use\", \"use\", \"use\", \"use\", \"use\", \"used\", \"used\", \"used\", \"used\", \"used\", \"used\", \"used\", \"used\", \"used\", \"used\", \"used\", \"used\", \"used\", \"used\", \"used\", \"used\", \"used\", \"used\", \"used\", \"used\", \"useing\", \"using\", \"using\", \"using\", \"using\", \"using\", \"using\", \"using\", \"using\", \"using\", \"using\", \"using\", \"using\", \"using\", \"using\", \"using\", \"using\", \"using\", \"vac\", \"vacuum\", \"vacuums\", \"value\", \"value\", \"value\", \"value\", \"value\", \"value\", \"value\", \"value\", \"value\", \"value\", \"value\", \"value\", \"value\", \"value\", \"value\", \"value\", \"vaseline\", \"vaseline\", \"veggies\", \"vehicles\", \"ver\", \"vers\", \"version\", \"version\", \"version\", \"version\", \"version\", \"version\", \"version\", \"version\", \"version\", \"version\", \"version\", \"vicks\", \"vicks\", \"viewed\", \"violent\", \"virus\", \"viruses\", \"vulgar\", \"walken\", \"walmart\", \"walmart\", \"walmart\", \"walmart\", \"walmart\", \"walmart\", \"walmart\", \"walmart\", \"walmart\", \"walmart\", \"warming\", \"warming\", \"wash\", \"wash\", \"wash\", \"wash\", \"wash\", \"wash\", \"wash\", \"wash\", \"washable\", \"washable\", \"washed\", \"washed\", \"washed\", \"washed\", \"washed\", \"washer\", \"washer\", \"washer\", \"washers\", \"washing\", \"washing\", \"washing\", \"washing\", \"washing\", \"washing\", \"washing\", \"washing\", \"watch\", \"watch\", \"watch\", \"watch\", \"watch\", \"watch\", \"watch\", \"watch\", \"watchable\", \"watched\", \"watched\", \"watched\", \"watches\", \"watches\", \"watching\", \"watching\", \"watching\", \"watching\", \"watching\", \"watching\", \"watching\", \"watching\", \"water\", \"water\", \"water\", \"water\", \"water\", \"water\", \"water\", \"water\", \"water\", \"water\", \"wavy\", \"wedding\", \"wedding\", \"wehani\", \"weigh\", \"weighing\", \"wel\", \"wel\", \"wheat\", \"whit\", \"white\", \"white\", \"white\", \"white\", \"white\", \"white\", \"white\", \"white\", \"white\", \"white\", \"white\", \"white\", \"white\", \"white\", \"whiten\", \"whitens\", \"wil\", \"willis\", \"willis\", \"win\", \"win\", \"win\", \"win\", \"win\", \"win\", \"win\", \"win\", \"windex\", \"windex\", \"windex\", \"wip\", \"wipe\", \"wipe\", \"wipe\", \"wipe\", \"wipe\", \"wipe\", \"wipes\", \"wipes\", \"wipes\", \"wipes\", \"wipes\", \"wiping\", \"wiping\", \"wiping\", \"wiping\", \"wireless\", \"witty\", \"witty\", \"wond\", \"wond\", \"wood\", \"wood\", \"wood\", \"wood\", \"work\", \"work\", \"work\", \"work\", \"work\", \"work\", \"work\", \"work\", \"work\", \"work\", \"work\", \"work\", \"work\", \"work\", \"work\", \"work\", \"work\", \"work\", \"work\", \"work\", \"worked\", \"worked\", \"worked\", \"worked\", \"worked\", \"worked\", \"worked\", \"worked\", \"worked\", \"worked\", \"worked\", \"worked\", \"worked\", \"worked\", \"worked\", \"worked\", \"working\", \"working\", \"working\", \"working\", \"working\", \"working\", \"working\", \"working\", \"working\", \"working\", \"working\", \"working\", \"working\", \"working\", \"working\", \"workout\", \"workout\", \"workout\", \"workout\", \"works\", \"works\", \"works\", \"works\", \"works\", \"works\", \"works\", \"works\", \"works\", \"works\", \"works\", \"works\", \"works\", \"works\", \"works\", \"works\", \"works\", \"works\", \"works\", \"works\", \"worst\", \"worst\", \"worst\", \"worst\", \"worst\", \"worst\", \"worst\", \"worst\", \"worst\", \"worst\", \"worth\", \"worth\", \"worth\", \"worth\", \"worth\", \"worth\", \"worth\", \"worth\", \"worth\", \"worth\", \"worth\", \"worth\", \"worth\", \"worth\", \"worth\", \"worth\", \"worth\", \"worth\", \"wrinkles\", \"xbox\", \"xmas\", \"years\", \"years\", \"years\", \"years\", \"years\", \"years\", \"years\", \"years\", \"years\", \"years\", \"years\", \"years\", \"years\", \"years\", \"years\", \"years\", \"years\", \"years\", \"youthful\", \"yum\", \"yum\", \"yummy\", \"yummy\", \"yummy\", \"zac\", \"zombie\"]}, \"R\": 30, \"lambda.step\": 0.01, \"plot.opts\": {\"xlab\": \"PC1\", \"ylab\": \"PC2\"}, \"topic.order\": [5, 3, 8, 16, 17, 9, 20, 15, 11, 4, 10, 6, 2, 7, 18, 14, 1, 13, 12, 19]};\n",
       "\n",
       "function LDAvis_load_lib(url, callback){\n",
       "  var s = document.createElement('script');\n",
       "  s.src = url;\n",
       "  s.async = true;\n",
       "  s.onreadystatechange = s.onload = callback;\n",
       "  s.onerror = function(){console.warn(\"failed to load library \" + url);};\n",
       "  document.getElementsByTagName(\"head\")[0].appendChild(s);\n",
       "}\n",
       "\n",
       "if(typeof(LDAvis) !== \"undefined\"){\n",
       "   // already loaded: just create the visualization\n",
       "   !function(LDAvis){\n",
       "       new LDAvis(\"#\" + \"ldavis_el186842762189908112662283088\", ldavis_el186842762189908112662283088_data);\n",
       "   }(LDAvis);\n",
       "}else if(typeof define === \"function\" && define.amd){\n",
       "   // require.js is available: use it to load d3/LDAvis\n",
       "   require.config({paths: {d3: \"https://d3js.org/d3.v5\"}});\n",
       "   require([\"d3\"], function(d3){\n",
       "      window.d3 = d3;\n",
       "      LDAvis_load_lib(\"https://cdn.jsdelivr.net/gh/bmabey/pyLDAvis@3.3.1/pyLDAvis/js/ldavis.v3.0.0.js\", function(){\n",
       "        new LDAvis(\"#\" + \"ldavis_el186842762189908112662283088\", ldavis_el186842762189908112662283088_data);\n",
       "      });\n",
       "    });\n",
       "}else{\n",
       "    // require.js not available: dynamically load d3 & LDAvis\n",
       "    LDAvis_load_lib(\"https://d3js.org/d3.v5.js\", function(){\n",
       "         LDAvis_load_lib(\"https://cdn.jsdelivr.net/gh/bmabey/pyLDAvis@3.3.1/pyLDAvis/js/ldavis.v3.0.0.js\", function(){\n",
       "                 new LDAvis(\"#\" + \"ldavis_el186842762189908112662283088\", ldavis_el186842762189908112662283088_data);\n",
       "            })\n",
       "         });\n",
       "}\n",
       "</script>"
      ],
      "text/plain": [
       "PreparedData(topic_coordinates=              x         y  topics  cluster       Freq\n",
       "topic                                                \n",
       "4      0.092649 -0.085455       1        1  12.819364\n",
       "2     -0.259320  0.112685       2        1   9.073098\n",
       "7      0.114282  0.014603       3        1   7.920388\n",
       "15     0.176409  0.215500       4        1   7.476195\n",
       "16     0.110573 -0.062362       5        1   7.041869\n",
       "8     -0.224885 -0.014174       6        1   6.977663\n",
       "19    -0.266660  0.044905       7        1   6.833048\n",
       "14     0.062897 -0.067806       8        1   6.316347\n",
       "10     0.150047  0.265596       9        1   5.794292\n",
       "3      0.046707 -0.148649      10        1   3.983561\n",
       "9      0.098284 -0.077599      11        1   3.456205\n",
       "5      0.023275 -0.150222      12        1   3.181894\n",
       "1      0.076461  0.008124      13        1   2.985215\n",
       "6      0.032502 -0.094015      14        1   2.580843\n",
       "17    -0.121165  0.037799      15        1   2.535677\n",
       "13     0.014165  0.076298      16        1   2.484071\n",
       "0      0.100511 -0.020454      17        1   2.343218\n",
       "12     0.017759 -0.022273      18        1   2.241662\n",
       "11    -0.129862 -0.018028      19        1   2.046680\n",
       "18    -0.114629 -0.014474      20        1   1.908710, topic_info=         Term         Freq        Total Category  logprob  loglift\n",
       "3402    movie  3656.000000  3656.000000  Default  30.0000  30.0000\n",
       "5915    wipes  1232.000000  1232.000000  Default  29.0000  29.0000\n",
       "919    clorox  1094.000000  1094.000000  Default  28.0000  28.0000\n",
       "2405     hair   986.000000   986.000000  Default  27.0000  27.0000\n",
       "5417     tide   703.000000   703.000000  Default  26.0000  26.0000\n",
       "...       ...          ...          ...      ...      ...      ...\n",
       "4000  product    36.204751  2474.999524  Topic20  -4.7884  -0.2661\n",
       "3108     love    33.698733  2580.005179  Topic20  -4.8601  -0.3793\n",
       "3402    movie    33.566439  3656.500460  Topic20  -4.8641  -0.7320\n",
       "3970    price    25.691333   583.130735  Topic20  -5.1314   0.8365\n",
       "2772     item    22.481223   155.719567  Topic20  -5.2649   2.0234\n",
       "\n",
       "[1332 rows x 6 columns], token_table=      Topic      Freq       Term\n",
       "term                            \n",
       "10       16  0.885083  absorbant\n",
       "13        8  0.061627  absorbent\n",
       "13       11  0.061627  absorbent\n",
       "13       18  0.801154  absorbent\n",
       "15        1  0.948667    absorbs\n",
       "...     ...       ...        ...\n",
       "6012     14  0.015984      yummy\n",
       "6012     15  0.799209      yummy\n",
       "6012     16  0.159842      yummy\n",
       "6014      7  0.941675        zac\n",
       "6019      7  0.909994     zombie\n",
       "\n",
       "[4476 rows x 3 columns], R=30, lambda_step=0.01, plot_opts={'xlab': 'PC1', 'ylab': 'PC2'}, topic_order=[5, 3, 8, 16, 17, 9, 20, 15, 11, 4, 10, 6, 2, 7, 18, 14, 1, 13, 12, 19])"
      ]
     },
     "execution_count": 152,
     "metadata": {},
     "output_type": "execute_result"
    }
   ],
   "source": [
    "pyLDAvis.sklearn.prepare(lda_tfidf, dtm_tfidf, tfidf_vectorizer)"
   ]
  },
  {
   "cell_type": "code",
   "execution_count": 154,
   "metadata": {},
   "outputs": [],
   "source": [
    "y = product_df['sentiment']"
   ]
  },
  {
   "cell_type": "code",
   "execution_count": 155,
   "metadata": {},
   "outputs": [],
   "source": [
    "X_train, X_test, y_train, y_test=train_test_split(doc_term,y,test_size=0.2, random_state=20)"
   ]
  },
  {
   "cell_type": "code",
   "execution_count": 156,
   "metadata": {},
   "outputs": [],
   "source": [
    "# model=RandomForestClassifier()\n",
    "# model.fit(X_train,y_train)\n",
    "# print('Accuracy: ', model.score(X_train, y_train))"
   ]
  },
  {
   "cell_type": "code",
   "execution_count": 157,
   "metadata": {},
   "outputs": [
    {
     "name": "stdout",
     "output_type": "stream",
     "text": [
      "Accuracy:  0.9878819909775571\n"
     ]
    },
    {
     "name": "stderr",
     "output_type": "stream",
     "text": [
      "C:\\Users\\vyasc\\anaconda3\\lib\\site-packages\\sklearn\\linear_model\\_logistic.py:763: ConvergenceWarning: lbfgs failed to converge (status=1):\n",
      "STOP: TOTAL NO. of ITERATIONS REACHED LIMIT.\n",
      "\n",
      "Increase the number of iterations (max_iter) or scale the data as shown in:\n",
      "    https://scikit-learn.org/stable/modules/preprocessing.html\n",
      "Please also refer to the documentation for alternative solver options:\n",
      "    https://scikit-learn.org/stable/modules/linear_model.html#logistic-regression\n",
      "  n_iter_i = _check_optimize_result(\n"
     ]
    }
   ],
   "source": [
    "from sklearn.linear_model import LogisticRegression\n",
    "lr_model=LogisticRegression()\n",
    "lr_model.fit(X_train,y_train)\n",
    "print('Accuracy: ', lr_model.score(X_train, y_train))"
   ]
  },
  {
   "cell_type": "code",
   "execution_count": null,
   "metadata": {},
   "outputs": [],
   "source": []
  },
  {
   "cell_type": "code",
   "execution_count": null,
   "metadata": {},
   "outputs": [],
   "source": []
  },
  {
   "cell_type": "code",
   "execution_count": null,
   "metadata": {},
   "outputs": [],
   "source": []
  }
 ],
 "metadata": {
  "kernelspec": {
   "display_name": "Python [conda env:root] *",
   "language": "python",
   "name": "conda-root-py"
  },
  "language_info": {
   "codemirror_mode": {
    "name": "ipython",
    "version": 3
   },
   "file_extension": ".py",
   "mimetype": "text/x-python",
   "name": "python",
   "nbconvert_exporter": "python",
   "pygments_lexer": "ipython3",
   "version": "3.8.8"
  },
  "toc": {
   "base_numbering": 1,
   "nav_menu": {},
   "number_sections": true,
   "sideBar": true,
   "skip_h1_title": false,
   "title_cell": "Table of Contents",
   "title_sidebar": "Contents",
   "toc_cell": false,
   "toc_position": {},
   "toc_section_display": "block",
   "toc_window_display": false
  }
 },
 "nbformat": 4,
 "nbformat_minor": 4
}
